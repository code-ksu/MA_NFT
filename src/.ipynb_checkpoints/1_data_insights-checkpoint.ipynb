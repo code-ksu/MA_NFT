{
 "cells": [
  {
   "cell_type": "markdown",
   "metadata": {},
   "source": [
    "At this repository, we did explanatory data analyses, which helped us to investigate some exciting patterns or to illuminate any anomalies and also helped to do summary statistics which we present graphically. "
   ]
  },
  {
   "cell_type": "markdown",
   "metadata": {},
   "source": [
    "## Import and request the data"
   ]
  },
  {
   "cell_type": "code",
   "execution_count": 2,
   "metadata": {},
   "outputs": [
    {
     "data": {
      "text/plain": [
       "{'cluster_name': 'es-docker-cluster',\n",
       " 'status': 'yellow',\n",
       " 'timed_out': False,\n",
       " 'number_of_nodes': 1,\n",
       " 'number_of_data_nodes': 1,\n",
       " 'active_primary_shards': 15,\n",
       " 'active_shards': 15,\n",
       " 'relocating_shards': 0,\n",
       " 'initializing_shards': 0,\n",
       " 'unassigned_shards': 2,\n",
       " 'delayed_unassigned_shards': 0,\n",
       " 'number_of_pending_tasks': 0,\n",
       " 'number_of_in_flight_fetch': 0,\n",
       " 'task_max_waiting_in_queue_millis': 0,\n",
       " 'active_shards_percent_as_number': 88.23529411764706}"
      ]
     },
     "execution_count": 2,
     "metadata": {},
     "output_type": "execute_result"
    }
   ],
   "source": [
    "import numpy as np\n",
    "import pandas\n",
    "from elasticsearch import Elasticsearch\n",
    "from elasticsearch_dsl import Search\n",
    "import json\n",
    "import requests\n",
    "import matplotlib\n",
    "import matplotlib.pyplot as plt\n",
    "import seaborn as sns\n",
    "# create a client instance of the library\n",
    "elastic_client = Elasticsearch(timeout=60, max_retries=10, retry_on_timeout=True)\n",
    "elastic_client.cluster.health(wait_for_status='yellow', request_timeout=55)"
   ]
  },
  {
   "cell_type": "code",
   "execution_count": 3,
   "metadata": {},
   "outputs": [
    {
     "data": {
      "text/plain": [
       "{'took': 1,\n",
       " 'timed_out': False,\n",
       " '_shards': {'total': 1, 'successful': 1, 'skipped': 0, 'failed': 0},\n",
       " 'hits': {'total': {'value': 10000, 'relation': 'gte'},\n",
       "  'max_score': 1.0,\n",
       "  'hits': [{'_index': 'opensea',\n",
       "    '_type': '_doc',\n",
       "    '_id': 'PY4SOX0BHA1xYJHHtcXY',\n",
       "    '_score': 1.0,\n",
       "    '_source': {'os_id': 106803514,\n",
       "     'token_id': '6310487523167464038236848917657863475338708156820240490236251522907754201089',\n",
       "     'name': 'Cool Dog #243',\n",
       "     'description': None,\n",
       "     'external_link': None,\n",
       "     'permalink': 'https://opensea.io/assets/0x495f947276749ce646f68ac8c248420045cb7b5e/6310487523167464038236848917657863475338708156820240490236251522907754201089',\n",
       "     'collection_slug': 'cool-dogs-1',\n",
       "     'collection_created': '2021-08-08T04:52:47.684730',\n",
       "     'collection_description': 'Cool Dogs is a limited series of 1/1 NFTs, a collection of hand drawn parody avatars. \\nOnly 333 will be created, then any wallet holding 2 or more dogs will be airdropped an exclusive puppy from Cool Pups collection. Drop January 22.\\n\\n',\n",
       "     'creator': 'Cool_Dogs',\n",
       "     'is_animation': False,\n",
       "     'image_preview_url': 'https://lh3.googleusercontent.com/6X5RpGv6ZAwxdfSyzJPs_LgVg2FU96aTvdhGQ8O3CLq29kuc4LoEWSQ99pWCNHZBJoc1mT06tAZvs6mwPl2KzgMk5P3Y8LSu5o2K=s250',\n",
       "     'image_url': 'https://lh3.googleusercontent.com/6X5RpGv6ZAwxdfSyzJPs_LgVg2FU96aTvdhGQ8O3CLq29kuc4LoEWSQ99pWCNHZBJoc1mT06tAZvs6mwPl2KzgMk5P3Y8LSu5o2K',\n",
       "     'image_original_url': None,\n",
       "     'animation_url': None,\n",
       "     'animation_original_url': None,\n",
       "     '@latest_sale_timestamp': '2021-11-19T16:40:06',\n",
       "     '@scraped': '2021-11-19T17:41:07.285440',\n",
       "     'latest_sale_usd': 148.43220000000002,\n",
       "     'sell_order_usd': None,\n",
       "     'buy_order_usd': None,\n",
       "     'last_sale_orginal': {'asset_bundle': None,\n",
       "      'event_type': 'successful',\n",
       "      'quantity': '1',\n",
       "      'total_price': '35000000000000000',\n",
       "      'auction_type': None,\n",
       "      'payment_token': {'symbol': 'ETH',\n",
       "       'address': '0x0000000000000000000000000000000000000000',\n",
       "       'image_url': 'https://storage.opensea.io/files/6f8e2979d428180222796ff4a33ab929.svg',\n",
       "       'decimals': 18,\n",
       "       'name': 'Ether',\n",
       "       'usd_price': '4240.920000000000073000',\n",
       "       'id': 1,\n",
       "       'eth_price': '1.000000000000000'},\n",
       "      'created_date': '2021-11-19T16:40:18.024498',\n",
       "      'asset': {'token_id': '6310487523167464038236848917657863475338708156820240490236251522907754201089',\n",
       "       'decimals': None},\n",
       "      'event_timestamp': '2021-11-19T16:40:06',\n",
       "      'transaction': {'from_account': {'address': '0x6b4232fa74cdb7714c121cb4f6960773c54b734d',\n",
       "        'profile_img_url': 'https://storage.googleapis.com/opensea-static/opensea-profile/23.png',\n",
       "        'user': {'username': 'Snipeclub_nft'},\n",
       "        'config': ''},\n",
       "       'block_hash': '0x17eae5afa2e00b80c01c11892497c1d785d72b2ee4f1279e6bc0e80589839f7e',\n",
       "       'block_number': '13646658',\n",
       "       'id': 204338070,\n",
       "       'transaction_index': '86',\n",
       "       'transaction_hash': '0xb85af323558582a929b862558a0e4c162ef0aea77d40206edcc9bc0097066993',\n",
       "       'timestamp': '2021-11-19T16:40:06',\n",
       "       'to_account': {'address': '0x7be8076f4ea4a4ad08075c2508e481d6c946d12b',\n",
       "        'profile_img_url': 'https://storage.googleapis.com/opensea-static/opensea-profile/22.png',\n",
       "        'user': {'username': 'OpenSea-Orders'},\n",
       "        'config': 'verified'}}}}}]}}"
      ]
     },
     "execution_count": 3,
     "metadata": {},
     "output_type": "execute_result"
    }
   ],
   "source": [
    "#https://kb.objectrocket.com/elasticsearch/how-to-use-elasticsearch-data-using-pandas-in-python-349\n",
    "response = elastic_client.search(\n",
    "    index='opensea',\n",
    "    body={},\n",
    "    size=1\n",
    ")\n",
    "response"
   ]
  },
  {
   "cell_type": "code",
   "execution_count": 4,
   "metadata": {},
   "outputs": [
    {
     "name": "stdout",
     "output_type": "stream",
     "text": [
      "documents returned: 1786870\n"
     ]
    }
   ],
   "source": [
    "elastic_docs = []\n",
    "s = Search(using=elastic_client, index=\"opensea\")\n",
    "s = s.source(excludes=[\n",
    "    \"last_sale_orginal\", \"image_original_url\", \"image_preview_url\", \"image_url\", \"os_id\",\n",
    "    'animation_url', '@scraped', 'animation_original_url', \n",
    "    'permalink', 'sell_order_usd', 'buy_order_usd'\n",
    "])\n",
    "#s = s.extra(track_total_hits=True)\n",
    "#s = s.extra(from_=0, size=10000)\n",
    "#s = s.sort({\"@latest_sale_timestamp\" : {\"order\" : \"asc\"}}) # too slow :(\n",
    "\n",
    "#response = s.execute()\n",
    "# declare a new list for the Elasticsearch documents\n",
    "# nested inside the API response object\n",
    "#elastic_docs.extend(response.to_dict()[\"hits\"][\"hits\"])\n",
    "\n",
    "i = 0\n",
    "for hit in s.scan():\n",
    "    i += 1\n",
    "    if i <= 200000:\n",
    "        continue\n",
    "    id = hit.meta.id\n",
    "    obj = hit.to_dict()\n",
    "    obj[\"id\"] = id\n",
    "    elastic_docs.append(obj)\n",
    "    #if i > 1000000:\n",
    "    #    break\n",
    "    \n",
    "\n",
    "# print number of documents\n",
    "print(\"documents returned:\", len(elastic_docs))\n",
    "# print(response.hits.total)"
   ]
  },
  {
   "cell_type": "code",
   "execution_count": 5,
   "metadata": {},
   "outputs": [],
   "source": [
    "# too slow!!!\n",
    "#s = Search(using=elastic_client, index=\"opensea\") \\\n",
    "#    .filter(\"exists\", field=\"latest_sale_usd\") \\\n",
    "#    .filter(\"exists\", field=\"preview_path\") \\\n",
    "#    .exclude(\"match\", is_animation=True)"
   ]
  },
  {
   "cell_type": "code",
   "execution_count": 8,
   "metadata": {},
   "outputs": [
    {
     "name": "stdout",
     "output_type": "stream",
     "text": [
      "Rug Radio Membership Pass\n",
      "Woofpack #1398\n",
      "Lil Pudgy #2168\n",
      "raisingcapital.eth\n",
      "Cryptorasta #04798\n",
      "CROAKZ 4323\n",
      "Metapreneurs #1\n",
      "Bored Bigfoot Billionaires #1\n",
      "Meta Legend #4782\n",
      "Psychedelics Anonymous Genesis #24\n"
     ]
    }
   ],
   "source": [
    "for hit in elastic_docs[0:10]:\n",
    "    print(hit[\"name\"])"
   ]
  },
  {
   "cell_type": "code",
   "execution_count": 9,
   "metadata": {},
   "outputs": [
    {
     "name": "stdout",
     "output_type": "stream",
     "text": [
      "elastic_df: <class 'pandas.core.frame.DataFrame'> \n",
      "\n"
     ]
    }
   ],
   "source": [
    "# create a Pandas DataFrame array from the fields dict\n",
    "elastic_df = pandas.DataFrame(elastic_docs)\n",
    "\n",
    "print('elastic_df:', type(elastic_df), \"\\n\")"
   ]
  },
  {
   "cell_type": "code",
   "execution_count": 5,
   "metadata": {},
   "outputs": [],
   "source": [
    "#elastic_df = elastic_df[-200000]"
   ]
  },
  {
   "cell_type": "code",
   "execution_count": 10,
   "metadata": {},
   "outputs": [
    {
     "name": "stdout",
     "output_type": "stream",
     "text": [
      "<class 'pandas.core.frame.DataFrame'>\n",
      "RangeIndex: 1786870 entries, 0 to 1786869\n",
      "Data columns (total 28 columns):\n",
      " #   Column                   Dtype  \n",
      "---  ------                   -----  \n",
      " 0   creator                  object \n",
      " 1   latest_sale_token_value  float64\n",
      " 2   collection_created       object \n",
      " 3   latest_sale_usd          float64\n",
      " 4   description              object \n",
      " 5   is_animation             bool   \n",
      " 6   @latest_sale_timestamp   object \n",
      " 7   external_link            object \n",
      " 8   token_id                 object \n",
      " 9   name                     object \n",
      " 10  collection_slug          object \n",
      " 11  collection_description   object \n",
      " 12  contract_scheme          object \n",
      " 13  latest_sale_token        object \n",
      " 14  id                       object \n",
      " 15  instagram                object \n",
      " 16  twitter                  object \n",
      " 17  img_path                 object \n",
      " 18  twitter_follower         float64\n",
      " 19  preview_path             object \n",
      " 20  telegram_follower        float64\n",
      " 21  telegram                 object \n",
      " 22  instagram_follower       float64\n",
      " 23  medium                   object \n",
      " 24  medium_follower          float64\n",
      " 25  wikipedia                object \n",
      " 26  discord                  object \n",
      " 27  discord-follower         float64\n",
      "dtypes: bool(1), float64(7), object(20)\n",
      "memory usage: 369.8+ MB\n"
     ]
    }
   ],
   "source": [
    "elastic_df.info()"
   ]
  },
  {
   "cell_type": "code",
   "execution_count": 11,
   "metadata": {},
   "outputs": [],
   "source": [
    "del elastic_docs"
   ]
  },
  {
   "cell_type": "markdown",
   "metadata": {},
   "source": [
    "## EDA\n",
    "### Feature engineering and dealing with missing values"
   ]
  },
  {
   "cell_type": "code",
   "execution_count": 7,
   "metadata": {},
   "outputs": [
    {
     "data": {
      "text/html": [
       "<div>\n",
       "<style scoped>\n",
       "    .dataframe tbody tr th:only-of-type {\n",
       "        vertical-align: middle;\n",
       "    }\n",
       "\n",
       "    .dataframe tbody tr th {\n",
       "        vertical-align: top;\n",
       "    }\n",
       "\n",
       "    .dataframe thead th {\n",
       "        text-align: right;\n",
       "    }\n",
       "</style>\n",
       "<table border=\"1\" class=\"dataframe\">\n",
       "  <thead>\n",
       "    <tr style=\"text-align: right;\">\n",
       "      <th></th>\n",
       "      <th>creator</th>\n",
       "      <th>latest_sale_token_value</th>\n",
       "      <th>collection_created</th>\n",
       "      <th>latest_sale_usd</th>\n",
       "      <th>description</th>\n",
       "      <th>is_animation</th>\n",
       "      <th>@latest_sale_timestamp</th>\n",
       "      <th>external_link</th>\n",
       "      <th>token_id</th>\n",
       "      <th>name</th>\n",
       "      <th>...</th>\n",
       "      <th>instagram</th>\n",
       "      <th>twitter</th>\n",
       "      <th>img_path</th>\n",
       "      <th>twitter_follower</th>\n",
       "      <th>preview_path</th>\n",
       "      <th>telegram_follower</th>\n",
       "      <th>telegram</th>\n",
       "      <th>instagram_follower</th>\n",
       "      <th>medium</th>\n",
       "      <th>medium_follower</th>\n",
       "    </tr>\n",
       "  </thead>\n",
       "  <tbody>\n",
       "    <tr>\n",
       "      <th>0</th>\n",
       "      <td>0xb40197806a07b3b2dbb4b43d255ef32c328d44ab</td>\n",
       "      <td>0.0320</td>\n",
       "      <td>2021-12-22T16:04:44.113117</td>\n",
       "      <td>126.311360</td>\n",
       "      <td>A Rug Radio Membership Pass is step one in get...</td>\n",
       "      <td>False</td>\n",
       "      <td>2021-12-23T11:49:57</td>\n",
       "      <td>https://www.rug.fm/</td>\n",
       "      <td>4532</td>\n",
       "      <td>Rug Radio Membership Pass</td>\n",
       "      <td>...</td>\n",
       "      <td>NaN</td>\n",
       "      <td>NaN</td>\n",
       "      <td>NaN</td>\n",
       "      <td>NaN</td>\n",
       "      <td>NaN</td>\n",
       "      <td>NaN</td>\n",
       "      <td>NaN</td>\n",
       "      <td>NaN</td>\n",
       "      <td>NaN</td>\n",
       "      <td>NaN</td>\n",
       "    </tr>\n",
       "    <tr>\n",
       "      <th>1</th>\n",
       "      <td>WoofpackNFT</td>\n",
       "      <td>0.0195</td>\n",
       "      <td>2021-12-06T05:59:48.729482</td>\n",
       "      <td>76.970985</td>\n",
       "      <td>WoofPack is a generative NFT collection of 7,7...</td>\n",
       "      <td>False</td>\n",
       "      <td>2021-12-23T11:50:31</td>\n",
       "      <td>None</td>\n",
       "      <td>1398</td>\n",
       "      <td>Woofpack #1398</td>\n",
       "      <td>...</td>\n",
       "      <td>freedomwoofpack</td>\n",
       "      <td>https://cdn.syndication.twimg.com/widgets/foll...</td>\n",
       "      <td>C:\\nft_data\\img\\e-sh530Bt_K6OZC-XA9q_noext.png</td>\n",
       "      <td>12770.0</td>\n",
       "      <td>C:\\nft_data\\preview\\e-sh530Bt_K6OZC-XA9q_noext...</td>\n",
       "      <td>NaN</td>\n",
       "      <td>NaN</td>\n",
       "      <td>NaN</td>\n",
       "      <td>NaN</td>\n",
       "      <td>NaN</td>\n",
       "    </tr>\n",
       "    <tr>\n",
       "      <th>2</th>\n",
       "      <td>PudgyPenguinsKing</td>\n",
       "      <td>0.0180</td>\n",
       "      <td>2021-12-19T17:19:18.712729</td>\n",
       "      <td>71.050140</td>\n",
       "      <td>Lil Pudgys are a collection of 22,222 randomly...</td>\n",
       "      <td>False</td>\n",
       "      <td>2021-12-23T11:50:31</td>\n",
       "      <td>None</td>\n",
       "      <td>2168</td>\n",
       "      <td>Lil Pudgy #2168</td>\n",
       "      <td>...</td>\n",
       "      <td>NaN</td>\n",
       "      <td>https://cdn.syndication.twimg.com/widgets/foll...</td>\n",
       "      <td>C:\\nft_data\\img\\eesh530Bt_K6OZC-XA9U_noext.png</td>\n",
       "      <td>47722.0</td>\n",
       "      <td>C:\\nft_data\\preview\\eesh530Bt_K6OZC-XA9U_noext...</td>\n",
       "      <td>NaN</td>\n",
       "      <td>NaN</td>\n",
       "      <td>NaN</td>\n",
       "      <td>NaN</td>\n",
       "      <td>NaN</td>\n",
       "    </tr>\n",
       "    <tr>\n",
       "      <th>3</th>\n",
       "      <td>0x4fe4e666be5752f1fdd210f4ab5de2cc26e3e0e8</td>\n",
       "      <td>0.0490</td>\n",
       "      <td>2019-05-08T21:59:36.282454</td>\n",
       "      <td>193.414270</td>\n",
       "      <td>raisingcapital.eth, an ENS name.</td>\n",
       "      <td>False</td>\n",
       "      <td>2021-12-23T11:50:31</td>\n",
       "      <td>https://app.ens.domains/name/raisingcapital.eth</td>\n",
       "      <td>6303362342123076358801682011385576897676816590...</td>\n",
       "      <td>raisingcapital.eth</td>\n",
       "      <td>...</td>\n",
       "      <td>NaN</td>\n",
       "      <td>https://cdn.syndication.twimg.com/widgets/foll...</td>\n",
       "      <td>C:\\nft_data\\img\\fush530Bt_K6OZC-Xw8O.svg</td>\n",
       "      <td>137809.0</td>\n",
       "      <td>NaN</td>\n",
       "      <td>NaN</td>\n",
       "      <td>NaN</td>\n",
       "      <td>NaN</td>\n",
       "      <td>NaN</td>\n",
       "      <td>NaN</td>\n",
       "    </tr>\n",
       "    <tr>\n",
       "      <th>4</th>\n",
       "      <td>CryptoRastas_Team</td>\n",
       "      <td>0.0200</td>\n",
       "      <td>2021-08-29T20:17:31.880439</td>\n",
       "      <td>78.944600</td>\n",
       "      <td>Cryptorasta #04798 - Shannon Stone is a doctor...</td>\n",
       "      <td>False</td>\n",
       "      <td>2021-12-23T11:50:31</td>\n",
       "      <td>https://cryptorastas.com</td>\n",
       "      <td>4798</td>\n",
       "      <td>Cryptorasta #04798</td>\n",
       "      <td>...</td>\n",
       "      <td>cryptorastas</td>\n",
       "      <td>https://cdn.syndication.twimg.com/widgets/foll...</td>\n",
       "      <td>C:\\nft_data\\img\\hush530Bt_K6OZC-Xw_b_noext.png</td>\n",
       "      <td>5648.0</td>\n",
       "      <td>C:\\nft_data\\preview\\hush530Bt_K6OZC-Xw_b_noext...</td>\n",
       "      <td>NaN</td>\n",
       "      <td>NaN</td>\n",
       "      <td>NaN</td>\n",
       "      <td>NaN</td>\n",
       "      <td>NaN</td>\n",
       "    </tr>\n",
       "    <tr>\n",
       "      <th>5</th>\n",
       "      <td>0x92bce497efe4332a8f611004f67e14093b5d0e8c</td>\n",
       "      <td>0.0540</td>\n",
       "      <td>2021-12-11T22:01:00.752970</td>\n",
       "      <td>213.150420</td>\n",
       "      <td>A collection of 6,969 unique CROAKZ that vibe ...</td>\n",
       "      <td>False</td>\n",
       "      <td>2021-12-23T11:50:20</td>\n",
       "      <td>https://croakz.io</td>\n",
       "      <td>4323</td>\n",
       "      <td>CROAKZ 4323</td>\n",
       "      <td>...</td>\n",
       "      <td>croakz_</td>\n",
       "      <td>https://cdn.syndication.twimg.com/widgets/foll...</td>\n",
       "      <td>C:\\nft_data\\img\\j-sh530Bt_K6OZC-ZA99_noext.png</td>\n",
       "      <td>17606.0</td>\n",
       "      <td>C:\\nft_data\\preview\\j-sh530Bt_K6OZC-ZA99_noext...</td>\n",
       "      <td>NaN</td>\n",
       "      <td>NaN</td>\n",
       "      <td>NaN</td>\n",
       "      <td>NaN</td>\n",
       "      <td>NaN</td>\n",
       "    </tr>\n",
       "    <tr>\n",
       "      <th>6</th>\n",
       "      <td>TheMetapreneurs</td>\n",
       "      <td>0.1400</td>\n",
       "      <td>2021-12-22T15:31:21.596017</td>\n",
       "      <td>552.612200</td>\n",
       "      <td>The Metapreneurs is a collection of 11,111 Hig...</td>\n",
       "      <td>False</td>\n",
       "      <td>2021-12-23T11:49:42</td>\n",
       "      <td>None</td>\n",
       "      <td>2174</td>\n",
       "      <td>Metapreneurs #1</td>\n",
       "      <td>...</td>\n",
       "      <td>themetapreneurs</td>\n",
       "      <td>NaN</td>\n",
       "      <td>NaN</td>\n",
       "      <td>NaN</td>\n",
       "      <td>NaN</td>\n",
       "      <td>NaN</td>\n",
       "      <td>NaN</td>\n",
       "      <td>NaN</td>\n",
       "      <td>NaN</td>\n",
       "      <td>NaN</td>\n",
       "    </tr>\n",
       "    <tr>\n",
       "      <th>7</th>\n",
       "      <td>Bored-Bigfoot-Billionaires</td>\n",
       "      <td>0.0990</td>\n",
       "      <td>2021-12-10T02:53:56.221863</td>\n",
       "      <td>390.775770</td>\n",
       "      <td>The Bored Bigfoot Billionaires is a collection...</td>\n",
       "      <td>False</td>\n",
       "      <td>2021-12-23T11:50:13</td>\n",
       "      <td>None</td>\n",
       "      <td>1161</td>\n",
       "      <td>Bored Bigfoot Billionaires #1</td>\n",
       "      <td>...</td>\n",
       "      <td>boredbigfootsnft</td>\n",
       "      <td>https://cdn.syndication.twimg.com/widgets/foll...</td>\n",
       "      <td>NaN</td>\n",
       "      <td>7372.0</td>\n",
       "      <td>NaN</td>\n",
       "      <td>NaN</td>\n",
       "      <td>NaN</td>\n",
       "      <td>NaN</td>\n",
       "      <td>NaN</td>\n",
       "      <td>NaN</td>\n",
       "    </tr>\n",
       "    <tr>\n",
       "      <th>8</th>\n",
       "      <td>Meta-Legends</td>\n",
       "      <td>0.3300</td>\n",
       "      <td>2021-11-24T10:38:46.735735</td>\n",
       "      <td>1302.585900</td>\n",
       "      <td>12345 unique legends to save humanity - A lege...</td>\n",
       "      <td>False</td>\n",
       "      <td>2021-12-23T11:50:31</td>\n",
       "      <td>None</td>\n",
       "      <td>4782</td>\n",
       "      <td>Meta Legend #4782</td>\n",
       "      <td>...</td>\n",
       "      <td>meta.legends/</td>\n",
       "      <td>https://cdn.syndication.twimg.com/widgets/foll...</td>\n",
       "      <td>C:\\nft_data\\img\\gOsh530Bt_K6OZC-Xw8i_noext.png</td>\n",
       "      <td>50801.0</td>\n",
       "      <td>C:\\nft_data\\preview\\gOsh530Bt_K6OZC-Xw8i_noext...</td>\n",
       "      <td>NaN</td>\n",
       "      <td>NaN</td>\n",
       "      <td>NaN</td>\n",
       "      <td>NaN</td>\n",
       "      <td>NaN</td>\n",
       "    </tr>\n",
       "    <tr>\n",
       "      <th>9</th>\n",
       "      <td>Psychedelics-Anonymous</td>\n",
       "      <td>0.6000</td>\n",
       "      <td>2021-12-22T21:00:33.484429</td>\n",
       "      <td>2381.928000</td>\n",
       "      <td>At the zero hour, we gather in the darkness se...</td>\n",
       "      <td>False</td>\n",
       "      <td>2021-12-23T03:19:36</td>\n",
       "      <td>None</td>\n",
       "      <td>24</td>\n",
       "      <td>Psychedelics Anonymous Genesis #24</td>\n",
       "      <td>...</td>\n",
       "      <td>NaN</td>\n",
       "      <td>NaN</td>\n",
       "      <td>NaN</td>\n",
       "      <td>NaN</td>\n",
       "      <td>NaN</td>\n",
       "      <td>NaN</td>\n",
       "      <td>NaN</td>\n",
       "      <td>NaN</td>\n",
       "      <td>NaN</td>\n",
       "      <td>NaN</td>\n",
       "    </tr>\n",
       "  </tbody>\n",
       "</table>\n",
       "<p>10 rows × 25 columns</p>\n",
       "</div>"
      ],
      "text/plain": [
       "                                      creator  latest_sale_token_value  \\\n",
       "0  0xb40197806a07b3b2dbb4b43d255ef32c328d44ab                   0.0320   \n",
       "1                                 WoofpackNFT                   0.0195   \n",
       "2                           PudgyPenguinsKing                   0.0180   \n",
       "3  0x4fe4e666be5752f1fdd210f4ab5de2cc26e3e0e8                   0.0490   \n",
       "4                           CryptoRastas_Team                   0.0200   \n",
       "5  0x92bce497efe4332a8f611004f67e14093b5d0e8c                   0.0540   \n",
       "6                             TheMetapreneurs                   0.1400   \n",
       "7                  Bored-Bigfoot-Billionaires                   0.0990   \n",
       "8                                Meta-Legends                   0.3300   \n",
       "9                      Psychedelics-Anonymous                   0.6000   \n",
       "\n",
       "           collection_created  latest_sale_usd  \\\n",
       "0  2021-12-22T16:04:44.113117       126.311360   \n",
       "1  2021-12-06T05:59:48.729482        76.970985   \n",
       "2  2021-12-19T17:19:18.712729        71.050140   \n",
       "3  2019-05-08T21:59:36.282454       193.414270   \n",
       "4  2021-08-29T20:17:31.880439        78.944600   \n",
       "5  2021-12-11T22:01:00.752970       213.150420   \n",
       "6  2021-12-22T15:31:21.596017       552.612200   \n",
       "7  2021-12-10T02:53:56.221863       390.775770   \n",
       "8  2021-11-24T10:38:46.735735      1302.585900   \n",
       "9  2021-12-22T21:00:33.484429      2381.928000   \n",
       "\n",
       "                                         description  is_animation  \\\n",
       "0  A Rug Radio Membership Pass is step one in get...         False   \n",
       "1  WoofPack is a generative NFT collection of 7,7...         False   \n",
       "2  Lil Pudgys are a collection of 22,222 randomly...         False   \n",
       "3                   raisingcapital.eth, an ENS name.         False   \n",
       "4  Cryptorasta #04798 - Shannon Stone is a doctor...         False   \n",
       "5  A collection of 6,969 unique CROAKZ that vibe ...         False   \n",
       "6  The Metapreneurs is a collection of 11,111 Hig...         False   \n",
       "7  The Bored Bigfoot Billionaires is a collection...         False   \n",
       "8  12345 unique legends to save humanity - A lege...         False   \n",
       "9  At the zero hour, we gather in the darkness se...         False   \n",
       "\n",
       "  @latest_sale_timestamp                                    external_link  \\\n",
       "0    2021-12-23T11:49:57                              https://www.rug.fm/   \n",
       "1    2021-12-23T11:50:31                                             None   \n",
       "2    2021-12-23T11:50:31                                             None   \n",
       "3    2021-12-23T11:50:31  https://app.ens.domains/name/raisingcapital.eth   \n",
       "4    2021-12-23T11:50:31                         https://cryptorastas.com   \n",
       "5    2021-12-23T11:50:20                                https://croakz.io   \n",
       "6    2021-12-23T11:49:42                                             None   \n",
       "7    2021-12-23T11:50:13                                             None   \n",
       "8    2021-12-23T11:50:31                                             None   \n",
       "9    2021-12-23T03:19:36                                             None   \n",
       "\n",
       "                                            token_id  \\\n",
       "0                                               4532   \n",
       "1                                               1398   \n",
       "2                                               2168   \n",
       "3  6303362342123076358801682011385576897676816590...   \n",
       "4                                               4798   \n",
       "5                                               4323   \n",
       "6                                               2174   \n",
       "7                                               1161   \n",
       "8                                               4782   \n",
       "9                                                 24   \n",
       "\n",
       "                                 name  ...         instagram  \\\n",
       "0           Rug Radio Membership Pass  ...               NaN   \n",
       "1                      Woofpack #1398  ...   freedomwoofpack   \n",
       "2                     Lil Pudgy #2168  ...               NaN   \n",
       "3                  raisingcapital.eth  ...               NaN   \n",
       "4                  Cryptorasta #04798  ...      cryptorastas   \n",
       "5                         CROAKZ 4323  ...           croakz_   \n",
       "6                     Metapreneurs #1  ...   themetapreneurs   \n",
       "7       Bored Bigfoot Billionaires #1  ...  boredbigfootsnft   \n",
       "8                   Meta Legend #4782  ...     meta.legends/   \n",
       "9  Psychedelics Anonymous Genesis #24  ...               NaN   \n",
       "\n",
       "                                             twitter  \\\n",
       "0                                                NaN   \n",
       "1  https://cdn.syndication.twimg.com/widgets/foll...   \n",
       "2  https://cdn.syndication.twimg.com/widgets/foll...   \n",
       "3  https://cdn.syndication.twimg.com/widgets/foll...   \n",
       "4  https://cdn.syndication.twimg.com/widgets/foll...   \n",
       "5  https://cdn.syndication.twimg.com/widgets/foll...   \n",
       "6                                                NaN   \n",
       "7  https://cdn.syndication.twimg.com/widgets/foll...   \n",
       "8  https://cdn.syndication.twimg.com/widgets/foll...   \n",
       "9                                                NaN   \n",
       "\n",
       "                                         img_path twitter_follower  \\\n",
       "0                                             NaN              NaN   \n",
       "1  C:\\nft_data\\img\\e-sh530Bt_K6OZC-XA9q_noext.png          12770.0   \n",
       "2  C:\\nft_data\\img\\eesh530Bt_K6OZC-XA9U_noext.png          47722.0   \n",
       "3        C:\\nft_data\\img\\fush530Bt_K6OZC-Xw8O.svg         137809.0   \n",
       "4  C:\\nft_data\\img\\hush530Bt_K6OZC-Xw_b_noext.png           5648.0   \n",
       "5  C:\\nft_data\\img\\j-sh530Bt_K6OZC-ZA99_noext.png          17606.0   \n",
       "6                                             NaN              NaN   \n",
       "7                                             NaN           7372.0   \n",
       "8  C:\\nft_data\\img\\gOsh530Bt_K6OZC-Xw8i_noext.png          50801.0   \n",
       "9                                             NaN              NaN   \n",
       "\n",
       "                                        preview_path telegram_follower  \\\n",
       "0                                                NaN               NaN   \n",
       "1  C:\\nft_data\\preview\\e-sh530Bt_K6OZC-XA9q_noext...               NaN   \n",
       "2  C:\\nft_data\\preview\\eesh530Bt_K6OZC-XA9U_noext...               NaN   \n",
       "3                                                NaN               NaN   \n",
       "4  C:\\nft_data\\preview\\hush530Bt_K6OZC-Xw_b_noext...               NaN   \n",
       "5  C:\\nft_data\\preview\\j-sh530Bt_K6OZC-ZA99_noext...               NaN   \n",
       "6                                                NaN               NaN   \n",
       "7                                                NaN               NaN   \n",
       "8  C:\\nft_data\\preview\\gOsh530Bt_K6OZC-Xw8i_noext...               NaN   \n",
       "9                                                NaN               NaN   \n",
       "\n",
       "  telegram instagram_follower  medium medium_follower  \n",
       "0      NaN                NaN     NaN             NaN  \n",
       "1      NaN                NaN     NaN             NaN  \n",
       "2      NaN                NaN     NaN             NaN  \n",
       "3      NaN                NaN     NaN             NaN  \n",
       "4      NaN                NaN     NaN             NaN  \n",
       "5      NaN                NaN     NaN             NaN  \n",
       "6      NaN                NaN     NaN             NaN  \n",
       "7      NaN                NaN     NaN             NaN  \n",
       "8      NaN                NaN     NaN             NaN  \n",
       "9      NaN                NaN     NaN             NaN  \n",
       "\n",
       "[10 rows x 25 columns]"
      ]
     },
     "execution_count": 7,
     "metadata": {},
     "output_type": "execute_result"
    }
   ],
   "source": [
    "elastic_df.head(10)"
   ]
  },
  {
   "cell_type": "code",
   "execution_count": 12,
   "metadata": {},
   "outputs": [
    {
     "name": "stdout",
     "output_type": "stream",
     "text": [
      "Animations in Dataset 11.96029929429673 %\n"
     ]
    }
   ],
   "source": [
    "print(\"Animations in Dataset\", len(elastic_df[elastic_df.is_animation == True]) / len(elastic_df) * 100, \"%\")"
   ]
  },
  {
   "cell_type": "code",
   "execution_count": 13,
   "metadata": {},
   "outputs": [
    {
     "data": {
      "text/plain": [
       "213715"
      ]
     },
     "execution_count": 13,
     "metadata": {},
     "output_type": "execute_result"
    }
   ],
   "source": [
    "len(elastic_df[elastic_df.is_animation == True])"
   ]
  },
  {
   "cell_type": "code",
   "execution_count": 14,
   "metadata": {},
   "outputs": [],
   "source": [
    "elastic_df = elastic_df[elastic_df.is_animation == False]"
   ]
  },
  {
   "cell_type": "code",
   "execution_count": 15,
   "metadata": {},
   "outputs": [
    {
     "data": {
      "text/plain": [
       "0"
      ]
     },
     "execution_count": 15,
     "metadata": {},
     "output_type": "execute_result"
    }
   ],
   "source": [
    "len(elastic_df[elastic_df.is_animation == True])"
   ]
  },
  {
   "cell_type": "code",
   "execution_count": 16,
   "metadata": {},
   "outputs": [
    {
     "data": {
      "text/plain": [
       "creator                                                   PixelVaultDeployer\n",
       "latest_sale_token_value                                                0.225\n",
       "collection_created                                2021-05-11T01:08:43.634595\n",
       "latest_sale_usd                                                     895.9095\n",
       "description                PUNKS Comic Issue #2: Our tale resumes as Cour...\n",
       "is_animation                                                           False\n",
       "@latest_sale_timestamp                                   2021-12-23T04:15:02\n",
       "external_link                                         https://punkscomic.com\n",
       "token_id                                                               11092\n",
       "name                                               PUNKS 2: X Marks the Drop\n",
       "collection_slug                                                  punks-comic\n",
       "collection_description     Meet the PUNKS! Everyone’s favorite misfit cre...\n",
       "contract_scheme                                                       ERC721\n",
       "latest_sale_token                                                        ETH\n",
       "id                                                      KumC5X0Bt_K6OZC-2Lkt\n",
       "instagram                                                                NaN\n",
       "twitter                    https://cdn.syndication.twimg.com/widgets/foll...\n",
       "img_path                                                                 NaN\n",
       "twitter_follower                                                     51718.0\n",
       "preview_path                                                             NaN\n",
       "telegram_follower                                                        NaN\n",
       "telegram                                                                 NaN\n",
       "instagram_follower                                                       NaN\n",
       "medium                                                                   NaN\n",
       "medium_follower                                                          NaN\n",
       "wikipedia                                                                NaN\n",
       "discord                                                                  NaN\n",
       "discord-follower                                                         NaN\n",
       "Name: 599, dtype: object"
      ]
     },
     "execution_count": 16,
     "metadata": {},
     "output_type": "execute_result"
    }
   ],
   "source": [
    "# head doesn't show all columns - so I use this here:\n",
    "elastic_df.iloc[541]"
   ]
  },
  {
   "cell_type": "code",
   "execution_count": 17,
   "metadata": {},
   "outputs": [
    {
     "data": {
      "text/plain": [
       "ERC721         1428766\n",
       "ERC1155         115624\n",
       "CRYPTOPUNKS        158\n",
       "Name: contract_scheme, dtype: int64"
      ]
     },
     "execution_count": 17,
     "metadata": {},
     "output_type": "execute_result"
    }
   ],
   "source": [
    "elastic_df['contract_scheme'].value_counts()\n",
    "# cryptopunks & ERC721 = 1\n",
    "# ERC-1155 can use a single contract to make various types of NFTs = 2\n",
    "# NaN = 3"
   ]
  },
  {
   "cell_type": "code",
   "execution_count": 18,
   "metadata": {},
   "outputs": [
    {
     "data": {
      "text/plain": [
       "ETH       1510796\n",
       "WETH        31410\n",
       "MANA          688\n",
       "ASH           213\n",
       "USDC          185\n",
       "SAND          143\n",
       "GALA          122\n",
       "GSK            55\n",
       "SHIB           55\n",
       "DAI            51\n",
       "REVV           29\n",
       "VOLT           22\n",
       "ATRI           21\n",
       "CUBE           12\n",
       "ELAND           8\n",
       "BZN             5\n",
       "NCR             4\n",
       "TRSH            4\n",
       "WHALE           4\n",
       "CHIZ            3\n",
       "SILA            3\n",
       "MATIC           3\n",
       "RARI            2\n",
       "ENJ             2\n",
       "DUST            2\n",
       "VSF             2\n",
       "0xBTC           2\n",
       "WBTC            1\n",
       "BNT             1\n",
       "MM              1\n",
       "ARCONA          1\n",
       "ERN             1\n",
       "CHONK           1\n",
       "RARE            1\n",
       "MORK            1\n",
       "WTF             1\n",
       "Name: latest_sale_token, dtype: int64"
      ]
     },
     "execution_count": 18,
     "metadata": {},
     "output_type": "execute_result"
    }
   ],
   "source": [
    "elastic_df['latest_sale_token'].value_counts()"
   ]
  },
  {
   "cell_type": "code",
   "execution_count": 19,
   "metadata": {},
   "outputs": [
    {
     "data": {
      "image/png": "[encoded data removed]",
      "text/plain": [
       "<Figure size 720x1080 with 1 Axes>"
      ]
     },
     "metadata": {},
     "output_type": "display_data"
    }
   ],
   "source": [
    "elastic_df['latest_sale_token'].value_counts()[:3].plot.pie(figsize=(10,15), shadow=True, \n",
    "                                                 startangle=20, autopct='%1.1f%%', fontsize=10)\n",
    "plt.title(\"Tokens\", fontsize=20)\n",
    "plt.show()"
   ]
  },
  {
   "cell_type": "markdown",
   "metadata": {},
   "source": [
    "All NFTs were sols with Etherium. "
   ]
  },
  {
   "cell_type": "code",
   "execution_count": 16,
   "metadata": {},
   "outputs": [
    {
     "data": {
      "text/plain": [
       "Index(['id', 'creator', 'collection_created', 'latest_sale_usd', 'description',\n",
       "       '@latest_sale_timestamp', 'external_link', 'twitter', 'token_id',\n",
       "       'img_path', 'twitter_follower', 'name', 'collection_slug',\n",
       "       'preview_path', 'collection_description', 'instagram',\n",
       "       'telegram_follower', 'telegram', 'instagram_follower'],\n",
       "      dtype='object')"
      ]
     },
     "execution_count": 16,
     "metadata": {},
     "output_type": "execute_result"
    }
   ],
   "source": [
    "#elastic_df.columns"
   ]
  },
  {
   "cell_type": "code",
   "execution_count": 9,
   "metadata": {},
   "outputs": [],
   "source": [
    "#elastic_df.drop(['token_id'], inplace=True, axis=1)"
   ]
  },
  {
   "cell_type": "code",
   "execution_count": 82,
   "metadata": {},
   "outputs": [
    {
     "name": "stdout",
     "output_type": "stream",
     "text": [
      "<class 'pandas.core.frame.DataFrame'>\n",
      "RangeIndex: 109300 entries, 0 to 109299\n",
      "Data columns (total 23 columns):\n",
      " #   Column                   Non-Null Count   Dtype  \n",
      "---  ------                   --------------   -----  \n",
      " 0   creator                  107040 non-null  object \n",
      " 1   token_id                 109300 non-null  object \n",
      " 2   collection_created       109300 non-null  object \n",
      " 3   latest_sale_usd          108098 non-null  float64\n",
      " 4   name                     103832 non-null  object \n",
      " 5   description              88294 non-null   object \n",
      " 6   collection_slug          109300 non-null  object \n",
      " 7   is_animation             109300 non-null  bool   \n",
      " 8   @latest_sale_timestamp   109300 non-null  object \n",
      " 9   collection_description   108015 non-null  object \n",
      " 10  external_link            33883 non-null   object \n",
      " 11  id                       109300 non-null  object \n",
      " 12  instagram                41836 non-null   object \n",
      " 13  twitter                  23847 non-null   object \n",
      " 14  twitter_follower         23096 non-null   float64\n",
      " 15  telegram_follower        1669 non-null    float64\n",
      " 16  telegram                 1873 non-null    object \n",
      " 17  img_path                 59355 non-null   object \n",
      " 18  preview_path             53308 non-null   object \n",
      " 19  instagram_follower       1774 non-null    float64\n",
      " 20  latest_sale_token_value  28666 non-null   float64\n",
      " 21  contract_scheme          29384 non-null   object \n",
      " 22  latest_sale_token        28666 non-null   object \n",
      "dtypes: bool(1), float64(5), object(17)\n",
      "memory usage: 18.5+ MB\n"
     ]
    }
   ],
   "source": [
    "elastic_df.info()"
   ]
  },
  {
   "cell_type": "code",
   "execution_count": 20,
   "metadata": {},
   "outputs": [
    {
     "data": {
      "image/png": "[encoded data removed]",
      "text/plain": [
       "<Figure size 2160x720 with 1 Axes>"
      ]
     },
     "metadata": {
      "needs_background": "light"
     },
     "output_type": "display_data"
    }
   ],
   "source": [
    "plt.figure(figsize = (30,10))\n",
    "sns.kdeplot(elastic_df['latest_sale_usd'], bw_method=0.01, fill = True)\n",
    "plt.show()"
   ]
  },
  {
   "cell_type": "markdown",
   "metadata": {},
   "source": [
    "Here we take a look at price distribution around the dataset. And then we investigate the time when assets were sold. "
   ]
  },
  {
   "cell_type": "code",
   "execution_count": 16,
   "metadata": {},
   "outputs": [
    {
     "data": {
      "text/plain": [
       "0          2021-12-23T11:49:57\n",
       "1          2021-12-23T11:50:31\n",
       "2          2021-12-23T11:50:31\n",
       "3          2021-12-23T11:50:31\n",
       "4          2021-12-23T11:50:31\n",
       "                  ...         \n",
       "1075468    2022-01-16T17:44:38\n",
       "1075469    2022-01-16T17:44:47\n",
       "1075470    2022-01-16T17:44:54\n",
       "1075471    2022-01-16T17:44:54\n",
       "1075472    2022-01-16T17:44:54\n",
       "Name: @latest_sale_timestamp, Length: 965049, dtype: object"
      ]
     },
     "execution_count": 16,
     "metadata": {},
     "output_type": "execute_result"
    }
   ],
   "source": [
    "elastic_df['@latest_sale_timestamp']"
   ]
  },
  {
   "cell_type": "code",
   "execution_count": 17,
   "metadata": {},
   "outputs": [],
   "source": [
    "import datetime\n",
    "from datetime import datetime"
   ]
  },
  {
   "cell_type": "markdown",
   "metadata": {},
   "source": [
    "First look at NAs."
   ]
  },
  {
   "cell_type": "code",
   "execution_count": 18,
   "metadata": {},
   "outputs": [
    {
     "data": {
      "text/html": [
       "<div>\n",
       "<style scoped>\n",
       "    .dataframe tbody tr th:only-of-type {\n",
       "        vertical-align: middle;\n",
       "    }\n",
       "\n",
       "    .dataframe tbody tr th {\n",
       "        vertical-align: top;\n",
       "    }\n",
       "\n",
       "    .dataframe thead th {\n",
       "        text-align: right;\n",
       "    }\n",
       "</style>\n",
       "<table border=\"1\" class=\"dataframe\">\n",
       "  <thead>\n",
       "    <tr style=\"text-align: right;\">\n",
       "      <th></th>\n",
       "      <th>Total</th>\n",
       "      <th>Percent</th>\n",
       "    </tr>\n",
       "  </thead>\n",
       "  <tbody>\n",
       "    <tr>\n",
       "      <th>medium_follower</th>\n",
       "      <td>965044</td>\n",
       "      <td>0.999995</td>\n",
       "    </tr>\n",
       "    <tr>\n",
       "      <th>medium</th>\n",
       "      <td>965044</td>\n",
       "      <td>0.999995</td>\n",
       "    </tr>\n",
       "    <tr>\n",
       "      <th>instagram_follower</th>\n",
       "      <td>964190</td>\n",
       "      <td>0.999110</td>\n",
       "    </tr>\n",
       "    <tr>\n",
       "      <th>telegram_follower</th>\n",
       "      <td>935436</td>\n",
       "      <td>0.969315</td>\n",
       "    </tr>\n",
       "    <tr>\n",
       "      <th>telegram</th>\n",
       "      <td>933169</td>\n",
       "      <td>0.966965</td>\n",
       "    </tr>\n",
       "    <tr>\n",
       "      <th>external_link</th>\n",
       "      <td>723959</td>\n",
       "      <td>0.750178</td>\n",
       "    </tr>\n",
       "    <tr>\n",
       "      <th>instagram</th>\n",
       "      <td>565581</td>\n",
       "      <td>0.586065</td>\n",
       "    </tr>\n",
       "    <tr>\n",
       "      <th>twitter_follower</th>\n",
       "      <td>462482</td>\n",
       "      <td>0.479232</td>\n",
       "    </tr>\n",
       "    <tr>\n",
       "      <th>twitter</th>\n",
       "      <td>453304</td>\n",
       "      <td>0.469721</td>\n",
       "    </tr>\n",
       "    <tr>\n",
       "      <th>preview_path</th>\n",
       "      <td>291853</td>\n",
       "      <td>0.302423</td>\n",
       "    </tr>\n",
       "    <tr>\n",
       "      <th>img_path</th>\n",
       "      <td>241784</td>\n",
       "      <td>0.250541</td>\n",
       "    </tr>\n",
       "    <tr>\n",
       "      <th>description</th>\n",
       "      <td>186689</td>\n",
       "      <td>0.193450</td>\n",
       "    </tr>\n",
       "    <tr>\n",
       "      <th>name</th>\n",
       "      <td>74138</td>\n",
       "      <td>0.076823</td>\n",
       "    </tr>\n",
       "    <tr>\n",
       "      <th>creator</th>\n",
       "      <td>36466</td>\n",
       "      <td>0.037787</td>\n",
       "    </tr>\n",
       "    <tr>\n",
       "      <th>latest_sale_token</th>\n",
       "      <td>29275</td>\n",
       "      <td>0.030335</td>\n",
       "    </tr>\n",
       "    <tr>\n",
       "      <th>latest_sale_token_value</th>\n",
       "      <td>29275</td>\n",
       "      <td>0.030335</td>\n",
       "    </tr>\n",
       "    <tr>\n",
       "      <th>contract_scheme</th>\n",
       "      <td>28607</td>\n",
       "      <td>0.029643</td>\n",
       "    </tr>\n",
       "    <tr>\n",
       "      <th>latest_sale_usd</th>\n",
       "      <td>9646</td>\n",
       "      <td>0.009995</td>\n",
       "    </tr>\n",
       "    <tr>\n",
       "      <th>collection_description</th>\n",
       "      <td>3798</td>\n",
       "      <td>0.003936</td>\n",
       "    </tr>\n",
       "    <tr>\n",
       "      <th>@latest_sale_timestamp</th>\n",
       "      <td>16</td>\n",
       "      <td>0.000017</td>\n",
       "    </tr>\n",
       "    <tr>\n",
       "      <th>id</th>\n",
       "      <td>0</td>\n",
       "      <td>0.000000</td>\n",
       "    </tr>\n",
       "    <tr>\n",
       "      <th>collection_slug</th>\n",
       "      <td>0</td>\n",
       "      <td>0.000000</td>\n",
       "    </tr>\n",
       "    <tr>\n",
       "      <th>token_id</th>\n",
       "      <td>0</td>\n",
       "      <td>0.000000</td>\n",
       "    </tr>\n",
       "    <tr>\n",
       "      <th>is_animation</th>\n",
       "      <td>0</td>\n",
       "      <td>0.000000</td>\n",
       "    </tr>\n",
       "    <tr>\n",
       "      <th>collection_created</th>\n",
       "      <td>0</td>\n",
       "      <td>0.000000</td>\n",
       "    </tr>\n",
       "  </tbody>\n",
       "</table>\n",
       "</div>"
      ],
      "text/plain": [
       "                          Total   Percent\n",
       "medium_follower          965044  0.999995\n",
       "medium                   965044  0.999995\n",
       "instagram_follower       964190  0.999110\n",
       "telegram_follower        935436  0.969315\n",
       "telegram                 933169  0.966965\n",
       "external_link            723959  0.750178\n",
       "instagram                565581  0.586065\n",
       "twitter_follower         462482  0.479232\n",
       "twitter                  453304  0.469721\n",
       "preview_path             291853  0.302423\n",
       "img_path                 241784  0.250541\n",
       "description              186689  0.193450\n",
       "name                      74138  0.076823\n",
       "creator                   36466  0.037787\n",
       "latest_sale_token         29275  0.030335\n",
       "latest_sale_token_value   29275  0.030335\n",
       "contract_scheme           28607  0.029643\n",
       "latest_sale_usd            9646  0.009995\n",
       "collection_description     3798  0.003936\n",
       "@latest_sale_timestamp       16  0.000017\n",
       "id                            0  0.000000\n",
       "collection_slug               0  0.000000\n",
       "token_id                      0  0.000000\n",
       "is_animation                  0  0.000000\n",
       "collection_created            0  0.000000"
      ]
     },
     "execution_count": 18,
     "metadata": {},
     "output_type": "execute_result"
    }
   ],
   "source": [
    "total = elastic_df.isnull().sum().sort_values(ascending=False)\n",
    "percent = (elastic_df.isnull().sum()/elastic_df.isnull().count()).sort_values(ascending=False)\n",
    "missing_data = pandas.concat([total, percent], axis=1, keys=['Total', 'Percent'])\n",
    "missing_data"
   ]
  },
  {
   "cell_type": "code",
   "execution_count": 19,
   "metadata": {},
   "outputs": [],
   "source": [
    "elastic_df = elastic_df[elastic_df['@latest_sale_timestamp'].isna() == False]"
   ]
  },
  {
   "cell_type": "code",
   "execution_count": 20,
   "metadata": {},
   "outputs": [],
   "source": [
    "elastic_df['sale_time'] = elastic_df.apply(lambda row: \n",
    "                                      datetime.fromisoformat(row['@latest_sale_timestamp']).time().hour, axis=1)"
   ]
  },
  {
   "cell_type": "code",
   "execution_count": 21,
   "metadata": {},
   "outputs": [
    {
     "data": {
      "text/plain": [
       "7"
      ]
     },
     "execution_count": 21,
     "metadata": {},
     "output_type": "execute_result"
    }
   ],
   "source": [
    "elastic_df['sale_time'][150000]"
   ]
  },
  {
   "cell_type": "code",
   "execution_count": 22,
   "metadata": {},
   "outputs": [],
   "source": [
    "elastic_df.drop(['@latest_sale_timestamp'], inplace=True, axis=1)"
   ]
  },
  {
   "cell_type": "code",
   "execution_count": 29,
   "metadata": {},
   "outputs": [
    {
     "data": {
      "text/plain": [
       "0         2021-12-25T05:04:41.533646\n",
       "1         2021-07-16T21:40:10.961766\n",
       "2         2021-12-25T05:04:41.533646\n",
       "3         2021-12-08T21:50:29.419833\n",
       "4         2021-12-31T00:01:50.421578\n",
       "                     ...            \n",
       "199996    2021-12-31T11:51:17.645610\n",
       "199997    2022-01-08T10:33:44.755894\n",
       "199998    2021-12-12T00:45:55.433020\n",
       "199999    2022-01-08T10:46:59.008593\n",
       "200000    2022-01-09T04:35:18.118736\n",
       "Name: collection_created, Length: 183426, dtype: object"
      ]
     },
     "execution_count": 29,
     "metadata": {},
     "output_type": "execute_result"
    }
   ],
   "source": [
    "elastic_df['collection_created']"
   ]
  },
  {
   "cell_type": "code",
   "execution_count": 23,
   "metadata": {},
   "outputs": [],
   "source": [
    "elastic_df['collection_created_year'] = elastic_df.apply(lambda row: \n",
    "                                      datetime.fromisoformat(row['collection_created']).year, axis=1)"
   ]
  },
  {
   "cell_type": "code",
   "execution_count": 31,
   "metadata": {},
   "outputs": [
    {
     "data": {
      "text/plain": [
       "0         2021\n",
       "1         2021\n",
       "2         2021\n",
       "3         2021\n",
       "4         2021\n",
       "          ... \n",
       "199996    2021\n",
       "199997    2022\n",
       "199998    2021\n",
       "199999    2022\n",
       "200000    2022\n",
       "Name: collection_created_year, Length: 183426, dtype: int64"
      ]
     },
     "execution_count": 31,
     "metadata": {},
     "output_type": "execute_result"
    }
   ],
   "source": [
    "elastic_df['collection_created_year']"
   ]
  },
  {
   "cell_type": "markdown",
   "metadata": {},
   "source": [
    "The year when assets were created. "
   ]
  },
  {
   "cell_type": "code",
   "execution_count": 24,
   "metadata": {},
   "outputs": [
    {
     "data": {
      "image/png": "[encoded data removed]",
      "text/plain": [
       "<Figure size 720x1080 with 1 Axes>"
      ]
     },
     "metadata": {},
     "output_type": "display_data"
    }
   ],
   "source": [
    "elastic_df['collection_created_year'].value_counts()[:10].plot.pie(figsize=(10,15), shadow=True, \n",
    "                                                 startangle=20, autopct='%1.1f%%', fontsize=10)\n",
    "plt.title(\"Collection created year\", fontsize=20)\n",
    "plt.show()"
   ]
  },
  {
   "cell_type": "code",
   "execution_count": 25,
   "metadata": {},
   "outputs": [],
   "source": [
    "elastic_df.drop(['collection_created'], inplace=True, axis=1)"
   ]
  },
  {
   "cell_type": "code",
   "execution_count": 26,
   "metadata": {},
   "outputs": [
    {
     "data": {
      "text/plain": [
       "0.100000    30819\n",
       "0.050000    22517\n",
       "0.150000    19977\n",
       "0.200000    17979\n",
       "0.020000    17410\n",
       "            ...  \n",
       "0.118444        1\n",
       "5.130000        1\n",
       "0.094406        1\n",
       "1.121300        1\n",
       "1.268900        1\n",
       "Name: latest_sale_token_value, Length: 17295, dtype: int64"
      ]
     },
     "execution_count": 26,
     "metadata": {},
     "output_type": "execute_result"
    }
   ],
   "source": [
    "elastic_df['latest_sale_token_value'].value_counts()"
   ]
  },
  {
   "cell_type": "code",
   "execution_count": 27,
   "metadata": {},
   "outputs": [
    {
     "data": {
      "text/plain": [
       "Psychedelics-Anonymous                        11581\n",
       "0x579ab5a6eee1139b406710ddb03bfad4ad62142a     8777\n",
       "0x25025e203f892f50c357bc0703eaf258879a8def     7600\n",
       "BasicBoredApeClubDeployer                      7452\n",
       "MTGTEAM                                        7007\n",
       "Name: creator, dtype: int64"
      ]
     },
     "execution_count": 27,
     "metadata": {},
     "output_type": "execute_result"
    }
   ],
   "source": [
    "elastic_df['creator'].value_counts().head()"
   ]
  },
  {
   "cell_type": "code",
   "execution_count": 28,
   "metadata": {},
   "outputs": [
    {
     "data": {
      "text/plain": [
       "14487"
      ]
     },
     "execution_count": 28,
     "metadata": {},
     "output_type": "execute_result"
    }
   ],
   "source": [
    "len(elastic_df['collection_slug'].value_counts()) #name of the collection, short name of any collection"
   ]
  },
  {
   "cell_type": "code",
   "execution_count": 29,
   "metadata": {},
   "outputs": [
    {
     "data": {
      "text/plain": [
       "chainfaces-arena             8803\n",
       "rug-radio-membership-pass    7586\n",
       "basicboredapeclub            7458\n",
       "morethangamersnftmtg         7019\n",
       "primeapeplanetpap            6366\n",
       "Name: collection_slug, dtype: int64"
      ]
     },
     "execution_count": 29,
     "metadata": {},
     "output_type": "execute_result"
    }
   ],
   "source": [
    "elastic_df['collection_slug'].value_counts().head()"
   ]
  },
  {
   "cell_type": "code",
   "execution_count": 30,
   "metadata": {},
   "outputs": [],
   "source": [
    "elastic_df.drop(['token_id', 'external_link'], inplace=True, axis=1)"
   ]
  },
  {
   "cell_type": "code",
   "execution_count": 31,
   "metadata": {},
   "outputs": [
    {
     "name": "stdout",
     "output_type": "stream",
     "text": [
      "<class 'pandas.core.frame.DataFrame'>\n",
      "Int64Index: 965033 entries, 0 to 1075472\n",
      "Data columns (total 23 columns):\n",
      " #   Column                   Non-Null Count   Dtype  \n",
      "---  ------                   --------------   -----  \n",
      " 0   creator                  928567 non-null  object \n",
      " 1   latest_sale_token_value  935774 non-null  float64\n",
      " 2   latest_sale_usd          955403 non-null  float64\n",
      " 3   description              778348 non-null  object \n",
      " 4   is_animation             965033 non-null  bool   \n",
      " 5   name                     890896 non-null  object \n",
      " 6   collection_slug          965033 non-null  object \n",
      " 7   collection_description   961235 non-null  object \n",
      " 8   contract_scheme          936426 non-null  object \n",
      " 9   latest_sale_token        935774 non-null  object \n",
      " 10  id                       965033 non-null  object \n",
      " 11  instagram                399466 non-null  object \n",
      " 12  twitter                  511737 non-null  object \n",
      " 13  img_path                 723256 non-null  object \n",
      " 14  twitter_follower         502560 non-null  float64\n",
      " 15  preview_path             673189 non-null  object \n",
      " 16  telegram_follower        29610 non-null   float64\n",
      " 17  telegram                 31877 non-null   object \n",
      " 18  instagram_follower       859 non-null     float64\n",
      " 19  medium                   5 non-null       object \n",
      " 20  medium_follower          5 non-null       float64\n",
      " 21  sale_time                965033 non-null  int64  \n",
      " 22  collection_created_year  965033 non-null  int64  \n",
      "dtypes: bool(1), float64(6), int64(2), object(14)\n",
      "memory usage: 202.5+ MB\n"
     ]
    }
   ],
   "source": [
    "elastic_df.info()"
   ]
  },
  {
   "cell_type": "code",
   "execution_count": 38,
   "metadata": {},
   "outputs": [],
   "source": [
    "elastic_df = elastic_df.rename(columns={'latest_sale_token':'sale_token'})\n",
    "elastic_df = elastic_df.rename(columns={'latest_sale_token_value':'price_crypto'})\n",
    "elastic_df = elastic_df.rename(columns={'latest_sale_usd':'sale_usd'})\n",
    "elastic_df = elastic_df.rename(columns={'collection_slug':'collection_name'})"
   ]
  },
  {
   "cell_type": "markdown",
   "metadata": {},
   "source": [
    "Type of scheme creators use to create an asset."
   ]
  },
  {
   "cell_type": "code",
   "execution_count": 39,
   "metadata": {},
   "outputs": [
    {
     "data": {
      "text/plain": [
       "ERC721         872160\n",
       "ERC1155         64178\n",
       "CRYPTOPUNKS        88\n",
       "Name: contract_scheme, dtype: int64"
      ]
     },
     "execution_count": 39,
     "metadata": {},
     "output_type": "execute_result"
    }
   ],
   "source": [
    "elastic_df['contract_scheme'].value_counts()"
   ]
  },
  {
   "cell_type": "code",
   "execution_count": 40,
   "metadata": {},
   "outputs": [],
   "source": [
    "elastic_df['contract_scheme'] = elastic_df['contract_scheme'].astype('category')"
   ]
  },
  {
   "cell_type": "code",
   "execution_count": 41,
   "metadata": {},
   "outputs": [],
   "source": [
    "elastic_df['contract_scheme'] = elastic_df['contract_scheme'].cat.rename_categories({'ERC721': 1, 'ERC1155': 2, 'CRYPTOPUNKS': 3 })"
   ]
  },
  {
   "cell_type": "markdown",
   "metadata": {},
   "source": [
    "## NaNs"
   ]
  },
  {
   "cell_type": "code",
   "execution_count": 42,
   "metadata": {},
   "outputs": [
    {
     "data": {
      "text/html": [
       "<div>\n",
       "<style scoped>\n",
       "    .dataframe tbody tr th:only-of-type {\n",
       "        vertical-align: middle;\n",
       "    }\n",
       "\n",
       "    .dataframe tbody tr th {\n",
       "        vertical-align: top;\n",
       "    }\n",
       "\n",
       "    .dataframe thead th {\n",
       "        text-align: right;\n",
       "    }\n",
       "</style>\n",
       "<table border=\"1\" class=\"dataframe\">\n",
       "  <thead>\n",
       "    <tr style=\"text-align: right;\">\n",
       "      <th></th>\n",
       "      <th>Total</th>\n",
       "      <th>Percent</th>\n",
       "    </tr>\n",
       "  </thead>\n",
       "  <tbody>\n",
       "    <tr>\n",
       "      <th>medium_follower</th>\n",
       "      <td>965028</td>\n",
       "      <td>0.999995</td>\n",
       "    </tr>\n",
       "    <tr>\n",
       "      <th>medium</th>\n",
       "      <td>965028</td>\n",
       "      <td>0.999995</td>\n",
       "    </tr>\n",
       "    <tr>\n",
       "      <th>instagram_follower</th>\n",
       "      <td>964174</td>\n",
       "      <td>0.999110</td>\n",
       "    </tr>\n",
       "    <tr>\n",
       "      <th>telegram_follower</th>\n",
       "      <td>935423</td>\n",
       "      <td>0.969317</td>\n",
       "    </tr>\n",
       "    <tr>\n",
       "      <th>telegram</th>\n",
       "      <td>933156</td>\n",
       "      <td>0.966968</td>\n",
       "    </tr>\n",
       "    <tr>\n",
       "      <th>instagram</th>\n",
       "      <td>565567</td>\n",
       "      <td>0.586060</td>\n",
       "    </tr>\n",
       "    <tr>\n",
       "      <th>twitter_follower</th>\n",
       "      <td>462473</td>\n",
       "      <td>0.479230</td>\n",
       "    </tr>\n",
       "    <tr>\n",
       "      <th>twitter</th>\n",
       "      <td>453296</td>\n",
       "      <td>0.469721</td>\n",
       "    </tr>\n",
       "    <tr>\n",
       "      <th>preview_path</th>\n",
       "      <td>291844</td>\n",
       "      <td>0.302419</td>\n",
       "    </tr>\n",
       "    <tr>\n",
       "      <th>img_path</th>\n",
       "      <td>241777</td>\n",
       "      <td>0.250538</td>\n",
       "    </tr>\n",
       "    <tr>\n",
       "      <th>description</th>\n",
       "      <td>186685</td>\n",
       "      <td>0.193449</td>\n",
       "    </tr>\n",
       "    <tr>\n",
       "      <th>name</th>\n",
       "      <td>74137</td>\n",
       "      <td>0.076823</td>\n",
       "    </tr>\n",
       "    <tr>\n",
       "      <th>creator</th>\n",
       "      <td>36466</td>\n",
       "      <td>0.037787</td>\n",
       "    </tr>\n",
       "    <tr>\n",
       "      <th>price_crypto</th>\n",
       "      <td>29259</td>\n",
       "      <td>0.030319</td>\n",
       "    </tr>\n",
       "    <tr>\n",
       "      <th>sale_token</th>\n",
       "      <td>29259</td>\n",
       "      <td>0.030319</td>\n",
       "    </tr>\n",
       "    <tr>\n",
       "      <th>contract_scheme</th>\n",
       "      <td>28607</td>\n",
       "      <td>0.029644</td>\n",
       "    </tr>\n",
       "    <tr>\n",
       "      <th>sale_usd</th>\n",
       "      <td>9630</td>\n",
       "      <td>0.009979</td>\n",
       "    </tr>\n",
       "    <tr>\n",
       "      <th>collection_description</th>\n",
       "      <td>3798</td>\n",
       "      <td>0.003936</td>\n",
       "    </tr>\n",
       "    <tr>\n",
       "      <th>id</th>\n",
       "      <td>0</td>\n",
       "      <td>0.000000</td>\n",
       "    </tr>\n",
       "    <tr>\n",
       "      <th>collection_name</th>\n",
       "      <td>0</td>\n",
       "      <td>0.000000</td>\n",
       "    </tr>\n",
       "    <tr>\n",
       "      <th>is_animation</th>\n",
       "      <td>0</td>\n",
       "      <td>0.000000</td>\n",
       "    </tr>\n",
       "    <tr>\n",
       "      <th>sale_time</th>\n",
       "      <td>0</td>\n",
       "      <td>0.000000</td>\n",
       "    </tr>\n",
       "    <tr>\n",
       "      <th>collection_created_year</th>\n",
       "      <td>0</td>\n",
       "      <td>0.000000</td>\n",
       "    </tr>\n",
       "  </tbody>\n",
       "</table>\n",
       "</div>"
      ],
      "text/plain": [
       "                          Total   Percent\n",
       "medium_follower          965028  0.999995\n",
       "medium                   965028  0.999995\n",
       "instagram_follower       964174  0.999110\n",
       "telegram_follower        935423  0.969317\n",
       "telegram                 933156  0.966968\n",
       "instagram                565567  0.586060\n",
       "twitter_follower         462473  0.479230\n",
       "twitter                  453296  0.469721\n",
       "preview_path             291844  0.302419\n",
       "img_path                 241777  0.250538\n",
       "description              186685  0.193449\n",
       "name                      74137  0.076823\n",
       "creator                   36466  0.037787\n",
       "price_crypto              29259  0.030319\n",
       "sale_token                29259  0.030319\n",
       "contract_scheme           28607  0.029644\n",
       "sale_usd                   9630  0.009979\n",
       "collection_description     3798  0.003936\n",
       "id                            0  0.000000\n",
       "collection_name               0  0.000000\n",
       "is_animation                  0  0.000000\n",
       "sale_time                     0  0.000000\n",
       "collection_created_year       0  0.000000"
      ]
     },
     "execution_count": 42,
     "metadata": {},
     "output_type": "execute_result"
    }
   ],
   "source": [
    "total = elastic_df.isnull().sum().sort_values(ascending=False)\n",
    "percent = (elastic_df.isnull().sum()/elastic_df.isnull().count()).sort_values(ascending=False)\n",
    "missing_data = pandas.concat([total, percent], axis=1, keys=['Total', 'Percent'])\n",
    "missing_data"
   ]
  },
  {
   "cell_type": "markdown",
   "metadata": {},
   "source": [
    "Due to the high amount of empty values in the columns \"telegram_follower\" and \"telegram\" & \"medium\" it was made a decidsion to drop these columns."
   ]
  },
  {
   "cell_type": "code",
   "execution_count": 43,
   "metadata": {},
   "outputs": [],
   "source": [
    "elastic_df.drop(['telegram_follower', 'telegram', 'medium_follower', 'medium'], inplace=True, axis=1) "
   ]
  },
  {
   "cell_type": "markdown",
   "metadata": {},
   "source": [
    "Some rows didn't have the infomation about their price. The reson could be lay either on Opensea or creators or transfars without money invovment. Due to the small amount of such cases I decided to drop them too."
   ]
  },
  {
   "cell_type": "code",
   "execution_count": 44,
   "metadata": {},
   "outputs": [],
   "source": [
    "elastic_df = elastic_df[elastic_df['sale_usd'].isna() == False]"
   ]
  },
  {
   "cell_type": "code",
   "execution_count": 45,
   "metadata": {},
   "outputs": [
    {
     "data": {
      "text/html": [
       "<div>\n",
       "<style scoped>\n",
       "    .dataframe tbody tr th:only-of-type {\n",
       "        vertical-align: middle;\n",
       "    }\n",
       "\n",
       "    .dataframe tbody tr th {\n",
       "        vertical-align: top;\n",
       "    }\n",
       "\n",
       "    .dataframe thead th {\n",
       "        text-align: right;\n",
       "    }\n",
       "</style>\n",
       "<table border=\"1\" class=\"dataframe\">\n",
       "  <thead>\n",
       "    <tr style=\"text-align: right;\">\n",
       "      <th></th>\n",
       "      <th>Total</th>\n",
       "      <th>Percent</th>\n",
       "    </tr>\n",
       "  </thead>\n",
       "  <tbody>\n",
       "    <tr>\n",
       "      <th>instagram_follower</th>\n",
       "      <td>954544</td>\n",
       "      <td>0.999101</td>\n",
       "    </tr>\n",
       "    <tr>\n",
       "      <th>instagram</th>\n",
       "      <td>560443</td>\n",
       "      <td>0.586604</td>\n",
       "    </tr>\n",
       "    <tr>\n",
       "      <th>twitter_follower</th>\n",
       "      <td>461856</td>\n",
       "      <td>0.483415</td>\n",
       "    </tr>\n",
       "    <tr>\n",
       "      <th>twitter</th>\n",
       "      <td>452792</td>\n",
       "      <td>0.473928</td>\n",
       "    </tr>\n",
       "    <tr>\n",
       "      <th>preview_path</th>\n",
       "      <td>289975</td>\n",
       "      <td>0.303511</td>\n",
       "    </tr>\n",
       "    <tr>\n",
       "      <th>img_path</th>\n",
       "      <td>240316</td>\n",
       "      <td>0.251534</td>\n",
       "    </tr>\n",
       "    <tr>\n",
       "      <th>description</th>\n",
       "      <td>185232</td>\n",
       "      <td>0.193878</td>\n",
       "    </tr>\n",
       "    <tr>\n",
       "      <th>name</th>\n",
       "      <td>73532</td>\n",
       "      <td>0.076964</td>\n",
       "    </tr>\n",
       "    <tr>\n",
       "      <th>creator</th>\n",
       "      <td>36358</td>\n",
       "      <td>0.038055</td>\n",
       "    </tr>\n",
       "    <tr>\n",
       "      <th>sale_token</th>\n",
       "      <td>29226</td>\n",
       "      <td>0.030590</td>\n",
       "    </tr>\n",
       "    <tr>\n",
       "      <th>price_crypto</th>\n",
       "      <td>29226</td>\n",
       "      <td>0.030590</td>\n",
       "    </tr>\n",
       "    <tr>\n",
       "      <th>contract_scheme</th>\n",
       "      <td>28574</td>\n",
       "      <td>0.029908</td>\n",
       "    </tr>\n",
       "    <tr>\n",
       "      <th>collection_description</th>\n",
       "      <td>3729</td>\n",
       "      <td>0.003903</td>\n",
       "    </tr>\n",
       "    <tr>\n",
       "      <th>id</th>\n",
       "      <td>0</td>\n",
       "      <td>0.000000</td>\n",
       "    </tr>\n",
       "    <tr>\n",
       "      <th>collection_name</th>\n",
       "      <td>0</td>\n",
       "      <td>0.000000</td>\n",
       "    </tr>\n",
       "    <tr>\n",
       "      <th>is_animation</th>\n",
       "      <td>0</td>\n",
       "      <td>0.000000</td>\n",
       "    </tr>\n",
       "    <tr>\n",
       "      <th>sale_usd</th>\n",
       "      <td>0</td>\n",
       "      <td>0.000000</td>\n",
       "    </tr>\n",
       "    <tr>\n",
       "      <th>sale_time</th>\n",
       "      <td>0</td>\n",
       "      <td>0.000000</td>\n",
       "    </tr>\n",
       "    <tr>\n",
       "      <th>collection_created_year</th>\n",
       "      <td>0</td>\n",
       "      <td>0.000000</td>\n",
       "    </tr>\n",
       "  </tbody>\n",
       "</table>\n",
       "</div>"
      ],
      "text/plain": [
       "                          Total   Percent\n",
       "instagram_follower       954544  0.999101\n",
       "instagram                560443  0.586604\n",
       "twitter_follower         461856  0.483415\n",
       "twitter                  452792  0.473928\n",
       "preview_path             289975  0.303511\n",
       "img_path                 240316  0.251534\n",
       "description              185232  0.193878\n",
       "name                      73532  0.076964\n",
       "creator                   36358  0.038055\n",
       "sale_token                29226  0.030590\n",
       "price_crypto              29226  0.030590\n",
       "contract_scheme           28574  0.029908\n",
       "collection_description     3729  0.003903\n",
       "id                            0  0.000000\n",
       "collection_name               0  0.000000\n",
       "is_animation                  0  0.000000\n",
       "sale_usd                      0  0.000000\n",
       "sale_time                     0  0.000000\n",
       "collection_created_year       0  0.000000"
      ]
     },
     "execution_count": 45,
     "metadata": {},
     "output_type": "execute_result"
    }
   ],
   "source": [
    "total = elastic_df.isnull().sum().sort_values(ascending=False)\n",
    "percent = (elastic_df.isnull().sum()/elastic_df.isnull().count()).sort_values(ascending=False)\n",
    "missing_data = pandas.concat([total, percent], axis=1, keys=['Total', 'Percent'])\n",
    "missing_data"
   ]
  },
  {
   "cell_type": "markdown",
   "metadata": {},
   "source": [
    "After I have dropped some rows I reset indexes because it keeps the indexing from the original data frame."
   ]
  },
  {
   "cell_type": "code",
   "execution_count": 51,
   "metadata": {},
   "outputs": [],
   "source": [
    "#elastic_df = elastic_df.reset_index(drop=True)"
   ]
  },
  {
   "cell_type": "markdown",
   "metadata": {},
   "source": [
    "Dealing with empty rows of 'contract_scheme'. I decided to add one more cat '0' insted empty row. "
   ]
  },
  {
   "cell_type": "code",
   "execution_count": 46,
   "metadata": {},
   "outputs": [
    {
     "data": {
      "text/plain": [
       "False    926829\n",
       "True      28574\n",
       "Name: contract_scheme, dtype: int64"
      ]
     },
     "execution_count": 46,
     "metadata": {},
     "output_type": "execute_result"
    }
   ],
   "source": [
    "elastic_df['contract_scheme'].isna().value_counts()"
   ]
  },
  {
   "cell_type": "code",
   "execution_count": 26,
   "metadata": {},
   "outputs": [],
   "source": [
    "#elastic_df['contract_scheme'] = elastic_df['contract_scheme'].cat.rename_categories({'None': 0})"
   ]
  },
  {
   "cell_type": "code",
   "execution_count": 27,
   "metadata": {},
   "outputs": [],
   "source": [
    "#elastic_df['contract_scheme'] = elastic_df['contract_scheme'].cat.add_categories('0')\n",
    "#elastic_df['contract_scheme'].fillna('0', inplace =True) "
   ]
  },
  {
   "cell_type": "markdown",
   "metadata": {},
   "source": [
    "## Empty rows in textual columns"
   ]
  },
  {
   "cell_type": "code",
   "execution_count": 47,
   "metadata": {},
   "outputs": [],
   "source": [
    "elastic_df['collection_description'].fillna(\"\", inplace = True)"
   ]
  },
  {
   "cell_type": "code",
   "execution_count": 48,
   "metadata": {},
   "outputs": [],
   "source": [
    "def descriptionFill(row):\n",
    "    if row['description'] == None:\n",
    "        return row['collection_description']\n",
    "    else:\n",
    "        return row['description']\n",
    "        \n",
    "\n",
    "elastic_df['description'] = elastic_df.apply(lambda row : descriptionFill(row), axis = 1)"
   ]
  },
  {
   "cell_type": "code",
   "execution_count": 49,
   "metadata": {},
   "outputs": [],
   "source": [
    "elastic_df['creator'].fillna(\"\", inplace = True)"
   ]
  },
  {
   "cell_type": "code",
   "execution_count": 50,
   "metadata": {},
   "outputs": [
    {
     "data": {
      "text/plain": [
       "ETH       905194\n",
       "WETH       19882\n",
       "MANA         441\n",
       "USDC         152\n",
       "SAND         131\n",
       "ASH          110\n",
       "GALA         104\n",
       "SHIB          43\n",
       "DAI           42\n",
       "ATRI          21\n",
       "REVV          18\n",
       "CUBE          11\n",
       "VOLT           6\n",
       "WHALE          3\n",
       "DUST           2\n",
       "VSF            2\n",
       "RARI           2\n",
       "0xBTC          2\n",
       "MATIC          2\n",
       "ENJ            2\n",
       "ARCONA         1\n",
       "WBTC           1\n",
       "BNT            1\n",
       "ELAND          1\n",
       "CHONK          1\n",
       "MORK           1\n",
       "ERN            1\n",
       "Name: sale_token, dtype: int64"
      ]
     },
     "execution_count": 50,
     "metadata": {},
     "output_type": "execute_result"
    }
   ],
   "source": [
    "elastic_df['sale_token'].value_counts()"
   ]
  },
  {
   "cell_type": "code",
   "execution_count": 51,
   "metadata": {},
   "outputs": [],
   "source": [
    "elastic_df['sale_token'].fillna(\"\", inplace = True)"
   ]
  },
  {
   "cell_type": "code",
   "execution_count": 52,
   "metadata": {},
   "outputs": [
    {
     "data": {
      "text/html": [
       "<div>\n",
       "<style scoped>\n",
       "    .dataframe tbody tr th:only-of-type {\n",
       "        vertical-align: middle;\n",
       "    }\n",
       "\n",
       "    .dataframe tbody tr th {\n",
       "        vertical-align: top;\n",
       "    }\n",
       "\n",
       "    .dataframe thead th {\n",
       "        text-align: right;\n",
       "    }\n",
       "</style>\n",
       "<table border=\"1\" class=\"dataframe\">\n",
       "  <thead>\n",
       "    <tr style=\"text-align: right;\">\n",
       "      <th></th>\n",
       "      <th>Total</th>\n",
       "      <th>Percent</th>\n",
       "    </tr>\n",
       "  </thead>\n",
       "  <tbody>\n",
       "    <tr>\n",
       "      <th>instagram_follower</th>\n",
       "      <td>954544</td>\n",
       "      <td>0.999101</td>\n",
       "    </tr>\n",
       "    <tr>\n",
       "      <th>instagram</th>\n",
       "      <td>560443</td>\n",
       "      <td>0.586604</td>\n",
       "    </tr>\n",
       "    <tr>\n",
       "      <th>twitter_follower</th>\n",
       "      <td>461856</td>\n",
       "      <td>0.483415</td>\n",
       "    </tr>\n",
       "    <tr>\n",
       "      <th>twitter</th>\n",
       "      <td>452792</td>\n",
       "      <td>0.473928</td>\n",
       "    </tr>\n",
       "    <tr>\n",
       "      <th>preview_path</th>\n",
       "      <td>289975</td>\n",
       "      <td>0.303511</td>\n",
       "    </tr>\n",
       "    <tr>\n",
       "      <th>img_path</th>\n",
       "      <td>240316</td>\n",
       "      <td>0.251534</td>\n",
       "    </tr>\n",
       "    <tr>\n",
       "      <th>name</th>\n",
       "      <td>73532</td>\n",
       "      <td>0.076964</td>\n",
       "    </tr>\n",
       "    <tr>\n",
       "      <th>price_crypto</th>\n",
       "      <td>29226</td>\n",
       "      <td>0.030590</td>\n",
       "    </tr>\n",
       "    <tr>\n",
       "      <th>contract_scheme</th>\n",
       "      <td>28574</td>\n",
       "      <td>0.029908</td>\n",
       "    </tr>\n",
       "    <tr>\n",
       "      <th>creator</th>\n",
       "      <td>0</td>\n",
       "      <td>0.000000</td>\n",
       "    </tr>\n",
       "    <tr>\n",
       "      <th>sale_time</th>\n",
       "      <td>0</td>\n",
       "      <td>0.000000</td>\n",
       "    </tr>\n",
       "    <tr>\n",
       "      <th>sale_token</th>\n",
       "      <td>0</td>\n",
       "      <td>0.000000</td>\n",
       "    </tr>\n",
       "    <tr>\n",
       "      <th>id</th>\n",
       "      <td>0</td>\n",
       "      <td>0.000000</td>\n",
       "    </tr>\n",
       "    <tr>\n",
       "      <th>collection_description</th>\n",
       "      <td>0</td>\n",
       "      <td>0.000000</td>\n",
       "    </tr>\n",
       "    <tr>\n",
       "      <th>collection_name</th>\n",
       "      <td>0</td>\n",
       "      <td>0.000000</td>\n",
       "    </tr>\n",
       "    <tr>\n",
       "      <th>is_animation</th>\n",
       "      <td>0</td>\n",
       "      <td>0.000000</td>\n",
       "    </tr>\n",
       "    <tr>\n",
       "      <th>description</th>\n",
       "      <td>0</td>\n",
       "      <td>0.000000</td>\n",
       "    </tr>\n",
       "    <tr>\n",
       "      <th>sale_usd</th>\n",
       "      <td>0</td>\n",
       "      <td>0.000000</td>\n",
       "    </tr>\n",
       "    <tr>\n",
       "      <th>collection_created_year</th>\n",
       "      <td>0</td>\n",
       "      <td>0.000000</td>\n",
       "    </tr>\n",
       "  </tbody>\n",
       "</table>\n",
       "</div>"
      ],
      "text/plain": [
       "                          Total   Percent\n",
       "instagram_follower       954544  0.999101\n",
       "instagram                560443  0.586604\n",
       "twitter_follower         461856  0.483415\n",
       "twitter                  452792  0.473928\n",
       "preview_path             289975  0.303511\n",
       "img_path                 240316  0.251534\n",
       "name                      73532  0.076964\n",
       "price_crypto              29226  0.030590\n",
       "contract_scheme           28574  0.029908\n",
       "creator                       0  0.000000\n",
       "sale_time                     0  0.000000\n",
       "sale_token                    0  0.000000\n",
       "id                            0  0.000000\n",
       "collection_description        0  0.000000\n",
       "collection_name               0  0.000000\n",
       "is_animation                  0  0.000000\n",
       "description                   0  0.000000\n",
       "sale_usd                      0  0.000000\n",
       "collection_created_year       0  0.000000"
      ]
     },
     "execution_count": 52,
     "metadata": {},
     "output_type": "execute_result"
    }
   ],
   "source": [
    "total = elastic_df.isnull().sum().sort_values(ascending=False)\n",
    "percent = (elastic_df.isnull().sum()/elastic_df.isnull().count()).sort_values(ascending=False)\n",
    "missing_data = pandas.concat([total, percent], axis=1, keys=['Total', 'Percent'])\n",
    "missing_data"
   ]
  },
  {
   "cell_type": "code",
   "execution_count": 53,
   "metadata": {},
   "outputs": [
    {
     "name": "stdout",
     "output_type": "stream",
     "text": [
      "Rug Radio Membership Pass    6508\n",
      "C-01 X                       3893\n",
      "Exclusive Oxyan #            3712\n",
      "Caked Apes                   3657\n",
      "Fyat Lux (Unrevealed)        3185\n",
      "                             ... \n",
      "Doodle Dogs #5806               1\n",
      "Prime Ape #7390                 1\n",
      "PHANTA BEAR #6560               1\n",
      "Doodle Dogs #1283               1\n",
      "Super Yeti #3471                1\n",
      "Name: name, Length: 755622, dtype: int64\n"
     ]
    }
   ],
   "source": [
    "#name of one asset\n",
    "print(elastic_df['name'].value_counts())"
   ]
  },
  {
   "cell_type": "code",
   "execution_count": 54,
   "metadata": {},
   "outputs": [],
   "source": [
    "import re"
   ]
  },
  {
   "cell_type": "code",
   "execution_count": 22,
   "metadata": {},
   "outputs": [],
   "source": [
    "#def nameNone(row):\n",
    "#    if row['name'] == None:\n",
    "#        return 'no name'\n",
    "#    else:\n",
    "#        return row['name']\n",
    "        \n",
    "#elastic_df['name_try'] = elastic_df.apply(lambda row : nameNone(row), axis = 1)"
   ]
  },
  {
   "cell_type": "code",
   "execution_count": 55,
   "metadata": {},
   "outputs": [],
   "source": [
    "#unique name = 1/yes (as a rule unique asset has a unique name without numbers or collection's name).\n",
    "#not unique name = 0/no\n",
    "def unique_name(row):\n",
    "    if row['name'] == None: #all missing values are 0, because these names aren't unique\n",
    "        return 0\n",
    "    search_number = re.search('#[0-9]', row['name']) #all names with #1234 are also not unique\n",
    "    if search_number != None:\n",
    "        return 0\n",
    "    search_number = re.search('^[0-9]+$', row['name']) #all names with 1234 are also not unique\n",
    "    if search_number != None:\n",
    "        return 0\n",
    "    #comparison of the name of an asset & collection's name. First we need to prepare the text \n",
    "    lowercase = row['name'].lower()\n",
    "    minus = re.compile('[^a-zA-Z]|official')\n",
    "    minus_case = re.sub(minus, '', lowercase)\n",
    "    if row['collection_name'] != None:\n",
    "        slug = row['collection_name'].lower()\n",
    "        slug_clean = re.sub(minus, '', lowercase)\n",
    "        if len(slug_clean) > 0 and slug_clean == minus_case:\n",
    "            return 0\n",
    "    print(row['collection_name'], row['name'], minus_case)    \n",
    "    return 1  "
   ]
  },
  {
   "cell_type": "code",
   "execution_count": 56,
   "metadata": {},
   "outputs": [
    {
     "name": "stdout",
     "output_type": "stream",
     "text": [
      "inbetweeners #🧸 \n",
      "n-e-o-n-v-i-b-e ネオン 377 \n",
      "inbetweeners #🧸 \n",
      "inbetweeners #🧸 \n",
      "inbetweeners #🧸 \n",
      "inbetweeners #🧸 \n",
      "kimo-animals キショ鳥 \n",
      "inbetweeners #🧸 \n",
      "inbetweeners #🧸 \n",
      "inbetweeners #🧸 \n",
      "inbetweeners #🧸 \n",
      "manganiku-japan オシャレ肉 \n",
      "n-e-o-n-v-i-b-e ネオン 55 \n",
      "ghost-kidz 11:11  \n",
      "cryptovoxels 31 이문로 \n",
      "saintj10 區塊鏈 \n",
      "eponym 🍆💦🍑 \n",
      "decentraland 😎 \n",
      "n-e-o-n-v-i-b-e ネオン 183 \n",
      "n-e-o-n-v-i-b-e ネオン 16 \n",
      "typical-tigers # 27 \n",
      "salviadroid 💤 \n",
      "sleepy-sloth-society-by-zzz-labs #??? \n",
      "sleepy-sloth-society-by-zzz-labs #??? \n",
      "sleepy-sloth-society-by-zzz-labs #??? \n",
      "sleepy-sloth-society-by-zzz-labs #??? \n",
      "sleepy-sloth-society-by-zzz-labs #??? \n",
      "sleepy-sloth-society-by-zzz-labs #??? \n",
      "ptcolorgraphs  🏛️ \n",
      "sleepy-sloth-society-by-zzz-labs #??? \n",
      "sleepy-sloth-society-by-zzz-labs #??? \n",
      "sleepy-sloth-society-by-zzz-labs #??? \n",
      "ptcolorgraphs 🌿🥊 \n",
      "sleepy-sloth-society-by-zzz-labs #??? \n",
      "sleepy-sloth-society-by-zzz-labs #??? \n",
      "sleepy-sloth-society-by-zzz-labs #??? \n",
      "sleepy-sloth-society-by-zzz-labs #??? \n",
      "sleepy-sloth-society-by-zzz-labs #??? \n",
      "sleepy-sloth-society-by-zzz-labs #??? \n",
      "n-e-o-n-v-i-b-e ネオン 176 \n",
      "n-e-o-n-v-i-b-e ネオン 292 \n",
      "n-e-o-n-v-i-b-e ネオン 3 \n",
      "n-e-o-n-v-i-b-e ネオン 56 \n",
      "sleepy-sloth-society-by-zzz-labs #??? \n",
      "sleepy-sloth-society-by-zzz-labs #??? \n",
      "sleepy-sloth-society-by-zzz-labs #??? \n",
      "sleepy-sloth-society-by-zzz-labs #??? \n",
      "sleepy-sloth-society-by-zzz-labs #??? \n",
      "sleepy-sloth-society-by-zzz-labs #??? \n",
      "sleepy-sloth-society-by-zzz-labs #??? \n",
      "sleepy-sloth-society-by-zzz-labs #??? \n",
      "sleepy-sloth-society-by-zzz-labs #??? \n",
      "inbetweeners #🧸 \n",
      "n-e-o-n-v-i-b-e ネオン 447 \n",
      "n-e-o-n-v-i-b-e ネオン 480 \n",
      "sleepy-sloth-society-by-zzz-labs #??? \n",
      "sleepy-sloth-society-by-zzz-labs #??? \n",
      "sleepy-sloth-society-by-zzz-labs #??? \n",
      "sleepy-sloth-society-by-zzz-labs #??? \n",
      "inbetweeners #🧸 \n",
      "inbetweeners #🧸 \n",
      "sleepy-sloth-society-by-zzz-labs #??? \n",
      "sleepy-sloth-society-by-zzz-labs #??? \n",
      "inbetweeners #🧸 \n",
      "sleepy-sloth-society-by-zzz-labs #??? \n",
      "inbetweeners #🧸 \n",
      "sleepy-sloth-society-by-zzz-labs #??? \n",
      "forenft 姜昱同-《坚守愉悦》 \n",
      "sleepy-sloth-society-by-zzz-labs #??? \n",
      "sleepy-sloth-society-by-zzz-labs #??? \n",
      "inbetweeners #🧸 \n",
      "n-e-o-n-v-i-b-e ネオン 168 \n",
      "inbetweeners #🧸 \n",
      "n-e-o-n-v-i-b-e ネオン 161 \n",
      "ptcolorgraphs 🦚🏷️ \n",
      "sleepy-sloth-society-by-zzz-labs #??? \n",
      "sleepy-sloth-society-by-zzz-labs #??? \n",
      "cryptokitties 3.5/5 \n",
      "inbetweeners #🧸 \n",
      "inbetweeners #🧸 \n",
      "inbetweeners #🧸 \n",
      "inbetweeners #🧸 \n",
      "inbetweeners #🧸 \n",
      "inbetweeners #🧸 \n",
      "inbetweeners #🧸 \n",
      "inbetweeners #🧸 \n",
      "inbetweeners #🧸 \n",
      "inbetweeners #🧸 \n",
      "inbetweeners #🧸 \n",
      "inbetweeners #🧸 \n",
      "inbetweeners #🧸 \n",
      "inbetweeners #🧸 \n",
      "inbetweeners #🧸 \n",
      "inbetweeners #🧸 \n",
      "inbetweeners #🧸 \n",
      "inbetweeners #🧸 \n",
      "inbetweeners #🧸 \n",
      "inbetweeners #🧸 \n",
      "inbetweeners #🧸 \n",
      "inbetweeners #🧸 \n",
      "inbetweeners #🧸 \n",
      "inbetweeners #🧸 \n",
      "inbetweeners #🧸 \n",
      "plasma-bears .18# \n",
      "cryptokitties Кек$$ \n",
      "inbetweeners #🧸 \n",
      "inbetweeners #🧸 \n",
      "n-e-o-n-v-i-b-e ネオン 20 \n",
      "inbetweeners #🧸 \n",
      "inbetweeners #🧸 \n",
      "inbetweeners #🧸 \n",
      "cryptokitties 4.2/5 \n",
      "inbetweeners #🧸 \n",
      "inbetweeners #🧸 \n",
      "inbetweeners #🧸 \n",
      "inbetweeners #🧸 \n",
      "inbetweeners #🧸 \n",
      "inbetweeners #🧸 \n",
      "inbetweeners #🧸 \n",
      "inbetweeners #🧸 \n",
      "inbetweeners #🧸 \n",
      "inbetweeners #🧸 \n",
      "inbetweeners #🧸 \n",
      "inbetweeners #🧸 \n",
      "inbetweeners #🧸 \n",
      "inbetweeners #🧸 \n",
      "inbetweeners #🧸 \n",
      "inbetweeners #🧸 \n",
      "inbetweeners #🧸 \n",
      "eponym привет \n",
      "inbetweeners #🧸 \n",
      "specialartsystem-sascollection ₿ Ⓑⓘⓣⓒⓞⓘⓝ Ⓜⓔⓓⓐⓛⓛⓘⓞⓝ ₿ \n",
      "uiethma 22:45 \n",
      "inbetweeners #🧸 \n",
      "inbetweeners #🧸 \n",
      "inbetweeners #🧸 \n",
      "inbetweeners #🧸 \n",
      "inbetweeners #🧸 \n",
      "inbetweeners #🧸 \n",
      "inbetweeners #🧸 \n",
      "inbetweeners #🧸 \n",
      "the-50s # 3 \n",
      "inbetweeners #🧸 \n",
      "inbetweeners #🧸 \n",
      "inbetweeners #🧸 \n",
      "inbetweeners #🧸 \n",
      "inbetweeners #🧸 \n",
      "inbetweeners #🧸 \n",
      "inbetweeners #🧸 \n",
      "j-xi-collection 牛金岁月 \n",
      "typical-tigers # 94 \n",
      "inbetweeners #🧸 \n",
      "inbetweeners #🧸 \n",
      "inbetweeners #🧸 \n",
      "inbetweeners #🧸 \n",
      "inbetweeners #🧸 \n",
      "inbetweeners #🧸 \n",
      "inbetweeners #🧸 \n",
      "inbetweeners #🧸 \n",
      "inbetweeners #🧸 \n",
      "inbetweeners #🧸 \n",
      "inbetweeners #🧸 \n",
      "inbetweeners #🧸 \n",
      "inbetweeners #🧸 \n",
      "inbetweeners #🧸 \n",
      "inbetweeners #🧸 \n",
      "inbetweeners #🧸 \n",
      "inbetweeners #🧸 \n",
      "inbetweeners #🧸 \n",
      "inbetweeners #🧸 \n",
      "inbetweeners #🧸 \n",
      "inbetweeners #🧸 \n",
      "inbetweeners #🧸 \n",
      "inbetweeners #🧸 \n",
      "inbetweeners-do-not-trade #🧸 \n",
      "untitled-collection-8555054 0.01 \n",
      "terra-nullius-v2 😃😃😃😃😃😃😃😃😃😃😃😃😃😃😃😃😃😃😃😃😃😃😃😃😃😃😃😃😃😃😃😃😃😃😃😃😃😃😃😃😃😃😃😃😃😃😃😃😃😃😃😃😃😃😃😃😃😃😃😃😃😃😃😃😃😃😃😃😃😃😃😃😃😃😃😃😃😃😃😃😃😃😃😃😃😃😃😃😃😃😃😃😃😃😃😃😃😃😃😃😃😃😃😃😃😃😃😃😃😃😃😃😃😃😃😃😃😃😃😃😃 \n",
      "untitled-collection-8555054 0.01 \n",
      "n-e-o-n-v-i-b-e ネオン 513 \n",
      "mutant-ape-yacht-club  \n",
      "cryptokitties 🎨🎨🎨🎨🎨🎨 \n",
      "n-e-o-n-v-i-b-e ネオン 139 \n",
      "365dayskorea 3/7 \n",
      "untitled-collection-22306961 愛ガール \n",
      "untitled-collection-152627953 Дима Спец \n",
      "nixtisine-generative-shapes 18/690 \n",
      "timepiece-community 04.10 \n",
      "n-e-o-n-v-i-b-e ネオン 302 \n",
      "pxin-gxng ? \n",
      "decentraland 420.69 \n",
      "timepiece-community 04.10 \n",
      "ifimhappy 007 15/12/2021 \n",
      "sleepy-sloth-society-by-zzz-labs #??? \n",
      "pxin-gxng ?  \n",
      "sleepy-sloth-society-by-zzz-labs #??? \n",
      "sleepy-sloth-society-by-zzz-labs #??? \n",
      "sleepy-sloth-society-by-zzz-labs #??? \n",
      "sleepy-sloth-society-by-zzz-labs #??? \n",
      "decentraland 142, -55 \n",
      "sleepy-sloth-society-by-zzz-labs #??? \n",
      "365dayskorea 2/29 \n",
      "sleepy-sloth-society-by-zzz-labs #??? \n",
      "homagetoharing 𝖆𝖌𝖌𝖗𝖊𝖘𝖘𝖎𝖛𝖊 𝖒𝖊𝖓𝖙𝖆𝖑𝖎𝖙𝖎𝖊𝖘 \n",
      "decentraland Революция \n",
      "sleepy-sloth-society-by-zzz-labs #??? \n",
      "sleepy-sloth-society-by-zzz-labs #??? \n",
      "nixtisine-generative-shapes 7/690 \n",
      "sleepy-sloth-society-by-zzz-labs #??? \n",
      "redlioneye-gazette 𝐑𝐄𝐃𝐋𝐈𝐎𝐍𝐄𝐘𝐄 𝐆𝐀𝐙𝐄𝐓𝐓𝐄 #𝟐𝟓 \n",
      "typical-tigers # 368 \n",
      "typical-tigers # 91 \n",
      "typical-tigers # 270 \n",
      "typical-tigers # 92 \n",
      "inbetweeners-do-not-trade #🧸 \n",
      "inbetweeners-do-not-trade #🧸 \n",
      "inbetweeners-do-not-trade #🧸 \n",
      "inbetweeners-do-not-trade #🧸 \n",
      "inbetweeners-do-not-trade #🧸 \n",
      "inbetweeners-do-not-trade #🧸 \n",
      "inbetweeners-do-not-trade #🧸 \n",
      "inbetweeners-do-not-trade #🧸 \n",
      "n-e-o-n-v-i-b-e ネオン 485 \n",
      "n-e-o-n-v-i-b-e ネオン 251 \n",
      "typical-tigers # 89 \n",
      "dollar-1 100$ \n",
      "unlock-your-character \"31\" \n",
      "typical-tigers # 367 \n",
      "oniku-s-doodle-collection 深層 \n",
      "cryptokitties 呆呆 🍦 888 \n",
      "typical-tigers # 300 \n",
      "terra-nullius-v2 🌈 \n",
      "unicode-for-geeks ♜ \n",
      "500greatestsongs 421/500 \n",
      "plasma-bears .0# \n",
      "plasma-bears .10# \n",
      "typical-tigers # 852 \n",
      "known-origin 🅳🅾🆄🅱🅻🅴-🆂🆃🆁🅰🅽🅳🅴🅳  🅻🅸🅽🅴🅰🆁 🅵🆁🅰🅶🅼🅴🅽🆃🆂 \n",
      "tasai เสือแดง \n",
      "inbetweeners-do-not-trade #🧸 \n",
      "bored-ape-motivate-club # 2496 \n",
      "tasai หัวหน้าทีม  \n",
      "petaloid-collection ショコラの魔法 \n",
      "n-e-o-n-v-i-b-e ネオン 54 \n",
      "typical-tigers # 720 \n",
      "avatar-fashion 00_22 \n",
      "avatar-fashion 00_24 \n",
      "avatar-fashion 00_20 \n",
      "typical-tigers # 316 \n",
      "rarible 𝓒𝓮𝓼𝓼𝓹𝓸𝓸𝓵 \n",
      "440 440_02 \n",
      "with-love-from-israel №8 \n",
      "with-love-from-israel №26 \n",
      "oneactofthestory 幸福な灰 \n",
      "little-dixie № :: 146 \n",
      "little-dixie № :: 74 \n",
      "little-dixie № :: 142 \n",
      "little-dixie № :: 138 \n",
      "little-dixie № :: 147 \n",
      "little-dixie № :: 56 \n",
      "little-dixie № :: 31 \n",
      "little-dixie № :: 21 \n",
      "little-dixie № :: 71 \n",
      "little-dixie № :: 141 \n",
      "little-dixie № :: 13 \n",
      "tasai แชมป์ \n",
      "n-e-o-n-v-i-b-e ネオン 243 \n",
      "6radients 9.100 \n",
      "6radients 1.100 \n",
      "a-ton-of-coke 80/1000 \n",
      "6radients 4.100 \n",
      "inbetweeners-do-not-trade #🧸 \n",
      "typical-tigers # 366 \n",
      "hozer-classic 법규 \n",
      "6radients 6.100 \n",
      "a-ton-of-coke 81/1000 \n",
      "typical-tigers # 613 \n",
      "shaolinsamurai 🥷 \n",
      "shaolinsamurai 🥷 \n",
      "shaolinsamurai 🥷 \n",
      "the-50s # 5 \n",
      "decentraland 和 \n",
      "shaolinsamurai 🥷 \n",
      "shaolinsamurai 🥷 \n",
      "shaolinsamurai 🥷 \n",
      "shaolinsamurai 🥷 \n",
      "n-e-o-n-v-i-b-e ネオン 462 \n",
      "shaolinsamurai 🥷 \n",
      "typical-tigers # 509 \n",
      "shaolinsamurai 🥷 \n",
      "shaolinsamurai 🥷 \n",
      "shaolinsamurai 🥷 \n",
      "n-e-o-n-v-i-b-e ネオン 275 \n",
      "n-e-o-n-v-i-b-e ネオン 221 \n",
      "tasai หมูหวาน \n",
      "tasai (ฉี่)หนู \n",
      "velvets2022 01.01.2022 \n",
      "shaolinsamurai 🥷 \n",
      "shaolinsamurai 🥷 \n",
      "shaolinsamurai 🥷 \n",
      "shaolinsamurai 🥷 \n",
      "typical-tigers # 659 \n",
      "shaolinsamurai 🥷 \n",
      "shaolinsamurai 🥷 \n",
      "the-50s # 15 \n",
      "shaolinsamurai 🥷 \n",
      "6radients 7.100 \n",
      "shaolinsamurai 🥷 \n",
      "shaolinsamurai 🥷 \n",
      "shaolinsamurai 🥷 \n",
      "shaolinsamurai 🥷 \n",
      "shaolinsamurai 🥷 \n",
      "6radients 8.100 \n",
      "shaolinsamurai 🥷 \n",
      "shaolinsamurai 🥷 \n",
      "shaolinsamurai 🥷 \n",
      "my-favorite-collections 寅の子 \n",
      "n-e-o-n-v-i-b-e ネオン 44 \n",
      "tasai แมวส้ม \n",
      "n-e-o-n-v-i-b-e ネオン 343 \n",
      "shaolinsamurai 🥷 \n",
      "tasai กระบือ \n",
      "n-e-o-n-v-i-b-e ネオン 57 \n",
      "shaolinsamurai 🥷 \n",
      "shaolinsamurai 🥷 \n",
      "shaolinsamurai 🥷 \n",
      "shaolinsamurai 🥷 \n",
      "shaolinsamurai 🥷 \n",
      "n-e-o-n-v-i-b-e ネオン 121 \n",
      "n-e-o-n-v-i-b-e ネオン 363 \n",
      "n-e-o-n-v-i-b-e ネオン 466 \n",
      "shaolinsamurai 🥷 \n",
      "shaolinsamurai 🥷 \n",
      "decentraland  \n",
      "shaolinsamurai 🥷 \n",
      "500greatestsongs 128/500 \n",
      "shaolinsamurai 🥷 \n",
      "shaolinsamurai 🥷 \n",
      "inbetweeners-do-not-trade #🧸 \n",
      "shaolinsamurai 🥷 \n",
      "shaolinsamurai 🥷 \n",
      "shaolinsamurai 🥷 \n",
      "inbetweeners-do-not-trade #🧸 \n",
      "shaolinsamurai 🥷 \n",
      "shaolinsamurai 🥷 \n",
      "shaolinsamurai 🥷 \n",
      "inbetweeners-do-not-trade #🧸 \n",
      "inbetweeners-do-not-trade #🧸 \n",
      "shaolinsamurai 🥷 \n",
      "shaolinsamurai 🥷 \n",
      "inbetweeners-do-not-trade #🧸 \n",
      "inbetweeners-do-not-trade #🧸 \n",
      "inbetweeners-do-not-trade #🧸 \n",
      "terra-nullius-v2 🚀🚀🚀 \n",
      "inbetweeners-do-not-trade #🧸 \n",
      "inbetweeners-do-not-trade #🧸 \n",
      "typical-tigers # 436 \n",
      "inbetweeners-do-not-trade #🧸 \n",
      "inbetweeners-do-not-trade #🧸 \n",
      "inbetweeners-do-not-trade #🧸 \n",
      "shaolinsamurai 🥷 \n",
      "inbetweeners-do-not-trade #🧸 \n",
      "shaolinsamurai 🥷 \n",
      "shaolinsamurai 🥷 \n",
      "the-50s # 12 \n",
      "inbetweeners-do-not-trade #🧸 \n",
      "shaolinsamurai 🥷 \n",
      "typical-tigers # 614 \n",
      "shaolinsamurai 🥷 \n",
      "typical-tigers # 44 \n",
      "eponym % \n",
      "365dayskorea 4/15 \n",
      "typical-tigers # 93 \n",
      "365dayskorea 3/4 \n",
      "typical-tigers # 718 \n",
      "rarible 𝙻𝚊𝚍𝚢 𝙳𝚒 𝙓𝙓 𝙰𝚕𝚊𝚍𝚍𝚒𝚗 \n",
      "catdirt ✊🙃 \n",
      "typical-tigers # 660 \n",
      "inbetweeners-do-not-trade #🧸 \n",
      "inbetweeners-do-not-trade #🧸 \n",
      "typical-tigers # 505 \n",
      "500greatestsongs 267/500 \n",
      "catdirt 👁👁👁👁👁 \n",
      "untitled-collection-81249570 退钱 \n",
      "with-love-from-israel №10 \n",
      "doodle-wolf-bone-club # 110 \n",
      "inbetweeners-do-not-trade #🧸 \n",
      "typical-tigers # 503 \n",
      "365dayskorea 10/14 \n",
      "365dayskorea 3/6 \n",
      "typical-tigers # 47 \n",
      "typical-tigers # 435 \n",
      "typical-tigers # 454 \n",
      "nopperab00-collection 𝒫𝑜𝓌𝑒𝓇! \n",
      "known-origin 🅳🅾🆄🅱🅻🅴-🆂🆃🆁🅰🅽🅳🅴🅳  🅻🅸🅽🅴🅰🆁 🅵🆁🅰🅶🅼🅴🅽🆃🆂 \n",
      "the-50s # 6 \n",
      "nugodesuga 海月女子 \n",
      "superrare 사기꾼 \n",
      "commixture ╪╪098 \n",
      "1milnft 000,000,009 / 1,000,000 \n",
      "shaolinsamurai 🥷 \n",
      "n-e-o-n-v-i-b-e ネオン 8 \n",
      "greenback 24/11/2021  08:58 \n",
      "shaolinsamurai 🥷 \n",
      "typical-tigers # 687 \n",
      "shaolinsamurai 🥷 \n",
      "6radients 12.100 \n",
      "ziggynfts ╰☆☆ 𝕋𝕣𝕒𝕤𝕙 𝕄𝕒𝕣𝕥𝕚𝕒𝕟𝕤 ☆☆╮ \n",
      "shaolinsamurai 🥷 \n",
      "typical-tigers # 711 \n",
      "6radients 15.100 \n",
      "shaolinsamurai 🥷 \n",
      "untitled-collection-62116912 待つ日々 \n",
      "shaolinsamurai 🥷 \n",
      "shaolinsamurai 🥷 \n",
      "cryptokitties 鹿角橘 \n",
      "unlock-your-character \"50\" \n",
      "shaolinsamurai 🥷 \n",
      "commixture ╪╪092 \n",
      "commixture ╟╚065 \n",
      "anatomy-of-exploration 1.1 \n",
      "shaolinsamurai 🥷 \n",
      "shaolinsamurai 🥷 \n",
      "shaolinsamurai 🥷 \n",
      "shaolinsamurai 🥷 \n",
      "shaolinsamurai 🥷 \n",
      "shaolinsamurai 🥷 \n",
      "shaolinsamurai 🥷 \n",
      "6radients 16.100 \n",
      "poki01-collection 草原とタバコ \n",
      "shaolinsamurai 🥷 \n",
      "1milnft 000,000,001 / 1,000,000 \n",
      "1milnft 000,000,008 / 1,000,000 \n",
      "1milnft 000,000,003 / 1,000,000 \n",
      "1milnft 000,000,010 / 1,000,000 \n",
      "anatomy-of-exploration 1.2 \n",
      "shaolinsamurai 🥷 \n",
      "uiethma 07:51 \n",
      "gm-365 12-26-21 \n",
      "shaolinsamurai 🥷 \n",
      "nixtisine-generative-shapes 31/690 \n",
      "nixtisine-generative-shapes 41/690 \n",
      "nixtisine-generative-shapes 96/690 \n",
      "nixtisine-generative-shapes 26/690 \n",
      "shaolinsamurai 🥷 \n",
      "typical-tigers # 714 \n",
      "typical-tigers # 199 \n",
      "typical-tigers # 1216 \n",
      "birds-of-prey-club  # 2111 \n",
      "terra-nullius-v2 ________________.  ___     .______      /                | /       |   _       |   (-----|  |----`/  ^     |  |_)  |             |  |    /  /_    |      / .-----)   |   |  |   /  _____   |  |  -------. |________/    |__|  /__/     __| _| `.________|  ____    __    ____  ___     .______    ________.       /    /   / /       |   _    /        |      /    /   / /  ^     |  |_)  ||   (-----`                / /  /_    |      /              /    / /  _____   |  |  ---)   |      __/  __/ /__/     __|__| `._______/ \n",
      "terra-nullius-v2 ♋️ \n",
      "typical-tigers # 803 \n",
      "typical-tigers # 196 \n",
      "n-e-o-n-v-i-b-e ネオン 120 \n",
      "cryptovoxels 2 압구정로 \n",
      "shaolinsamurai 🥷 \n",
      "n-e-o-n-v-i-b-e ネオン 97 \n",
      "typical-tigers # 661 \n",
      "typical-tigers # 504 \n",
      "typical-tigers # 894 \n",
      "typical-tigers # 609 \n",
      "typical-tigers # 411 \n",
      "typical-tigers # 664 \n",
      "typical-tigers # 605 \n",
      "n-e-o-n-v-i-b-e ネオン 177 \n",
      "typical-tigers # 229 \n",
      "typical-tigers # 75 \n",
      "floatingcloud ☁️☁️☁️ \n",
      "typical-tigers # 658 \n",
      "typical-tigers # 1391 \n",
      "typical-tigers # 805 \n",
      "typical-tigers # 891 \n",
      "typical-tigers # 552 \n",
      "saintj10 這真的不行耶 這真的不行耶 \n",
      "snow-queen-1 №5 \n",
      "social-bees-university # 8774 \n",
      "typical-tigers # 713 \n",
      "decentraland 문 재인 개새끼 \n",
      "typical-tigers # 2088 \n",
      "typical-tigers # 2267 \n",
      "terra-nullius-v2 🚀 \n",
      "terra-nullius-v2 🦍🤝💪📈 \n",
      "terra-nullius-v2 🏎️ \n",
      "social-bees-university # 5398 \n",
      "social-bees-university # 9332 \n",
      "typical-tigers # 1938 \n",
      "uiethma 06:58 \n",
      "the34project 09//34 \n",
      "typical-tigers # 3217 \n",
      "typical-tigers # 3079 \n",
      "typical-tigers # 1379 \n",
      "typical-tigers # 2490 \n",
      "typical-tigers # 2396 \n",
      "typical-tigers # 2486 \n",
      "typical-tigers # 2335 \n",
      "typical-tigers # 1598 \n",
      "the34project 16//34 \n",
      "luminuids 𝐂𝐨𝐥𝐝 𝐑𝐞𝐦𝐨𝐫𝐬𝐞 \n",
      "typical-tigers # 3244 \n",
      "typical-tigers # 25 \n",
      "sea-maidens \"𝖁𝖊𝖎𝖑 𝖔𝖋 𝕹𝖆𝖞𝖆\" \n",
      "typical-tigers # 2334 \n",
      "social-bees-university # 9608 \n",
      "social-bees-university # 10026 \n",
      "redlioneye-gazette 𝐑𝐄𝐃𝐋𝐈𝐎𝐍𝐄𝐘𝐄𝐆𝐀𝐙𝐄𝐓𝐓𝐄 #𝟐𝟖 \n",
      "social-bees-university # 8198 \n",
      "typical-tigers # 679 \n",
      "typical-tigers # 1234 \n",
      "social-bees-university # 9844 \n",
      "sea-maidens 𝕹𝖆𝖎𝖆𝖉'𝖘 𝕽𝖊𝖕𝖔𝖘𝖊 \n",
      "typical-tigers # 2730 \n",
      "sea-maidens 𝕮𝖔𝖗𝖆𝖑𝖎𝖘 𝕮𝖔𝖍𝖔𝖗𝖙 \n",
      "social-bees-university # 7508 \n",
      "social-bees-university # 9810 \n",
      "plasma-bears .15# \n",
      "typical-tigers # 3837 \n",
      "little-dixie № :: 109 \n",
      "little-dixie № :: 17 \n",
      "little-dixie № :: 88 \n",
      "decentraland 我要要要 \n",
      "social-bees-university # 620 \n",
      "little-dixie № :: 90 \n",
      "little-dixie № :: 100 \n",
      "little-dixie № :: 99 \n",
      "little-dixie № :: 38 \n",
      "little-dixie № :: 143 \n",
      "little-dixie № :: 41 \n",
      "little-dixie № :: 51 \n",
      "little-dixie № :: 117 \n",
      "typical-tigers # 1684 \n",
      "typical-tigers # 1705 \n",
      "social-bees-university # 4556 \n",
      "typical-tigers # 1685 \n",
      "typical-tigers # 1259 \n",
      "typical-tigers # 3836 \n",
      "social-bees-university # 9610 \n",
      "social-bees-university # 6400 \n",
      "social-bees-university # 4250 \n",
      "typical-tigers # 2119 \n",
      "typical-tigers # 2030 \n",
      "typical-tigers # 2770 \n",
      "typical-tigers # 2038 \n",
      "typical-tigers # 2023 \n",
      "typical-tigers # 1123 \n",
      "typical-tigers # 1816 \n",
      "sea-maidens 𝕴𝖆𝖎𝖗𝖆 𝖙𝖍𝖊 𝕴𝖓𝖋𝖆𝖒𝖔𝖚𝖘 \n",
      "typical-tigers # 2927 \n",
      "typical-tigers # 1211 \n",
      "typical-tigers # 327 \n",
      "typical-tigers # 1218 \n",
      "typical-tigers # 1621 \n",
      "typical-tigers # 893 \n",
      "typical-tigers # 1032 \n",
      "social-bees-university # 9140 \n",
      "typical-tigers # 1439 \n",
      "typical-tigers # 592 \n",
      "typical-tigers # 271 \n",
      "typical-tigers # 365 \n",
      "typical-tigers # 1939 \n",
      "typical-tigers # 1210 \n",
      "typical-tigers # 45 \n",
      "typical-tigers # 2040 \n",
      "typical-tigers # 204 \n",
      "typical-tigers # 1818 \n",
      "typical-tigers # 1370 \n",
      "typical-tigers # 2769 \n",
      "typical-tigers # 3215 \n",
      "typical-tigers # 1525 \n",
      "typical-tigers # 1231 \n",
      "typical-tigers # 3218 \n",
      "typical-tigers # 1104 \n",
      "typical-tigers # 3835 \n",
      "typical-tigers # 510 \n",
      "typical-tigers # 3399 \n",
      "typical-tigers # 3212 \n",
      "typical-tigers # 3593 \n",
      "typical-tigers # 332 \n",
      "social-bees-university # 5158 \n",
      "typical-tigers # 3211 \n",
      "typical-tigers # 1236 \n",
      "social-bees-university # 6378 \n",
      "typical-tigers # 1442 \n",
      "typical-tigers # 1441 \n",
      "social-bees-university # 3852 \n",
      "typical-tigers # 562 \n",
      "decentraland 乐乐的土地 \n",
      "typical-tigers # 3196 \n",
      "typical-tigers # 2690 \n",
      "social-bees-university # 3030 \n",
      "typical-tigers # 333 \n",
      "typical-tigers # 2261 \n",
      "typical-tigers # 2156 \n",
      "social-bees-university # 9220 \n",
      "typical-tigers # 1462 \n",
      "typical-tigers # 822 \n",
      "typical-tigers # 200 \n",
      "typical-tigers # 721 \n",
      "social-bees-university # 8274 \n",
      "typical-tigers # 1557 \n",
      "typical-tigers # 1081 \n",
      "typical-tigers # 470 \n",
      "social-bees-university # 8540 \n",
      "typical-tigers # 2691 \n",
      "typical-tigers # 722 \n",
      "the34project 23//34 \n",
      "typical-tigers # 1380 \n",
      "typical-tigers # 692 \n",
      "typical-tigers # 1706 \n",
      "typical-tigers # 2928 \n",
      "the34project 13//34 \n",
      "typical-tigers # 231 \n",
      "typical-tigers # 3060 \n",
      "typical-tigers # 3194 \n",
      "typical-tigers # 73 \n",
      "typical-tigers # 2281 \n",
      "the34project 24//34 \n",
      "social-bees-university # 9144 \n",
      "typical-tigers # 2483 \n",
      "typical-tigers # 2393 \n",
      "typical-tigers # 2491 \n",
      "typical-tigers # 1700 \n",
      "social-bees-university # 9292 \n",
      "social-bees-university # 9002 \n",
      "social-bees-university # 8706 \n",
      "social-bees-university # 4360 \n",
      "social-bees-university # 4894 \n",
      "social-bees-university # 8488 \n",
      "social-bees-university # 5614 \n",
      "n-e-o-n-v-i-b-e ネオン 408 \n",
      "typical-tigers # 637 \n",
      "typical-tigers # 2042 \n",
      "little-dixie № :: 129 \n",
      "typical-tigers # 2333 \n",
      "typical-tigers # 2128 \n",
      "social-bees-university # 9846 \n",
      "social-bees-university # 8784 \n",
      "typical-tigers # 2039 \n",
      "typical-tigers # 1017 \n",
      "typical-tigers # 2118 \n",
      "typical-tigers # 1831 \n",
      "typical-tigers # 2127 \n",
      "8drawers-art  寅 2022 【 鼓舞 】 \n",
      "social-bees-university # 5640 \n",
      "typical-tigers # 1936 \n",
      "social-bees-university # 6392 \n",
      "social-bees-university # 2466 \n",
      "social-bees-university # 5938 \n",
      "social-bees-university # 2534 \n",
      "social-bees-university # 9042 \n",
      "social-bees-university # 8492 \n",
      "braindrops-1 萬物一理 \n",
      "social-bees-university # 9050 \n",
      "typical-tigers # 1694 \n",
      "with-love-from-israel №79 \n",
      "ekimemoourrailsanother 美深駅(リゾートなふぶ・2020) \n",
      "plasma-bears .39# \n"
     ]
    },
    {
     "name": "stdout",
     "output_type": "stream",
     "text": [
      "redlioneye-gazette 𝐑𝐄𝐃𝐋𝐈𝐎𝐍𝐄𝐘𝐄 𝐆𝐀𝐙𝐄𝐓𝐓𝐄 #𝟐𝟗 \n",
      "ekimemoourrailsanother 大月駅(リゾートなシーナ・2020) \n",
      "social-bees-university # 7962 \n",
      "typical-tigers # 3541 \n",
      "typical-tigers # 2423 \n",
      "typical-tigers # 573 \n",
      "social-bees-university # 5040 \n",
      "social-bees-university # 7640 \n",
      "typical-tigers # 3550 \n",
      "social-bees-university # 6714 \n",
      "the34project 04//34 \n",
      "social-bees-university # 9148 \n",
      "ruifukeji-collection 跳水 \n",
      "birds-of-prey-club  # 3909 \n",
      "typical-tigers # 3397 \n",
      "social-bees-university # 9040 \n",
      "the-50s # 19 \n",
      "typical-tigers # 1588 \n",
      "typical-tigers # 2533 \n",
      "typical-tigers # 2268 \n",
      "typical-tigers # 170 \n",
      "typical-tigers # 2534 \n",
      "typical-tigers # 1025 \n",
      "typical-tigers # 690 \n",
      "typical-tigers # 772 \n",
      "typical-tigers # 2874 \n",
      "typical-tigers # 3260 \n",
      "typical-tigers # 1189 \n",
      "typical-tigers # 3452 \n",
      "typical-tigers # 48 \n",
      "typical-tigers # 1436 \n",
      "typical-tigers # 2157 \n",
      "typical-tigers # 1752 \n",
      "typical-tigers # 3243 \n",
      "social-bees-university # 7388 \n",
      "typical-tigers # 3245 \n",
      "typical-tigers # 2994 \n",
      "typical-tigers # 1899 \n",
      "social-bees-university # 3882 \n",
      "typical-tigers # 1107 \n",
      "typical-tigers # 1201 \n",
      "typical-tigers # 3478 \n",
      "social-bees-university # 6382 \n",
      "birds-of-prey-club  # 1567 \n",
      "typical-tigers # 2395 \n",
      "typical-tigers # 3213 \n",
      "typical-tigers # 3199 \n",
      "social-bees-university # 5746 \n",
      "typical-tigers # 3675 \n",
      "typical-tigers # 3641 \n",
      "typical-tigers # 1299 \n",
      "typical-tigers # 3089 \n",
      "typical-tigers # 3088 \n",
      "typical-tigers # 908 \n",
      "typical-tigers # 688 \n",
      "typical-tigers # 2120 \n",
      "typical-tigers # 564 \n",
      "typical-tigers # 2996 \n",
      "typical-tigers # 1854 \n",
      "typical-tigers # 3679 \n",
      "typical-tigers # 3398 \n",
      "typical-tigers # 233 \n",
      "typical-tigers # 3396 \n",
      "typical-tigers # 1392 \n",
      "typical-tigers # 2109 \n",
      "typical-tigers # 2110 \n",
      "typical-tigers # 2093 \n",
      "typical-tigers # 1627 \n",
      "social-bees-university # 3396 \n",
      "typical-tigers # 813 \n",
      "typical-tigers # 1215 \n",
      "typical-tigers # 3882 \n",
      "-void- ⚫️ \n",
      "little-dixie № :: 19 \n",
      "typical-tigers # 2250 \n",
      "social-bees-university # 1284 \n",
      "typical-tigers # 2487 \n",
      "typical-tigers # 2602 \n",
      "decentraland *69*420* \n",
      "little-dixie № :: 46 \n",
      "social-bees-university # 7382 \n",
      "typical-tigers # 3634 \n",
      "typical-tigers # 3853 \n",
      "social-bees-university # 4928 \n",
      "lightbeingbyavasol روشنی \n",
      "typical-tigers # 932 \n",
      "little-dixie № :: 81 \n",
      "cryptovoxels 5 약령시로 \n",
      "typical-tigers # 2716 \n",
      "typical-tigers # 1568 \n",
      "social-bees-university # 3042 \n",
      "little-dixie № :: 140 \n",
      "n-e-o-n-v-i-b-e ネオン 208 \n",
      "social-bees-university # 6384 \n",
      "n-e-o-n-v-i-b-e ネオン 536 \n",
      "n-e-o-n-v-i-b-e ネオン 187 \n",
      "typical-tigers # 3352 \n",
      "typical-tigers # 1956 \n",
      "typical-tigers # 2696 \n",
      "social-bees-university # 6914 \n",
      "-void- ⚫️⚫️ \n",
      "-void- ⚫️⚫️⚫️ \n",
      "social-bees-university # 4982 \n",
      "-void- ⚫️⚫️⚫️⚫️ \n",
      "birds-of-prey-club  # 2755 \n",
      "typical-tigers # 3616 \n",
      "typical-tigers # 3613 \n",
      "typical-tigers # 2427 \n",
      "typical-tigers # 814 \n",
      "fuzz-gaff カミサマダー \n",
      "typical-tigers # 1026 \n",
      "typical-tigers # 1022 \n",
      "typical-tigers # 3167 \n",
      "social-bees-university # 4248 \n",
      "mysterious-girl-s 「さぁ、お次はどんな気分を味わいたい？」 \n",
      "typical-tigers # 2425 \n",
      "typical-tigers # 3533 \n",
      "typical-tigers # 3535 \n",
      "typical-tigers # 3543 \n",
      "typical-tigers # 2099 \n",
      "typical-tigers # 3544 \n",
      "typical-tigers # 1725 \n",
      "typical-tigers # 3539 \n",
      "typical-tigers # 3776 \n",
      "typical-tigers # 3044 \n",
      "typical-tigers # 2052 \n",
      "the34project 01//34 \n",
      "social-bees-university # 5786 \n",
      "typical-tigers # 3534 \n",
      "typical-tigers # 3537 \n",
      "typical-tigers # 995 \n",
      "duomaxwell-collection 兔兔 \n",
      "the-365 365/001 \n",
      "hamen 路吸派＃06- 哈們系列 \n",
      "hamen 路吸派＃11 - 哈們系列 \n",
      "hamen 路吸派＃10 - 哈們系列 \n",
      "social-bees-university # 8268 \n",
      "lightbeingbyavasol కాంతి \n",
      "hamen 路吸派＃65 - 哈們系列 \n",
      "hamen 路吸派＃66 - 哈們系列 \n",
      "hamen 路吸派＃39 - 哈們系列 \n",
      "typical-tigers # 1820 \n",
      "typical-tigers # 1686 \n",
      "typical-tigers # 3531 \n",
      "hamen 路吸派＃05 - 哈們系列 \n",
      "hamen 路吸派＃07- 哈們系列 \n",
      "hamen 路吸派＃44 - 哈們系列 \n",
      "hamen 路吸派＃55 - 哈們系列 \n",
      "hamen 路吸派＃62 - 哈們系列 \n",
      "hamen 路吸派＃36 - 哈們系列 \n",
      "typical-tigers # 3542 \n",
      "typical-tigers # 3548 \n",
      "typical-tigers # 2256 \n",
      "hamen 路吸派＃12 - 哈們系列 \n",
      "hamen 路吸派＃26 - 哈們系列 \n",
      "hamen 路吸派＃40 - 哈們系列 \n",
      "hamen 路吸派＃46 - 哈們系列 \n",
      "hamen 路吸派＃45 - 哈們系列 \n",
      "hamen 路吸派＃51 - 哈們系列 \n",
      "hamen 路吸派＃04- 哈們系列 \n",
      "typical-tigers # 3532 \n",
      "hamen 路吸派＃37 - 哈們系列 \n",
      "hamen 路吸派＃43 - 哈們系列 \n",
      "hamen 路吸派＃08 - 哈們系列 \n",
      "hamen 路吸派＃22 - 哈們系列 \n",
      "hamen 路吸派＃23 - 哈們系列 \n",
      "hamen 路吸派＃42 - 哈們系列 \n",
      "hamen 路吸派＃41 - 哈們系列 \n",
      "hamen 路吸派＃17 - 哈們系列 \n",
      "typical-tigers # 2276 \n",
      "hamen 路吸派＃25 - 哈們系列 \n",
      "hamen 路吸派＃50 - 哈們系列 \n",
      "hamen 路吸派＃48 - 哈們系列 \n",
      "hamen 路吸派＃47 - 哈們系列 \n",
      "hamen 路吸派＃19 - 哈們系列 \n",
      "hamen 路吸派＃20 - 哈們系列 \n",
      "hamen 路吸派 # 33 - 哈們系列 \n",
      "hamen 路吸派＃35 - 哈們系列 \n",
      "typical-tigers # 3536 \n",
      "hamen 路吸派＃58 - 哈們系列 \n",
      "hamen 路吸派＃69 - 哈們系列 \n",
      "hamen 路吸派＃67 - 哈們系列 \n",
      "hamen 路吸派＃68 - 哈們系列 \n",
      "typical-tigers # 1020 \n",
      "hamen 路吸派＃02 - 哈們系列 \n",
      "hamen 路吸派＃03- 哈們系列 \n",
      "hamen 路吸派＃09 - 哈們系列 \n",
      "hamen 路吸派＃13 - 哈們系列 \n",
      "hamen 路吸派＃30 - 哈們系列 \n",
      "hamen 路吸派＃29 - 哈們系列 \n",
      "hamen 路吸派＃59 - 哈們系列 \n",
      "hamen 路吸派＃63 - 哈們系列 \n",
      "hamen 路吸派＃64 - 哈們系列 \n",
      "typical-tigers # 3545 \n",
      "hamen 路吸派＃16 - 哈們系列 \n",
      "hamen 路吸派＃15 - 哈們系列 \n",
      "hamen 路吸派＃21 - 哈們系列 \n",
      "hamen 路吸派＃27 - 哈們系列 \n",
      "hamen 路吸派＃54 - 哈們系列 \n",
      "hamen 路吸派＃61 - 哈們系列 \n",
      "typical-tigers # 3547 \n",
      "hamen 路吸派＃01 - 哈們系列 \n",
      "social-bees-university # 8460 \n",
      "hamen 路吸派＃34 - 哈們系列 \n",
      "hamen 路吸派＃56 - 哈們系列 \n",
      "hamen 路吸派＃57 - 哈們系列 \n",
      "hamen 路吸派＃60 - 哈們系列 \n",
      "social-bees-university # 8266 \n",
      "hamen 路吸派＃14 - 哈們系列 \n",
      "hamen 路吸派＃18 - 哈們系列 \n",
      "hamen 路吸派＃28 - 哈們系列 \n",
      "hamen 路吸派＃31 - 哈們系列 \n",
      "hamen 路吸派＃32 - 哈們系列 \n",
      "hamen 路吸派＃38 - 哈們系列 \n",
      "hamen 路吸派＃53 - 哈們系列 \n",
      "hamen 路吸派＃24 - 哈們系列 \n",
      "hamen 路吸派＃52 - 哈們系列 \n",
      "social-bees-university # 4356 \n",
      "typical-tigers # 3073 \n",
      "social-bees-university # 8818 \n",
      "sea-maidens 𝕭𝖗𝖊𝖊𝖉𝖊𝖗 \n",
      "social-bees-university # 9302 \n",
      "typical-tigers # 3111 \n",
      "typical-tigers # 1900 \n",
      "typical-tigers # 1812 \n",
      "typical-tigers # 2532 \n",
      "social-bees-university # 8778 \n",
      "typical-tigers # 3484 \n",
      "typical-tigers # 2121 \n",
      "typical-tigers # 2539 \n",
      "typical-tigers # 3549 \n",
      "social-bees-university # 2462 \n",
      "social-bees-university # 9416 \n",
      "typical-tigers # 2511 \n",
      "typical-tigers # 3614 \n",
      "untitled-collection-79565810 魔界戦士 \n",
      "plasma-bears $8989 \n",
      "typical-tigers # 3421 \n",
      "social-bees-university # 9016 \n",
      "typical-tigers # 1810 \n",
      "typical-tigers # 877 \n",
      "timepiece-community 04.10 \n",
      "typical-tigers # 2608 \n",
      "typical-tigers # 1021 \n",
      "typical-tigers # 3477 \n",
      "typical-tigers # 3479 \n",
      "typical-tigers # 694 \n",
      "typical-tigers # 1258 \n",
      "7-samurai 硨磲 5/7 \n",
      "typical-tigers # 3881 \n",
      "typical-tigers # 2492 \n",
      "social-bees-university # 7784 \n",
      "social-bees-university # 10014 \n",
      "social-bees-university # 7732 \n",
      "typical-tigers # 2309 \n",
      "zhang-huan-the-celestial-burial-of-an-artist 一個藝術家的天葬 \n",
      "social-bees-university # 9690 \n",
      "little-dixie № :: 151 \n",
      "pandaearth 熊貓超人 \n",
      "social-bees-university # 8900 \n",
      "little-dixie № :: 92 \n",
      "pandaearth 绅士的味道 \n",
      "pandaearth 我是嫦娥 \n",
      "social-bees-university # 9966 \n",
      "disordinary-beauty . ㄩ . 几 . Ҝ . 几 . ㄖ . 山 . 几 .  11 \n",
      "disordinary-beauty . ㄩ . 几 . Ҝ . 几 . ㄖ . 山 . 几 .  15 \n",
      "social-bees-university # 2362 \n",
      "typical-tigers # 2918 \n",
      "disordinary-beauty . ㄩ . 几 . Ҝ . 几 . ㄖ . 山 . 几 .  06 \n",
      "social-bees-university # 4558 \n",
      "hamen 路吸派＃49 - 哈們系列 \n",
      "typical-tigers # 1597 \n",
      "disordinary-beauty . ㄩ . 几 . Ҝ . 几 . ㄖ . 山 . 几 .  10 \n",
      "disordinary-beauty . ㄩ . 几 . Ҝ . 几 . ㄖ . 山 . 几 .  14 \n",
      "typical-tigers # 1561 \n",
      "social-bees-university # 6546 \n",
      "social-bees-university # 7822 \n",
      "disordinary-beauty . ㄩ . 几 . Ҝ . 几 . ㄖ . 山 . 几 . 03 \n",
      "disordinary-beauty . ㄩ . 几 . Ҝ . 几 . ㄖ . 山 . 几 .  08 \n",
      "social-bees-university # 9380 \n",
      "social-bees-university # 7824 \n",
      "disordinary-beauty . ㄩ . 几 . Ҝ . 几 . ㄖ . 山 . 几 .  12 \n",
      "social-bees-university # 8578 \n",
      "aimonstergirls 𝓕𝓸𝔁 𝓖𝓲𝓻𝓵 \n",
      "social-bees-university # 7130 \n",
      "crypt-oink 牛 \n",
      "aimonstergirls 𝓓𝓮𝓶𝓸𝓷𝓮𝓼𝓼 𝓖𝓸𝓻𝓰𝓸𝓷 \n",
      "typical-tigers # 43 \n",
      "social-bees-university # 8260 \n",
      "social-bees-university # 8264 \n",
      "social-bees-university # 8802 \n",
      "social-bees-university # 8800 \n",
      "social-bees-university # 8804 \n",
      "social-bees-university # 4492 \n",
      "typical-tigers # 2428 \n",
      "typical-tigers # 2133 \n",
      "social-bees-university # 8564 \n",
      "timepiece-community 04.10 \n",
      "timepiece-community 04.10 \n",
      "timepiece-community 04.10 \n",
      "social-bees-university # 9812 \n",
      "typical-tigers # 3454 \n",
      "timepiece-community 04.10 \n",
      "social-bees-university # 9120 \n",
      "terra-nullius-v2 🍆 \n",
      "clovers 🧙‍♂️ \n",
      "decentraland 发溜溜溜 \n",
      "cryptokitties 2.2/4 \n",
      "saintj10 好不好 給我來一打啦 \n",
      "typical-tigers # 1338 \n",
      "social-bees-university # 8736 \n",
      "social-bees-university # 9964 \n",
      "typical-tigers # 1643 \n",
      "unicode-for-geeks 🛵 \n",
      "typical-tigers # 2426 \n",
      "typical-tigers # 1689 \n",
      "social-bees-university # 8920 \n",
      "unicode-for-geeks 🍦 \n",
      "social-bees-university # 8512 \n",
      "typical-tigers # 3246 \n",
      "barnbridge-non-fungible-token 102/200 \n",
      "barnbridge-non-fungible-token 32/200 \n",
      "typical-tigers # 1327 \n",
      "typical-tigers # 1604 \n",
      "typical-tigers # 1426 \n",
      "social-bees-university # 8590 \n",
      "typical-tigers # 1334 \n",
      "typical-tigers # 1555 \n",
      "social-bees-university # 7790 \n",
      "typical-tigers # 2429 \n",
      "disordinary-beauty . ㄩ . 几 . Ҝ . 几 . ㄖ . 山 . 几 .23 \n",
      "disordinary-beauty . ㄩ . 几 . Ҝ . 几 . ㄖ . 山 . 几 . 02 \n",
      "disordinary-beauty . ㄩ . 几 . Ҝ . 几 . ㄖ . 山 . 几 .  09 \n",
      "social-bees-university # 4522 \n",
      "typical-tigers # 2210 \n",
      "disordinary-beauty . ㄩ . 几 . Ҝ . 几 . ㄖ . 山 . 几 . 01 \n",
      "social-bees-university # 4736 \n",
      "typical-tigers # 853 \n",
      "typical-tigers # 2609 \n",
      "cryptovoxels 2 윤보선길 \n",
      "social-bees-university # 9412 \n",
      "little-dixie № :: 34 \n",
      "social-bees-university # 9414 \n",
      "social-bees-university # 9094 \n",
      "social-bees-university # 8810 \n",
      "little-dixie № :: 106 \n",
      "typical-tigers # 2430 \n",
      "social-bees-university # 8820 \n"
     ]
    },
    {
     "name": "stdout",
     "output_type": "stream",
     "text": [
      "typical-tigers # 884 \n",
      "social-bees-university # 7888 \n",
      "social-bees-university # 7622 \n",
      "social-bees-university # 6424 \n",
      "typical-tigers # 2434 \n",
      "the-heist-collection ??? \n",
      "typical-tigers # 3617 \n",
      "social-bees-university # 2174 \n",
      "typical-tigers # 3191 \n",
      "aimonstergirls 𝓟𝓻𝓲𝓷𝓬𝓮𝓼𝓼 𝓵𝓪𝓶𝓲𝓪 \n",
      "typical-tigers # 2432 \n",
      "typical-tigers # 3524 \n",
      "social-bees-university # 8472 \n",
      "social-bees-university # 9524 \n",
      "social-bees-university # 8476 \n",
      "social-bees-university # 5954 \n",
      "the-heist-collection ??? \n",
      "social-bees-university # 9526 \n",
      "typical-tigers # 836 \n",
      "social-bees-university # 8478 \n",
      "typical-tigers # 2433 \n",
      "typical-tigers # 2431 \n"
     ]
    }
   ],
   "source": [
    "elastic_df['unique_asset'] = elastic_df.apply(lambda row : unique_name(row), axis = 1)"
   ]
  },
  {
   "cell_type": "code",
   "execution_count": 57,
   "metadata": {},
   "outputs": [
    {
     "data": {
      "text/plain": [
       "0    954378\n",
       "1      1025\n",
       "Name: unique_asset, dtype: int64"
      ]
     },
     "execution_count": 57,
     "metadata": {},
     "output_type": "execute_result"
    }
   ],
   "source": [
    "elastic_df['unique_asset'].value_counts()"
   ]
  },
  {
   "cell_type": "code",
   "execution_count": 63,
   "metadata": {},
   "outputs": [
    {
     "name": "stdout",
     "output_type": "stream",
     "text": [
      "nameheyholaz\n"
     ]
    }
   ],
   "source": [
    "lowercase = 'Name _Hey-Holaz??! official'.lower()\n",
    "minus = re.compile('[^a-zA-Z]|official')\n",
    "minus_case = re.sub(minus, '', lowercase)\n",
    "print(minus_case)"
   ]
  },
  {
   "cell_type": "code",
   "execution_count": 58,
   "metadata": {},
   "outputs": [],
   "source": [
    "elastic_df['name'].fillna(\"\", inplace = True)"
   ]
  },
  {
   "cell_type": "markdown",
   "metadata": {},
   "source": [
    "The emty spaces in rows are represented with Nan that has a type float. At the same time this raw consists of str."
   ]
  },
  {
   "cell_type": "code",
   "execution_count": 59,
   "metadata": {},
   "outputs": [],
   "source": [
    "# instagram account? yes - 1, no -0\n",
    "def instAcc(row):\n",
    "    insta = row['instagram']\n",
    "    if isinstance(insta, str) and len(insta) > 0:\n",
    "        return 1\n",
    "    else:\n",
    "        return 0\n",
    "        \n",
    "elastic_df['instagram_account'] = elastic_df.apply(lambda row : instAcc(row), axis = 1)"
   ]
  },
  {
   "cell_type": "code",
   "execution_count": 60,
   "metadata": {},
   "outputs": [
    {
     "data": {
      "text/plain": [
       "0    560443\n",
       "1    394960\n",
       "Name: instagram_account, dtype: int64"
      ]
     },
     "execution_count": 60,
     "metadata": {},
     "output_type": "execute_result"
    }
   ],
   "source": [
    "elastic_df['instagram_account'].value_counts()"
   ]
  },
  {
   "cell_type": "code",
   "execution_count": 61,
   "metadata": {},
   "outputs": [],
   "source": [
    "elastic_df['instagram'].fillna(\"\", inplace = True)"
   ]
  },
  {
   "cell_type": "code",
   "execution_count": 62,
   "metadata": {},
   "outputs": [
    {
     "data": {
      "text/html": [
       "<div>\n",
       "<style scoped>\n",
       "    .dataframe tbody tr th:only-of-type {\n",
       "        vertical-align: middle;\n",
       "    }\n",
       "\n",
       "    .dataframe tbody tr th {\n",
       "        vertical-align: top;\n",
       "    }\n",
       "\n",
       "    .dataframe thead th {\n",
       "        text-align: right;\n",
       "    }\n",
       "</style>\n",
       "<table border=\"1\" class=\"dataframe\">\n",
       "  <thead>\n",
       "    <tr style=\"text-align: right;\">\n",
       "      <th></th>\n",
       "      <th>Total</th>\n",
       "      <th>Percent</th>\n",
       "    </tr>\n",
       "  </thead>\n",
       "  <tbody>\n",
       "    <tr>\n",
       "      <th>instagram_follower</th>\n",
       "      <td>954544</td>\n",
       "      <td>0.999101</td>\n",
       "    </tr>\n",
       "    <tr>\n",
       "      <th>twitter_follower</th>\n",
       "      <td>461856</td>\n",
       "      <td>0.483415</td>\n",
       "    </tr>\n",
       "    <tr>\n",
       "      <th>twitter</th>\n",
       "      <td>452792</td>\n",
       "      <td>0.473928</td>\n",
       "    </tr>\n",
       "    <tr>\n",
       "      <th>preview_path</th>\n",
       "      <td>289975</td>\n",
       "      <td>0.303511</td>\n",
       "    </tr>\n",
       "    <tr>\n",
       "      <th>img_path</th>\n",
       "      <td>240316</td>\n",
       "      <td>0.251534</td>\n",
       "    </tr>\n",
       "    <tr>\n",
       "      <th>price_crypto</th>\n",
       "      <td>29226</td>\n",
       "      <td>0.030590</td>\n",
       "    </tr>\n",
       "    <tr>\n",
       "      <th>contract_scheme</th>\n",
       "      <td>28574</td>\n",
       "      <td>0.029908</td>\n",
       "    </tr>\n",
       "    <tr>\n",
       "      <th>creator</th>\n",
       "      <td>0</td>\n",
       "      <td>0.000000</td>\n",
       "    </tr>\n",
       "    <tr>\n",
       "      <th>unique_asset</th>\n",
       "      <td>0</td>\n",
       "      <td>0.000000</td>\n",
       "    </tr>\n",
       "    <tr>\n",
       "      <th>collection_created_year</th>\n",
       "      <td>0</td>\n",
       "      <td>0.000000</td>\n",
       "    </tr>\n",
       "    <tr>\n",
       "      <th>sale_time</th>\n",
       "      <td>0</td>\n",
       "      <td>0.000000</td>\n",
       "    </tr>\n",
       "    <tr>\n",
       "      <th>id</th>\n",
       "      <td>0</td>\n",
       "      <td>0.000000</td>\n",
       "    </tr>\n",
       "    <tr>\n",
       "      <th>instagram</th>\n",
       "      <td>0</td>\n",
       "      <td>0.000000</td>\n",
       "    </tr>\n",
       "    <tr>\n",
       "      <th>sale_token</th>\n",
       "      <td>0</td>\n",
       "      <td>0.000000</td>\n",
       "    </tr>\n",
       "    <tr>\n",
       "      <th>collection_description</th>\n",
       "      <td>0</td>\n",
       "      <td>0.000000</td>\n",
       "    </tr>\n",
       "    <tr>\n",
       "      <th>collection_name</th>\n",
       "      <td>0</td>\n",
       "      <td>0.000000</td>\n",
       "    </tr>\n",
       "    <tr>\n",
       "      <th>name</th>\n",
       "      <td>0</td>\n",
       "      <td>0.000000</td>\n",
       "    </tr>\n",
       "    <tr>\n",
       "      <th>is_animation</th>\n",
       "      <td>0</td>\n",
       "      <td>0.000000</td>\n",
       "    </tr>\n",
       "    <tr>\n",
       "      <th>description</th>\n",
       "      <td>0</td>\n",
       "      <td>0.000000</td>\n",
       "    </tr>\n",
       "    <tr>\n",
       "      <th>sale_usd</th>\n",
       "      <td>0</td>\n",
       "      <td>0.000000</td>\n",
       "    </tr>\n",
       "    <tr>\n",
       "      <th>instagram_account</th>\n",
       "      <td>0</td>\n",
       "      <td>0.000000</td>\n",
       "    </tr>\n",
       "  </tbody>\n",
       "</table>\n",
       "</div>"
      ],
      "text/plain": [
       "                          Total   Percent\n",
       "instagram_follower       954544  0.999101\n",
       "twitter_follower         461856  0.483415\n",
       "twitter                  452792  0.473928\n",
       "preview_path             289975  0.303511\n",
       "img_path                 240316  0.251534\n",
       "price_crypto              29226  0.030590\n",
       "contract_scheme           28574  0.029908\n",
       "creator                       0  0.000000\n",
       "unique_asset                  0  0.000000\n",
       "collection_created_year       0  0.000000\n",
       "sale_time                     0  0.000000\n",
       "id                            0  0.000000\n",
       "instagram                     0  0.000000\n",
       "sale_token                    0  0.000000\n",
       "collection_description        0  0.000000\n",
       "collection_name               0  0.000000\n",
       "name                          0  0.000000\n",
       "is_animation                  0  0.000000\n",
       "description                   0  0.000000\n",
       "sale_usd                      0  0.000000\n",
       "instagram_account             0  0.000000"
      ]
     },
     "execution_count": 62,
     "metadata": {},
     "output_type": "execute_result"
    }
   ],
   "source": [
    "total = elastic_df.isnull().sum().sort_values(ascending=False)\n",
    "percent = (elastic_df.isnull().sum()/elastic_df.isnull().count()).sort_values(ascending=False)\n",
    "missing_data = pandas.concat([total, percent], axis=1, keys=['Total', 'Percent'])\n",
    "missing_data"
   ]
  },
  {
   "cell_type": "code",
   "execution_count": 63,
   "metadata": {},
   "outputs": [],
   "source": [
    "#account? yes - 1, no -0\n",
    "def twitterAcc(row):\n",
    "    twitt = row['twitter']\n",
    "    if isinstance(twitt, str) and len(twitt) > 0:\n",
    "        return 1\n",
    "    else:\n",
    "        return 0\n",
    "        \n",
    "elastic_df['twitter_account'] = elastic_df.apply(lambda row : twitterAcc(row), axis = 1)"
   ]
  },
  {
   "cell_type": "code",
   "execution_count": 64,
   "metadata": {},
   "outputs": [
    {
     "data": {
      "text/plain": [
       "1    502611\n",
       "0    452792\n",
       "Name: twitter_account, dtype: int64"
      ]
     },
     "execution_count": 64,
     "metadata": {},
     "output_type": "execute_result"
    }
   ],
   "source": [
    "elastic_df['twitter_account'].value_counts()"
   ]
  },
  {
   "cell_type": "code",
   "execution_count": 65,
   "metadata": {},
   "outputs": [],
   "source": [
    "elastic_df['twitter_follower'] = elastic_df['twitter_follower'].fillna(0)"
   ]
  },
  {
   "cell_type": "code",
   "execution_count": 66,
   "metadata": {},
   "outputs": [],
   "source": [
    "elastic_df['twitter'].fillna(\"\", inplace = True)"
   ]
  },
  {
   "cell_type": "code",
   "execution_count": 67,
   "metadata": {},
   "outputs": [
    {
     "data": {
      "text/html": [
       "<div>\n",
       "<style scoped>\n",
       "    .dataframe tbody tr th:only-of-type {\n",
       "        vertical-align: middle;\n",
       "    }\n",
       "\n",
       "    .dataframe tbody tr th {\n",
       "        vertical-align: top;\n",
       "    }\n",
       "\n",
       "    .dataframe thead th {\n",
       "        text-align: right;\n",
       "    }\n",
       "</style>\n",
       "<table border=\"1\" class=\"dataframe\">\n",
       "  <thead>\n",
       "    <tr style=\"text-align: right;\">\n",
       "      <th></th>\n",
       "      <th>Total</th>\n",
       "      <th>Percent</th>\n",
       "    </tr>\n",
       "  </thead>\n",
       "  <tbody>\n",
       "    <tr>\n",
       "      <th>instagram_follower</th>\n",
       "      <td>954544</td>\n",
       "      <td>0.999101</td>\n",
       "    </tr>\n",
       "    <tr>\n",
       "      <th>preview_path</th>\n",
       "      <td>289975</td>\n",
       "      <td>0.303511</td>\n",
       "    </tr>\n",
       "    <tr>\n",
       "      <th>img_path</th>\n",
       "      <td>240316</td>\n",
       "      <td>0.251534</td>\n",
       "    </tr>\n",
       "    <tr>\n",
       "      <th>price_crypto</th>\n",
       "      <td>29226</td>\n",
       "      <td>0.030590</td>\n",
       "    </tr>\n",
       "    <tr>\n",
       "      <th>contract_scheme</th>\n",
       "      <td>28574</td>\n",
       "      <td>0.029908</td>\n",
       "    </tr>\n",
       "    <tr>\n",
       "      <th>creator</th>\n",
       "      <td>0</td>\n",
       "      <td>0.000000</td>\n",
       "    </tr>\n",
       "    <tr>\n",
       "      <th>twitter</th>\n",
       "      <td>0</td>\n",
       "      <td>0.000000</td>\n",
       "    </tr>\n",
       "    <tr>\n",
       "      <th>instagram_account</th>\n",
       "      <td>0</td>\n",
       "      <td>0.000000</td>\n",
       "    </tr>\n",
       "    <tr>\n",
       "      <th>unique_asset</th>\n",
       "      <td>0</td>\n",
       "      <td>0.000000</td>\n",
       "    </tr>\n",
       "    <tr>\n",
       "      <th>collection_created_year</th>\n",
       "      <td>0</td>\n",
       "      <td>0.000000</td>\n",
       "    </tr>\n",
       "    <tr>\n",
       "      <th>sale_time</th>\n",
       "      <td>0</td>\n",
       "      <td>0.000000</td>\n",
       "    </tr>\n",
       "    <tr>\n",
       "      <th>twitter_follower</th>\n",
       "      <td>0</td>\n",
       "      <td>0.000000</td>\n",
       "    </tr>\n",
       "    <tr>\n",
       "      <th>instagram</th>\n",
       "      <td>0</td>\n",
       "      <td>0.000000</td>\n",
       "    </tr>\n",
       "    <tr>\n",
       "      <th>id</th>\n",
       "      <td>0</td>\n",
       "      <td>0.000000</td>\n",
       "    </tr>\n",
       "    <tr>\n",
       "      <th>sale_token</th>\n",
       "      <td>0</td>\n",
       "      <td>0.000000</td>\n",
       "    </tr>\n",
       "    <tr>\n",
       "      <th>collection_description</th>\n",
       "      <td>0</td>\n",
       "      <td>0.000000</td>\n",
       "    </tr>\n",
       "    <tr>\n",
       "      <th>collection_name</th>\n",
       "      <td>0</td>\n",
       "      <td>0.000000</td>\n",
       "    </tr>\n",
       "    <tr>\n",
       "      <th>name</th>\n",
       "      <td>0</td>\n",
       "      <td>0.000000</td>\n",
       "    </tr>\n",
       "    <tr>\n",
       "      <th>is_animation</th>\n",
       "      <td>0</td>\n",
       "      <td>0.000000</td>\n",
       "    </tr>\n",
       "    <tr>\n",
       "      <th>description</th>\n",
       "      <td>0</td>\n",
       "      <td>0.000000</td>\n",
       "    </tr>\n",
       "    <tr>\n",
       "      <th>sale_usd</th>\n",
       "      <td>0</td>\n",
       "      <td>0.000000</td>\n",
       "    </tr>\n",
       "    <tr>\n",
       "      <th>twitter_account</th>\n",
       "      <td>0</td>\n",
       "      <td>0.000000</td>\n",
       "    </tr>\n",
       "  </tbody>\n",
       "</table>\n",
       "</div>"
      ],
      "text/plain": [
       "                          Total   Percent\n",
       "instagram_follower       954544  0.999101\n",
       "preview_path             289975  0.303511\n",
       "img_path                 240316  0.251534\n",
       "price_crypto              29226  0.030590\n",
       "contract_scheme           28574  0.029908\n",
       "creator                       0  0.000000\n",
       "twitter                       0  0.000000\n",
       "instagram_account             0  0.000000\n",
       "unique_asset                  0  0.000000\n",
       "collection_created_year       0  0.000000\n",
       "sale_time                     0  0.000000\n",
       "twitter_follower              0  0.000000\n",
       "instagram                     0  0.000000\n",
       "id                            0  0.000000\n",
       "sale_token                    0  0.000000\n",
       "collection_description        0  0.000000\n",
       "collection_name               0  0.000000\n",
       "name                          0  0.000000\n",
       "is_animation                  0  0.000000\n",
       "description                   0  0.000000\n",
       "sale_usd                      0  0.000000\n",
       "twitter_account               0  0.000000"
      ]
     },
     "execution_count": 67,
     "metadata": {},
     "output_type": "execute_result"
    }
   ],
   "source": [
    "total = elastic_df.isnull().sum().sort_values(ascending=False)\n",
    "percent = (elastic_df.isnull().sum()/elastic_df.isnull().count()).sort_values(ascending=False)\n",
    "missing_data = pandas.concat([total, percent], axis=1, keys=['Total', 'Percent'])\n",
    "missing_data"
   ]
  },
  {
   "cell_type": "markdown",
   "metadata": {},
   "source": [
    "Take a look one more time at textual data"
   ]
  },
  {
   "cell_type": "code",
   "execution_count": 69,
   "metadata": {},
   "outputs": [
    {
     "data": {
      "text/plain": [
       "'https://cdn.syndication.twimg.com/widgets/followbutton/info.json?screen_names=BoredApeYC'"
      ]
     },
     "execution_count": 69,
     "metadata": {},
     "output_type": "execute_result"
    }
   ],
   "source": [
    "elastic_df['twitter'][288]"
   ]
  },
  {
   "cell_type": "code",
   "execution_count": 70,
   "metadata": {},
   "outputs": [],
   "source": [
    "elastic_df['twitter'] = elastic_df['twitter'].apply(lambda url: url.replace('https://cdn.syndication.twimg.com/widgets/followbutton/info.json?screen_names=',''))"
   ]
  },
  {
   "cell_type": "code",
   "execution_count": 71,
   "metadata": {},
   "outputs": [
    {
     "data": {
      "text/plain": [
       "0                         \n",
       "1          freedomwoofpack\n",
       "2                         \n",
       "3                         \n",
       "4             cryptorastas\n",
       "                ...       \n",
       "1075468    thetigercubclub\n",
       "1075469                   \n",
       "1075470                   \n",
       "1075471                   \n",
       "1075472                   \n",
       "Name: instagram, Length: 955403, dtype: object"
      ]
     },
     "execution_count": 71,
     "metadata": {},
     "output_type": "execute_result"
    }
   ],
   "source": [
    "elastic_df['instagram']"
   ]
  },
  {
   "cell_type": "code",
   "execution_count": 72,
   "metadata": {},
   "outputs": [
    {
     "data": {
      "text/plain": [
       "0          0xb40197806a07b3b2dbb4b43d255ef32c328d44ab\n",
       "1                                         WoofpackNFT\n",
       "2                                   PudgyPenguinsKing\n",
       "3          0x4fe4e666be5752f1fdd210f4ab5de2cc26e3e0e8\n",
       "4                                   CryptoRastas_Team\n",
       "                              ...                    \n",
       "1075468    0x221aaec36b78a57081be5541796b544803eb8627\n",
       "1075469                                     PixelDood\n",
       "1075470                                 mihaylova_jpg\n",
       "1075471    0x6681ee66db195a2d2dc7e360fd29a933db785c22\n",
       "1075472    0x62610ed68fd71cf2935b0c49c96299bd6525badc\n",
       "Name: creator, Length: 955403, dtype: object"
      ]
     },
     "execution_count": 72,
     "metadata": {},
     "output_type": "execute_result"
    }
   ],
   "source": [
    "elastic_df['creator']"
   ]
  },
  {
   "cell_type": "code",
   "execution_count": 73,
   "metadata": {},
   "outputs": [
    {
     "data": {
      "text/plain": [
       "0                    Rug Radio Membership Pass\n",
       "1                               Woofpack #1398\n",
       "2                              Lil Pudgy #2168\n",
       "3                           raisingcapital.eth\n",
       "4                           Cryptorasta #04798\n",
       "                          ...                 \n",
       "1075468                         Tiger Cub #514\n",
       "1075469                        Pixel Dood #224\n",
       "1075470    Nude is the most beautiful art form\n",
       "1075471                          Habibiz #1374\n",
       "1075472                       Super Yeti #3471\n",
       "Name: name, Length: 955403, dtype: object"
      ]
     },
     "execution_count": 73,
     "metadata": {},
     "output_type": "execute_result"
    }
   ],
   "source": [
    "elastic_df['name']"
   ]
  },
  {
   "cell_type": "code",
   "execution_count": 74,
   "metadata": {},
   "outputs": [
    {
     "data": {
      "text/plain": [
       "0                    rug-radio-membership-pass\n",
       "1                                  woofpacknft\n",
       "2                                    lilpudgys\n",
       "3                                          ens\n",
       "4                      cryptorastas-collection\n",
       "                          ...                 \n",
       "1075468                        thetigercubclub\n",
       "1075469                            pixel-doods\n",
       "1075470    nude-is-the-most-beautiful-art-form\n",
       "1075471                             thehabibiz\n",
       "1075472                              superyeti\n",
       "Name: collection_name, Length: 955403, dtype: object"
      ]
     },
     "execution_count": 74,
     "metadata": {},
     "output_type": "execute_result"
    }
   ],
   "source": [
    "elastic_df['collection_name']"
   ]
  },
  {
   "cell_type": "code",
   "execution_count": 75,
   "metadata": {},
   "outputs": [
    {
     "data": {
      "text/plain": [
       "0          A Rug Radio Membership Pass is step one in get...\n",
       "1          WoofPack is a generative NFT collection of 7,7...\n",
       "2          Lil Pudgys are a collection of 22,222 randomly...\n",
       "3                           raisingcapital.eth, an ENS name.\n",
       "4          Cryptorasta #04798 - Shannon Stone is a doctor...\n",
       "                                 ...                        \n",
       "1075468    Tiger Cub Club is a collection of 6600 unique ...\n",
       "1075469    Pixel Doods is a 8,888 digitally-drawn NFT col...\n",
       "1075470    Nude is the most beautiful art form. The femal...\n",
       "1075471    The Habibiz is a collection of 4900 randomly g...\n",
       "1075472    SuperYeti is a 3D collection of randomized cha...\n",
       "Name: description, Length: 955403, dtype: object"
      ]
     },
     "execution_count": 75,
     "metadata": {},
     "output_type": "execute_result"
    }
   ],
   "source": [
    "elastic_df['description']"
   ]
  },
  {
   "cell_type": "markdown",
   "metadata": {},
   "source": [
    "Tokanization of columns that I want to stay as a unique entitu, like the name of the creator, twitter name. etc."
   ]
  },
  {
   "cell_type": "code",
   "execution_count": 76,
   "metadata": {},
   "outputs": [],
   "source": [
    "from keras.preprocessing.text import Tokenizer\n",
    "from keras.preprocessing.sequence import pad_sequences\n",
    "from sklearn.model_selection import train_test_split"
   ]
  },
  {
   "cell_type": "code",
   "execution_count": 78,
   "metadata": {},
   "outputs": [],
   "source": [
    "#NUM_WORDS = 10000\n",
    "#Name of an NFT Tokenize\n",
    "tokenizer_name = Tokenizer(oov_token=1, split='\\n\\n\\n\\n') #never split = every creator's name is it's own token\n",
    "\n",
    "def tokenize_simple_column(column, tokenizer, fit):\n",
    "    if (fit):\n",
    "        tokenizer.fit_on_texts(column)\n",
    "    seq = tokenizer.texts_to_sequences(column)\n",
    "    return list(map(lambda arr: arr[0] if len(arr) == 1 else 0, seq))#only return a single number"
   ]
  },
  {
   "cell_type": "code",
   "execution_count": 79,
   "metadata": {},
   "outputs": [],
   "source": [
    "elastic_df['name_tok'] = tokenize_simple_column(elastic_df['name'], tokenizer_name, True)"
   ]
  },
  {
   "cell_type": "code",
   "execution_count": 81,
   "metadata": {},
   "outputs": [],
   "source": [
    "#Creator Tokenizer\n",
    "tokenizer_creator = Tokenizer(oov_token=1, split='\\n\\n\\n\\n')  \n",
    "elastic_df['creator_tok'] = tokenize_simple_column(elastic_df['creator'], tokenizer_creator, True)"
   ]
  },
  {
   "cell_type": "code",
   "execution_count": 82,
   "metadata": {},
   "outputs": [],
   "source": [
    "#Name of the collection\n",
    "tokenizer_slug = Tokenizer(oov_token=1, split='\\n\\n\\n\\n')\n",
    "elastic_df['collection_name_tok'] = tokenize_simple_column(elastic_df['collection_name'], tokenizer_slug, True)"
   ]
  },
  {
   "cell_type": "code",
   "execution_count": 83,
   "metadata": {},
   "outputs": [],
   "source": [
    "#Instagram name\n",
    "tokenizer_instagram = Tokenizer(oov_token=1, split='\\n\\n\\n\\n')\n",
    "elastic_df['instagram_tok'] = tokenize_simple_column(elastic_df['instagram'], tokenizer_instagram, True)"
   ]
  },
  {
   "cell_type": "code",
   "execution_count": 84,
   "metadata": {},
   "outputs": [],
   "source": [
    "#Twitter name\n",
    "tokenizer_twitter = Tokenizer(oov_token=1, split='\\n\\n\\n\\n')\n",
    "elastic_df['twitter_tok'] = tokenize_simple_column(elastic_df['twitter'], tokenizer_twitter, True)"
   ]
  },
  {
   "cell_type": "code",
   "execution_count": 85,
   "metadata": {},
   "outputs": [
    {
     "name": "stdout",
     "output_type": "stream",
     "text": [
      "0        219622\n",
      "8          8777\n",
      "10         7551\n",
      "11         7452\n",
      "12         7007\n",
      "          ...  \n",
      "12069         1\n",
      "12068         1\n",
      "12067         1\n",
      "12066         1\n",
      "15654         1\n",
      "Name: creator_tok, Length: 12504, dtype: int64\n"
     ]
    }
   ],
   "source": [
    "print(elastic_df['creator_tok'].value_counts())"
   ]
  },
  {
   "cell_type": "markdown",
   "metadata": {},
   "source": [
    "## Text columns preparation"
   ]
  },
  {
   "cell_type": "code",
   "execution_count": 86,
   "metadata": {},
   "outputs": [
    {
     "data": {
      "text/plain": [
       "10    What happens when you bring together two compl...\n",
       "11                                                     \n",
       "12    THE METAVERSE PASS GRANTS HOLDERS ACCESS TO AL...\n",
       "13                     Autonomous Nuggets In Mechs, Ok?\n",
       "14    5555 Lazy Bunnies who lost their homes to a wi...\n",
       "15    Solarbots is an interactive social Metaverse a...\n",
       "16    The first ever Digital Fine Art Collection by ...\n",
       "17                     Autonomous Nuggets In Mechs, Ok?\n",
       "19    THE GENESIS PFP NFT GRANTS HOLDERS THE HIGHEST...\n",
       "20                       Merge is a game of extinction.\n",
       "21    The Superlative Apes is a collection of 4,444 ...\n",
       "22    THE IRL PSYCHEDELICS ANONYMOUS PASS GRANTS HOL...\n",
       "23    COMPONENT #1 IS ONE OF THE FIRST COMPONENTS RE...\n",
       "25    Solarbots is an interactive social Metaverse a...\n",
       "26    Inspired by the award winning television serie...\n",
       "27    THE GENESIS PFP NFT GRANTS HOLDERS THE HIGHEST...\n",
       "28    Uncool Cats is a collection of 6969 cats livin...\n",
       "29    Bored Ape Comic #2 is coming soon.  Issues con...\n",
       "30    Solarbots is an interactive social Metaverse a...\n",
       "31    Genesis Fat Catz on the Ethereum blockchain.\\n...\n",
       "33                                                     \n",
       "34    Winter Bears is a collection of 10,000 adorabl...\n",
       "35    Blockchain Miners NFTs are hand-drawn, rare, a...\n",
       "36    The Heart Project is a community-run creative ...\n",
       "38    Solarbots is an interactive social Metaverse a...\n",
       "39                                                     \n",
       "40    The MUTANT APE YACHT CLUB is a collection of u...\n",
       "41    Pudgy Pixel Penguins is an NFT representation ...\n",
       "45    Digital Animals is a procedurally generative a...\n",
       "46                       Merge is a game of extinction.\n",
       "Name: collection_description, dtype: object"
      ]
     },
     "execution_count": 86,
     "metadata": {},
     "output_type": "execute_result"
    }
   ],
   "source": [
    "elastic_df['collection_description'][10:40]"
   ]
  },
  {
   "cell_type": "code",
   "execution_count": 87,
   "metadata": {},
   "outputs": [],
   "source": [
    "#remove everything except characters and white spaces.\n",
    "def clean_text(text):\n",
    "    # matches: www.gg-io.lkl?q=tz#jjk + opensea.io/collection/ape123 + medium.com/cryptopoop + sub.domain.org\n",
    "    clean_link = re.compile(r'(^|\\s)(https?:\\/\\/)?(www\\.)?[\\w\\-\\.]+\\.(com|io|eth|org|gg|de)(\\/[\\w\\.\\-\\/#\\?\\=]*)?(\\s|$)')\n",
    "    clean_files = re.compile('[\\w-]*\\.(png|jpg|tif|obj|svg|gif|js|jpeg)')\n",
    "    clean = re.compile('[^a-zA-Z \\.,\\?!:]+')\n",
    "    clean_missingspace = re.compile('(\\w)\\.(\\w)')\n",
    "    clean_doublespace = re.compile('\\s\\s+')\n",
    "    clean_puncts = re.compile('\\.\\.+')\n",
    "    clean_text = re.sub(clean_link, ' ', text)\n",
    "    clean_text = re.sub(clean_files, '', clean_text)\n",
    "    clean_text = re.sub(clean, ' ', clean_text)\n",
    "    clean_text = re.sub(clean_missingspace, '\\\\1. \\\\2', clean_text)\n",
    "    clean_text = re.sub(clean_puncts, '.', clean_text)\n",
    "    clean_text = re.sub(clean_missingspace, '\\\\1. \\\\2', clean_text)\n",
    "    clean_text = re.sub(clean_doublespace, ' ', clean_text)\n",
    "\n",
    "    return clean_text"
   ]
  },
  {
   "cell_type": "code",
   "execution_count": 104,
   "metadata": {},
   "outputs": [
    {
     "data": {
      "text/plain": [
       "'more. Primate. Social. Society : ?!'"
      ]
     },
     "execution_count": 104,
     "metadata": {},
     "output_type": "execute_result"
    }
   ],
   "source": [
    "clean_text('more... Primate.Social.Society .png: #8390?!')"
   ]
  },
  {
   "cell_type": "code",
   "execution_count": 109,
   "metadata": {},
   "outputs": [
    {
     "data": {
      "text/plain": [
       "' dr. Brot. a. i. rulers. the'"
      ]
     },
     "execution_count": 109,
     "metadata": {},
     "output_type": "execute_result"
    }
   ],
   "source": [
    "clean_text(' dr. Brot. a.i. rulers.......the')"
   ]
  },
  {
   "cell_type": "code",
   "execution_count": 88,
   "metadata": {},
   "outputs": [],
   "source": [
    "elastic_df['collection_description'] = elastic_df['collection_description'].apply(lambda text: clean_text(text))\n",
    "elastic_df['description'] = elastic_df['description'].apply(lambda text: clean_text(text))"
   ]
  },
  {
   "cell_type": "code",
   "execution_count": 89,
   "metadata": {},
   "outputs": [],
   "source": [
    "elastic_df['word_count_coll_desc'] = elastic_df[\"collection_description\"].apply(lambda x: len(str(x).split(\" \")))"
   ]
  },
  {
   "cell_type": "code",
   "execution_count": 90,
   "metadata": {},
   "outputs": [
    {
     "name": "stderr",
     "output_type": "stream",
     "text": [
      "C:\\Users\\bb1\\miniconda3\\envs\\deep\\lib\\site-packages\\seaborn\\distributions.py:2557: FutureWarning: `distplot` is a deprecated function and will be removed in a future version. Please adapt your code to use either `displot` (a figure-level function with similar flexibility) or `histplot` (an axes-level function for histograms).\n",
      "  warnings.warn(msg, FutureWarning)\n"
     ]
    },
    {
     "data": {
      "text/plain": [
       "<AxesSubplot:xlabel='word_count_coll_desc'>"
      ]
     },
     "execution_count": 90,
     "metadata": {},
     "output_type": "execute_result"
    },
    {
     "data": {
      "image/png": "[encoded data removed]",
      "text/plain": [
       "<Figure size 432x288 with 1 Axes>"
      ]
     },
     "metadata": {
      "needs_background": "light"
     },
     "output_type": "display_data"
    }
   ],
   "source": [
    "sns.distplot(elastic_df['word_count_coll_desc'], hist=True, kde=False, color = '#ec95ac',\n",
    "             hist_kws={'edgecolor':'black'})"
   ]
  },
  {
   "cell_type": "code",
   "execution_count": 91,
   "metadata": {},
   "outputs": [],
   "source": [
    "elastic_df['word_count_descr'] = elastic_df[\"description\"].apply(lambda x: len(str(x).split(\" \")))"
   ]
  },
  {
   "cell_type": "code",
   "execution_count": 92,
   "metadata": {},
   "outputs": [
    {
     "data": {
      "text/plain": [
       "<AxesSubplot:xlabel='word_count_descr'>"
      ]
     },
     "execution_count": 92,
     "metadata": {},
     "output_type": "execute_result"
    },
    {
     "data": {
      "image/png": "[encoded data removed]",
      "text/plain": [
       "<Figure size 432x288 with 1 Axes>"
      ]
     },
     "metadata": {
      "needs_background": "light"
     },
     "output_type": "display_data"
    }
   ],
   "source": [
    "sns.distplot(elastic_df['word_count_descr'], hist=True, kde=False, color = '#ec95ac',\n",
    "             hist_kws={'edgecolor':'black'})"
   ]
  },
  {
   "cell_type": "code",
   "execution_count": 93,
   "metadata": {},
   "outputs": [
    {
     "data": {
      "text/html": [
       "<div>\n",
       "<style scoped>\n",
       "    .dataframe tbody tr th:only-of-type {\n",
       "        vertical-align: middle;\n",
       "    }\n",
       "\n",
       "    .dataframe tbody tr th {\n",
       "        vertical-align: top;\n",
       "    }\n",
       "\n",
       "    .dataframe thead th {\n",
       "        text-align: right;\n",
       "    }\n",
       "</style>\n",
       "<table border=\"1\" class=\"dataframe\">\n",
       "  <thead>\n",
       "    <tr style=\"text-align: right;\">\n",
       "      <th></th>\n",
       "      <th>Total</th>\n",
       "      <th>Percent</th>\n",
       "    </tr>\n",
       "  </thead>\n",
       "  <tbody>\n",
       "    <tr>\n",
       "      <th>instagram_follower</th>\n",
       "      <td>954544</td>\n",
       "      <td>0.999101</td>\n",
       "    </tr>\n",
       "    <tr>\n",
       "      <th>preview_path</th>\n",
       "      <td>289975</td>\n",
       "      <td>0.303511</td>\n",
       "    </tr>\n",
       "    <tr>\n",
       "      <th>img_path</th>\n",
       "      <td>240316</td>\n",
       "      <td>0.251534</td>\n",
       "    </tr>\n",
       "    <tr>\n",
       "      <th>price_crypto</th>\n",
       "      <td>29226</td>\n",
       "      <td>0.030590</td>\n",
       "    </tr>\n",
       "    <tr>\n",
       "      <th>contract_scheme</th>\n",
       "      <td>28574</td>\n",
       "      <td>0.029908</td>\n",
       "    </tr>\n",
       "    <tr>\n",
       "      <th>collection_name_tok</th>\n",
       "      <td>0</td>\n",
       "      <td>0.000000</td>\n",
       "    </tr>\n",
       "    <tr>\n",
       "      <th>creator_tok</th>\n",
       "      <td>0</td>\n",
       "      <td>0.000000</td>\n",
       "    </tr>\n",
       "    <tr>\n",
       "      <th>name_tok</th>\n",
       "      <td>0</td>\n",
       "      <td>0.000000</td>\n",
       "    </tr>\n",
       "    <tr>\n",
       "      <th>sale_time</th>\n",
       "      <td>0</td>\n",
       "      <td>0.000000</td>\n",
       "    </tr>\n",
       "    <tr>\n",
       "      <th>twitter_account</th>\n",
       "      <td>0</td>\n",
       "      <td>0.000000</td>\n",
       "    </tr>\n",
       "    <tr>\n",
       "      <th>instagram_account</th>\n",
       "      <td>0</td>\n",
       "      <td>0.000000</td>\n",
       "    </tr>\n",
       "    <tr>\n",
       "      <th>unique_asset</th>\n",
       "      <td>0</td>\n",
       "      <td>0.000000</td>\n",
       "    </tr>\n",
       "    <tr>\n",
       "      <th>collection_created_year</th>\n",
       "      <td>0</td>\n",
       "      <td>0.000000</td>\n",
       "    </tr>\n",
       "    <tr>\n",
       "      <th>instagram_tok</th>\n",
       "      <td>0</td>\n",
       "      <td>0.000000</td>\n",
       "    </tr>\n",
       "    <tr>\n",
       "      <th>twitter_tok</th>\n",
       "      <td>0</td>\n",
       "      <td>0.000000</td>\n",
       "    </tr>\n",
       "    <tr>\n",
       "      <th>word_count_coll_desc</th>\n",
       "      <td>0</td>\n",
       "      <td>0.000000</td>\n",
       "    </tr>\n",
       "    <tr>\n",
       "      <th>creator</th>\n",
       "      <td>0</td>\n",
       "      <td>0.000000</td>\n",
       "    </tr>\n",
       "    <tr>\n",
       "      <th>twitter_follower</th>\n",
       "      <td>0</td>\n",
       "      <td>0.000000</td>\n",
       "    </tr>\n",
       "    <tr>\n",
       "      <th>twitter</th>\n",
       "      <td>0</td>\n",
       "      <td>0.000000</td>\n",
       "    </tr>\n",
       "    <tr>\n",
       "      <th>instagram</th>\n",
       "      <td>0</td>\n",
       "      <td>0.000000</td>\n",
       "    </tr>\n",
       "    <tr>\n",
       "      <th>id</th>\n",
       "      <td>0</td>\n",
       "      <td>0.000000</td>\n",
       "    </tr>\n",
       "    <tr>\n",
       "      <th>sale_token</th>\n",
       "      <td>0</td>\n",
       "      <td>0.000000</td>\n",
       "    </tr>\n",
       "    <tr>\n",
       "      <th>collection_description</th>\n",
       "      <td>0</td>\n",
       "      <td>0.000000</td>\n",
       "    </tr>\n",
       "    <tr>\n",
       "      <th>collection_name</th>\n",
       "      <td>0</td>\n",
       "      <td>0.000000</td>\n",
       "    </tr>\n",
       "    <tr>\n",
       "      <th>name</th>\n",
       "      <td>0</td>\n",
       "      <td>0.000000</td>\n",
       "    </tr>\n",
       "    <tr>\n",
       "      <th>is_animation</th>\n",
       "      <td>0</td>\n",
       "      <td>0.000000</td>\n",
       "    </tr>\n",
       "    <tr>\n",
       "      <th>description</th>\n",
       "      <td>0</td>\n",
       "      <td>0.000000</td>\n",
       "    </tr>\n",
       "    <tr>\n",
       "      <th>sale_usd</th>\n",
       "      <td>0</td>\n",
       "      <td>0.000000</td>\n",
       "    </tr>\n",
       "    <tr>\n",
       "      <th>word_count_descr</th>\n",
       "      <td>0</td>\n",
       "      <td>0.000000</td>\n",
       "    </tr>\n",
       "  </tbody>\n",
       "</table>\n",
       "</div>"
      ],
      "text/plain": [
       "                          Total   Percent\n",
       "instagram_follower       954544  0.999101\n",
       "preview_path             289975  0.303511\n",
       "img_path                 240316  0.251534\n",
       "price_crypto              29226  0.030590\n",
       "contract_scheme           28574  0.029908\n",
       "collection_name_tok           0  0.000000\n",
       "creator_tok                   0  0.000000\n",
       "name_tok                      0  0.000000\n",
       "sale_time                     0  0.000000\n",
       "twitter_account               0  0.000000\n",
       "instagram_account             0  0.000000\n",
       "unique_asset                  0  0.000000\n",
       "collection_created_year       0  0.000000\n",
       "instagram_tok                 0  0.000000\n",
       "twitter_tok                   0  0.000000\n",
       "word_count_coll_desc          0  0.000000\n",
       "creator                       0  0.000000\n",
       "twitter_follower              0  0.000000\n",
       "twitter                       0  0.000000\n",
       "instagram                     0  0.000000\n",
       "id                            0  0.000000\n",
       "sale_token                    0  0.000000\n",
       "collection_description        0  0.000000\n",
       "collection_name               0  0.000000\n",
       "name                          0  0.000000\n",
       "is_animation                  0  0.000000\n",
       "description                   0  0.000000\n",
       "sale_usd                      0  0.000000\n",
       "word_count_descr              0  0.000000"
      ]
     },
     "execution_count": 93,
     "metadata": {},
     "output_type": "execute_result"
    }
   ],
   "source": [
    "total = elastic_df.isnull().sum().sort_values(ascending=False)\n",
    "percent = (elastic_df.isnull().sum()/elastic_df.isnull().count()).sort_values(ascending=False)\n",
    "missing_data = pandas.concat([total, percent], axis=1, keys=['Total', 'Percent'])\n",
    "missing_data"
   ]
  },
  {
   "cell_type": "code",
   "execution_count": 94,
   "metadata": {},
   "outputs": [
    {
     "data": {
      "text/plain": [
       "6195956.0"
      ]
     },
     "execution_count": 94,
     "metadata": {},
     "output_type": "execute_result"
    }
   ],
   "source": [
    "max(elastic_df['sale_usd'])"
   ]
  },
  {
   "cell_type": "markdown",
   "metadata": {},
   "source": [
    "## Lemmatisation (NLTK)"
   ]
  },
  {
   "cell_type": "code",
   "execution_count": 100,
   "metadata": {},
   "outputs": [],
   "source": [
    "#import nltk\n",
    "#from nltk.tokenize import word_tokenize\n",
    "#from nltk.corpus import stopwords\n",
    "#from nltk.stem import WordNetLemmatizer\n",
    "#from nltk.corpus import wordnet\n",
    "#from nltk import word_tokenize\n",
    "#from nltk import sent_tokenize\n",
    "#from nltk import pos_tag"
   ]
  },
  {
   "cell_type": "code",
   "execution_count": 102,
   "metadata": {},
   "outputs": [
    {
     "name": "stderr",
     "output_type": "stream",
     "text": [
      "[nltk_data] Downloading package averaged_perceptron_tagger to\n",
      "[nltk_data]     C:\\Users\\bb1\\AppData\\Roaming\\nltk_data...\n",
      "[nltk_data]   Package averaged_perceptron_tagger is already up-to-\n",
      "[nltk_data]       date!\n"
     ]
    },
    {
     "data": {
      "text/plain": [
       "True"
      ]
     },
     "execution_count": 102,
     "metadata": {},
     "output_type": "execute_result"
    }
   ],
   "source": [
    "nltk.download('averaged_perceptron_tagger')"
   ]
  },
  {
   "cell_type": "code",
   "execution_count": 103,
   "metadata": {},
   "outputs": [
    {
     "name": "stderr",
     "output_type": "stream",
     "text": [
      "[nltk_data] Downloading package wordnet to\n",
      "[nltk_data]     C:\\Users\\bb1\\AppData\\Roaming\\nltk_data...\n",
      "[nltk_data]   Package wordnet is already up-to-date!\n"
     ]
    },
    {
     "data": {
      "text/plain": [
       "True"
      ]
     },
     "execution_count": 103,
     "metadata": {},
     "output_type": "execute_result"
    }
   ],
   "source": [
    "nltk.download('wordnet')"
   ]
  },
  {
   "cell_type": "markdown",
   "metadata": {},
   "source": [
    "lemmatizer = WordNetLemmatizer()\n",
    "stop_words = stopwords.words('english') #filter out stop words\n",
    "tag_dict = {\n",
    "    \"J\": wordnet.ADJ,\n",
    "    \"N\": wordnet.NOUN,\n",
    "    \"V\": wordnet.VERB,\n",
    "    \"R\": wordnet.ADV\n",
    "}\n",
    "def lemma_text(text):\n",
    "    new_text_array = []\n",
    "    sentences = sent_tokenize(text.lower(), language = 'english')\n",
    "    for sent in sentences:\n",
    "        tokens = word_tokenize(sent, language = 'english')\n",
    "        tok_pos = nltk.pos_tag(tokens)\n",
    "        for tok, pos in tok_pos:\n",
    "            if tok in stop_words:\n",
    "                continue\n",
    "            tok_type = pos[0].upper() # gets N for noun\n",
    "            if tok_type in ['.', ',', ':']: # ignore punctuation\n",
    "                continue\n",
    "                \n",
    "            mapped_type = tag_dict.get(tok_type, wordnet.NOUN) # default NOUN\n",
    "            if tok.startswith('.'):\n",
    "                tok = tok[1:] \n",
    "            if tok.endswith('.'):\n",
    "                tok = tok[:-1]   \n",
    "            new_text_array.append(lemmatizer.lemmatize(tok, mapped_type))\n",
    "    return new_text_array #' '.join(new_text_array)"
   ]
  },
  {
   "cell_type": "code",
   "execution_count": 105,
   "metadata": {},
   "outputs": [
    {
     "data": {
      "text/plain": [
       "'Hallo'"
      ]
     },
     "execution_count": 105,
     "metadata": {},
     "output_type": "execute_result"
    }
   ],
   "source": [
    "'Hallo.'[:-1]"
   ]
  },
  {
   "cell_type": "code",
   "execution_count": 106,
   "metadata": {},
   "outputs": [
    {
     "data": {
      "text/plain": [
       "['ethereum',\n",
       " 'name',\n",
       " 'service',\n",
       " 'ens',\n",
       " 'domain',\n",
       " 'secure',\n",
       " 'bullshit',\n",
       " 'rule',\n",
       " 'hello']"
      ]
     },
     "execution_count": 106,
     "metadata": {},
     "output_type": "execute_result"
    }
   ],
   "source": [
    "lemma_text('Ethereum Name. Service, ENS .domains are secure: bullshit rules! Hello.')"
   ]
  },
  {
   "cell_type": "code",
   "execution_count": 95,
   "metadata": {},
   "outputs": [],
   "source": [
    "import lemmatization\n",
    "from multiprocessing import cpu_count, Pool"
   ]
  },
  {
   "cell_type": "code",
   "execution_count": 97,
   "metadata": {},
   "outputs": [],
   "source": [
    "from time import time"
   ]
  },
  {
   "cell_type": "code",
   "execution_count": 96,
   "metadata": {},
   "outputs": [
    {
     "data": {
      "text/plain": [
       "16"
      ]
     },
     "execution_count": 96,
     "metadata": {},
     "output_type": "execute_result"
    }
   ],
   "source": [
    "cpu_count()"
   ]
  },
  {
   "cell_type": "code",
   "execution_count": 98,
   "metadata": {},
   "outputs": [
    {
     "name": "stdout",
     "output_type": "stream",
     "text": [
      "0    [rug, radio, first, fully, decentralize, mediu...\n",
      "1    [freedom, woofpack, adorable, algorithmically,...\n",
      "2    [lil, pudgys, collection, randomly, generate, ...\n",
      "3    [ethereum, name, service, en, domain, secure, ...\n",
      "4    [nft, collection, reggae, culture, info, crypt...\n",
      "Name: collection_description, dtype: object\n",
      "Time: 8.72 mins\n"
     ]
    }
   ],
   "source": [
    "if __name__ ==  '__main__': \n",
    "    t = time()\n",
    "    pool = Pool(cpu_count() - 4)\n",
    "    elastic_df['collection_description'] = pool.map(lemmatization.lemma_text, elastic_df['collection_description'])\n",
    "    print(elastic_df['collection_description'].head(5))\n",
    "    print('Time: {} mins'.format(round((time() - t) / 60, 2)))"
   ]
  },
  {
   "cell_type": "code",
   "execution_count": 100,
   "metadata": {},
   "outputs": [
    {
     "name": "stdout",
     "output_type": "stream",
     "text": [
      "0    [rug, radio, membership, pas, step, one, get, ...\n",
      "1    [woofpack, generative, nft, collection, elusiv...\n",
      "2    [lil, pudgys, collection, randomly, generate, ...\n",
      "3                     [raisingcapital, eth, ens, name]\n",
      "4    [cryptorasta, shannon, stone, doctor, new, yor...\n",
      "Name: description, dtype: object\n",
      "Time: 6.05 mins\n"
     ]
    }
   ],
   "source": [
    "if __name__ ==  '__main__':\n",
    "    t = time()\n",
    "    pool = Pool(cpu_count() - 4)\n",
    "    elastic_df['description'] = pool.map(lemmatization.lemma_text, elastic_df['description'])\n",
    "    print(elastic_df['description'].head(5))\n",
    "    print('Time: {} mins'.format(round((time() - t) / 60, 2)))"
   ]
  },
  {
   "cell_type": "code",
   "execution_count": 102,
   "metadata": {},
   "outputs": [
    {
     "name": "stderr",
     "output_type": "stream",
     "text": [
      "C:\\Users\\bb1\\miniconda3\\envs\\deep\\lib\\site-packages\\pandas\\core\\frame.py:3607: SettingWithCopyWarning: \n",
      "A value is trying to be set on a copy of a slice from a DataFrame.\n",
      "Try using .loc[row_indexer,col_indexer] = value instead\n",
      "\n",
      "See the caveats in the documentation: https://pandas.pydata.org/pandas-docs/stable/user_guide/indexing.html#returning-a-view-versus-a-copy\n",
      "  self._set_item(key, value)\n"
     ]
    }
   ],
   "source": [
    "#elastic_df['collection_description'] = elastic_df['collection_description'].apply(lemma_text)\n",
    "#elastic_df['description'] = elastic_df['description'].apply(lemma_text)"
   ]
  },
  {
   "cell_type": "code",
   "execution_count": 103,
   "metadata": {},
   "outputs": [
    {
     "name": "stdout",
     "output_type": "stream",
     "text": [
      "<class 'pandas.core.frame.DataFrame'>\n",
      "Int64Index: 183405 entries, 0 to 200000\n",
      "Data columns (total 29 columns):\n",
      " #   Column                   Non-Null Count   Dtype   \n",
      "---  ------                   --------------   -----   \n",
      " 0   creator                  183405 non-null  object  \n",
      " 1   price_crypto             183405 non-null  float64 \n",
      " 2   sale_usd                 183405 non-null  float64 \n",
      " 3   description              183405 non-null  object  \n",
      " 4   is_animation             183405 non-null  bool    \n",
      " 5   instagram                183405 non-null  object  \n",
      " 6   name                     183405 non-null  object  \n",
      " 7   collection_name          183405 non-null  object  \n",
      " 8   collection_description   183405 non-null  object  \n",
      " 9   contract_scheme          183405 non-null  category\n",
      " 10  sale_token               183405 non-null  object  \n",
      " 11  id                       183405 non-null  object  \n",
      " 12  twitter                  183405 non-null  object  \n",
      " 13  img_path                 136443 non-null  object  \n",
      " 14  twitter_follower         183405 non-null  float64 \n",
      " 15  preview_path             130304 non-null  object  \n",
      " 16  instagram_follower       42 non-null      float64 \n",
      " 17  sale_time                183405 non-null  int64   \n",
      " 18  collection_created_year  183405 non-null  int64   \n",
      " 19  unique_asset             183405 non-null  int64   \n",
      " 20  instagram_account        183405 non-null  int64   \n",
      " 21  twitter_account          183405 non-null  int64   \n",
      " 22  name_tok                 183405 non-null  int64   \n",
      " 23  creator_tok              183405 non-null  int64   \n",
      " 24  collection_name_tok      183405 non-null  int64   \n",
      " 25  instagram_tok            183405 non-null  int64   \n",
      " 26  twitter_tok              183405 non-null  int64   \n",
      " 27  word_count_coll_desc     183405 non-null  int64   \n",
      " 28  word_count_descr         183405 non-null  int64   \n",
      "dtypes: bool(1), category(1), float64(4), int64(12), object(11)\n",
      "memory usage: 43.6+ MB\n"
     ]
    }
   ],
   "source": [
    "elastic_df.info()"
   ]
  },
  {
   "cell_type": "markdown",
   "metadata": {},
   "source": [
    "in previe_path exist rows with NAs. "
   ]
  },
  {
   "cell_type": "code",
   "execution_count": 101,
   "metadata": {},
   "outputs": [],
   "source": [
    "elastic_df = elastic_df[elastic_df['preview_path'].isna() == False]"
   ]
  },
  {
   "cell_type": "code",
   "execution_count": 102,
   "metadata": {},
   "outputs": [
    {
     "name": "stdout",
     "output_type": "stream",
     "text": [
      "<class 'pandas.core.frame.DataFrame'>\n",
      "Int64Index: 665428 entries, 1 to 1075472\n",
      "Data columns (total 29 columns):\n",
      " #   Column                   Non-Null Count   Dtype   \n",
      "---  ------                   --------------   -----   \n",
      " 0   creator                  665428 non-null  object  \n",
      " 1   price_crypto             645215 non-null  float64 \n",
      " 2   sale_usd                 665428 non-null  float64 \n",
      " 3   description              665428 non-null  object  \n",
      " 4   is_animation             665428 non-null  bool    \n",
      " 5   name                     665428 non-null  object  \n",
      " 6   collection_name          665428 non-null  object  \n",
      " 7   collection_description   665428 non-null  object  \n",
      " 8   contract_scheme          645630 non-null  category\n",
      " 9   sale_token               665428 non-null  object  \n",
      " 10  id                       665428 non-null  object  \n",
      " 11  instagram                665428 non-null  object  \n",
      " 12  twitter                  665428 non-null  object  \n",
      " 13  img_path                 665417 non-null  object  \n",
      " 14  twitter_follower         665428 non-null  float64 \n",
      " 15  preview_path             665428 non-null  object  \n",
      " 16  instagram_follower       570 non-null     float64 \n",
      " 17  sale_time                665428 non-null  int64   \n",
      " 18  collection_created_year  665428 non-null  int64   \n",
      " 19  unique_asset             665428 non-null  int64   \n",
      " 20  instagram_account        665428 non-null  int64   \n",
      " 21  twitter_account          665428 non-null  int64   \n",
      " 22  name_tok                 665428 non-null  int64   \n",
      " 23  creator_tok              665428 non-null  int64   \n",
      " 24  collection_name_tok      665428 non-null  int64   \n",
      " 25  instagram_tok            665428 non-null  int64   \n",
      " 26  twitter_tok              665428 non-null  int64   \n",
      " 27  word_count_coll_desc     665428 non-null  int64   \n",
      " 28  word_count_descr         665428 non-null  int64   \n",
      "dtypes: bool(1), category(1), float64(4), int64(12), object(11)\n",
      "memory usage: 143.4+ MB\n"
     ]
    }
   ],
   "source": [
    "elastic_df.info()"
   ]
  },
  {
   "cell_type": "code",
   "execution_count": 103,
   "metadata": {},
   "outputs": [],
   "source": [
    "elastic_df = elastic_df.reset_index(drop=True)"
   ]
  },
  {
   "cell_type": "markdown",
   "metadata": {},
   "source": [
    "## Word2Vec\n",
    " https://aegis4048.github.io/understanding_multi-dimensionality_in_vector_space_modeling\n",
    " https://www.kaggle.com/dmitryyemelyanov/word-vector-dimensionality-reduction-with-t-sne"
   ]
  },
  {
   "cell_type": "code",
   "execution_count": 104,
   "metadata": {},
   "outputs": [],
   "source": [
    "from gensim.models import Word2Vec \n",
    "import multiprocessing\n",
    "import gensim\n",
    "from gensim.models.phrases import Phrases, Phraser"
   ]
  },
  {
   "cell_type": "code",
   "execution_count": 105,
   "metadata": {},
   "outputs": [],
   "source": [
    "from time import time"
   ]
  },
  {
   "cell_type": "code",
   "execution_count": 106,
   "metadata": {},
   "outputs": [
    {
     "name": "stdout",
     "output_type": "stream",
     "text": [
      "Time to train the model: 1.44 mins\n"
     ]
    }
   ],
   "source": [
    "t = time()\n",
    "w2v = gensim.models.Word2Vec(elastic_df['collection_description'] + elastic_df['description'], \n",
    "                             min_count = 1, \n",
    "                             negative=2, \n",
    "                             size = 100,\n",
    "                             window = 5, \n",
    "                             sg = 1, \n",
    "                             workers=14)\n",
    "print('Time to train the model: {} mins'.format(round((time() - t) / 60, 2)))"
   ]
  },
  {
   "cell_type": "code",
   "execution_count": 107,
   "metadata": {},
   "outputs": [
    {
     "name": "stdout",
     "output_type": "stream",
     "text": [
      "Word2Vec(vocab=183793, size=100, alpha=0.025)\n"
     ]
    }
   ],
   "source": [
    "print(w2v)"
   ]
  },
  {
   "cell_type": "code",
   "execution_count": 108,
   "metadata": {},
   "outputs": [
    {
     "name": "stdout",
     "output_type": "stream",
     "text": [
      "['nft', 'collection', 'liberating', 'digitally', 'collectible']\n"
     ]
    }
   ],
   "source": [
    "# summarise vocabulary\n",
    "words = list(w2v.wv.vocab)\n",
    "print(words[5:10])"
   ]
  },
  {
   "cell_type": "code",
   "execution_count": 109,
   "metadata": {},
   "outputs": [
    {
     "data": {
      "text/plain": [
       "[('collection', 0.5840559005737305),\n",
       " ('nfts', 0.5536335110664368),\n",
       " ('upcoming', 0.5299100875854492),\n",
       " ('holder', 0.5217937231063843),\n",
       " ('coa', 0.5070294141769409),\n",
       " ('calaveras', 0.5034548044204712),\n",
       " ('project', 0.4939212203025818),\n",
       " ('wapuus', 0.48915427923202515),\n",
       " ('space', 0.4838426113128662),\n",
       " ('gianp', 0.48213011026382446),\n",
       " ('calabasas', 0.4816543459892273),\n",
       " ('cryptodude', 0.4791639447212219),\n",
       " ('stickies', 0.4786970317363739),\n",
       " ('metakey', 0.4782877266407013),\n",
       " ('enquire', 0.4775780141353607),\n",
       " ('networked', 0.47716522216796875),\n",
       " ('nessgraphic', 0.47483551502227783),\n",
       " ('art', 0.47457706928253174),\n",
       " ('kmc', 0.47395026683807373),\n",
       " ('furie', 0.4707784056663513)]"
      ]
     },
     "execution_count": 109,
     "metadata": {},
     "output_type": "execute_result"
    }
   ],
   "source": [
    "w2v.wv.most_similar('nft',topn=20)"
   ]
  },
  {
   "cell_type": "code",
   "execution_count": 110,
   "metadata": {},
   "outputs": [
    {
     "data": {
      "text/plain": [
       "[]"
      ]
     },
     "execution_count": 110,
     "metadata": {},
     "output_type": "execute_result"
    }
   ],
   "source": [
    "list(filter(lambda x: x.find('.') >= 0, words))"
   ]
  },
  {
   "cell_type": "code",
   "execution_count": 114,
   "metadata": {},
   "outputs": [],
   "source": [
    "elastic_df = elastic_df[elastic_df['img_path'].isna() == False]"
   ]
  },
  {
   "cell_type": "code",
   "execution_count": 116,
   "metadata": {},
   "outputs": [],
   "source": [
    "elastic_df = elastic_df[elastic_df['contract_scheme'].isna() == False]"
   ]
  },
  {
   "cell_type": "code",
   "execution_count": 118,
   "metadata": {},
   "outputs": [],
   "source": [
    "elastic_df.drop(['price_crypto', 'instagram_follower'], inplace=True, axis=1)"
   ]
  },
  {
   "cell_type": "code",
   "execution_count": 119,
   "metadata": {},
   "outputs": [],
   "source": [
    "elastic_df = elastic_df.reset_index(drop=True)"
   ]
  },
  {
   "cell_type": "code",
   "execution_count": 8,
   "metadata": {},
   "outputs": [
    {
     "data": {
      "text/html": [
       "<div>\n",
       "<style scoped>\n",
       "    .dataframe tbody tr th:only-of-type {\n",
       "        vertical-align: middle;\n",
       "    }\n",
       "\n",
       "    .dataframe tbody tr th {\n",
       "        vertical-align: top;\n",
       "    }\n",
       "\n",
       "    .dataframe thead th {\n",
       "        text-align: right;\n",
       "    }\n",
       "</style>\n",
       "<table border=\"1\" class=\"dataframe\">\n",
       "  <thead>\n",
       "    <tr style=\"text-align: right;\">\n",
       "      <th></th>\n",
       "      <th>Total</th>\n",
       "      <th>Percent</th>\n",
       "    </tr>\n",
       "  </thead>\n",
       "  <tbody>\n",
       "    <tr>\n",
       "      <th>creator</th>\n",
       "      <td>0</td>\n",
       "      <td>0.0</td>\n",
       "    </tr>\n",
       "    <tr>\n",
       "      <th>sale_usd</th>\n",
       "      <td>0</td>\n",
       "      <td>0.0</td>\n",
       "    </tr>\n",
       "    <tr>\n",
       "      <th>cat_usd</th>\n",
       "      <td>0</td>\n",
       "      <td>0.0</td>\n",
       "    </tr>\n",
       "    <tr>\n",
       "      <th>bin_log_usd</th>\n",
       "      <td>0</td>\n",
       "      <td>0.0</td>\n",
       "    </tr>\n",
       "    <tr>\n",
       "      <th>word_count_descr</th>\n",
       "      <td>0</td>\n",
       "      <td>0.0</td>\n",
       "    </tr>\n",
       "    <tr>\n",
       "      <th>word_count_coll_desc</th>\n",
       "      <td>0</td>\n",
       "      <td>0.0</td>\n",
       "    </tr>\n",
       "    <tr>\n",
       "      <th>twitter_tok</th>\n",
       "      <td>0</td>\n",
       "      <td>0.0</td>\n",
       "    </tr>\n",
       "    <tr>\n",
       "      <th>instagram_tok</th>\n",
       "      <td>0</td>\n",
       "      <td>0.0</td>\n",
       "    </tr>\n",
       "    <tr>\n",
       "      <th>collection_name_tok</th>\n",
       "      <td>0</td>\n",
       "      <td>0.0</td>\n",
       "    </tr>\n",
       "    <tr>\n",
       "      <th>creator_tok</th>\n",
       "      <td>0</td>\n",
       "      <td>0.0</td>\n",
       "    </tr>\n",
       "    <tr>\n",
       "      <th>name_tok</th>\n",
       "      <td>0</td>\n",
       "      <td>0.0</td>\n",
       "    </tr>\n",
       "    <tr>\n",
       "      <th>twitter_account</th>\n",
       "      <td>0</td>\n",
       "      <td>0.0</td>\n",
       "    </tr>\n",
       "    <tr>\n",
       "      <th>instagram_account</th>\n",
       "      <td>0</td>\n",
       "      <td>0.0</td>\n",
       "    </tr>\n",
       "    <tr>\n",
       "      <th>unique_asset</th>\n",
       "      <td>0</td>\n",
       "      <td>0.0</td>\n",
       "    </tr>\n",
       "    <tr>\n",
       "      <th>collection_created_year</th>\n",
       "      <td>0</td>\n",
       "      <td>0.0</td>\n",
       "    </tr>\n",
       "    <tr>\n",
       "      <th>sale_time</th>\n",
       "      <td>0</td>\n",
       "      <td>0.0</td>\n",
       "    </tr>\n",
       "    <tr>\n",
       "      <th>preview_path</th>\n",
       "      <td>0</td>\n",
       "      <td>0.0</td>\n",
       "    </tr>\n",
       "    <tr>\n",
       "      <th>twitter_follower</th>\n",
       "      <td>0</td>\n",
       "      <td>0.0</td>\n",
       "    </tr>\n",
       "    <tr>\n",
       "      <th>img_path</th>\n",
       "      <td>0</td>\n",
       "      <td>0.0</td>\n",
       "    </tr>\n",
       "    <tr>\n",
       "      <th>twitter</th>\n",
       "      <td>0</td>\n",
       "      <td>0.0</td>\n",
       "    </tr>\n",
       "    <tr>\n",
       "      <th>instagram</th>\n",
       "      <td>0</td>\n",
       "      <td>0.0</td>\n",
       "    </tr>\n",
       "    <tr>\n",
       "      <th>id</th>\n",
       "      <td>0</td>\n",
       "      <td>0.0</td>\n",
       "    </tr>\n",
       "    <tr>\n",
       "      <th>sale_token</th>\n",
       "      <td>0</td>\n",
       "      <td>0.0</td>\n",
       "    </tr>\n",
       "    <tr>\n",
       "      <th>contract_scheme</th>\n",
       "      <td>0</td>\n",
       "      <td>0.0</td>\n",
       "    </tr>\n",
       "    <tr>\n",
       "      <th>collection_description</th>\n",
       "      <td>0</td>\n",
       "      <td>0.0</td>\n",
       "    </tr>\n",
       "    <tr>\n",
       "      <th>collection_name</th>\n",
       "      <td>0</td>\n",
       "      <td>0.0</td>\n",
       "    </tr>\n",
       "    <tr>\n",
       "      <th>name</th>\n",
       "      <td>0</td>\n",
       "      <td>0.0</td>\n",
       "    </tr>\n",
       "    <tr>\n",
       "      <th>is_animation</th>\n",
       "      <td>0</td>\n",
       "      <td>0.0</td>\n",
       "    </tr>\n",
       "    <tr>\n",
       "      <th>description</th>\n",
       "      <td>0</td>\n",
       "      <td>0.0</td>\n",
       "    </tr>\n",
       "    <tr>\n",
       "      <th>z_twitter_follower</th>\n",
       "      <td>0</td>\n",
       "      <td>0.0</td>\n",
       "    </tr>\n",
       "  </tbody>\n",
       "</table>\n",
       "</div>"
      ],
      "text/plain": [
       "                         Total  Percent\n",
       "creator                      0      0.0\n",
       "sale_usd                     0      0.0\n",
       "cat_usd                      0      0.0\n",
       "bin_log_usd                  0      0.0\n",
       "word_count_descr             0      0.0\n",
       "word_count_coll_desc         0      0.0\n",
       "twitter_tok                  0      0.0\n",
       "instagram_tok                0      0.0\n",
       "collection_name_tok          0      0.0\n",
       "creator_tok                  0      0.0\n",
       "name_tok                     0      0.0\n",
       "twitter_account              0      0.0\n",
       "instagram_account            0      0.0\n",
       "unique_asset                 0      0.0\n",
       "collection_created_year      0      0.0\n",
       "sale_time                    0      0.0\n",
       "preview_path                 0      0.0\n",
       "twitter_follower             0      0.0\n",
       "img_path                     0      0.0\n",
       "twitter                      0      0.0\n",
       "instagram                    0      0.0\n",
       "id                           0      0.0\n",
       "sale_token                   0      0.0\n",
       "contract_scheme              0      0.0\n",
       "collection_description       0      0.0\n",
       "collection_name              0      0.0\n",
       "name                         0      0.0\n",
       "is_animation                 0      0.0\n",
       "description                  0      0.0\n",
       "z_twitter_follower           0      0.0"
      ]
     },
     "execution_count": 8,
     "metadata": {},
     "output_type": "execute_result"
    }
   ],
   "source": [
    "total = elastic_df.isnull().sum().sort_values(ascending=False)\n",
    "percent = (elastic_df.isnull().sum()/elastic_df.isnull().count()).sort_values(ascending=False)\n",
    "missing_data = pandas.concat([total, percent], axis=1, keys=['Total', 'Percent'])\n",
    "missing_data"
   ]
  },
  {
   "cell_type": "code",
   "execution_count": 7,
   "metadata": {},
   "outputs": [
    {
     "name": "stdout",
     "output_type": "stream",
     "text": [
      "<class 'pandas.core.frame.DataFrame'>\n",
      "Int64Index: 637325 entries, 0 to 645627\n",
      "Data columns (total 30 columns):\n",
      " #   Column                   Non-Null Count   Dtype   \n",
      "---  ------                   --------------   -----   \n",
      " 0   creator                  637325 non-null  object  \n",
      " 1   sale_usd                 637325 non-null  float64 \n",
      " 2   description              637325 non-null  object  \n",
      " 3   is_animation             637325 non-null  bool    \n",
      " 4   name                     637325 non-null  object  \n",
      " 5   collection_name          637325 non-null  object  \n",
      " 6   collection_description   637325 non-null  object  \n",
      " 7   contract_scheme          637325 non-null  category\n",
      " 8   sale_token               637325 non-null  object  \n",
      " 9   id                       637325 non-null  object  \n",
      " 10  instagram                637325 non-null  object  \n",
      " 11  twitter                  637325 non-null  object  \n",
      " 12  img_path                 637325 non-null  object  \n",
      " 13  twitter_follower         637325 non-null  float64 \n",
      " 14  preview_path             637325 non-null  object  \n",
      " 15  sale_time                637325 non-null  int64   \n",
      " 16  collection_created_year  637325 non-null  int64   \n",
      " 17  unique_asset             637325 non-null  int64   \n",
      " 18  instagram_account        637325 non-null  int64   \n",
      " 19  twitter_account          637325 non-null  int64   \n",
      " 20  name_tok                 637325 non-null  int64   \n",
      " 21  creator_tok              637325 non-null  int64   \n",
      " 22  collection_name_tok      637325 non-null  int64   \n",
      " 23  instagram_tok            637325 non-null  int64   \n",
      " 24  twitter_tok              637325 non-null  int64   \n",
      " 25  word_count_coll_desc     637325 non-null  int64   \n",
      " 26  word_count_descr         637325 non-null  int64   \n",
      " 27  bin_log_usd              637325 non-null  int64   \n",
      " 28  cat_usd                  637325 non-null  category\n",
      " 29  z_twitter_follower       637325 non-null  float64 \n",
      "dtypes: bool(1), category(2), float64(3), int64(13), object(11)\n",
      "memory usage: 138.0+ MB\n"
     ]
    }
   ],
   "source": [
    "elastic_df.info()"
   ]
  },
  {
   "cell_type": "code",
   "execution_count": 4,
   "metadata": {},
   "outputs": [],
   "source": [
    "import pickle"
   ]
  },
  {
   "cell_type": "code",
   "execution_count": 5,
   "metadata": {},
   "outputs": [],
   "source": [
    "pickle_save_path = 'D:\\\\Code\\\\datascience\\\\MA_NFT\\\\data\\\\pickle\\\\elastic_df.pkl'"
   ]
  },
  {
   "cell_type": "code",
   "execution_count": 164,
   "metadata": {},
   "outputs": [],
   "source": [
    "with open(pickle_save_path,'wb') as path_name:\n",
    "    pickle.dump(elastic_df, path_name) "
   ]
  },
  {
   "cell_type": "markdown",
   "metadata": {},
   "source": [
    "## Visualization: t-SNE"
   ]
  },
  {
   "cell_type": "markdown",
   "metadata": {},
   "source": [
    "https://www.reneshbedre.com/blog/tsne.html\n",
    "\"\n",
    "- The algorithms starts by calculating the probability of similarity of points in high-dimensional space and calculating the probability of similarity of points in the corresponding low-dimensional space. The similarity of points is calculated as the conditional probability that a point A would choose point B as its neighbor if neighbors were picked in proportion to their probability density under a Gaussian (normal distribution) centered at A.\n",
    "- It then tries to minimize the difference between these conditional probabilities (or similarities) in higher-dimensional and lower-dimensional space for a perfect representation of data points in lower-dimensional space.\n",
    "- To measure the minimization of the sum of difference of conditional probability t-SNE minimizes the sum of Kullback-Leibler divergence of overall data points using a gradient descent method.\n",
    "- In simpler terms, t-Distributed stochastic neighbor embedding (t-SNE) minimizes the divergence between two distributions: a distribution that measures pairwise similarities of the input objects and a distribution that measures pairwise similarities of the corresponding low-dimensional points in the embedding.\n",
    "\" - https://www.datacamp.com/community/tutorials/introduction-t-sne"
   ]
  },
  {
   "cell_type": "code",
   "execution_count": 6,
   "metadata": {},
   "outputs": [],
   "source": [
    "with open(pickle_save_path,'rb') as path_name:\n",
    "    elastic_df = pickle.load(path_name) "
   ]
  },
  {
   "cell_type": "code",
   "execution_count": 117,
   "metadata": {},
   "outputs": [
    {
     "name": "stderr",
     "output_type": "stream",
     "text": [
      "C:\\Users\\bb1\\AppData\\Local\\Temp/ipykernel_22280/3255277014.py:1: DeprecationWarning: Call to deprecated `__getitem__` (Method will be removed in 4.0.0, use self.wv.__getitem__() instead).\n",
      "  X = w2v[w2v.wv.vocab]\n"
     ]
    }
   ],
   "source": [
    "X = w2v[w2v.wv.vocab]"
   ]
  },
  {
   "cell_type": "code",
   "execution_count": 118,
   "metadata": {},
   "outputs": [
    {
     "name": "stderr",
     "output_type": "stream",
     "text": [
      "C:\\Users\\bb1\\miniconda3\\envs\\deep\\lib\\site-packages\\sklearn\\manifold\\_t_sne.py:780: FutureWarning: The default initialization in TSNE will change from 'random' to 'pca' in 1.2.\n",
      "  warnings.warn(\n",
      "C:\\Users\\bb1\\miniconda3\\envs\\deep\\lib\\site-packages\\sklearn\\manifold\\_t_sne.py:790: FutureWarning: The default learning rate in TSNE will change from 200.0 to 'auto' in 1.2.\n",
      "  warnings.warn(\n"
     ]
    },
    {
     "data": {
      "image/png": "[encoded data removed]",
      "text/plain": [
       "<Figure size 432x288 with 1 Axes>"
      ]
     },
     "metadata": {
      "needs_background": "light"
     },
     "output_type": "display_data"
    },
    {
     "name": "stdout",
     "output_type": "stream",
     "text": [
      "Time to train the model: 8.06 mins\n"
     ]
    }
   ],
   "source": [
    "from sklearn.manifold import TSNE\n",
    "t = time()\n",
    "tsne = TSNE(n_components=2, perplexity=50) #perplexity=30 by default, suggested values are between 6 and 60\n",
    "Y = tsne.fit_transform(X)\n",
    "plt.scatter(Y[:, 0], Y[:, 1])\n",
    "plt.show()\n",
    "print('Time to train the model: {} mins'.format(round((time() - t) / 60, 2)))"
   ]
  },
  {
   "cell_type": "code",
   "execution_count": 119,
   "metadata": {},
   "outputs": [],
   "source": [
    "import random"
   ]
  },
  {
   "cell_type": "code",
   "execution_count": 120,
   "metadata": {},
   "outputs": [
    {
     "data": {
      "text/plain": [
       "['event',\n",
       " 'original',\n",
       " 'randomly',\n",
       " 'learn',\n",
       " 'find',\n",
       " 'woman',\n",
       " 'larva',\n",
       " 'bore',\n",
       " 'group',\n",
       " 'mobile',\n",
       " 'cool',\n",
       " 'future',\n",
       " 'launch',\n",
       " 'design',\n",
       " 'little',\n",
       " 'project',\n",
       " 'time',\n",
       " 'need',\n",
       " 'girl',\n",
       " 'doods',\n",
       " 'make',\n",
       " 'dog',\n",
       " 'combination',\n",
       " 'club',\n",
       " 'generative',\n",
       " 'erc',\n",
       " 'first',\n",
       " 'kind',\n",
       " 'baby',\n",
       " 'drawn',\n",
       " 'rare',\n",
       " 'live',\n",
       " 'culture',\n",
       " 'fun',\n",
       " 'able',\n",
       " 'assemble',\n",
       " 'detail',\n",
       " 'world',\n",
       " 'like',\n",
       " 'lil',\n",
       " 'store',\n",
       " 'play',\n",
       " 'cryptoskulls',\n",
       " 'generate',\n",
       " 'love',\n",
       " 'amazing',\n",
       " 'discord',\n",
       " 'squad',\n",
       " 'k',\n",
       " 'genesis']"
      ]
     },
     "execution_count": 120,
     "metadata": {},
     "output_type": "execute_result"
    }
   ],
   "source": [
    "random.sample(w2v.wv.index2word[0:200], 50)\n"
   ]
  },
  {
   "cell_type": "code",
   "execution_count": 121,
   "metadata": {},
   "outputs": [
    {
     "data": {
      "text/plain": [
       "102880"
      ]
     },
     "execution_count": 121,
     "metadata": {},
     "output_type": "execute_result"
    }
   ],
   "source": [
    "len(w2v.wv.index2word)"
   ]
  },
  {
   "cell_type": "code",
   "execution_count": 122,
   "metadata": {},
   "outputs": [
    {
     "data": {
      "image/png": "[encoded data removed]",
      "text/plain": [
       "<Figure size 1440x1440 with 1 Axes>"
      ]
     },
     "metadata": {
      "needs_background": "light"
     },
     "output_type": "display_data"
    }
   ],
   "source": [
    "fig, ax = plt.subplots(figsize=(20, 20))\n",
    "plt.rcParams.update({'font.size': 20})\n",
    "ax.plot(Y[:, 0], Y[:, 1], 'o',color='green')\n",
    "ax.set_title('Discriptions')\n",
    "ax.set_yticklabels([]) #Hide ticks\n",
    "ax.set_xticklabels([]) #Hide ticks\n",
    "\n",
    "sizes = [30, 25, 20, 15, 10, 5]\n",
    "words = list(w2v.wv.vocab)\n",
    "words_sorted = list(w2v.wv.index2word)\n",
    "show_words = random.sample(w2v.wv.index2word[0:50000], 50)\n",
    "for word in w2v.wv.index2word[0:50]:\n",
    "    show_words.append(word)\n",
    "for word in show_words:\n",
    "    i = words.index(word)\n",
    "    size = sizes[int((words_sorted.index(word) / len(words_sorted)) * len(sizes))]\n",
    "    plt.annotate(word, xy=(Y[i, 0], Y[i, 1]), fontsize=size)\n",
    "    anti = w2v.wv.most_similar(word, topn=10001)[-1][0]\n",
    "    #print(word, '---->', anti)\n",
    "    i = words.index(anti)\n",
    "    size = sizes[int((words_sorted.index(anti) / len(words_sorted)) * len(sizes))]\n",
    "    plt.annotate(anti, xy=(Y[i, 0], Y[i, 1]), fontsize=size)\n",
    "plt.show()\n",
    "#plt.savefig('w2v.png')"
   ]
  },
  {
   "cell_type": "code",
   "execution_count": 242,
   "metadata": {},
   "outputs": [
    {
     "name": "stdout",
     "output_type": "stream",
     "text": [
      "a 30\n",
      "b 30\n",
      "c 30\n",
      "d 25\n",
      "e 25\n",
      "f 20\n",
      "g 20\n",
      "h 15\n",
      "i 15\n",
      "j 10\n",
      "k 10\n",
      "l 5\n",
      "m 5\n"
     ]
    }
   ],
   "source": [
    "#sizes = [30, 25, 20, 15, 10, 5]\n",
    "#words_sorted = ['a', 'b', 'c', 'd', 'e', 'f', 'g', 'h', 'i', 'j', 'k', 'l', 'm']\n",
    "#words_sorted.index('j') % len(sizes)\n",
    "#for w in words_sorted:\n",
    "#    print(w, sizes[int((words_sorted.index(w) / len(words_sorted)) * len(sizes))])"
   ]
  }
 ],
 "metadata": {
  "interpreter": {
   "hash": "e7cbe181d35699dc82249499f9b3a6dab307899296faca18335b84e4e2a7380e"
  },
  "kernelspec": {
   "display_name": "Python 3 (ipykernel)",
   "language": "python",
   "name": "python3"
  },
  "language_info": {
   "codemirror_mode": {
    "name": "ipython",
    "version": 3
   },
   "file_extension": ".py",
   "mimetype": "text/x-python",
   "name": "python",
   "nbconvert_exporter": "python",
   "pygments_lexer": "ipython3",
   "version": "3.8.12"
  }
 },
 "nbformat": 4,
 "nbformat_minor": 2
}
