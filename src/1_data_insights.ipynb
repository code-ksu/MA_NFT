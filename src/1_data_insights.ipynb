{
 "cells": [
  {
   "cell_type": "markdown",
   "metadata": {},
   "source": [
    "# Contents\n",
    "1. [Import and request the data](#Import-and-request-the-data)\n",
    "2. [EDA](#EDA) \n",
    "    * [Feature engineering and dealing with missing values](#Feature-engineering-and-dealing-with-missing-values)\n",
    "3. [Text columns preparation](#Text-columns-preparation)\n",
    "4. [Lemmatisation (NLTK)](#Lemmatisation-(NLTK))\n",
    "5. [Word2Vec](#Word2Vec)\n",
    "6. [Visualization: t-SNE](#Visualization:-t-SNE)\n",
    "7. [Benchmark model: XGBoost. Without images. Not done](#Benchmark-model:-XGBoost.-Without-images.-Not-done)\n",
    "8. [Imgages Preparation for PyTorch. In progress](#Imgages-Preparation-for-PyTorch.-In-progress)"
   ]
  },
  {
   "cell_type": "markdown",
   "metadata": {},
   "source": [
    "## Import and request the data"
   ]
  },
  {
   "cell_type": "code",
   "execution_count": 4,
   "metadata": {},
   "outputs": [
    {
     "data": {
      "text/plain": [
       "{'cluster_name': 'es-docker-cluster',\n",
       " 'status': 'yellow',\n",
       " 'timed_out': False,\n",
       " 'number_of_nodes': 1,\n",
       " 'number_of_data_nodes': 1,\n",
       " 'active_primary_shards': 10,\n",
       " 'active_shards': 10,\n",
       " 'relocating_shards': 0,\n",
       " 'initializing_shards': 0,\n",
       " 'unassigned_shards': 1,\n",
       " 'delayed_unassigned_shards': 0,\n",
       " 'number_of_pending_tasks': 0,\n",
       " 'number_of_in_flight_fetch': 0,\n",
       " 'task_max_waiting_in_queue_millis': 0,\n",
       " 'active_shards_percent_as_number': 90.9090909090909}"
      ]
     },
     "execution_count": 4,
     "metadata": {},
     "output_type": "execute_result"
    }
   ],
   "source": [
    "import numpy as np\n",
    "import pandas\n",
    "from elasticsearch import Elasticsearch\n",
    "from elasticsearch_dsl import Search\n",
    "import json\n",
    "import requests\n",
    "import matplotlib\n",
    "import matplotlib.pyplot as plt\n",
    "import seaborn as sns\n",
    "# create a client instance of the library\n",
    "elastic_client = Elasticsearch(timeout=60, max_retries=10, retry_on_timeout=True)\n",
    "elastic_client.cluster.health(wait_for_status='yellow', request_timeout=55)"
   ]
  },
  {
   "cell_type": "code",
   "execution_count": 2,
   "metadata": {},
   "outputs": [
    {
     "data": {
      "text/plain": [
       "{'took': 1,\n",
       " 'timed_out': False,\n",
       " '_shards': {'total': 1, 'successful': 1, 'skipped': 0, 'failed': 0},\n",
       " 'hits': {'total': {'value': 10000, 'relation': 'gte'},\n",
       "  'max_score': 1.0,\n",
       "  'hits': [{'_index': 'opensea',\n",
       "    '_type': '_doc',\n",
       "    '_id': 'PY4SOX0BHA1xYJHHtcXY',\n",
       "    '_score': 1.0,\n",
       "    '_source': {'os_id': 106803514,\n",
       "     'token_id': '6310487523167464038236848917657863475338708156820240490236251522907754201089',\n",
       "     'name': 'Cool Dog #243',\n",
       "     'description': None,\n",
       "     'external_link': None,\n",
       "     'permalink': 'https://opensea.io/assets/0x495f947276749ce646f68ac8c248420045cb7b5e/6310487523167464038236848917657863475338708156820240490236251522907754201089',\n",
       "     'collection_slug': 'cool-dogs-1',\n",
       "     'collection_created': '2021-08-08T04:52:47.684730',\n",
       "     'collection_description': 'Cool Dogs is a limited series of 1/1 NFTs, a collection of hand drawn parody avatars. \\nOnly 333 will be created, then any wallet holding 2 or more dogs will be airdropped an exclusive puppy from Cool Pups collection. Drop January 22.\\n\\n',\n",
       "     'creator': 'Cool_Dogs',\n",
       "     'is_animation': False,\n",
       "     'image_preview_url': 'https://lh3.googleusercontent.com/6X5RpGv6ZAwxdfSyzJPs_LgVg2FU96aTvdhGQ8O3CLq29kuc4LoEWSQ99pWCNHZBJoc1mT06tAZvs6mwPl2KzgMk5P3Y8LSu5o2K=s250',\n",
       "     'image_url': 'https://lh3.googleusercontent.com/6X5RpGv6ZAwxdfSyzJPs_LgVg2FU96aTvdhGQ8O3CLq29kuc4LoEWSQ99pWCNHZBJoc1mT06tAZvs6mwPl2KzgMk5P3Y8LSu5o2K',\n",
       "     'image_original_url': None,\n",
       "     'animation_url': None,\n",
       "     'animation_original_url': None,\n",
       "     '@latest_sale_timestamp': '2021-11-19T16:40:06',\n",
       "     '@scraped': '2021-11-19T17:41:07.285440',\n",
       "     'latest_sale_usd': 148.43220000000002,\n",
       "     'sell_order_usd': None,\n",
       "     'buy_order_usd': None,\n",
       "     'last_sale_orginal': {'asset_bundle': None,\n",
       "      'event_type': 'successful',\n",
       "      'quantity': '1',\n",
       "      'total_price': '35000000000000000',\n",
       "      'auction_type': None,\n",
       "      'payment_token': {'symbol': 'ETH',\n",
       "       'address': '0x0000000000000000000000000000000000000000',\n",
       "       'image_url': 'https://storage.opensea.io/files/6f8e2979d428180222796ff4a33ab929.svg',\n",
       "       'decimals': 18,\n",
       "       'name': 'Ether',\n",
       "       'usd_price': '4240.920000000000073000',\n",
       "       'id': 1,\n",
       "       'eth_price': '1.000000000000000'},\n",
       "      'created_date': '2021-11-19T16:40:18.024498',\n",
       "      'asset': {'token_id': '6310487523167464038236848917657863475338708156820240490236251522907754201089',\n",
       "       'decimals': None},\n",
       "      'event_timestamp': '2021-11-19T16:40:06',\n",
       "      'transaction': {'from_account': {'address': '0x6b4232fa74cdb7714c121cb4f6960773c54b734d',\n",
       "        'profile_img_url': 'https://storage.googleapis.com/opensea-static/opensea-profile/23.png',\n",
       "        'user': {'username': 'Snipeclub_nft'},\n",
       "        'config': ''},\n",
       "       'block_hash': '0x17eae5afa2e00b80c01c11892497c1d785d72b2ee4f1279e6bc0e80589839f7e',\n",
       "       'block_number': '13646658',\n",
       "       'id': 204338070,\n",
       "       'transaction_index': '86',\n",
       "       'transaction_hash': '0xb85af323558582a929b862558a0e4c162ef0aea77d40206edcc9bc0097066993',\n",
       "       'timestamp': '2021-11-19T16:40:06',\n",
       "       'to_account': {'address': '0x7be8076f4ea4a4ad08075c2508e481d6c946d12b',\n",
       "        'profile_img_url': 'https://storage.googleapis.com/opensea-static/opensea-profile/22.png',\n",
       "        'user': {'username': 'OpenSea-Orders'},\n",
       "        'config': 'verified'}}}}}]}}"
      ]
     },
     "execution_count": 2,
     "metadata": {},
     "output_type": "execute_result"
    }
   ],
   "source": [
    "#https://kb.objectrocket.com/elasticsearch/how-to-use-elasticsearch-data-using-pandas-in-python-349\n",
    "response = elastic_client.search(\n",
    "    index='opensea',\n",
    "    body={},\n",
    "    size=1\n",
    ")\n",
    "response"
   ]
  },
  {
   "cell_type": "code",
   "execution_count": 5,
   "metadata": {},
   "outputs": [
    {
     "name": "stdout",
     "output_type": "stream",
     "text": [
      "documents returned: 10000\n",
      "{'value': 32234, 'relation': 'eq'}\n"
     ]
    }
   ],
   "source": [
    "s = Search(using=elastic_client, index=\"opensea\") \\\n",
    "    .filter(\"exists\", field=\"latest_sale_usd\") \\\n",
    "    .filter(\"exists\", field=\"preview_path\") \\\n",
    "    .exclude(\"match\", is_animation=True)\n",
    "s = s.source(excludes=[\n",
    "    \"last_sale_orginal\", \"image_original_url\", \"image_preview_url\", \"image_url\", \"os_id\",\n",
    "    'animation_url', '@scraped', 'animation_original_url', \n",
    "    'permalink', 'is_animation', 'sell_order_usd', 'buy_order_usd'\n",
    "])\n",
    "s = s.extra(track_total_hits=True)\n",
    "s = s.extra(from_=0, size=10000)\n",
    "response = s.execute()\n",
    "# declare a new list for the Elasticsearch documents\n",
    "# nested inside the API response object\n",
    "elastic_docs = response.to_dict()[\"hits\"][\"hits\"]\n",
    "\n",
    "# print number of documents\n",
    "print(\"documents returned:\", len(response[\"hits\"][\"hits\"]))\n",
    "print(response.hits.total)"
   ]
  },
  {
   "cell_type": "code",
   "execution_count": 7,
   "metadata": {},
   "outputs": [
    {
     "name": "stdout",
     "output_type": "stream",
     "text": [
      "cryptomeme.eth\n",
      "#2388\n",
      "Primate Social Society #8390\n",
      "#979\n",
      "#711\n",
      "Lazy CryptoCat #824\n",
      "#1167\n",
      "#1611\n",
      "Noundles #4847\n",
      "OG:Crystal 785\n"
     ]
    }
   ],
   "source": [
    "for hit in response[0:10]:\n",
    "    print(hit.name)"
   ]
  },
  {
   "cell_type": "code",
   "execution_count": 9,
   "metadata": {},
   "outputs": [
    {
     "data": {
      "text/plain": [
       "['total', 'max_score', 'hits']"
      ]
     },
     "execution_count": 9,
     "metadata": {},
     "output_type": "execute_result"
    }
   ],
   "source": [
    "list(response.to_dict()[\"hits\"])[0:10]"
   ]
  },
  {
   "cell_type": "code",
   "execution_count": 15,
   "metadata": {},
   "outputs": [
    {
     "name": "stdout",
     "output_type": "stream",
     "text": [
      "0 --> cryptomeme.eth\n",
      "1 --> #2388\n",
      "2 --> Primate Social Society #8390\n",
      "3 --> #979\n",
      "4 --> #711\n",
      "5 --> Lazy CryptoCat #824\n",
      "6 --> #1167\n",
      "7 --> #1611\n",
      "8 --> Noundles #4847\n",
      "9 --> OG:Crystal 785\n",
      "10 --> None\n"
     ]
    }
   ],
   "source": [
    "count = 0\n",
    "# iterate over all of the docs\n",
    "for key, val in response.to_dict()[\"hits\"].items():\n",
    "    if key == \"hits\":\n",
    "        for num, doc in enumerate(val):\n",
    "            print (num, '-->', doc[\"_source\"][\"name\"])\n",
    "            count += 1\n",
    "            if count > 10:\n",
    "                break"
   ]
  },
  {
   "cell_type": "code",
   "execution_count": 17,
   "metadata": {},
   "outputs": [],
   "source": [
    "fields = {}\n",
    "length = 0\n",
    "for num, doc in enumerate(elastic_docs):\n",
    "    # set id\n",
    "    try:\n",
    "        fields['id'] = np.append(fields['id'], doc[\"_id\"])\n",
    "    except KeyError:\n",
    "        fields['id'] = np.array([doc[\"_id\"]])\n",
    "    # get source data from document\n",
    "    source_data = doc[\"_source\"]\n",
    "    # iterate source data\n",
    "    for key, val in source_data.items():\n",
    "        try:\n",
    "            fields[key] = np.append(fields[key], val)\n",
    "        except KeyError:\n",
    "            if length > 0:\n",
    "                arr = [None] * length\n",
    "                arr.append(val)\n",
    "                fields[key] = np.array(arr)\n",
    "            else:\n",
    "                fields[key] = np.array([val])\n",
    "\n",
    "    for key in fields.keys():\n",
    "        if key not in source_data and key != 'id':\n",
    "            fields[key] = np.append(fields[key], None)\n",
    "    length += 1\n"
   ]
  },
  {
   "cell_type": "code",
   "execution_count": 7,
   "metadata": {},
   "outputs": [
    {
     "name": "stdout",
     "output_type": "stream",
     "text": [
      "id ---> 10000\n",
      "creator ---> 10000\n",
      "collection_created ---> 10000\n",
      "latest_sale_usd ---> 10000\n",
      "description ---> 10000\n",
      "@latest_sale_timestamp ---> 10000\n",
      "external_link ---> 10000\n",
      "twitter ---> 10000\n",
      "token_id ---> 10000\n",
      "img_path ---> 10000\n",
      "twitter_follower ---> 10000\n",
      "name ---> 10000\n",
      "collection_slug ---> 10000\n",
      "preview_path ---> 10000\n",
      "collection_description ---> 10000\n",
      "instagram ---> 10000\n",
      "telegram_follower ---> 10000\n",
      "telegram ---> 10000\n",
      "instagram_follower ---> 10000\n"
     ]
    }
   ],
   "source": [
    "for key, val in list(fields.items())[0:30]:\n",
    "    print (key, \"--->\", len(val))"
   ]
  },
  {
   "cell_type": "code",
   "execution_count": 22,
   "metadata": {},
   "outputs": [
    {
     "name": "stdout",
     "output_type": "stream",
     "text": [
      "elastic_df: <class 'pandas.core.frame.DataFrame'> \n",
      "\n"
     ]
    }
   ],
   "source": [
    "# create a Pandas DataFrame array from the fields dict\n",
    "elastic_df = pandas.DataFrame(fields)\n",
    "\n",
    "print('elastic_df:', type(elastic_df), \"\\n\")"
   ]
  },
  {
   "cell_type": "markdown",
   "metadata": {},
   "source": [
    "## EDA\n",
    "### Feature engineering and dealing with missing values"
   ]
  },
  {
   "cell_type": "code",
   "execution_count": 10,
   "metadata": {},
   "outputs": [
    {
     "data": {
      "text/html": [
       "<div>\n",
       "<style scoped>\n",
       "    .dataframe tbody tr th:only-of-type {\n",
       "        vertical-align: middle;\n",
       "    }\n",
       "\n",
       "    .dataframe tbody tr th {\n",
       "        vertical-align: top;\n",
       "    }\n",
       "\n",
       "    .dataframe thead th {\n",
       "        text-align: right;\n",
       "    }\n",
       "</style>\n",
       "<table border=\"1\" class=\"dataframe\">\n",
       "  <thead>\n",
       "    <tr style=\"text-align: right;\">\n",
       "      <th></th>\n",
       "      <th>id</th>\n",
       "      <th>creator</th>\n",
       "      <th>collection_created</th>\n",
       "      <th>latest_sale_usd</th>\n",
       "      <th>description</th>\n",
       "      <th>@latest_sale_timestamp</th>\n",
       "      <th>external_link</th>\n",
       "      <th>twitter</th>\n",
       "      <th>token_id</th>\n",
       "      <th>img_path</th>\n",
       "      <th>twitter_follower</th>\n",
       "      <th>name</th>\n",
       "      <th>collection_slug</th>\n",
       "      <th>preview_path</th>\n",
       "      <th>collection_description</th>\n",
       "      <th>instagram</th>\n",
       "      <th>telegram_follower</th>\n",
       "      <th>telegram</th>\n",
       "      <th>instagram_follower</th>\n",
       "    </tr>\n",
       "  </thead>\n",
       "  <tbody>\n",
       "    <tr>\n",
       "      <th>0</th>\n",
       "      <td>rM4OQ30Bnd7hjRQyDd1Y</td>\n",
       "      <td>0x4fe4e666be5752f1fdd210f4ab5de2cc26e3e0e8</td>\n",
       "      <td>2019-05-08T21:59:36.282454</td>\n",
       "      <td>216.99900</td>\n",
       "      <td>`cryptomeme.eth`, an ENS name.</td>\n",
       "      <td>2021-11-21T15:06:11</td>\n",
       "      <td>https://app.ens.domains/search/cryptomeme</td>\n",
       "      <td>https://cdn.syndication.twimg.com/widgets/foll...</td>\n",
       "      <td>7796771725932166225105739356350427289626824723...</td>\n",
       "      <td>D:\\Code\\datascience\\opensea_scapper\\opensea_nf...</td>\n",
       "      <td>115707</td>\n",
       "      <td>cryptomeme.eth</td>\n",
       "      <td>ens</td>\n",
       "      <td>D:\\Code\\datascience\\opensea_scapper\\opensea_nf...</td>\n",
       "      <td>Ethereum Name Service (ENS) domains are secure...</td>\n",
       "      <td>None</td>\n",
       "      <td>None</td>\n",
       "      <td>None</td>\n",
       "      <td>None</td>\n",
       "    </tr>\n",
       "    <tr>\n",
       "      <th>1</th>\n",
       "      <td>pc4NQ30Bnd7hjRQyYd1z</td>\n",
       "      <td>0xc00f4b8022e4dc7f086d703328247cb6adf26858</td>\n",
       "      <td>2021-11-21T09:55:15.388526</td>\n",
       "      <td>694.39680</td>\n",
       "      <td>None</td>\n",
       "      <td>2021-11-21T15:06:47</td>\n",
       "      <td>https://feudalz.io</td>\n",
       "      <td>None</td>\n",
       "      <td>2388</td>\n",
       "      <td>D:\\Code\\datascience\\opensea_scapper\\opensea_nf...</td>\n",
       "      <td>None</td>\n",
       "      <td>#2388</td>\n",
       "      <td>feudalz</td>\n",
       "      <td>D:\\Code\\datascience\\opensea_scapper\\opensea_nf...</td>\n",
       "      <td>Feudalz emerged to protect their Peasants. Whe...</td>\n",
       "      <td>None</td>\n",
       "      <td>None</td>\n",
       "      <td>None</td>\n",
       "      <td>None</td>\n",
       "    </tr>\n",
       "    <tr>\n",
       "      <th>2</th>\n",
       "      <td>pM4NQ30Bnd7hjRQyTN18</td>\n",
       "      <td>Forlane</td>\n",
       "      <td>2021-09-20T02:11:59.437808</td>\n",
       "      <td>212.65902</td>\n",
       "      <td>None</td>\n",
       "      <td>2021-11-21T15:06:47</td>\n",
       "      <td>None</td>\n",
       "      <td>https://cdn.syndication.twimg.com/widgets/foll...</td>\n",
       "      <td>8390</td>\n",
       "      <td>D:\\Code\\datascience\\opensea_scapper\\opensea_nf...</td>\n",
       "      <td>None</td>\n",
       "      <td>Primate Social Society #8390</td>\n",
       "      <td>primate-social-society-official</td>\n",
       "      <td>D:\\Code\\datascience\\opensea_scapper\\opensea_nf...</td>\n",
       "      <td>The Primate Social Society is a sophisticated ...</td>\n",
       "      <td>primatesocialsociety</td>\n",
       "      <td>None</td>\n",
       "      <td>None</td>\n",
       "      <td>None</td>\n",
       "    </tr>\n",
       "    <tr>\n",
       "      <th>3</th>\n",
       "      <td>ns4MQ30Bnd7hjRQywN2i</td>\n",
       "      <td>0xc00f4b8022e4dc7f086d703328247cb6adf26858</td>\n",
       "      <td>2021-11-21T09:55:15.388526</td>\n",
       "      <td>1518.99300</td>\n",
       "      <td>None</td>\n",
       "      <td>2021-11-21T15:06:47</td>\n",
       "      <td>https://feudalz.io</td>\n",
       "      <td>None</td>\n",
       "      <td>979</td>\n",
       "      <td>D:\\Code\\datascience\\opensea_scapper\\opensea_nf...</td>\n",
       "      <td>None</td>\n",
       "      <td>#979</td>\n",
       "      <td>feudalz</td>\n",
       "      <td>D:\\Code\\datascience\\opensea_scapper\\opensea_nf...</td>\n",
       "      <td>Feudalz emerged to protect their Peasants. Whe...</td>\n",
       "      <td>None</td>\n",
       "      <td>None</td>\n",
       "      <td>None</td>\n",
       "      <td>None</td>\n",
       "    </tr>\n",
       "    <tr>\n",
       "      <th>4</th>\n",
       "      <td>ss4OQ30Bnd7hjRQywt3k</td>\n",
       "      <td>0xc00f4b8022e4dc7f086d703328247cb6adf26858</td>\n",
       "      <td>2021-11-21T09:55:15.388526</td>\n",
       "      <td>759.49650</td>\n",
       "      <td>None</td>\n",
       "      <td>2021-11-21T15:06:11</td>\n",
       "      <td>https://feudalz.io</td>\n",
       "      <td>None</td>\n",
       "      <td>711</td>\n",
       "      <td>D:\\Code\\datascience\\opensea_scapper\\opensea_nf...</td>\n",
       "      <td>None</td>\n",
       "      <td>#711</td>\n",
       "      <td>feudalz</td>\n",
       "      <td>D:\\Code\\datascience\\opensea_scapper\\opensea_nf...</td>\n",
       "      <td>Feudalz emerged to protect their Peasants. Whe...</td>\n",
       "      <td>None</td>\n",
       "      <td>None</td>\n",
       "      <td>None</td>\n",
       "      <td>None</td>\n",
       "    </tr>\n",
       "    <tr>\n",
       "      <th>5</th>\n",
       "      <td>nc4MQ30Bnd7hjRQypd3q</td>\n",
       "      <td>LazyCryptoCats</td>\n",
       "      <td>2021-06-11T20:20:31.010037</td>\n",
       "      <td>130.19940</td>\n",
       "      <td>None</td>\n",
       "      <td>2021-11-21T15:06:47</td>\n",
       "      <td>None</td>\n",
       "      <td>https://cdn.syndication.twimg.com/widgets/foll...</td>\n",
       "      <td>2309538745211295593732510463759595317529580894...</td>\n",
       "      <td>D:\\Code\\datascience\\opensea_scapper\\opensea_nf...</td>\n",
       "      <td>1399</td>\n",
       "      <td>Lazy CryptoCat #824</td>\n",
       "      <td>lazycryptocats</td>\n",
       "      <td>D:\\Code\\datascience\\opensea_scapper\\opensea_nf...</td>\n",
       "      <td>Lazy CryptoCats is a collection of 3,500 uniqu...</td>\n",
       "      <td>lazycryptocats</td>\n",
       "      <td>None</td>\n",
       "      <td>None</td>\n",
       "      <td>None</td>\n",
       "    </tr>\n",
       "    <tr>\n",
       "      <th>6</th>\n",
       "      <td>m84MQ30Bnd7hjRQyfd1R</td>\n",
       "      <td>0xc00f4b8022e4dc7f086d703328247cb6adf26858</td>\n",
       "      <td>2021-11-21T09:55:15.388526</td>\n",
       "      <td>1084.99500</td>\n",
       "      <td>None</td>\n",
       "      <td>2021-11-21T15:06:47</td>\n",
       "      <td>https://feudalz.io</td>\n",
       "      <td>None</td>\n",
       "      <td>1167</td>\n",
       "      <td>D:\\Code\\datascience\\opensea_scapper\\opensea_nf...</td>\n",
       "      <td>None</td>\n",
       "      <td>#1167</td>\n",
       "      <td>feudalz</td>\n",
       "      <td>D:\\Code\\datascience\\opensea_scapper\\opensea_nf...</td>\n",
       "      <td>Feudalz emerged to protect their Peasants. Whe...</td>\n",
       "      <td>None</td>\n",
       "      <td>None</td>\n",
       "      <td>None</td>\n",
       "      <td>None</td>\n",
       "    </tr>\n",
       "    <tr>\n",
       "      <th>7</th>\n",
       "      <td>mc4MQ30Bnd7hjRQyV91l</td>\n",
       "      <td>0xc00f4b8022e4dc7f086d703328247cb6adf26858</td>\n",
       "      <td>2021-11-21T09:55:15.388526</td>\n",
       "      <td>1301.99400</td>\n",
       "      <td>None</td>\n",
       "      <td>2021-11-21T15:06:55</td>\n",
       "      <td>https://feudalz.io</td>\n",
       "      <td>None</td>\n",
       "      <td>1611</td>\n",
       "      <td>D:\\Code\\datascience\\opensea_scapper\\opensea_nf...</td>\n",
       "      <td>None</td>\n",
       "      <td>#1611</td>\n",
       "      <td>feudalz</td>\n",
       "      <td>D:\\Code\\datascience\\opensea_scapper\\opensea_nf...</td>\n",
       "      <td>Feudalz emerged to protect their Peasants. Whe...</td>\n",
       "      <td>None</td>\n",
       "      <td>None</td>\n",
       "      <td>None</td>\n",
       "      <td>None</td>\n",
       "    </tr>\n",
       "    <tr>\n",
       "      <th>8</th>\n",
       "      <td>p84NQ30Bnd7hjRQyjt17</td>\n",
       "      <td>Noundles</td>\n",
       "      <td>2021-11-12T09:10:35.046659</td>\n",
       "      <td>650.99700</td>\n",
       "      <td>When nounsdaos meets doodles. Not affiliated w...</td>\n",
       "      <td>2021-11-21T15:06:47</td>\n",
       "      <td>None</td>\n",
       "      <td>https://cdn.syndication.twimg.com/widgets/foll...</td>\n",
       "      <td>4847</td>\n",
       "      <td>D:\\Code\\datascience\\opensea_scapper\\opensea_nf...</td>\n",
       "      <td>4102</td>\n",
       "      <td>Noundles #4847</td>\n",
       "      <td>noundles</td>\n",
       "      <td>D:\\Code\\datascience\\opensea_scapper\\opensea_nf...</td>\n",
       "      <td>Noundles is based on Nouns with a twist in sty...</td>\n",
       "      <td>None</td>\n",
       "      <td>None</td>\n",
       "      <td>None</td>\n",
       "      <td>None</td>\n",
       "    </tr>\n",
       "    <tr>\n",
       "      <th>9</th>\n",
       "      <td>ms4MQ30Bnd7hjRQyY90p</td>\n",
       "      <td>OG-Cradle</td>\n",
       "      <td>2021-10-14T02:47:29.060220</td>\n",
       "      <td>520.79760</td>\n",
       "      <td>This one-of-a-kind OG:Crystal reflects both th...</td>\n",
       "      <td>2021-11-21T15:06:55</td>\n",
       "      <td>https://ogcrystals.com</td>\n",
       "      <td>https://cdn.syndication.twimg.com/widgets/foll...</td>\n",
       "      <td>785</td>\n",
       "      <td>D:\\Code\\datascience\\opensea_scapper\\opensea_nf...</td>\n",
       "      <td>10826</td>\n",
       "      <td>OG:Crystal 785</td>\n",
       "      <td>og-crystals</td>\n",
       "      <td>D:\\Code\\datascience\\opensea_scapper\\opensea_nf...</td>\n",
       "      <td>Explore the remarkable world of Organic Growth...</td>\n",
       "      <td>None</td>\n",
       "      <td>None</td>\n",
       "      <td>None</td>\n",
       "      <td>None</td>\n",
       "    </tr>\n",
       "  </tbody>\n",
       "</table>\n",
       "</div>"
      ],
      "text/plain": [
       "                     id                                     creator  \\\n",
       "0  rM4OQ30Bnd7hjRQyDd1Y  0x4fe4e666be5752f1fdd210f4ab5de2cc26e3e0e8   \n",
       "1  pc4NQ30Bnd7hjRQyYd1z  0xc00f4b8022e4dc7f086d703328247cb6adf26858   \n",
       "2  pM4NQ30Bnd7hjRQyTN18                                     Forlane   \n",
       "3  ns4MQ30Bnd7hjRQywN2i  0xc00f4b8022e4dc7f086d703328247cb6adf26858   \n",
       "4  ss4OQ30Bnd7hjRQywt3k  0xc00f4b8022e4dc7f086d703328247cb6adf26858   \n",
       "5  nc4MQ30Bnd7hjRQypd3q                              LazyCryptoCats   \n",
       "6  m84MQ30Bnd7hjRQyfd1R  0xc00f4b8022e4dc7f086d703328247cb6adf26858   \n",
       "7  mc4MQ30Bnd7hjRQyV91l  0xc00f4b8022e4dc7f086d703328247cb6adf26858   \n",
       "8  p84NQ30Bnd7hjRQyjt17                                    Noundles   \n",
       "9  ms4MQ30Bnd7hjRQyY90p                                   OG-Cradle   \n",
       "\n",
       "           collection_created  latest_sale_usd  \\\n",
       "0  2019-05-08T21:59:36.282454        216.99900   \n",
       "1  2021-11-21T09:55:15.388526        694.39680   \n",
       "2  2021-09-20T02:11:59.437808        212.65902   \n",
       "3  2021-11-21T09:55:15.388526       1518.99300   \n",
       "4  2021-11-21T09:55:15.388526        759.49650   \n",
       "5  2021-06-11T20:20:31.010037        130.19940   \n",
       "6  2021-11-21T09:55:15.388526       1084.99500   \n",
       "7  2021-11-21T09:55:15.388526       1301.99400   \n",
       "8  2021-11-12T09:10:35.046659        650.99700   \n",
       "9  2021-10-14T02:47:29.060220        520.79760   \n",
       "\n",
       "                                         description @latest_sale_timestamp  \\\n",
       "0                     `cryptomeme.eth`, an ENS name.    2021-11-21T15:06:11   \n",
       "1                                               None    2021-11-21T15:06:47   \n",
       "2                                               None    2021-11-21T15:06:47   \n",
       "3                                               None    2021-11-21T15:06:47   \n",
       "4                                               None    2021-11-21T15:06:11   \n",
       "5                                               None    2021-11-21T15:06:47   \n",
       "6                                               None    2021-11-21T15:06:47   \n",
       "7                                               None    2021-11-21T15:06:55   \n",
       "8  When nounsdaos meets doodles. Not affiliated w...    2021-11-21T15:06:47   \n",
       "9  This one-of-a-kind OG:Crystal reflects both th...    2021-11-21T15:06:55   \n",
       "\n",
       "                               external_link  \\\n",
       "0  https://app.ens.domains/search/cryptomeme   \n",
       "1                         https://feudalz.io   \n",
       "2                                       None   \n",
       "3                         https://feudalz.io   \n",
       "4                         https://feudalz.io   \n",
       "5                                       None   \n",
       "6                         https://feudalz.io   \n",
       "7                         https://feudalz.io   \n",
       "8                                       None   \n",
       "9                     https://ogcrystals.com   \n",
       "\n",
       "                                             twitter  \\\n",
       "0  https://cdn.syndication.twimg.com/widgets/foll...   \n",
       "1                                               None   \n",
       "2  https://cdn.syndication.twimg.com/widgets/foll...   \n",
       "3                                               None   \n",
       "4                                               None   \n",
       "5  https://cdn.syndication.twimg.com/widgets/foll...   \n",
       "6                                               None   \n",
       "7                                               None   \n",
       "8  https://cdn.syndication.twimg.com/widgets/foll...   \n",
       "9  https://cdn.syndication.twimg.com/widgets/foll...   \n",
       "\n",
       "                                            token_id  \\\n",
       "0  7796771725932166225105739356350427289626824723...   \n",
       "1                                               2388   \n",
       "2                                               8390   \n",
       "3                                                979   \n",
       "4                                                711   \n",
       "5  2309538745211295593732510463759595317529580894...   \n",
       "6                                               1167   \n",
       "7                                               1611   \n",
       "8                                               4847   \n",
       "9                                                785   \n",
       "\n",
       "                                            img_path twitter_follower  \\\n",
       "0  D:\\Code\\datascience\\opensea_scapper\\opensea_nf...           115707   \n",
       "1  D:\\Code\\datascience\\opensea_scapper\\opensea_nf...             None   \n",
       "2  D:\\Code\\datascience\\opensea_scapper\\opensea_nf...             None   \n",
       "3  D:\\Code\\datascience\\opensea_scapper\\opensea_nf...             None   \n",
       "4  D:\\Code\\datascience\\opensea_scapper\\opensea_nf...             None   \n",
       "5  D:\\Code\\datascience\\opensea_scapper\\opensea_nf...             1399   \n",
       "6  D:\\Code\\datascience\\opensea_scapper\\opensea_nf...             None   \n",
       "7  D:\\Code\\datascience\\opensea_scapper\\opensea_nf...             None   \n",
       "8  D:\\Code\\datascience\\opensea_scapper\\opensea_nf...             4102   \n",
       "9  D:\\Code\\datascience\\opensea_scapper\\opensea_nf...            10826   \n",
       "\n",
       "                           name                  collection_slug  \\\n",
       "0                cryptomeme.eth                              ens   \n",
       "1                         #2388                          feudalz   \n",
       "2  Primate Social Society #8390  primate-social-society-official   \n",
       "3                          #979                          feudalz   \n",
       "4                          #711                          feudalz   \n",
       "5           Lazy CryptoCat #824                   lazycryptocats   \n",
       "6                         #1167                          feudalz   \n",
       "7                         #1611                          feudalz   \n",
       "8                Noundles #4847                         noundles   \n",
       "9                OG:Crystal 785                      og-crystals   \n",
       "\n",
       "                                        preview_path  \\\n",
       "0  D:\\Code\\datascience\\opensea_scapper\\opensea_nf...   \n",
       "1  D:\\Code\\datascience\\opensea_scapper\\opensea_nf...   \n",
       "2  D:\\Code\\datascience\\opensea_scapper\\opensea_nf...   \n",
       "3  D:\\Code\\datascience\\opensea_scapper\\opensea_nf...   \n",
       "4  D:\\Code\\datascience\\opensea_scapper\\opensea_nf...   \n",
       "5  D:\\Code\\datascience\\opensea_scapper\\opensea_nf...   \n",
       "6  D:\\Code\\datascience\\opensea_scapper\\opensea_nf...   \n",
       "7  D:\\Code\\datascience\\opensea_scapper\\opensea_nf...   \n",
       "8  D:\\Code\\datascience\\opensea_scapper\\opensea_nf...   \n",
       "9  D:\\Code\\datascience\\opensea_scapper\\opensea_nf...   \n",
       "\n",
       "                              collection_description             instagram  \\\n",
       "0  Ethereum Name Service (ENS) domains are secure...                  None   \n",
       "1  Feudalz emerged to protect their Peasants. Whe...                  None   \n",
       "2  The Primate Social Society is a sophisticated ...  primatesocialsociety   \n",
       "3  Feudalz emerged to protect their Peasants. Whe...                  None   \n",
       "4  Feudalz emerged to protect their Peasants. Whe...                  None   \n",
       "5  Lazy CryptoCats is a collection of 3,500 uniqu...        lazycryptocats   \n",
       "6  Feudalz emerged to protect their Peasants. Whe...                  None   \n",
       "7  Feudalz emerged to protect their Peasants. Whe...                  None   \n",
       "8  Noundles is based on Nouns with a twist in sty...                  None   \n",
       "9  Explore the remarkable world of Organic Growth...                  None   \n",
       "\n",
       "  telegram_follower telegram instagram_follower  \n",
       "0              None     None               None  \n",
       "1              None     None               None  \n",
       "2              None     None               None  \n",
       "3              None     None               None  \n",
       "4              None     None               None  \n",
       "5              None     None               None  \n",
       "6              None     None               None  \n",
       "7              None     None               None  \n",
       "8              None     None               None  \n",
       "9              None     None               None  "
      ]
     },
     "execution_count": 10,
     "metadata": {},
     "output_type": "execute_result"
    }
   ],
   "source": [
    "elastic_df.head(10)"
   ]
  },
  {
   "cell_type": "code",
   "execution_count": 11,
   "metadata": {},
   "outputs": [
    {
     "data": {
      "text/plain": [
       "id                                                     BR1OSH0BaRL6QHS3ywjX\n",
       "creator                                                      AvarikSagaTeam\n",
       "collection_created                               2021-09-23T23:40:19.188743\n",
       "latest_sale_usd                                                    473.8503\n",
       "description               There's more to knighthood than making a mark ...\n",
       "@latest_sale_timestamp                                  2021-11-22T10:09:36\n",
       "external_link                                                          None\n",
       "twitter                                                                None\n",
       "token_id                                                               7049\n",
       "img_path                           C:\\nft_data\\img\\BR1OSH0BaRL6QHS3ywjX.jpg\n",
       "twitter_follower                                                       None\n",
       "name                                                    Glacian Squire #113\n",
       "collection_slug                                          avariksagauniverse\n",
       "preview_path              C:\\nft_data\\preview\\BR1OSH0BaRL6QHS3ywjX_noext...\n",
       "collection_description    Avarik Saga is the journey of the 8,888 genera...\n",
       "instagram                                                        avariksaga\n",
       "telegram_follower                                                      None\n",
       "telegram                                                               None\n",
       "instagram_follower                                                     None\n",
       "Name: 4541, dtype: object"
      ]
     },
     "execution_count": 11,
     "metadata": {},
     "output_type": "execute_result"
    }
   ],
   "source": [
    "# head doesn't show all columns - so I use this here:\n",
    "elastic_df.iloc[4541]"
   ]
  },
  {
   "cell_type": "code",
   "execution_count": 9,
   "metadata": {},
   "outputs": [
    {
     "data": {
      "text/plain": [
       "0     216.99900\n",
       "1     694.39680\n",
       "2     212.65902\n",
       "3    1518.99300\n",
       "4     759.49650\n",
       "5     130.19940\n",
       "6    1084.99500\n",
       "7    1301.99400\n",
       "8     650.99700\n",
       "9     520.79760\n",
       "Name: latest_sale_usd, dtype: float64"
      ]
     },
     "execution_count": 9,
     "metadata": {},
     "output_type": "execute_result"
    }
   ],
   "source": [
    "elastic_df['latest_sale_usd'][0:10]"
   ]
  },
  {
   "cell_type": "code",
   "execution_count": 16,
   "metadata": {},
   "outputs": [
    {
     "data": {
      "text/plain": [
       "Index(['id', 'creator', 'collection_created', 'latest_sale_usd', 'description',\n",
       "       '@latest_sale_timestamp', 'external_link', 'twitter', 'token_id',\n",
       "       'img_path', 'twitter_follower', 'name', 'collection_slug',\n",
       "       'preview_path', 'collection_description', 'instagram',\n",
       "       'telegram_follower', 'telegram', 'instagram_follower'],\n",
       "      dtype='object')"
      ]
     },
     "execution_count": 16,
     "metadata": {},
     "output_type": "execute_result"
    }
   ],
   "source": [
    "elastic_df.columns"
   ]
  },
  {
   "cell_type": "code",
   "execution_count": 9,
   "metadata": {},
   "outputs": [],
   "source": [
    "elastic_df.drop(['token_id'], inplace=True, axis=1)"
   ]
  },
  {
   "cell_type": "code",
   "execution_count": 18,
   "metadata": {},
   "outputs": [
    {
     "name": "stdout",
     "output_type": "stream",
     "text": [
      "<class 'pandas.core.frame.DataFrame'>\n",
      "RangeIndex: 10000 entries, 0 to 9999\n",
      "Data columns (total 18 columns):\n",
      " #   Column                  Non-Null Count  Dtype  \n",
      "---  ------                  --------------  -----  \n",
      " 0   id                      10000 non-null  object \n",
      " 1   creator                 9897 non-null   object \n",
      " 2   collection_created      10000 non-null  object \n",
      " 3   latest_sale_usd         10000 non-null  float64\n",
      " 4   description             7739 non-null   object \n",
      " 5   @latest_sale_timestamp  10000 non-null  object \n",
      " 6   external_link           2701 non-null   object \n",
      " 7   twitter                 2070 non-null   object \n",
      " 8   img_path                9836 non-null   object \n",
      " 9   twitter_follower        1992 non-null   object \n",
      " 10  name                    9678 non-null   object \n",
      " 11  collection_slug         10000 non-null  object \n",
      " 12  preview_path            10000 non-null  object \n",
      " 13  collection_description  9892 non-null   object \n",
      " 14  instagram               4515 non-null   object \n",
      " 15  telegram_follower       157 non-null    object \n",
      " 16  telegram                171 non-null    object \n",
      " 17  instagram_follower      47 non-null     object \n",
      "dtypes: float64(1), object(17)\n",
      "memory usage: 1.4+ MB\n"
     ]
    }
   ],
   "source": [
    "elastic_df.info()"
   ]
  },
  {
   "cell_type": "code",
   "execution_count": 11,
   "metadata": {},
   "outputs": [
    {
     "data": {
      "image/png": "[encoded data removed]",
      "text/plain": [
       "<Figure size 2160x720 with 1 Axes>"
      ]
     },
     "metadata": {
      "needs_background": "light"
     },
     "output_type": "display_data"
    }
   ],
   "source": [
    "plt.figure(figsize = (30,10))\n",
    "sns.kdeplot(elastic_df['latest_sale_usd'], bw_method=0.01, fill = True)\n",
    "plt.show()"
   ]
  },
  {
   "cell_type": "code",
   "execution_count": 20,
   "metadata": {},
   "outputs": [
    {
     "data": {
      "text/plain": [
       "0       2021-11-21T15:06:11\n",
       "1       2021-11-21T15:06:47\n",
       "2       2021-11-21T15:06:47\n",
       "3       2021-11-21T15:06:47\n",
       "4       2021-11-21T15:06:11\n",
       "               ...         \n",
       "9995    2021-11-23T18:45:47\n",
       "9996    2021-11-23T18:45:02\n",
       "9997    2021-11-23T18:45:02\n",
       "9998    2021-11-23T18:44:47\n",
       "9999    2021-11-23T18:44:47\n",
       "Name: @latest_sale_timestamp, Length: 10000, dtype: object"
      ]
     },
     "execution_count": 20,
     "metadata": {},
     "output_type": "execute_result"
    }
   ],
   "source": [
    "elastic_df['@latest_sale_timestamp']"
   ]
  },
  {
   "cell_type": "code",
   "execution_count": 10,
   "metadata": {},
   "outputs": [],
   "source": [
    "import datetime\n",
    "from datetime import datetime"
   ]
  },
  {
   "cell_type": "code",
   "execution_count": 13,
   "metadata": {},
   "outputs": [
    {
     "data": {
      "text/plain": [
       "datetime.time(15, 6, 11)"
      ]
     },
     "execution_count": 13,
     "metadata": {},
     "output_type": "execute_result"
    }
   ],
   "source": [
    "datetime.fromisoformat(elastic_df['@latest_sale_timestamp'][0]).time()"
   ]
  },
  {
   "cell_type": "code",
   "execution_count": 11,
   "metadata": {},
   "outputs": [],
   "source": [
    "elastic_df['sale_time'] = elastic_df.apply(lambda row: \n",
    "                                      datetime.fromisoformat(row['@latest_sale_timestamp']).time().hour, axis=1)"
   ]
  },
  {
   "cell_type": "code",
   "execution_count": 25,
   "metadata": {},
   "outputs": [
    {
     "data": {
      "text/plain": [
       "15"
      ]
     },
     "execution_count": 25,
     "metadata": {},
     "output_type": "execute_result"
    }
   ],
   "source": [
    "elastic_df['sale_time'][0]"
   ]
  },
  {
   "cell_type": "code",
   "execution_count": 12,
   "metadata": {},
   "outputs": [],
   "source": [
    "elastic_df.drop(['@latest_sale_timestamp'], inplace=True, axis=1)"
   ]
  },
  {
   "cell_type": "code",
   "execution_count": 16,
   "metadata": {},
   "outputs": [
    {
     "data": {
      "text/plain": [
       "0       2019-05-08T21:59:36.282454\n",
       "1       2021-11-21T09:55:15.388526\n",
       "2       2021-09-20T02:11:59.437808\n",
       "3       2021-11-21T09:55:15.388526\n",
       "4       2021-11-21T09:55:15.388526\n",
       "                   ...            \n",
       "9995    2021-09-02T16:24:41.860547\n",
       "9996    2021-10-18T16:33:01.511379\n",
       "9997    2021-10-18T16:33:01.511379\n",
       "9998    2021-09-24T08:30:59.868398\n",
       "9999    2021-10-15T19:16:32.231037\n",
       "Name: collection_created, Length: 10000, dtype: object"
      ]
     },
     "execution_count": 16,
     "metadata": {},
     "output_type": "execute_result"
    }
   ],
   "source": [
    "elastic_df['collection_created']"
   ]
  },
  {
   "cell_type": "code",
   "execution_count": 13,
   "metadata": {},
   "outputs": [],
   "source": [
    "elastic_df['collection_created_year'] = elastic_df.apply(lambda row: \n",
    "                                      datetime.fromisoformat(row['collection_created']).year, axis=1)"
   ]
  },
  {
   "cell_type": "code",
   "execution_count": 17,
   "metadata": {},
   "outputs": [
    {
     "data": {
      "text/plain": [
       "0       2019\n",
       "1       2021\n",
       "2       2021\n",
       "3       2021\n",
       "4       2021\n",
       "        ... \n",
       "9995    2021\n",
       "9996    2021\n",
       "9997    2021\n",
       "9998    2021\n",
       "9999    2021\n",
       "Name: collection_created_year, Length: 10000, dtype: int64"
      ]
     },
     "execution_count": 17,
     "metadata": {},
     "output_type": "execute_result"
    }
   ],
   "source": [
    "elastic_df['collection_created_year']"
   ]
  },
  {
   "cell_type": "code",
   "execution_count": 45,
   "metadata": {},
   "outputs": [
    {
     "data": {
      "image/png": "[encoded data removed]",
      "text/plain": [
       "<Figure size 720x1080 with 1 Axes>"
      ]
     },
     "metadata": {},
     "output_type": "display_data"
    }
   ],
   "source": [
    "elastic_df['collection_created_year'].value_counts()[:10].plot.pie(figsize=(10,15), shadow=True, \n",
    "                                                 startangle=20, autopct='%1.1f%%', fontsize=10)\n",
    "plt.title(\"Collection created year\", fontsize=20)\n",
    "plt.show()"
   ]
  },
  {
   "cell_type": "code",
   "execution_count": 14,
   "metadata": {},
   "outputs": [],
   "source": [
    "elastic_df.drop(['collection_created_year'], inplace=True, axis=1)"
   ]
  },
  {
   "cell_type": "code",
   "execution_count": 15,
   "metadata": {},
   "outputs": [
    {
     "data": {
      "text/plain": [
       "1090"
      ]
     },
     "execution_count": 15,
     "metadata": {},
     "output_type": "execute_result"
    }
   ],
   "source": [
    "len(elastic_df['creator'].value_counts())"
   ]
  },
  {
   "cell_type": "code",
   "execution_count": 54,
   "metadata": {},
   "outputs": [
    {
     "data": {
      "text/plain": [
       "AvarikSagaTeam                                1135\n",
       "Noundles                                       487\n",
       "0x3549d95f144c0cc9eb5fc29fc8b6881a84d51536     478\n",
       "Feudalz-NFT                                    305\n",
       "0xc00f4b8022e4dc7f086d703328247cb6adf26858     252\n",
       "TheNinjaHideout                                235\n",
       "0x18dd4e0eb8699ea4fee238de41ecfb95e32272f8     199\n",
       "Ninja_Squad_NFT                                164\n",
       "Legend_Maps                                    159\n",
       "PagziTechInc                                   146\n",
       "Name: creator, dtype: int64"
      ]
     },
     "execution_count": 54,
     "metadata": {},
     "output_type": "execute_result"
    }
   ],
   "source": [
    "elastic_df['creator'].value_counts()[0:10]"
   ]
  },
  {
   "cell_type": "code",
   "execution_count": 20,
   "metadata": {},
   "outputs": [
    {
     "data": {
      "text/plain": [
       "1146"
      ]
     },
     "execution_count": 20,
     "metadata": {},
     "output_type": "execute_result"
    }
   ],
   "source": [
    "len(elastic_df['collection_slug'].value_counts()) #name of the collection, short name of any collection"
   ]
  },
  {
   "cell_type": "code",
   "execution_count": 19,
   "metadata": {},
   "outputs": [
    {
     "data": {
      "text/plain": [
       "avariksagauniverse        1124\n",
       "kumo-x-world-residents     742\n",
       "feudalz                    466\n",
       "noundles                   376\n",
       "zunks                      303\n",
       "theninjahideout            232\n",
       "sandbox                    219\n",
       "ninja-squad-official       155\n",
       "toyboogers                 129\n",
       "robotos-official           128\n",
       "Name: collection_slug, dtype: int64"
      ]
     },
     "execution_count": 19,
     "metadata": {},
     "output_type": "execute_result"
    }
   ],
   "source": [
    "elastic_df['collection_slug'].value_counts()[0:10]"
   ]
  },
  {
   "cell_type": "code",
   "execution_count": 16,
   "metadata": {},
   "outputs": [],
   "source": [
    "elastic_df.drop(['creator'], inplace=True, axis=1)"
   ]
  },
  {
   "cell_type": "code",
   "execution_count": 56,
   "metadata": {},
   "outputs": [
    {
     "name": "stdout",
     "output_type": "stream",
     "text": [
      "<class 'pandas.core.frame.DataFrame'>\n",
      "RangeIndex: 10000 entries, 0 to 9999\n",
      "Data columns (total 17 columns):\n",
      " #   Column                  Non-Null Count  Dtype  \n",
      "---  ------                  --------------  -----  \n",
      " 0   id                      10000 non-null  object \n",
      " 1   collection_created      10000 non-null  object \n",
      " 2   latest_sale_usd         10000 non-null  float64\n",
      " 3   description             7519 non-null   object \n",
      " 4   external_link           2952 non-null   object \n",
      " 5   twitter                 1942 non-null   object \n",
      " 6   img_path                9839 non-null   object \n",
      " 7   twitter_follower        1869 non-null   object \n",
      " 8   name                    9655 non-null   object \n",
      " 9   collection_slug         10000 non-null  object \n",
      " 10  preview_path            10000 non-null  object \n",
      " 11  collection_description  9880 non-null   object \n",
      " 12  instagram               3854 non-null   object \n",
      " 13  telegram_follower       141 non-null    object \n",
      " 14  telegram                159 non-null    object \n",
      " 15  instagram_follower      47 non-null     object \n",
      " 16  time                    10000 non-null  int64  \n",
      "dtypes: float64(1), int64(1), object(15)\n",
      "memory usage: 1.3+ MB\n"
     ]
    }
   ],
   "source": [
    "elastic_df.info()"
   ]
  },
  {
   "cell_type": "code",
   "execution_count": 59,
   "metadata": {},
   "outputs": [
    {
     "data": {
      "text/plain": [
       "0                        `cryptomeme.eth`, an ENS name.\n",
       "1                                                  None\n",
       "2                                                  None\n",
       "3                                                  None\n",
       "4                                                  None\n",
       "5                                                  None\n",
       "6                                                  None\n",
       "7                                                  None\n",
       "8     When nounsdaos meets doodles. Not affiliated w...\n",
       "9     This one-of-a-kind OG:Crystal reflects both th...\n",
       "10                                                 None\n",
       "11                                                 None\n",
       "12    Dirty Dogs are a collection of 7,000 unique Do...\n",
       "13    119m² parcel on 서울, 739m from the origin, with...\n",
       "14                                                 None\n",
       "15                                                 None\n",
       "16                        The deity is still in hiding.\n",
       "17    When nounsdaos meets doodles. Not affiliated w...\n",
       "18                                                 None\n",
       "19                                                 None\n",
       "Name: description, dtype: object"
      ]
     },
     "execution_count": 59,
     "metadata": {},
     "output_type": "execute_result"
    }
   ],
   "source": [
    "elastic_df['description'][0:20]"
   ]
  },
  {
   "cell_type": "code",
   "execution_count": 33,
   "metadata": {},
   "outputs": [
    {
     "data": {
      "text/html": [
       "<div>\n",
       "<style scoped>\n",
       "    .dataframe tbody tr th:only-of-type {\n",
       "        vertical-align: middle;\n",
       "    }\n",
       "\n",
       "    .dataframe tbody tr th {\n",
       "        vertical-align: top;\n",
       "    }\n",
       "\n",
       "    .dataframe thead th {\n",
       "        text-align: right;\n",
       "    }\n",
       "</style>\n",
       "<table border=\"1\" class=\"dataframe\">\n",
       "  <thead>\n",
       "    <tr style=\"text-align: right;\">\n",
       "      <th></th>\n",
       "      <th>Total</th>\n",
       "      <th>Percent</th>\n",
       "    </tr>\n",
       "  </thead>\n",
       "  <tbody>\n",
       "    <tr>\n",
       "      <th>instagram_follower</th>\n",
       "      <td>9953</td>\n",
       "      <td>0.9953</td>\n",
       "    </tr>\n",
       "    <tr>\n",
       "      <th>telegram_follower</th>\n",
       "      <td>9843</td>\n",
       "      <td>0.9843</td>\n",
       "    </tr>\n",
       "    <tr>\n",
       "      <th>telegram</th>\n",
       "      <td>9829</td>\n",
       "      <td>0.9829</td>\n",
       "    </tr>\n",
       "    <tr>\n",
       "      <th>twitter_follower</th>\n",
       "      <td>8008</td>\n",
       "      <td>0.8008</td>\n",
       "    </tr>\n",
       "    <tr>\n",
       "      <th>twitter</th>\n",
       "      <td>7930</td>\n",
       "      <td>0.7930</td>\n",
       "    </tr>\n",
       "    <tr>\n",
       "      <th>external_link</th>\n",
       "      <td>7299</td>\n",
       "      <td>0.7299</td>\n",
       "    </tr>\n",
       "    <tr>\n",
       "      <th>instagram</th>\n",
       "      <td>5485</td>\n",
       "      <td>0.5485</td>\n",
       "    </tr>\n",
       "    <tr>\n",
       "      <th>description</th>\n",
       "      <td>2261</td>\n",
       "      <td>0.2261</td>\n",
       "    </tr>\n",
       "    <tr>\n",
       "      <th>name</th>\n",
       "      <td>322</td>\n",
       "      <td>0.0322</td>\n",
       "    </tr>\n",
       "    <tr>\n",
       "      <th>img_path</th>\n",
       "      <td>164</td>\n",
       "      <td>0.0164</td>\n",
       "    </tr>\n",
       "    <tr>\n",
       "      <th>collection_description</th>\n",
       "      <td>108</td>\n",
       "      <td>0.0108</td>\n",
       "    </tr>\n",
       "    <tr>\n",
       "      <th>id</th>\n",
       "      <td>0</td>\n",
       "      <td>0.0000</td>\n",
       "    </tr>\n",
       "    <tr>\n",
       "      <th>sale_time</th>\n",
       "      <td>0</td>\n",
       "      <td>0.0000</td>\n",
       "    </tr>\n",
       "    <tr>\n",
       "      <th>collection_slug</th>\n",
       "      <td>0</td>\n",
       "      <td>0.0000</td>\n",
       "    </tr>\n",
       "    <tr>\n",
       "      <th>preview_path</th>\n",
       "      <td>0</td>\n",
       "      <td>0.0000</td>\n",
       "    </tr>\n",
       "    <tr>\n",
       "      <th>collection_created</th>\n",
       "      <td>0</td>\n",
       "      <td>0.0000</td>\n",
       "    </tr>\n",
       "    <tr>\n",
       "      <th>latest_sale_usd</th>\n",
       "      <td>0</td>\n",
       "      <td>0.0000</td>\n",
       "    </tr>\n",
       "    <tr>\n",
       "      <th>collection_created_year</th>\n",
       "      <td>0</td>\n",
       "      <td>0.0000</td>\n",
       "    </tr>\n",
       "  </tbody>\n",
       "</table>\n",
       "</div>"
      ],
      "text/plain": [
       "                         Total  Percent\n",
       "instagram_follower        9953   0.9953\n",
       "telegram_follower         9843   0.9843\n",
       "telegram                  9829   0.9829\n",
       "twitter_follower          8008   0.8008\n",
       "twitter                   7930   0.7930\n",
       "external_link             7299   0.7299\n",
       "instagram                 5485   0.5485\n",
       "description               2261   0.2261\n",
       "name                       322   0.0322\n",
       "img_path                   164   0.0164\n",
       "collection_description     108   0.0108\n",
       "id                           0   0.0000\n",
       "sale_time                    0   0.0000\n",
       "collection_slug              0   0.0000\n",
       "preview_path                 0   0.0000\n",
       "collection_created           0   0.0000\n",
       "latest_sale_usd              0   0.0000\n",
       "collection_created_year      0   0.0000"
      ]
     },
     "execution_count": 33,
     "metadata": {},
     "output_type": "execute_result"
    }
   ],
   "source": [
    "total = elastic_df.isnull().sum().sort_values(ascending=False)\n",
    "percent = (elastic_df.isnull().sum()/elastic_df.isnull().count()).sort_values(ascending=False)\n",
    "missing_data = pandas.concat([total, percent], axis=1, keys=['Total', 'Percent'])\n",
    "missing_data"
   ]
  },
  {
   "cell_type": "code",
   "execution_count": 17,
   "metadata": {},
   "outputs": [],
   "source": [
    "elastic_df['collection_description'].fillna(\"\", inplace = True)"
   ]
  },
  {
   "cell_type": "code",
   "execution_count": 18,
   "metadata": {},
   "outputs": [],
   "source": [
    "def descriptionFill(row):\n",
    "    if row['description'] == None:\n",
    "        return row['collection_description']\n",
    "    else:\n",
    "        return row['description']\n",
    "        \n",
    "\n",
    "elastic_df['description'] = elastic_df.apply(lambda row : descriptionFill(row), axis = 1)"
   ]
  },
  {
   "cell_type": "code",
   "execution_count": 23,
   "metadata": {},
   "outputs": [
    {
     "data": {
      "text/html": [
       "<div>\n",
       "<style scoped>\n",
       "    .dataframe tbody tr th:only-of-type {\n",
       "        vertical-align: middle;\n",
       "    }\n",
       "\n",
       "    .dataframe tbody tr th {\n",
       "        vertical-align: top;\n",
       "    }\n",
       "\n",
       "    .dataframe thead th {\n",
       "        text-align: right;\n",
       "    }\n",
       "</style>\n",
       "<table border=\"1\" class=\"dataframe\">\n",
       "  <thead>\n",
       "    <tr style=\"text-align: right;\">\n",
       "      <th></th>\n",
       "      <th>Total</th>\n",
       "      <th>Percent</th>\n",
       "    </tr>\n",
       "  </thead>\n",
       "  <tbody>\n",
       "    <tr>\n",
       "      <th>instagram_follower</th>\n",
       "      <td>9953</td>\n",
       "      <td>0.9953</td>\n",
       "    </tr>\n",
       "    <tr>\n",
       "      <th>telegram_follower</th>\n",
       "      <td>9843</td>\n",
       "      <td>0.9843</td>\n",
       "    </tr>\n",
       "    <tr>\n",
       "      <th>telegram</th>\n",
       "      <td>9829</td>\n",
       "      <td>0.9829</td>\n",
       "    </tr>\n",
       "    <tr>\n",
       "      <th>twitter_follower</th>\n",
       "      <td>8008</td>\n",
       "      <td>0.8008</td>\n",
       "    </tr>\n",
       "    <tr>\n",
       "      <th>twitter</th>\n",
       "      <td>7930</td>\n",
       "      <td>0.7930</td>\n",
       "    </tr>\n",
       "    <tr>\n",
       "      <th>external_link</th>\n",
       "      <td>7299</td>\n",
       "      <td>0.7299</td>\n",
       "    </tr>\n",
       "    <tr>\n",
       "      <th>instagram</th>\n",
       "      <td>5485</td>\n",
       "      <td>0.5485</td>\n",
       "    </tr>\n",
       "    <tr>\n",
       "      <th>name</th>\n",
       "      <td>322</td>\n",
       "      <td>0.0322</td>\n",
       "    </tr>\n",
       "    <tr>\n",
       "      <th>img_path</th>\n",
       "      <td>164</td>\n",
       "      <td>0.0164</td>\n",
       "    </tr>\n",
       "    <tr>\n",
       "      <th>collection_description</th>\n",
       "      <td>0</td>\n",
       "      <td>0.0000</td>\n",
       "    </tr>\n",
       "    <tr>\n",
       "      <th>id</th>\n",
       "      <td>0</td>\n",
       "      <td>0.0000</td>\n",
       "    </tr>\n",
       "    <tr>\n",
       "      <th>preview_path</th>\n",
       "      <td>0</td>\n",
       "      <td>0.0000</td>\n",
       "    </tr>\n",
       "    <tr>\n",
       "      <th>collection_slug</th>\n",
       "      <td>0</td>\n",
       "      <td>0.0000</td>\n",
       "    </tr>\n",
       "    <tr>\n",
       "      <th>collection_created</th>\n",
       "      <td>0</td>\n",
       "      <td>0.0000</td>\n",
       "    </tr>\n",
       "    <tr>\n",
       "      <th>description</th>\n",
       "      <td>0</td>\n",
       "      <td>0.0000</td>\n",
       "    </tr>\n",
       "    <tr>\n",
       "      <th>latest_sale_usd</th>\n",
       "      <td>0</td>\n",
       "      <td>0.0000</td>\n",
       "    </tr>\n",
       "    <tr>\n",
       "      <th>sale_time</th>\n",
       "      <td>0</td>\n",
       "      <td>0.0000</td>\n",
       "    </tr>\n",
       "  </tbody>\n",
       "</table>\n",
       "</div>"
      ],
      "text/plain": [
       "                        Total  Percent\n",
       "instagram_follower       9953   0.9953\n",
       "telegram_follower        9843   0.9843\n",
       "telegram                 9829   0.9829\n",
       "twitter_follower         8008   0.8008\n",
       "twitter                  7930   0.7930\n",
       "external_link            7299   0.7299\n",
       "instagram                5485   0.5485\n",
       "name                      322   0.0322\n",
       "img_path                  164   0.0164\n",
       "collection_description      0   0.0000\n",
       "id                          0   0.0000\n",
       "preview_path                0   0.0000\n",
       "collection_slug             0   0.0000\n",
       "collection_created          0   0.0000\n",
       "description                 0   0.0000\n",
       "latest_sale_usd             0   0.0000\n",
       "sale_time                   0   0.0000"
      ]
     },
     "execution_count": 23,
     "metadata": {},
     "output_type": "execute_result"
    }
   ],
   "source": [
    "total = elastic_df.isnull().sum().sort_values(ascending=False)\n",
    "percent = (elastic_df.isnull().sum()/elastic_df.isnull().count()).sort_values(ascending=False)\n",
    "missing_data = pandas.concat([total, percent], axis=1, keys=['Total', 'Percent'])\n",
    "missing_data"
   ]
  },
  {
   "cell_type": "code",
   "execution_count": 33,
   "metadata": {},
   "outputs": [
    {
     "data": {
      "text/plain": [
       "0                  cryptomeme.eth\n",
       "1                           #2388\n",
       "2    Primate Social Society #8390\n",
       "3                            #979\n",
       "4                            #711\n",
       "Name: name, dtype: object"
      ]
     },
     "execution_count": 33,
     "metadata": {},
     "output_type": "execute_result"
    }
   ],
   "source": [
    "elastic_df['name'].head()"
   ]
  },
  {
   "cell_type": "code",
   "execution_count": 53,
   "metadata": {},
   "outputs": [
    {
     "name": "stdout",
     "output_type": "stream",
     "text": [
      "CAT BREAD                   13\n",
      "BlockchainMiners             6\n",
      "Ape Harmony Monster Club     5\n",
      "Cyber Zombie Society         4\n",
      "Orc                          4\n",
      "                            ..\n",
      "Paladin Panda#6718           1\n",
      "World #3510                  1\n",
      "Meebit #699                  1\n",
      "Noundles #5785               1\n",
      "SlimHood #1400               1\n",
      "Name: name, Length: 9557, dtype: int64\n"
     ]
    }
   ],
   "source": [
    "#name of one asset\n",
    "print(elastic_df['name'].value_counts())"
   ]
  },
  {
   "cell_type": "code",
   "execution_count": 66,
   "metadata": {},
   "outputs": [
    {
     "data": {
      "text/plain": [
       "id                                                     Js4sQ30Bnd7hjRQyh96f\n",
       "collection_created                               2021-03-14T04:17:45.688630\n",
       "latest_sale_usd                                                   1437.3843\n",
       "description               Billie Eyelash has retired from singing and ha...\n",
       "external_link                                                          None\n",
       "twitter                   https://cdn.syndication.twimg.com/widgets/foll...\n",
       "img_path                  D:\\Code\\datascience\\opensea_scapper\\opensea_nf...\n",
       "twitter_follower                                                      15867\n",
       "name                                                       Crypto Perv #289\n",
       "collection_slug                                                 cryptopervs\n",
       "preview_path              D:\\Code\\datascience\\opensea_scapper\\opensea_nf...\n",
       "collection_description    A collection of 1000 Pervs. All Pervs are uniq...\n",
       "instagram                                                                  \n",
       "telegram_follower                                                      None\n",
       "telegram                                                               None\n",
       "instagram_follower                                                     None\n",
       "sale_time                                                                15\n",
       "instagram_account                                                         0\n",
       "Name: 135, dtype: object"
      ]
     },
     "execution_count": 66,
     "metadata": {},
     "output_type": "execute_result"
    }
   ],
   "source": [
    "elastic_df.iloc[135]"
   ]
  },
  {
   "cell_type": "code",
   "execution_count": 19,
   "metadata": {},
   "outputs": [],
   "source": [
    "import re"
   ]
  },
  {
   "cell_type": "code",
   "execution_count": 22,
   "metadata": {},
   "outputs": [],
   "source": [
    "#def nameNone(row):\n",
    "#    if row['name'] == None:\n",
    "#        return 'no name'\n",
    "#    else:\n",
    "#        return row['name']\n",
    "        \n",
    "#elastic_df['name_try'] = elastic_df.apply(lambda row : nameNone(row), axis = 1)"
   ]
  },
  {
   "cell_type": "code",
   "execution_count": 20,
   "metadata": {},
   "outputs": [],
   "source": [
    "#unique name = 1/yes (as a rule unique asset has a unique name without numbers or collection's name).\n",
    "#not unique name = 0/no\n",
    "def unique_name(row):\n",
    "    if row['name'] == None: #all missing values are 0, because these names aren't unique\n",
    "        return 0\n",
    "    search_number = re.search('#[0-9]', row['name']) #all names with #1234 are also not unique\n",
    "    if search_number != None:\n",
    "        return 0\n",
    "    search_number = re.search('^[0-9]+$', row['name']) #all names with 1234 are also not unique\n",
    "    if search_number != None:\n",
    "        return 0\n",
    "    #comparison of the name of an asset & collection's name. First we need to prepare the text \n",
    "    lowercase = row['name'].lower()\n",
    "    minus = re.compile('[^a-zA-Z]|official')\n",
    "    minus_case = re.sub(minus, '', lowercase)\n",
    "    if row['collection_slug'] != None:\n",
    "        slug = row['collection_slug'].lower()\n",
    "        slug_clean = re.sub(minus, '', lowercase)\n",
    "        if len(slug_clean) > 0 and slug_clean == minus_case:\n",
    "            return 0\n",
    "    print(row['collection_slug'], row['name'], minus_case)    \n",
    "    return 1  "
   ]
  },
  {
   "cell_type": "code",
   "execution_count": 21,
   "metadata": {},
   "outputs": [
    {
     "name": "stdout",
     "output_type": "stream",
     "text": [
      "cryptovoxels 17 외대역동로 \n",
      "ilyakazakov たまこ \n",
      "theyolkfrat  \n",
      "jungle-guardian 𝕿𝖍𝖊 𝕲𝖚𝖆𝖗𝖉𝖎𝖆𝖓 \n",
      "theyolkfrat  \n"
     ]
    }
   ],
   "source": [
    "elastic_df['unique_asset'] = elastic_df.apply(lambda row : unique_name(row), axis = 1)"
   ]
  },
  {
   "cell_type": "code",
   "execution_count": 69,
   "metadata": {},
   "outputs": [
    {
     "data": {
      "text/plain": [
       "0    9995\n",
       "1       5\n",
       "Name: unique_asset, dtype: int64"
      ]
     },
     "execution_count": 69,
     "metadata": {},
     "output_type": "execute_result"
    }
   ],
   "source": [
    "elastic_df['unique_asset'].value_counts()"
   ]
  },
  {
   "cell_type": "code",
   "execution_count": 138,
   "metadata": {},
   "outputs": [
    {
     "name": "stdout",
     "output_type": "stream",
     "text": [
      "nameheyholaz\n"
     ]
    }
   ],
   "source": [
    "lowercase = 'Name _Hey-Holaz??! official'.lower()\n",
    "minus = re.compile('[^a-zA-Z]|official')\n",
    "minus_case = re.sub(minus, '', lowercase)\n",
    "print(minus_case)"
   ]
  },
  {
   "cell_type": "code",
   "execution_count": 22,
   "metadata": {},
   "outputs": [],
   "source": [
    "# instagram account? yes - 1, no -0\n",
    "def instAcc(row):\n",
    "    if row['instagram'] == None:\n",
    "        return 0\n",
    "    else:\n",
    "        return 1\n",
    "        \n",
    "elastic_df['instagram_account'] = elastic_df.apply(lambda row : instAcc(row), axis = 1)"
   ]
  },
  {
   "cell_type": "code",
   "execution_count": 28,
   "metadata": {},
   "outputs": [
    {
     "data": {
      "text/plain": [
       "0    5485\n",
       "1    4515\n",
       "Name: instagram_account, dtype: int64"
      ]
     },
     "execution_count": 28,
     "metadata": {},
     "output_type": "execute_result"
    }
   ],
   "source": [
    "elastic_df['instagram_account'].value_counts()"
   ]
  },
  {
   "cell_type": "code",
   "execution_count": 23,
   "metadata": {},
   "outputs": [],
   "source": [
    "elastic_df['name'].fillna(\"\", inplace = True)"
   ]
  },
  {
   "cell_type": "code",
   "execution_count": 24,
   "metadata": {},
   "outputs": [],
   "source": [
    "elastic_df.drop(['instagram_follower', 'telegram_follower', \n",
    "                'telegram'], inplace=True, axis=1)"
   ]
  },
  {
   "cell_type": "code",
   "execution_count": 31,
   "metadata": {},
   "outputs": [
    {
     "data": {
      "text/html": [
       "<div>\n",
       "<style scoped>\n",
       "    .dataframe tbody tr th:only-of-type {\n",
       "        vertical-align: middle;\n",
       "    }\n",
       "\n",
       "    .dataframe tbody tr th {\n",
       "        vertical-align: top;\n",
       "    }\n",
       "\n",
       "    .dataframe thead th {\n",
       "        text-align: right;\n",
       "    }\n",
       "</style>\n",
       "<table border=\"1\" class=\"dataframe\">\n",
       "  <thead>\n",
       "    <tr style=\"text-align: right;\">\n",
       "      <th></th>\n",
       "      <th>Total</th>\n",
       "      <th>Percent</th>\n",
       "    </tr>\n",
       "  </thead>\n",
       "  <tbody>\n",
       "    <tr>\n",
       "      <th>twitter_follower</th>\n",
       "      <td>8008</td>\n",
       "      <td>0.8008</td>\n",
       "    </tr>\n",
       "    <tr>\n",
       "      <th>twitter</th>\n",
       "      <td>7930</td>\n",
       "      <td>0.7930</td>\n",
       "    </tr>\n",
       "    <tr>\n",
       "      <th>external_link</th>\n",
       "      <td>7299</td>\n",
       "      <td>0.7299</td>\n",
       "    </tr>\n",
       "    <tr>\n",
       "      <th>instagram</th>\n",
       "      <td>5485</td>\n",
       "      <td>0.5485</td>\n",
       "    </tr>\n",
       "    <tr>\n",
       "      <th>img_path</th>\n",
       "      <td>164</td>\n",
       "      <td>0.0164</td>\n",
       "    </tr>\n",
       "    <tr>\n",
       "      <th>id</th>\n",
       "      <td>0</td>\n",
       "      <td>0.0000</td>\n",
       "    </tr>\n",
       "    <tr>\n",
       "      <th>collection_created</th>\n",
       "      <td>0</td>\n",
       "      <td>0.0000</td>\n",
       "    </tr>\n",
       "    <tr>\n",
       "      <th>latest_sale_usd</th>\n",
       "      <td>0</td>\n",
       "      <td>0.0000</td>\n",
       "    </tr>\n",
       "    <tr>\n",
       "      <th>description</th>\n",
       "      <td>0</td>\n",
       "      <td>0.0000</td>\n",
       "    </tr>\n",
       "    <tr>\n",
       "      <th>name</th>\n",
       "      <td>0</td>\n",
       "      <td>0.0000</td>\n",
       "    </tr>\n",
       "    <tr>\n",
       "      <th>collection_slug</th>\n",
       "      <td>0</td>\n",
       "      <td>0.0000</td>\n",
       "    </tr>\n",
       "    <tr>\n",
       "      <th>preview_path</th>\n",
       "      <td>0</td>\n",
       "      <td>0.0000</td>\n",
       "    </tr>\n",
       "    <tr>\n",
       "      <th>collection_description</th>\n",
       "      <td>0</td>\n",
       "      <td>0.0000</td>\n",
       "    </tr>\n",
       "    <tr>\n",
       "      <th>sale_time</th>\n",
       "      <td>0</td>\n",
       "      <td>0.0000</td>\n",
       "    </tr>\n",
       "    <tr>\n",
       "      <th>unique_asset</th>\n",
       "      <td>0</td>\n",
       "      <td>0.0000</td>\n",
       "    </tr>\n",
       "    <tr>\n",
       "      <th>instagram_account</th>\n",
       "      <td>0</td>\n",
       "      <td>0.0000</td>\n",
       "    </tr>\n",
       "  </tbody>\n",
       "</table>\n",
       "</div>"
      ],
      "text/plain": [
       "                        Total  Percent\n",
       "twitter_follower         8008   0.8008\n",
       "twitter                  7930   0.7930\n",
       "external_link            7299   0.7299\n",
       "instagram                5485   0.5485\n",
       "img_path                  164   0.0164\n",
       "id                          0   0.0000\n",
       "collection_created          0   0.0000\n",
       "latest_sale_usd             0   0.0000\n",
       "description                 0   0.0000\n",
       "name                        0   0.0000\n",
       "collection_slug             0   0.0000\n",
       "preview_path                0   0.0000\n",
       "collection_description      0   0.0000\n",
       "sale_time                   0   0.0000\n",
       "unique_asset                0   0.0000\n",
       "instagram_account           0   0.0000"
      ]
     },
     "execution_count": 31,
     "metadata": {},
     "output_type": "execute_result"
    }
   ],
   "source": [
    "total = elastic_df.isnull().sum().sort_values(ascending=False)\n",
    "percent = (elastic_df.isnull().sum()/elastic_df.isnull().count()).sort_values(ascending=False)\n",
    "missing_data = pandas.concat([total, percent], axis=1, keys=['Total', 'Percent'])\n",
    "missing_data"
   ]
  },
  {
   "cell_type": "code",
   "execution_count": 25,
   "metadata": {},
   "outputs": [],
   "source": [
    "#account? yes - 1, no -0\n",
    "def twiterAcc(row):\n",
    "    if row['twitter'] == None:\n",
    "        return 0\n",
    "    else:\n",
    "        return 1\n",
    "        \n",
    "elastic_df['twitter_account'] = elastic_df.apply(lambda row : twiterAcc(row), axis = 1)"
   ]
  },
  {
   "cell_type": "code",
   "execution_count": 26,
   "metadata": {},
   "outputs": [],
   "source": [
    "def follower_twitter(row):\n",
    "    if row['twitter_follower'] == None:\n",
    "        return 0\n",
    "    else:\n",
    "        return row['twitter_follower']\n",
    "        \n",
    "elastic_df['follower_twitter'] = elastic_df.apply(lambda row : follower_twitter(row), axis = 1)"
   ]
  },
  {
   "cell_type": "code",
   "execution_count": 27,
   "metadata": {},
   "outputs": [],
   "source": [
    "elastic_df.drop(['twitter_follower'], inplace=True, axis=1)"
   ]
  },
  {
   "cell_type": "code",
   "execution_count": 28,
   "metadata": {},
   "outputs": [],
   "source": [
    "elastic_df['twitter'].fillna(\"\", inplace = True)\n",
    "elastic_df['instagram'].fillna(\"\", inplace = True)"
   ]
  },
  {
   "cell_type": "code",
   "execution_count": 29,
   "metadata": {},
   "outputs": [],
   "source": [
    "elastic_df.drop(['collection_created', 'twitter'], inplace=True, axis=1)"
   ]
  },
  {
   "cell_type": "code",
   "execution_count": 37,
   "metadata": {},
   "outputs": [
    {
     "data": {
      "text/html": [
       "<div>\n",
       "<style scoped>\n",
       "    .dataframe tbody tr th:only-of-type {\n",
       "        vertical-align: middle;\n",
       "    }\n",
       "\n",
       "    .dataframe tbody tr th {\n",
       "        vertical-align: top;\n",
       "    }\n",
       "\n",
       "    .dataframe thead th {\n",
       "        text-align: right;\n",
       "    }\n",
       "</style>\n",
       "<table border=\"1\" class=\"dataframe\">\n",
       "  <thead>\n",
       "    <tr style=\"text-align: right;\">\n",
       "      <th></th>\n",
       "      <th>Total</th>\n",
       "      <th>Percent</th>\n",
       "    </tr>\n",
       "  </thead>\n",
       "  <tbody>\n",
       "    <tr>\n",
       "      <th>external_link</th>\n",
       "      <td>7299</td>\n",
       "      <td>0.7299</td>\n",
       "    </tr>\n",
       "    <tr>\n",
       "      <th>img_path</th>\n",
       "      <td>164</td>\n",
       "      <td>0.0164</td>\n",
       "    </tr>\n",
       "    <tr>\n",
       "      <th>id</th>\n",
       "      <td>0</td>\n",
       "      <td>0.0000</td>\n",
       "    </tr>\n",
       "    <tr>\n",
       "      <th>latest_sale_usd</th>\n",
       "      <td>0</td>\n",
       "      <td>0.0000</td>\n",
       "    </tr>\n",
       "    <tr>\n",
       "      <th>description</th>\n",
       "      <td>0</td>\n",
       "      <td>0.0000</td>\n",
       "    </tr>\n",
       "    <tr>\n",
       "      <th>name</th>\n",
       "      <td>0</td>\n",
       "      <td>0.0000</td>\n",
       "    </tr>\n",
       "    <tr>\n",
       "      <th>collection_slug</th>\n",
       "      <td>0</td>\n",
       "      <td>0.0000</td>\n",
       "    </tr>\n",
       "    <tr>\n",
       "      <th>preview_path</th>\n",
       "      <td>0</td>\n",
       "      <td>0.0000</td>\n",
       "    </tr>\n",
       "    <tr>\n",
       "      <th>collection_description</th>\n",
       "      <td>0</td>\n",
       "      <td>0.0000</td>\n",
       "    </tr>\n",
       "    <tr>\n",
       "      <th>instagram</th>\n",
       "      <td>0</td>\n",
       "      <td>0.0000</td>\n",
       "    </tr>\n",
       "    <tr>\n",
       "      <th>sale_time</th>\n",
       "      <td>0</td>\n",
       "      <td>0.0000</td>\n",
       "    </tr>\n",
       "    <tr>\n",
       "      <th>unique_asset</th>\n",
       "      <td>0</td>\n",
       "      <td>0.0000</td>\n",
       "    </tr>\n",
       "    <tr>\n",
       "      <th>instagram_account</th>\n",
       "      <td>0</td>\n",
       "      <td>0.0000</td>\n",
       "    </tr>\n",
       "    <tr>\n",
       "      <th>twitter_account</th>\n",
       "      <td>0</td>\n",
       "      <td>0.0000</td>\n",
       "    </tr>\n",
       "    <tr>\n",
       "      <th>follower_twitter</th>\n",
       "      <td>0</td>\n",
       "      <td>0.0000</td>\n",
       "    </tr>\n",
       "  </tbody>\n",
       "</table>\n",
       "</div>"
      ],
      "text/plain": [
       "                        Total  Percent\n",
       "external_link            7299   0.7299\n",
       "img_path                  164   0.0164\n",
       "id                          0   0.0000\n",
       "latest_sale_usd             0   0.0000\n",
       "description                 0   0.0000\n",
       "name                        0   0.0000\n",
       "collection_slug             0   0.0000\n",
       "preview_path                0   0.0000\n",
       "collection_description      0   0.0000\n",
       "instagram                   0   0.0000\n",
       "sale_time                   0   0.0000\n",
       "unique_asset                0   0.0000\n",
       "instagram_account           0   0.0000\n",
       "twitter_account             0   0.0000\n",
       "follower_twitter            0   0.0000"
      ]
     },
     "execution_count": 37,
     "metadata": {},
     "output_type": "execute_result"
    }
   ],
   "source": [
    "total = elastic_df.isnull().sum().sort_values(ascending=False)\n",
    "percent = (elastic_df.isnull().sum()/elastic_df.isnull().count()).sort_values(ascending=False)\n",
    "missing_data = pandas.concat([total, percent], axis=1, keys=['Total', 'Percent'])\n",
    "missing_data"
   ]
  },
  {
   "cell_type": "code",
   "execution_count": 39,
   "metadata": {},
   "outputs": [
    {
     "data": {
      "text/plain": [
       "0                     cryptomeme.eth\n",
       "1                              #2388\n",
       "2       Primate Social Society #8390\n",
       "3                               #979\n",
       "4                               #711\n",
       "                    ...             \n",
       "9995             Tie Dye Ninja #3839\n",
       "9996                   Robopet #8636\n",
       "9997                   Robopet #6194\n",
       "9998                       NUT #3680\n",
       "9999                  SlimHood #1400\n",
       "Name: name, Length: 10000, dtype: object"
      ]
     },
     "execution_count": 39,
     "metadata": {},
     "output_type": "execute_result"
    }
   ],
   "source": [
    "elastic_df['name']"
   ]
  },
  {
   "cell_type": "code",
   "execution_count": 40,
   "metadata": {},
   "outputs": [
    {
     "data": {
      "text/plain": [
       "0                                   ens\n",
       "1                               feudalz\n",
       "2       primate-social-society-official\n",
       "3                               feudalz\n",
       "4                               feudalz\n",
       "                     ...               \n",
       "9995                     tie-dye-ninjas\n",
       "9996                           robopets\n",
       "9997                           robopets\n",
       "9998                       bofadeeznuts\n",
       "9999                          slimhoods\n",
       "Name: collection_slug, Length: 10000, dtype: object"
      ]
     },
     "execution_count": 40,
     "metadata": {},
     "output_type": "execute_result"
    }
   ],
   "source": [
    "elastic_df['collection_slug']"
   ]
  },
  {
   "cell_type": "code",
   "execution_count": 41,
   "metadata": {},
   "outputs": [
    {
     "data": {
      "text/plain": [
       "0                          `cryptomeme.eth`, an ENS name.\n",
       "1       Feudalz emerged to protect their Peasants. Whe...\n",
       "2       The Primate Social Society is a sophisticated ...\n",
       "3       Feudalz emerged to protect their Peasants. Whe...\n",
       "4       Feudalz emerged to protect their Peasants. Whe...\n",
       "                              ...                        \n",
       "9995    The Tie Dye Ninjas are a collection of 7,777 u...\n",
       "9996    Robopets are loyal companions to all Robotos w...\n",
       "9997    Robopets are loyal companions to all Robotos w...\n",
       "9998                                            NUT #3680\n",
       "9999    They all wear hoods, but each SlimHood is unique.\n",
       "Name: description, Length: 10000, dtype: object"
      ]
     },
     "execution_count": 41,
     "metadata": {},
     "output_type": "execute_result"
    }
   ],
   "source": [
    "elastic_df['description']"
   ]
  },
  {
   "cell_type": "markdown",
   "metadata": {},
   "source": [
    "## Text columns preparation"
   ]
  },
  {
   "cell_type": "code",
   "execution_count": 107,
   "metadata": {},
   "outputs": [
    {
     "data": {
      "text/plain": [
       "10    Vol. 1 of MetaTravelers features 7777 avatars ...\n",
       "11    Feudalz emerged to protect their Peasants. Whe...\n",
       "12    Dirty Dogs is a 7,000 randomly generated pack ...\n",
       "13    A virtual world on the Ethereum blockchain. Bu...\n",
       "14    Feudalz emerged to protect their Peasants. Whe...\n",
       "15    Sappy Seals is community-led project focused o...\n",
       "16    Ánthrōpos métron -Man is the measure of all th...\n",
       "17    Noundles is based on Nouns with a twist in sty...\n",
       "18    Feudalz emerged to protect their Peasants. Whe...\n",
       "19    Feudalz emerged to protect their Peasants. Whe...\n",
       "20    Minting Now on https://www.toyboogers.io\\r\\nPr...\n",
       "21    Feudalz emerged to protect their Peasants. Whe...\n",
       "22    Feudalz emerged to protect their Peasants. Whe...\n",
       "23                  Metasaurs Mystery Chests by Dr. DMT\n",
       "24    Feudalz emerged to protect their Peasants. Whe...\n",
       "25    Feudalz emerged to protect their Peasants. Whe...\n",
       "26    Feudalz emerged to protect their Peasants. Whe...\n",
       "27    The Surreals are a collection of 10,000 hand-p...\n",
       "28    Not affiliated with Larva Labs. Numbered 10,00...\n",
       "29    From the creators of The Doge Pound comes Doge...\n",
       "30    Feudalz emerged to protect their Peasants. Whe...\n",
       "31    Angry Boars is a collection of 10,000 unique, ...\n",
       "32    Feudalz emerged to protect their Peasants. Whe...\n",
       "33    Feudalz emerged to protect their Peasants. Whe...\n",
       "34    Feudalz emerged to protect their Peasants. Whe...\n",
       "35    Minting Now on https://www.toyboogers.io\\r\\nPr...\n",
       "36    Explore the remarkable world of Organic Growth...\n",
       "37    Feudalz emerged to protect their Peasants. Whe...\n",
       "38    Feudalz emerged to protect their Peasants. Whe...\n",
       "39    Winter Bears is a collection of 10,000 adorabl...\n",
       "Name: collection_description, dtype: object"
      ]
     },
     "execution_count": 107,
     "metadata": {},
     "output_type": "execute_result"
    }
   ],
   "source": [
    "elastic_df['collection_description'][10:40]"
   ]
  },
  {
   "cell_type": "code",
   "execution_count": 30,
   "metadata": {},
   "outputs": [],
   "source": [
    "#remove everything except characters and white spaces.\n",
    "def clean_text(text):\n",
    "    # matches: www.gg-io.lkl?q=tz#jjk + opensea.io/collection/ape123 + medium.com/cryptopoop + sub.domain.org\n",
    "    clean_link = re.compile(r'(^|\\s)(https?:\\/\\/)?(www\\.)?[\\w\\-\\.]+\\.(com|io|eth|org|gg|de)(\\/[\\w\\.\\-\\/#\\?\\=]*)?(\\s|$)')\n",
    "    clean_files = re.compile('[\\w-]*\\.(png|jpg|tif|obj|svg|gif|js|jpeg)')\n",
    "    clean = re.compile('[^a-zA-Z \\.,\\?!:]+')\n",
    "    clean_missingspace = re.compile('(\\w)\\.(\\w)')\n",
    "    clean_doublespace = re.compile('\\s\\s+')\n",
    "    clean_puncts = re.compile('\\.\\.+')\n",
    "    clean_text = re.sub(clean_link, ' ', text)\n",
    "    clean_text = re.sub(clean_files, '', clean_text)\n",
    "    clean_text = re.sub(clean, ' ', clean_text)\n",
    "    clean_text = re.sub(clean_missingspace, '\\\\1. \\\\2', clean_text)\n",
    "    clean_text = re.sub(clean_puncts, '.', clean_text)\n",
    "    clean_text = re.sub(clean_doublespace, ' ', clean_text)\n",
    "\n",
    "    return clean_text"
   ]
  },
  {
   "cell_type": "code",
   "execution_count": 48,
   "metadata": {},
   "outputs": [
    {
     "data": {
      "text/plain": [
       "'more. Primate. Social. Society : ?!'"
      ]
     },
     "execution_count": 48,
     "metadata": {},
     "output_type": "execute_result"
    }
   ],
   "source": [
    "clean_text('more... Primate.Social.Society .png: #8390?!')"
   ]
  },
  {
   "cell_type": "code",
   "execution_count": 38,
   "metadata": {},
   "outputs": [
    {
     "data": {
      "text/plain": [
       "Series([], Name: collection_description, dtype: object)"
      ]
     },
     "execution_count": 38,
     "metadata": {},
     "output_type": "execute_result"
    }
   ],
   "source": [
    "t = elastic_df['collection_description'].apply(lambda text: clean_text(text))\n",
    "#t[t.str.contains('thief')]\n",
    "t[t.re('thief')]"
   ]
  },
  {
   "cell_type": "code",
   "execution_count": 35,
   "metadata": {},
   "outputs": [],
   "source": [
    "elastic_df['collection_description'] = elastic_df['collection_description'].apply(lambda text: \n",
    "                                                                                  clean_text(text))\n",
    "elastic_df['description'] = elastic_df['description'].apply(lambda text: clean_text(text))\n",
    "elastic_df['name'] = elastic_df['name'].apply(lambda text: clean_text(text))"
   ]
  },
  {
   "cell_type": "code",
   "execution_count": 58,
   "metadata": {},
   "outputs": [
    {
     "data": {
      "text/plain": [
       "0       [ethereum, name, service, en, domain, secure, ...\n",
       "1       [feudalz, emerge, protect, peasant, system, ru...\n",
       "2       [primate, social, society, sophisticated, coll...\n",
       "3       [feudalz, emerge, protect, peasant, system, ru...\n",
       "4       [feudalz, emerge, protect, peasant, system, ru...\n",
       "                              ...                        \n",
       "9995    [unique, tie, dye, ninja, nfts, honor, art, mu...\n",
       "9996    [robopets, collection, algorithmically, genera...\n",
       "9997    [robopets, collection, algorithmically, genera...\n",
       "9998    [everyone, hodls, deez, nut, co, casino, arcad...\n",
       "9999                       [wear, hood, slimhood, unique]\n",
       "Name: collection_description, Length: 10000, dtype: object"
      ]
     },
     "execution_count": 58,
     "metadata": {},
     "output_type": "execute_result"
    }
   ],
   "source": [
    "elastic_df['collection_description'].str.contains('fortunes.the')"
   ]
  },
  {
   "cell_type": "code",
   "execution_count": 36,
   "metadata": {},
   "outputs": [],
   "source": [
    "elastic_df['word_count_coll_desc'] = elastic_df[\"collection_description\"].apply(lambda x: len(str(x).split(\" \")))"
   ]
  },
  {
   "cell_type": "code",
   "execution_count": 37,
   "metadata": {},
   "outputs": [
    {
     "name": "stderr",
     "output_type": "stream",
     "text": [
      "C:\\Users\\bb1\\miniconda3\\envs\\deep\\lib\\site-packages\\seaborn\\distributions.py:2557: FutureWarning: `distplot` is a deprecated function and will be removed in a future version. Please adapt your code to use either `displot` (a figure-level function with similar flexibility) or `histplot` (an axes-level function for histograms).\n",
      "  warnings.warn(msg, FutureWarning)\n"
     ]
    },
    {
     "data": {
      "text/plain": [
       "<AxesSubplot:xlabel='word_count_coll_desc'>"
      ]
     },
     "execution_count": 37,
     "metadata": {},
     "output_type": "execute_result"
    },
    {
     "data": {
      "image/png": "[encoded data removed]",
      "text/plain": [
       "<Figure size 432x288 with 1 Axes>"
      ]
     },
     "metadata": {
      "needs_background": "light"
     },
     "output_type": "display_data"
    }
   ],
   "source": [
    "sns.distplot(elastic_df['word_count_coll_desc'], hist=True, kde=False, color = '#ec95ac',\n",
    "             hist_kws={'edgecolor':'black'})"
   ]
  },
  {
   "cell_type": "code",
   "execution_count": 38,
   "metadata": {},
   "outputs": [],
   "source": [
    "elastic_df['word_count_descr'] = elastic_df[\"description\"].apply(lambda x: len(str(x).split(\" \")))"
   ]
  },
  {
   "cell_type": "code",
   "execution_count": 62,
   "metadata": {},
   "outputs": [
    {
     "data": {
      "text/plain": [
       "<AxesSubplot:xlabel='word_count_descr'>"
      ]
     },
     "execution_count": 62,
     "metadata": {},
     "output_type": "execute_result"
    },
    {
     "data": {
      "image/png": "[encoded data removed]",
      "text/plain": [
       "<Figure size 432x288 with 1 Axes>"
      ]
     },
     "metadata": {
      "needs_background": "light"
     },
     "output_type": "display_data"
    }
   ],
   "source": [
    "sns.distplot(elastic_df['word_count_descr'], hist=True, kde=False, color = '#ec95ac',\n",
    "             hist_kws={'edgecolor':'black'})"
   ]
  },
  {
   "cell_type": "markdown",
   "metadata": {},
   "source": [
    "## Lemmatisation (NLTK)"
   ]
  },
  {
   "cell_type": "code",
   "execution_count": 39,
   "metadata": {},
   "outputs": [],
   "source": [
    "import nltk\n",
    "from nltk.tokenize import word_tokenize\n",
    "from nltk.corpus import stopwords\n",
    "from nltk.stem import WordNetLemmatizer\n",
    "from nltk.corpus import wordnet\n",
    "from nltk import word_tokenize\n",
    "from nltk import sent_tokenize\n",
    "from nltk import pos_tag"
   ]
  },
  {
   "cell_type": "code",
   "execution_count": 77,
   "metadata": {},
   "outputs": [
    {
     "name": "stderr",
     "output_type": "stream",
     "text": [
      "[nltk_data] Downloading package averaged_perceptron_tagger to\n",
      "[nltk_data]     C:\\Users\\bb1\\AppData\\Roaming\\nltk_data...\n",
      "[nltk_data]   Unzipping taggers\\averaged_perceptron_tagger.zip.\n"
     ]
    },
    {
     "data": {
      "text/plain": [
       "True"
      ]
     },
     "execution_count": 77,
     "metadata": {},
     "output_type": "execute_result"
    }
   ],
   "source": [
    "nltk.download('averaged_perceptron_tagger')"
   ]
  },
  {
   "cell_type": "code",
   "execution_count": 85,
   "metadata": {},
   "outputs": [
    {
     "name": "stderr",
     "output_type": "stream",
     "text": [
      "[nltk_data] Downloading package wordnet to\n",
      "[nltk_data]     C:\\Users\\bb1\\AppData\\Roaming\\nltk_data...\n",
      "[nltk_data]   Unzipping corpora\\wordnet.zip.\n"
     ]
    },
    {
     "data": {
      "text/plain": [
       "True"
      ]
     },
     "execution_count": 85,
     "metadata": {},
     "output_type": "execute_result"
    }
   ],
   "source": [
    "nltk.download('wordnet')"
   ]
  },
  {
   "cell_type": "code",
   "execution_count": 40,
   "metadata": {},
   "outputs": [],
   "source": [
    "lemmatizer = WordNetLemmatizer()\n",
    "stop_words = stopwords.words('english') #filter out stop words\n",
    "tag_dict = {\n",
    "    \"J\": wordnet.ADJ,\n",
    "    \"N\": wordnet.NOUN,\n",
    "    \"V\": wordnet.VERB,\n",
    "    \"R\": wordnet.ADV\n",
    "}\n",
    "def lemma_text(text):\n",
    "    new_text_array = []\n",
    "    sentences = sent_tokenize(text.lower(), language = 'english')\n",
    "    for sent in sentences:\n",
    "        tokens = word_tokenize(sent, language = 'english')\n",
    "        tok_pos = nltk.pos_tag(tokens)\n",
    "        for tok, pos in tok_pos:\n",
    "            if tok in stop_words:\n",
    "                continue\n",
    "            tok_type = pos[0].upper() # gets N for noun\n",
    "            if tok_type in ['.', ',', ':']: # ignore punctuation\n",
    "                continue\n",
    "                \n",
    "            mapped_type = tag_dict.get(tok_type, wordnet.NOUN) # default NOUN\n",
    "            if tok.startswith('.'):\n",
    "                tok = tok[1:]   \n",
    "            new_text_array.append(lemmatizer.lemmatize(tok, mapped_type))\n",
    "    return new_text_array #' '.join(new_text_array)"
   ]
  },
  {
   "cell_type": "code",
   "execution_count": 94,
   "metadata": {},
   "outputs": [
    {
     "data": {
      "text/plain": [
       "['ethereum',\n",
       " 'name',\n",
       " 'service',\n",
       " 'ens',\n",
       " 'domain',\n",
       " 'secure',\n",
       " 'bullshit',\n",
       " 'rule',\n",
       " 'hello']"
      ]
     },
     "execution_count": 94,
     "metadata": {},
     "output_type": "execute_result"
    }
   ],
   "source": [
    "lemma_text('Ethereum Name. Service, ENS .domains are secure: bullshit rules! Hello.')"
   ]
  },
  {
   "cell_type": "code",
   "execution_count": 41,
   "metadata": {},
   "outputs": [],
   "source": [
    "elastic_df['collection_description'] = elastic_df['collection_description'].apply(lemma_text)\n",
    "elastic_df['description'] = elastic_df['description'].apply(lemma_text)\n",
    "elastic_df['name'] = elastic_df['name'].apply(lemma_text)"
   ]
  },
  {
   "cell_type": "markdown",
   "metadata": {},
   "source": [
    "## Word2Vec\n",
    " https://aegis4048.github.io/understanding_multi-dimensionality_in_vector_space_modeling\n",
    " https://www.kaggle.com/dmitryyemelyanov/word-vector-dimensionality-reduction-with-t-sne"
   ]
  },
  {
   "cell_type": "code",
   "execution_count": 42,
   "metadata": {},
   "outputs": [],
   "source": [
    "from gensim.models import Word2Vec \n",
    "import multiprocessing\n",
    "import gensim\n",
    "from time import time\n",
    "from gensim.models.phrases import Phrases, Phraser\n",
    "from time import time"
   ]
  },
  {
   "cell_type": "code",
   "execution_count": 43,
   "metadata": {},
   "outputs": [
    {
     "name": "stdout",
     "output_type": "stream",
     "text": [
      "Time to train the model: 0.04 mins\n"
     ]
    }
   ],
   "source": [
    "t = time()\n",
    "w2v = gensim.models.Word2Vec(elastic_df['collection_description'] + elastic_df['description'] +\n",
    "                             elastic_df['name'], \n",
    "                             min_count = 1, \n",
    "                             negative=2, \n",
    "                             size = 100,\n",
    "                             window = 5, \n",
    "                             sg = 1, \n",
    "                             workers=14)\n",
    "print('Time to train the model: {} mins'.format(round((time() - t) / 60, 2)))"
   ]
  },
  {
   "cell_type": "code",
   "execution_count": 44,
   "metadata": {},
   "outputs": [
    {
     "name": "stdout",
     "output_type": "stream",
     "text": [
      "Word2Vec(vocab=11179, size=100, alpha=0.025)\n"
     ]
    }
   ],
   "source": [
    "print(w2v)"
   ]
  },
  {
   "cell_type": "code",
   "execution_count": 45,
   "metadata": {},
   "outputs": [
    {
     "name": "stdout",
     "output_type": "stream",
     "text": [
      "['secure', 'decentralized', 'world', 'provide', 'way']\n"
     ]
    }
   ],
   "source": [
    "# summarise vocabulary\n",
    "words = list(w2v.wv.vocab)\n",
    "print(words[5:10])"
   ]
  },
  {
   "cell_type": "code",
   "execution_count": 46,
   "metadata": {},
   "outputs": [
    {
     "data": {
      "text/plain": [
       "[('dopest', 0.6616077423095703),\n",
       " ('harmony', 0.6461648941040039),\n",
       " ('likeness', 0.6381094455718994),\n",
       " ('division', 0.6283000111579895),\n",
       " ('yatch', 0.6271748542785645)]"
      ]
     },
     "execution_count": 46,
     "metadata": {},
     "output_type": "execute_result"
    }
   ],
   "source": [
    "w2v.wv.most_similar('ape',topn=5)"
   ]
  },
  {
   "cell_type": "code",
   "execution_count": 47,
   "metadata": {},
   "outputs": [
    {
     "data": {
      "text/plain": [
       "['dr.',\n",
       " 'st.',\n",
       " 's.',\n",
       " 'co.',\n",
       " 'k.',\n",
       " 'a.',\n",
       " 'k.a',\n",
       " 'p.e.',\n",
       " 't.',\n",
       " 'mr.',\n",
       " 'jr.',\n",
       " 'r.',\n",
       " 'o.y',\n",
       " 'give.a',\n",
       " 'ok.',\n",
       " 'n.',\n",
       " 'e.',\n",
       " 'g.',\n",
       " 'fortunes.the',\n",
       " 'd.',\n",
       " 'rulers.the',\n",
       " 'just.thief',\n",
       " 'x.',\n",
       " 'vs.',\n",
       " 'a.s.',\n",
       " 'l.',\n",
       " 'ft.',\n",
       " 'c.',\n",
       " 'e.hoe',\n",
       " 'ore.',\n",
       " 'a.m.',\n",
       " 'p.',\n",
       " 'wow.just',\n",
       " 'you.the',\n",
       " 'i.',\n",
       " 'gen.',\n",
       " 'm.',\n",
       " 't.a',\n",
       " 'ltd.',\n",
       " 'i.n',\n",
       " 'ave.',\n",
       " 'nuts.']"
      ]
     },
     "execution_count": 47,
     "metadata": {},
     "output_type": "execute_result"
    }
   ],
   "source": [
    "list(filter(lambda x: x.find('.') >= 0, words))"
   ]
  },
  {
   "cell_type": "code",
   "execution_count": 80,
   "metadata": {},
   "outputs": [
    {
     "data": {
      "text/plain": [
       "True"
      ]
     },
     "execution_count": 80,
     "metadata": {},
     "output_type": "execute_result"
    }
   ],
   "source": [
    "'.strin.gjjj.j'.find('.') >= 0"
   ]
  },
  {
   "cell_type": "markdown",
   "metadata": {},
   "source": [
    "## Visualization: t-SNE"
   ]
  },
  {
   "cell_type": "code",
   "execution_count": 68,
   "metadata": {},
   "outputs": [
    {
     "name": "stderr",
     "output_type": "stream",
     "text": [
      "<ipython-input-68-2839f6b6f643>:1: DeprecationWarning: Call to deprecated `__getitem__` (Method will be removed in 4.0.0, use self.wv.__getitem__() instead).\n",
      "  X = w2v[w2v.wv.vocab]\n"
     ]
    }
   ],
   "source": [
    "X = w2v[w2v.wv.vocab]"
   ]
  },
  {
   "cell_type": "code",
   "execution_count": 69,
   "metadata": {},
   "outputs": [
    {
     "data": {
      "image/png": "[encoded data removed]",
      "text/plain": [
       "<Figure size 432x288 with 1 Axes>"
      ]
     },
     "metadata": {
      "needs_background": "light"
     },
     "output_type": "display_data"
    }
   ],
   "source": [
    "from sklearn.manifold import TSNE\n",
    "tsne = TSNE(n_components=2, perplexity=50) #perplexity=30 by default, suggested values are between 6 and 60\n",
    "Y = tsne.fit_transform(X[1000:])\n",
    "plt.scatter(Y[:, 0], Y[:, 1])\n",
    "plt.show()"
   ]
  },
  {
   "cell_type": "markdown",
   "metadata": {},
   "source": [
    "## Imgages Preparation for PyTorch "
   ]
  },
  {
   "cell_type": "code",
   "execution_count": 16,
   "metadata": {},
   "outputs": [],
   "source": [
    "ids = ['c44COn0BHA1xYJHHzdGZ', 'z46BOn0BHA1xYJHHgttE', 'io5MOX0BHA1xYJHHrMnG']\n",
    "# response = requests.get(url=f'http://localhost:9200/opensea/_doc/{id}')\n",
    "# response.json()"
   ]
  },
  {
   "cell_type": "code",
   "execution_count": 12,
   "metadata": {},
   "outputs": [],
   "source": [
    "from PIL import Image\n",
    "import torch"
   ]
  },
  {
   "cell_type": "code",
   "execution_count": 18,
   "metadata": {},
   "outputs": [],
   "source": [
    "image_folder = '..\\\\..\\\\opensea_scapper\\\\opensea_nft_scrapper\\\\data\\\\preview\\\\'\n",
    "\n",
    "imgs = []\n",
    "for id in ids:\n",
    "    filename = image_folder + id + '_noext.png'\n",
    "    imgs.append(Image.open(filename))\n",
    "\n",
    "#imgs[1]"
   ]
  },
  {
   "cell_type": "code",
   "execution_count": 188,
   "metadata": {},
   "outputs": [
    {
     "data": {
      "image/png": "[encoded data removed]",
      "text/plain": [
       "<PIL.PngImagePlugin.PngImageFile image mode=RGBA size=250x250 at 0x2722241F850>"
      ]
     },
     "execution_count": 188,
     "metadata": {},
     "output_type": "execute_result"
    }
   ],
   "source": [
    "imgs[2]"
   ]
  },
  {
   "cell_type": "markdown",
   "metadata": {},
   "source": [
    "https://github.com/born-2learn/pytorch-imagesegmentation/blob/master/imagesegmentation.ipynb\n",
    "https://sparrow.dev/torchvision-transforms/\n",
    "\n",
    "Normalizing images. In PyTorch, we can normalize images with torchvision, a utility that provides convenient preprocessing transformations. "
   ]
  },
  {
   "cell_type": "code",
   "execution_count": 23,
   "metadata": {},
   "outputs": [
    {
     "data": {
      "text/plain": [
       "Text(0.5, 1.0, 'distribution of pixels')"
      ]
     },
     "execution_count": 23,
     "metadata": {},
     "output_type": "execute_result"
    },
    {
     "data": {
      "image/png": "[encoded data removed]",
      "text/plain": [
       "<Figure size 432x288 with 1 Axes>"
      ]
     },
     "metadata": {
      "needs_background": "light"
     },
     "output_type": "display_data"
    }
   ],
   "source": [
    "plt.hist(np.array(imgs[1]).ravel(), bins=50, density=True)\n",
    "plt.xlabel(\"pixel values\")\n",
    "plt.ylabel(\"relative frequency\")\n",
    "plt.title(\"distribution of pixels\")\n",
    "#https://sparrow.dev/pytorch-normalize/"
   ]
  },
  {
   "cell_type": "code",
   "execution_count": 24,
   "metadata": {},
   "outputs": [
    {
     "data": {
      "text/plain": [
       "Text(0.5, 1.0, 'distribution of pixels')"
      ]
     },
     "execution_count": 24,
     "metadata": {},
     "output_type": "execute_result"
    },
    {
     "data": {
      "image/png": "[encoded data removed]",
      "text/plain": [
       "<Figure size 432x288 with 1 Axes>"
      ]
     },
     "metadata": {
      "needs_background": "light"
     },
     "output_type": "display_data"
    }
   ],
   "source": [
    "plt.hist(np.array(imgs[0]).ravel(), bins=50, density=True)\n",
    "plt.xlabel(\"pixel values\")\n",
    "plt.ylabel(\"relative frequency\")\n",
    "plt.title(\"distribution of pixels\")"
   ]
  },
  {
   "cell_type": "code",
   "execution_count": 25,
   "metadata": {},
   "outputs": [
    {
     "data": {
      "text/plain": [
       "Text(0.5, 1.0, 'distribution of pixels')"
      ]
     },
     "execution_count": 25,
     "metadata": {},
     "output_type": "execute_result"
    },
    {
     "data": {
      "image/png": "[encoded data removed]",
      "text/plain": [
       "<Figure size 432x288 with 1 Axes>"
      ]
     },
     "metadata": {
      "needs_background": "light"
     },
     "output_type": "display_data"
    }
   ],
   "source": [
    "plt.hist(np.array(imgs[2]).ravel(), bins=50, density=True)\n",
    "plt.xlabel(\"pixel values\")\n",
    "plt.ylabel(\"relative frequency\")\n",
    "plt.title(\"distribution of pixels\")"
   ]
  },
  {
   "cell_type": "code",
   "execution_count": 26,
   "metadata": {},
   "outputs": [],
   "source": [
    "import torchvision.transforms as T\n",
    "import io"
   ]
  },
  {
   "cell_type": "code",
   "execution_count": 28,
   "metadata": {},
   "outputs": [],
   "source": [
    "#preprocessing and normalizing\n",
    "trf = T.Compose([T.Resize(256),\n",
    "                 T.CenterCrop(224),\n",
    "                 T.ToTensor(), \n",
    "                 T.Normalize(mean = [0.485, 0.456, 0.406], \n",
    "                             std = [0.229, 0.224, 0.225])])"
   ]
  },
  {
   "cell_type": "code",
   "execution_count": 29,
   "metadata": {},
   "outputs": [],
   "source": [
    "imgs_norm = []\n",
    "for img in imgs:\n",
    "    imgs_norm.append(trf(img.convert('RGB')))"
   ]
  },
  {
   "cell_type": "code",
   "execution_count": 103,
   "metadata": {},
   "outputs": [
    {
     "data": {
      "text/plain": [
       "[tensor([[[-2.0323, -2.0323, -2.0323,  ..., -2.0323, -2.0323, -2.0323],\n",
       "          [-2.0323, -2.0323, -2.0323,  ..., -2.0494, -2.0323, -2.0323],\n",
       "          [-2.0323, -2.0323, -2.0323,  ..., -1.9295, -2.0494, -2.0323],\n",
       "          ...,\n",
       "          [-2.0323, -2.0323, -2.0323,  ..., -2.0323, -2.0323, -2.0323],\n",
       "          [-2.0323, -2.0323, -2.0323,  ..., -2.0323, -2.0323, -2.0323],\n",
       "          [-2.0323, -2.0323, -2.0323,  ..., -2.0323, -2.0323, -2.0323]],\n",
       " \n",
       "         [[-1.9482, -1.9482, -1.9482,  ..., -1.9482, -1.9482, -1.9482],\n",
       "          [-1.9482, -1.9482, -1.9482,  ..., -1.9657, -1.9482, -1.9482],\n",
       "          [-1.9482, -1.9482, -1.9482,  ..., -1.8431, -1.9657, -1.9482],\n",
       "          ...,\n",
       "          [-1.9482, -1.9482, -1.9482,  ..., -1.9482, -1.9482, -1.9482],\n",
       "          [-1.9482, -1.9482, -1.9482,  ..., -1.9482, -1.9482, -1.9482],\n",
       "          [-1.9482, -1.9482, -1.9482,  ..., -1.9482, -1.9482, -1.9482]],\n",
       " \n",
       "         [[-1.7173, -1.7173, -1.7173,  ..., -1.7173, -1.7173, -1.7173],\n",
       "          [-1.7173, -1.7173, -1.7173,  ..., -1.7347, -1.7173, -1.7173],\n",
       "          [-1.7173, -1.7173, -1.7173,  ..., -1.6127, -1.7347, -1.7173],\n",
       "          ...,\n",
       "          [-1.7173, -1.7173, -1.7173,  ..., -1.7173, -1.7173, -1.7173],\n",
       "          [-1.7173, -1.7173, -1.7173,  ..., -1.7173, -1.7173, -1.7173],\n",
       "          [-1.7173, -1.7173, -1.7173,  ..., -1.7173, -1.7173, -1.7173]]]),\n",
       " tensor([[[1.2728, 1.2728, 1.2728,  ..., 1.3070, 1.3070, 1.3242],\n",
       "          [1.2728, 1.2728, 1.2728,  ..., 1.3070, 1.3070, 1.3242],\n",
       "          [1.3070, 1.3070, 1.3070,  ..., 1.2728, 1.2728, 1.3070],\n",
       "          ...,\n",
       "          [1.3070, 1.3070, 1.3070,  ..., 1.3070, 1.3070, 1.3242],\n",
       "          [1.3070, 1.3070, 1.3070,  ..., 1.3070, 1.3070, 1.2899],\n",
       "          [1.3070, 1.3070, 1.3070,  ..., 1.3070, 1.3070, 1.2899]],\n",
       " \n",
       "         [[1.6583, 1.6583, 1.6583,  ..., 1.6408, 1.6408, 1.6583],\n",
       "          [1.6583, 1.6583, 1.6583,  ..., 1.6408, 1.6408, 1.6583],\n",
       "          [1.6408, 1.6408, 1.6408,  ..., 1.6583, 1.6583, 1.6408],\n",
       "          ...,\n",
       "          [1.6408, 1.6408, 1.6408,  ..., 1.6408, 1.6408, 1.6583],\n",
       "          [1.6408, 1.6408, 1.6408,  ..., 1.6408, 1.6408, 1.6758],\n",
       "          [1.6408, 1.6408, 1.6408,  ..., 1.6408, 1.6408, 1.6758]],\n",
       " \n",
       "         [[0.9319, 0.9319, 0.9319,  ..., 0.9319, 0.9319, 0.9668],\n",
       "          [0.9319, 0.9319, 0.9319,  ..., 0.9319, 0.9319, 0.9668],\n",
       "          [0.9319, 0.9319, 0.9319,  ..., 0.9319, 0.9319, 0.9319],\n",
       "          ...,\n",
       "          [0.9319, 0.9319, 0.9319,  ..., 0.9319, 0.9319, 0.9494],\n",
       "          [0.9319, 0.9319, 0.9319,  ..., 0.9319, 0.9319, 0.9494],\n",
       "          [0.9319, 0.9319, 0.9319,  ..., 0.9319, 0.9319, 0.9494]]]),\n",
       " tensor([[[-2.1179, -2.1179, -2.1179,  ..., -2.1179, -2.1179, -2.1179],\n",
       "          [-2.1179, -2.1179, -2.1179,  ..., -2.1179, -2.1179, -2.1179],\n",
       "          [-2.1179, -2.1179, -2.1179,  ..., -2.1179, -2.1179, -2.1179],\n",
       "          ...,\n",
       "          [-2.1179, -2.1179, -2.1179,  ..., -2.1179, -2.1179, -2.1179],\n",
       "          [-2.1179, -2.1179, -2.1179,  ..., -2.1179, -2.1179, -2.1179],\n",
       "          [-2.1179, -2.1179, -2.1179,  ..., -2.1179, -2.1179, -2.1179]],\n",
       " \n",
       "         [[-2.0357, -2.0357, -2.0357,  ..., -2.0357, -2.0357, -2.0357],\n",
       "          [-2.0357, -2.0357, -2.0357,  ..., -2.0357, -2.0357, -2.0357],\n",
       "          [-2.0357, -2.0357, -2.0357,  ..., -2.0357, -2.0357, -2.0357],\n",
       "          ...,\n",
       "          [-2.0357, -2.0357, -2.0357,  ..., -2.0357, -2.0357, -2.0357],\n",
       "          [-2.0357, -2.0357, -2.0357,  ..., -2.0357, -2.0357, -2.0357],\n",
       "          [-2.0357, -2.0357, -2.0357,  ..., -2.0357, -2.0357, -2.0357]],\n",
       " \n",
       "         [[-1.8044, -1.8044, -1.8044,  ..., -1.8044, -1.8044, -1.8044],\n",
       "          [-1.8044, -1.8044, -1.8044,  ..., -1.8044, -1.8044, -1.8044],\n",
       "          [-1.8044, -1.8044, -1.8044,  ..., -1.8044, -1.8044, -1.8044],\n",
       "          ...,\n",
       "          [-1.8044, -1.8044, -1.8044,  ..., -1.8044, -1.8044, -1.8044],\n",
       "          [-1.8044, -1.8044, -1.8044,  ..., -1.8044, -1.8044, -1.8044],\n",
       "          [-1.8044, -1.8044, -1.8044,  ..., -1.8044, -1.8044, -1.8044]]])]"
      ]
     },
     "execution_count": 103,
     "metadata": {},
     "output_type": "execute_result"
    }
   ],
   "source": [
    "#RuntimeError: The size of tensor a (4) must match the size of tensor b (3) at non-singleton dimension 0\n",
    "#It seems normalize raises the shape mismatch error.\n",
    "#It seems that I might have used 3 values for the mean and std in Normalize while your input contains 4 channels\n",
    "# FUTURE reading: https://towardsdatascience.com/pytorch-layer-dimensions-what-sizes-should-they-be-and-why-4265a41e01fd"
   ]
  }
 ],
 "metadata": {
  "interpreter": {
   "hash": "e7cbe181d35699dc82249499f9b3a6dab307899296faca18335b84e4e2a7380e"
  },
  "kernelspec": {
   "display_name": "Python 3",
   "language": "python",
   "name": "python3"
  },
  "language_info": {
   "codemirror_mode": {
    "name": "ipython",
    "version": 3
   },
   "file_extension": ".py",
   "mimetype": "text/x-python",
   "name": "python",
   "nbconvert_exporter": "python",
   "pygments_lexer": "ipython3",
   "version": "3.8.10"
  }
 },
 "nbformat": 4,
 "nbformat_minor": 2
}
