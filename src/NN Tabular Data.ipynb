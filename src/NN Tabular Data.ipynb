{
 "cells": [
  {
   "cell_type": "code",
   "execution_count": 1,
   "id": "37ee6233",
   "metadata": {},
   "outputs": [],
   "source": [
    "import numpy as np\n",
    "import matplotlib.pyplot as plt\n",
    "\n",
    "import pickle\n",
    "\n",
    "import torch\n",
    "from collections import Counter\n",
    "import pandas as pd\n",
    "import plotly.express as px\n",
    "from sklearn.model_selection import train_test_split\n",
    "import os\n",
    "from glob import glob\n",
    "from torchvision import transforms\n",
    "from torchvision import datasets\n",
    "from torch.utils.data import DataLoader\n",
    "from torchvision import models\n",
    "import torch.nn as nn\n",
    "#from torchsummary import summary\n",
    "from torchvision import transforms, datasets, models\n",
    "import torch\n",
    "from torch import optim, cuda\n",
    "from torch.utils.data import DataLoader, sampler\n",
    "import torch.nn as nn\n",
    "import tqdm\n",
    "from timeit import default_timer as timer\n",
    "from torch import Tensor, nn\n",
    "from torch.nn.functional import interpolate\n"
   ]
  },
  {
   "cell_type": "code",
   "execution_count": 2,
   "id": "d43da9e8",
   "metadata": {},
   "outputs": [],
   "source": [
    "from ElasticDataset import PickleSeriesDataset"
   ]
  },
  {
   "cell_type": "code",
   "execution_count": 3,
   "id": "3329f329",
   "metadata": {},
   "outputs": [],
   "source": [
    "batch_size = 4092"
   ]
  },
  {
   "cell_type": "code",
   "execution_count": 4,
   "id": "2213069a",
   "metadata": {},
   "outputs": [
    {
     "name": "stdout",
     "output_type": "stream",
     "text": [
      "LOADING: D:\\Code\\datascience\\MA_NFT\\data\\pickle\\X_train.pkl\n",
      "LOADING: D:\\Code\\datascience\\MA_NFT\\data\\pickle\\y_train.pkl\n",
      "LOADING: D:\\Code\\datascience\\MA_NFT\\data\\pickle\\X_valid.pkl\n",
      "LOADING: D:\\Code\\datascience\\MA_NFT\\data\\pickle\\y_valid.pkl\n",
      "LOADING: D:\\Code\\datascience\\MA_NFT\\data\\pickle\\X_test.pkl\n",
      "LOADING: D:\\Code\\datascience\\MA_NFT\\data\\pickle\\y_test.pkl\n"
     ]
    }
   ],
   "source": [
    "#Dataloader iterators\n",
    "dataloaders = {\n",
    "    'train': DataLoader(\n",
    "        PickleSeriesDataset('X_train', 'y_train', return_img=False), \n",
    "        batch_size=batch_size,\n",
    "        shuffle=False,\n",
    "        num_workers=5,\n",
    "    ),\n",
    "    'val': DataLoader(\n",
    "        PickleSeriesDataset('X_valid', 'y_valid', return_img=False),\n",
    "        batch_size=batch_size, \n",
    "        shuffle=False,\n",
    "        num_workers=5,\n",
    "    ),\n",
    "    'test': DataLoader(\n",
    "        PickleSeriesDataset('X_test', 'y_test', return_img=False),\n",
    "        batch_size=batch_size, \n",
    "        shuffle=False,\n",
    "        num_workers=5,\n",
    "    )\n",
    "}"
   ]
  },
  {
   "cell_type": "markdown",
   "id": "3e07c40c",
   "metadata": {},
   "source": [
    "## Model"
   ]
  },
  {
   "cell_type": "code",
   "execution_count": 5,
   "id": "8a13a41e",
   "metadata": {},
   "outputs": [],
   "source": [
    "class MulticlassClassification(nn.Module):\n",
    "    def __init__(self, cat_size, num_col, output_size, layers, p=0.4):\n",
    "        super(MulticlassClassification, self).__init__()\n",
    "        \n",
    "        # TABULAR: \n",
    "        self.all_embeddings = nn.ModuleList(\n",
    "            [nn.Embedding(categories, size) for categories, size in cat_size]\n",
    "        )\n",
    "        self.embedding_dropout = nn.Dropout(p)\n",
    "        self.batch_norm_num = nn.BatchNorm1d(num_col)\n",
    "\n",
    "        all_layers = []\n",
    "        num_cat_col = sum(e.embedding_dim for e in self.all_embeddings)\n",
    "        input_size = num_cat_col + num_col\n",
    "\n",
    "        for i in layers:\n",
    "            all_layers.append(nn.Linear(input_size, i))\n",
    "            all_layers.append(nn.ReLU(inplace=True))\n",
    "            all_layers.append(nn.BatchNorm1d(i))\n",
    "            all_layers.append(nn.Dropout(p))\n",
    "            input_size = i\n",
    "\n",
    "        all_layers.append(nn.Linear(layers[-1], output_size))\n",
    "\n",
    "        self.layers = nn.Sequential(*all_layers)\n",
    "        self.logsoftmax = nn.LogSoftmax(dim=1)\n",
    "        \n",
    "\n",
    "    def forward(self, x_categorical, x_numerical):\n",
    "        embeddings = []\n",
    "        for i, embedding in enumerate(self.all_embeddings):\n",
    "            embeddings.append(embedding(x_categorical[:,i]))\n",
    "        x = torch.cat(embeddings, 1)\n",
    "        x = self.embedding_dropout(x)\n",
    "\n",
    "        x_numerical = self.batch_norm_num(x_numerical)\n",
    "        x = torch.cat([x, x_numerical], 1)\n",
    "        x = self.layers(x)\n",
    "        x = self.logsoftmax(x)\n",
    "        \n",
    "        return x"
   ]
  },
  {
   "cell_type": "code",
   "execution_count": 7,
   "id": "6a2482d7",
   "metadata": {},
   "outputs": [],
   "source": [
    "pickle_dir = 'D:\\\\Code\\\\datascience\\\\MA_NFT\\\\data\\\\pickle\\\\'\n",
    "def load_pickle(name):\n",
    "    with open(pickle_dir + name + '.pkl', 'rb') as f:\n",
    "        return pickle.load(f)\n",
    "categorical_embedding_sizes = load_pickle('categorical_embedding_sizes')"
   ]
  },
  {
   "cell_type": "code",
   "execution_count": 8,
   "id": "507002bf",
   "metadata": {},
   "outputs": [
    {
     "name": "stdout",
     "output_type": "stream",
     "text": [
      "Train on gpu: True\n",
      "1 gpus detected.\n",
      "True False\n"
     ]
    }
   ],
   "source": [
    "from torch import cuda, optim\n",
    "\n",
    "# Whether to train on a gpu\n",
    "train_on_gpu = cuda.is_available()\n",
    "print(f'Train on gpu: {train_on_gpu}')\n",
    "\n",
    "# Number of gpus\n",
    "if train_on_gpu:\n",
    "    gpu_count = cuda.device_count()\n",
    "    print(f'{gpu_count} gpus detected.')\n",
    "    if gpu_count > 1:\n",
    "        multi_gpu = True\n",
    "    else:\n",
    "        multi_gpu = False\n",
    "print(train_on_gpu,multi_gpu)"
   ]
  },
  {
   "cell_type": "code",
   "execution_count": 9,
   "id": "78604afb",
   "metadata": {},
   "outputs": [
    {
     "data": {
      "text/plain": [
       "MulticlassClassification(\n",
       "  (all_embeddings): ModuleList(\n",
       "    (0): Embedding(4096, 50)\n",
       "    (1): Embedding(2, 1)\n",
       "    (2): Embedding(4096, 50)\n",
       "    (3): Embedding(4096, 50)\n",
       "    (4): Embedding(3, 2)\n",
       "    (5): Embedding(30, 15)\n",
       "    (6): Embedding(4096, 50)\n",
       "    (7): Embedding(4096, 50)\n",
       "    (8): Embedding(4, 2)\n",
       "    (9): Embedding(2, 1)\n",
       "    (10): Embedding(2, 1)\n",
       "    (11): Embedding(2, 1)\n",
       "  )\n",
       "  (embedding_dropout): Dropout(p=0.2, inplace=False)\n",
       "  (batch_norm_num): BatchNorm1d(4, eps=1e-05, momentum=0.1, affine=True, track_running_stats=True)\n",
       "  (layers): Sequential(\n",
       "    (0): Linear(in_features=277, out_features=512, bias=True)\n",
       "    (1): ReLU(inplace=True)\n",
       "    (2): BatchNorm1d(512, eps=1e-05, momentum=0.1, affine=True, track_running_stats=True)\n",
       "    (3): Dropout(p=0.2, inplace=False)\n",
       "    (4): Linear(in_features=512, out_features=128, bias=True)\n",
       "    (5): ReLU(inplace=True)\n",
       "    (6): BatchNorm1d(128, eps=1e-05, momentum=0.1, affine=True, track_running_stats=True)\n",
       "    (7): Dropout(p=0.2, inplace=False)\n",
       "    (8): Linear(in_features=128, out_features=64, bias=True)\n",
       "    (9): ReLU(inplace=True)\n",
       "    (10): BatchNorm1d(64, eps=1e-05, momentum=0.1, affine=True, track_running_stats=True)\n",
       "    (11): Dropout(p=0.2, inplace=False)\n",
       "    (12): Linear(in_features=64, out_features=20, bias=True)\n",
       "  )\n",
       "  (logsoftmax): LogSoftmax(dim=1)\n",
       ")"
      ]
     },
     "execution_count": 9,
     "metadata": {},
     "output_type": "execute_result"
    }
   ],
   "source": [
    "model = MulticlassClassification(categorical_embedding_sizes, 4, 20, [512, 128, 64], p=0.2).to('cuda')\n",
    "model"
   ]
  },
  {
   "cell_type": "code",
   "execution_count": 10,
   "id": "1b86eb3c",
   "metadata": {},
   "outputs": [],
   "source": [
    "if train_on_gpu:\n",
    "    model = model.to('cuda')\n",
    "\n",
    "if multi_gpu:\n",
    "    model = nn.DataParallel(model)"
   ]
  },
  {
   "cell_type": "code",
   "execution_count": 11,
   "id": "0fe71bfe",
   "metadata": {},
   "outputs": [],
   "source": [
    "criterion = nn.CrossEntropyLoss()\n",
    "optimizer = optim.Adam(model.parameters(), lr=0.01)"
   ]
  },
  {
   "cell_type": "code",
   "execution_count": 12,
   "id": "2740e47a",
   "metadata": {},
   "outputs": [],
   "source": [
    "save_file_name = 'C:\\\\NFT_data\\\\networks\\\\nn_tabular_data_softmax.pt'\n",
    "checkpoint_path = 'C:\\\\NFT_data\\\\networks\\\\nn_tabular_data_softmax.pth'"
   ]
  },
  {
   "cell_type": "code",
   "execution_count": 12,
   "id": "f0e3c1bd",
   "metadata": {},
   "outputs": [],
   "source": [
    "#save_file_name = 'C:\\\\NFT_data\\\\networks\\\\nn_tabular_data.pt'\n",
    "#checkpoint_path = 'C:\\\\NFT_data\\\\networks\\\\nn_tabular_data.pth'"
   ]
  },
  {
   "cell_type": "code",
   "execution_count": 13,
   "id": "cc41a99c",
   "metadata": {},
   "outputs": [],
   "source": [
    "def train(model,\n",
    "          criterion,\n",
    "          optimizer,\n",
    "          train_loader,\n",
    "          valid_loader,\n",
    "          save_file_name,\n",
    "          max_epochs_stop=3,\n",
    "          n_epochs=50,\n",
    "          print_every=1):\n",
    "    \"\"\"Train a PyTorch Model\n",
    "\n",
    "    Params\n",
    "    --------\n",
    "        model (PyTorch model): cnn to train\n",
    "        criterion (PyTorch loss): objective to minimize\n",
    "        optimizer (PyTorch optimizier): optimizer to compute gradients of model parameters\n",
    "        train_loader (PyTorch dataloader): training dataloader to iterate through\n",
    "        valid_loader (PyTorch dataloader): validation dataloader used for early stopping\n",
    "        save_file_name (str ending in '.pt'): file path to save the model state dict\n",
    "        max_epochs_stop (int): maximum number of epochs with no improvement in validation loss for early stopping\n",
    "        n_epochs (int): maximum number of training epochs\n",
    "        print_every (int): frequency of epochs to print training stats\n",
    "\n",
    "    Returns\n",
    "    --------\n",
    "        model (PyTorch model): trained cnn with best weights\n",
    "        history (DataFrame): history of train and validation loss and accuracy\n",
    "    \"\"\"\n",
    "\n",
    "    # Early stopping intialization\n",
    "    epochs_no_improve = 0\n",
    "    valid_loss_min = np.Inf\n",
    "\n",
    "    valid_max_acc = 0\n",
    "    history = []\n",
    "\n",
    "    # Number of epochs already trained (if using loaded in model weights)\n",
    "    try:\n",
    "        print(f'Model has been trained for: {model.epochs} epochs.\\n')\n",
    "    except:\n",
    "        model.epochs = 0\n",
    "        print(f'Starting Training from Scratch.\\n')\n",
    "\n",
    "    overall_start = timer()\n",
    "\n",
    "    # Main loop\n",
    "    for epoch in range(n_epochs):\n",
    "\n",
    "        # keep track of training and validation loss each epoch\n",
    "        train_loss = 0.0\n",
    "        valid_loss = 0.0\n",
    "\n",
    "        train_acc = 0\n",
    "        valid_acc = 0\n",
    "\n",
    "        # Set to training\n",
    "        model.train()\n",
    "        start = timer()\n",
    "\n",
    "        # Training loop\n",
    "        for ii, (stack_cat, stack_num, target) in enumerate(train_loader):\n",
    "            #print(data)\n",
    "            #print(img)\n",
    "\n",
    "            # Tensors to gpu\n",
    "            if train_on_gpu:\n",
    "                stack_cat, stack_num, target = stack_cat.cuda(), stack_num.cuda(), target.cuda()\n",
    "\n",
    "            # Clear gradients\n",
    "            optimizer.zero_grad()\n",
    "            # Predicted outputs are log probabilities\n",
    "            output = model(stack_cat, stack_num)\n",
    "            \n",
    "            #output = torch.cat((output_img, output_tab), dim=1)\n",
    "            #output = self.relu(output)\n",
    "            #m = nn.Softmax(dim=1)\n",
    "\n",
    "            # Loss and backpropagation of gradients\n",
    "            loss = criterion(output, target)\n",
    "            loss.backward()\n",
    "\n",
    "            # Update the parameters\n",
    "            optimizer.step()\n",
    "\n",
    "            # Track train loss by multiplying average loss by number of examples in batch\n",
    "            train_loss += loss.item() * stack_cat.size(0)\n",
    "\n",
    "            # Calculate accuracy by finding max log probability\n",
    "            _, pred = torch.max(output, dim=1)\n",
    "            correct_tensor = pred.eq(target.data.view_as(pred))\n",
    "            # Need to convert correct tensor from int to float to average\n",
    "            accuracy = torch.mean(correct_tensor.type(torch.FloatTensor))\n",
    "            # Multiply average accuracy times the number of examples in batch\n",
    "            train_acc += accuracy.item() * stack_cat.size(0)\n",
    "\n",
    "            # Track training progress\n",
    "            print(\n",
    "                f'Epoch: {epoch}\\t{100 * (ii + 1) / len(train_loader):.2f}% complete. {timer() - start:.2f} seconds elapsed in epoch.',\n",
    "                end='\\r')\n",
    "\n",
    "        # After training loops ends, start validation\n",
    "        else:\n",
    "            model.epochs += 1\n",
    "\n",
    "            # Don't need to keep track of gradients\n",
    "            with torch.no_grad():\n",
    "                # Set to evaluation mode\n",
    "                model.eval()\n",
    "\n",
    "                # Validation loop\n",
    "                for ii, (stack_cat, stack_num, target) in enumerate(valid_loader):\n",
    "                    # Tensors to gpu\n",
    "                    if train_on_gpu:\n",
    "                        stack_cat, stack_num, target = stack_cat.cuda(), stack_num.cuda(), target.cuda()\n",
    "\n",
    "                    # Forward pass\n",
    "                    output = model(stack_cat, stack_num)\n",
    "\n",
    "                    # Validation loss\n",
    "                    loss = criterion(output, target)\n",
    "                    # Multiply average loss times the number of examples in batch\n",
    "                    valid_loss += loss.item() * stack_cat.size(0)\n",
    "\n",
    "                    # Calculate validation accuracy\n",
    "                    _, pred = torch.max(output, dim=1)\n",
    "                    correct_tensor = pred.eq(target.data.view_as(pred))\n",
    "                    accuracy = torch.mean(\n",
    "                        correct_tensor.type(torch.FloatTensor))\n",
    "                    # Multiply average accuracy times the number of examples\n",
    "                    valid_acc += accuracy.item() * stack_cat.size(0)\n",
    "                    \n",
    "                    # Track validation progress\n",
    "                    print(\n",
    "                        f'Epoch: {epoch}\\t{100 * (ii + 1) / len(valid_loader):.2f}% validated. {timer() - start:.2f} seconds elapsed in epoch.',\n",
    "                        end='\\r')\n",
    "\n",
    "                # Calculate average losses\n",
    "                train_loss = train_loss / len(train_loader.dataset)\n",
    "                valid_loss = valid_loss / len(valid_loader.dataset)\n",
    "\n",
    "                # Calculate average accuracy\n",
    "                train_acc = train_acc / len(train_loader.dataset)\n",
    "                valid_acc = valid_acc / len(valid_loader.dataset)\n",
    "\n",
    "                history.append([train_loss, valid_loss, train_acc, valid_acc])\n",
    "\n",
    "                # Print training and validation results\n",
    "                if (epoch + 1) % print_every == 0:\n",
    "                    print(\n",
    "                        f'\\nEpoch: {epoch} \\tTraining Loss: {train_loss:.4f} \\tValidation Loss: {valid_loss:.4f}'\n",
    "                    )\n",
    "                    print(\n",
    "                        f'\\t\\tTraining Accuracy: {100 * train_acc:.2f}%\\t Validation Accuracy: {100 * valid_acc:.2f}%'\n",
    "                    )\n",
    "\n",
    "                # Save the model if validation loss decreases\n",
    "                if valid_loss < valid_loss_min:\n",
    "                    # Save model\n",
    "                    torch.save(model.state_dict(), save_file_name)\n",
    "                    # Track improvement\n",
    "                    epochs_no_improve = 0\n",
    "                    valid_loss_min = valid_loss\n",
    "                    valid_best_acc = valid_acc\n",
    "                    best_epoch = epoch\n",
    "\n",
    "                # Otherwise increment count of epochs with no improvement\n",
    "                else:\n",
    "                    epochs_no_improve += 1\n",
    "                    # Trigger early stopping\n",
    "                    if epochs_no_improve >= max_epochs_stop:\n",
    "                        print(\n",
    "                            f'\\nEarly Stopping! Total epochs: {epoch}. Best epoch: {best_epoch} with loss: {valid_loss_min:.2f} and acc: {100 * valid_acc:.2f}%'\n",
    "                        )\n",
    "                        total_time = timer() - overall_start\n",
    "                        print(\n",
    "                            f'{total_time:.2f} total seconds elapsed. {total_time / (epoch+1):.2f} seconds per epoch.'\n",
    "                        )\n",
    "\n",
    "                        # Load the best state dict\n",
    "                        model.load_state_dict(torch.load(save_file_name))\n",
    "                        # Attach the optimizer\n",
    "                        model.optimizer = optimizer\n",
    "\n",
    "                        # Format history\n",
    "                        history = pd.DataFrame(\n",
    "                            history,\n",
    "                            columns=[\n",
    "                                'train_loss', 'valid_loss', 'train_acc',\n",
    "                                'valid_acc'\n",
    "                            ])\n",
    "                        return model, history\n",
    "\n",
    "    # Attach the optimizer\n",
    "    model.optimizer = optimizer\n",
    "    # Record overall time and print out stats\n",
    "    total_time = timer() - overall_start\n",
    "    valid_acc = history[best_epoch][3]\n",
    "    print(\n",
    "        f'\\nBest epoch: {best_epoch} with loss: {valid_loss_min:.2f} and acc: {100 * valid_acc:.2f}%'\n",
    "    )\n",
    "    print(\n",
    "        f'{total_time:.2f} total seconds elapsed. {total_time / (epoch):.2f} seconds per epoch.'\n",
    "    )\n",
    "    # Format history\n",
    "    history = pd.DataFrame(\n",
    "        history,\n",
    "        columns=['train_loss', 'valid_loss', 'train_acc', 'valid_acc'])\n",
    "    return model, history"
   ]
  },
  {
   "cell_type": "code",
   "execution_count": 14,
   "id": "2d948919",
   "metadata": {},
   "outputs": [
    {
     "name": "stdout",
     "output_type": "stream",
     "text": [
      "Starting Training from Scratch.\n",
      "\n",
      "Epoch: 0\t105.63% validated. 434.69 seconds elapsed in epoch.\n",
      "Epoch: 0 \tTraining Loss: 1.7465 \tValidation Loss: 1.5566\n",
      "\t\tTraining Accuracy: 36.13%\t Validation Accuracy: 39.92%\n",
      "Epoch: 1\t105.63% validated. 429.36 seconds elapsed in epoch.\n",
      "Epoch: 1 \tTraining Loss: 1.5251 \tValidation Loss: 1.4810\n",
      "\t\tTraining Accuracy: 41.65%\t Validation Accuracy: 42.77%\n",
      "Epoch: 2\t105.63% validated. 431.03 seconds elapsed in epoch.\n",
      "Epoch: 2 \tTraining Loss: 1.4744 \tValidation Loss: 1.4449\n",
      "\t\tTraining Accuracy: 43.51%\t Validation Accuracy: 44.72%\n",
      "Epoch: 3\t105.63% validated. 429.81 seconds elapsed in epoch.\n",
      "Epoch: 3 \tTraining Loss: 1.4423 \tValidation Loss: 1.4265\n",
      "\t\tTraining Accuracy: 44.83%\t Validation Accuracy: 45.55%\n",
      "Epoch: 4\t105.63% validated. 432.62 seconds elapsed in epoch.\n",
      "Epoch: 4 \tTraining Loss: 1.4197 \tValidation Loss: 1.4162\n",
      "\t\tTraining Accuracy: 45.71%\t Validation Accuracy: 45.87%\n",
      "Epoch: 5\t105.63% validated. 428.36 seconds elapsed in epoch.\n",
      "Epoch: 5 \tTraining Loss: 1.4003 \tValidation Loss: 1.4073\n",
      "\t\tTraining Accuracy: 46.38%\t Validation Accuracy: 46.52%\n",
      "Epoch: 6\t105.63% validated. 429.38 seconds elapsed in epoch.\n",
      "Epoch: 6 \tTraining Loss: 1.3853 \tValidation Loss: 1.4045\n",
      "\t\tTraining Accuracy: 46.93%\t Validation Accuracy: 46.90%\n",
      "Epoch: 7\t105.63% validated. 429.09 seconds elapsed in epoch.\n",
      "Epoch: 7 \tTraining Loss: 1.3713 \tValidation Loss: 1.4031\n",
      "\t\tTraining Accuracy: 47.55%\t Validation Accuracy: 47.37%\n",
      "Epoch: 8\t105.63% validated. 430.04 seconds elapsed in epoch.\n",
      "Epoch: 8 \tTraining Loss: 1.3605 \tValidation Loss: 1.4088\n",
      "\t\tTraining Accuracy: 48.02%\t Validation Accuracy: 47.37%\n",
      "Epoch: 9\t105.63% validated. 431.41 seconds elapsed in epoch.\n",
      "Epoch: 9 \tTraining Loss: 1.3489 \tValidation Loss: 1.4027\n",
      "\t\tTraining Accuracy: 48.43%\t Validation Accuracy: 47.96%\n",
      "Epoch: 10\t105.63% validated. 428.36 seconds elapsed in epoch.\n",
      "Epoch: 10 \tTraining Loss: 1.3413 \tValidation Loss: 1.3965\n",
      "\t\tTraining Accuracy: 48.78%\t Validation Accuracy: 48.21%\n",
      "Epoch: 11\t105.63% validated. 405.89 seconds elapsed in epoch.\n",
      "Epoch: 11 \tTraining Loss: 1.3320 \tValidation Loss: 1.4010\n",
      "\t\tTraining Accuracy: 49.00%\t Validation Accuracy: 48.16%\n",
      "Epoch: 12\t105.63% validated. 386.73 seconds elapsed in epoch.\n",
      "Epoch: 12 \tTraining Loss: 1.3235 \tValidation Loss: 1.4039\n",
      "\t\tTraining Accuracy: 49.45%\t Validation Accuracy: 48.46%\n",
      "Epoch: 13\t105.63% validated. 385.95 seconds elapsed in epoch.\n",
      "Epoch: 13 \tTraining Loss: 1.3174 \tValidation Loss: 1.3999\n",
      "\t\tTraining Accuracy: 49.63%\t Validation Accuracy: 48.72%\n",
      "Epoch: 14\t105.63% validated. 385.66 seconds elapsed in epoch.\n",
      "Epoch: 14 \tTraining Loss: 1.3112 \tValidation Loss: 1.3970\n",
      "\t\tTraining Accuracy: 49.95%\t Validation Accuracy: 48.94%\n",
      "Epoch: 15\t105.63% validated. 385.75 seconds elapsed in epoch.\n",
      "Epoch: 15 \tTraining Loss: 1.3056 \tValidation Loss: 1.4105\n",
      "\t\tTraining Accuracy: 50.08%\t Validation Accuracy: 48.78%\n",
      "\n",
      "Early Stopping! Total epochs: 15. Best epoch: 10 with loss: 1.40 and acc: 48.78%\n",
      "6713.02 total seconds elapsed. 419.56 seconds per epoch.\n"
     ]
    }
   ],
   "source": [
    "model, history = train(\n",
    "    model,\n",
    "    criterion,\n",
    "    optimizer,\n",
    "    dataloaders['train'],\n",
    "    dataloaders['val'],\n",
    "    save_file_name=save_file_name,\n",
    "    max_epochs_stop=5,\n",
    "    n_epochs=70,\n",
    "    print_every=1)"
   ]
  },
  {
   "cell_type": "code",
   "execution_count": 14,
   "id": "e2edf633",
   "metadata": {},
   "outputs": [
    {
     "name": "stdout",
     "output_type": "stream",
     "text": [
      "Starting Training from Scratch.\n",
      "\n",
      "Epoch: 0\t105.63% validated. 381.90 seconds elapsed in epoch.\n",
      "Epoch: 0 \tTraining Loss: 1.7541 \tValidation Loss: 1.5685\n",
      "\t\tTraining Accuracy: 35.98%\t Validation Accuracy: 39.58%\n",
      "Epoch: 1\t105.63% validated. 384.62 seconds elapsed in epoch.\n",
      "Epoch: 1 \tTraining Loss: 1.5288 \tValidation Loss: 1.4851\n",
      "\t\tTraining Accuracy: 41.57%\t Validation Accuracy: 42.69%\n",
      "Epoch: 2\t105.63% validated. 414.40 seconds elapsed in epoch.\n",
      "Epoch: 2 \tTraining Loss: 1.4793 \tValidation Loss: 1.4459\n",
      "\t\tTraining Accuracy: 43.36%\t Validation Accuracy: 44.72%\n",
      "Epoch: 3\t105.63% validated. 408.15 seconds elapsed in epoch.\n",
      "Epoch: 3 \tTraining Loss: 1.4482 \tValidation Loss: 1.4423\n",
      "\t\tTraining Accuracy: 44.56%\t Validation Accuracy: 44.84%\n",
      "Epoch: 4\t105.63% validated. 403.67 seconds elapsed in epoch.\n",
      "Epoch: 4 \tTraining Loss: 1.4261 \tValidation Loss: 1.4177\n",
      "\t\tTraining Accuracy: 45.43%\t Validation Accuracy: 46.11%\n",
      "Epoch: 5\t105.63% validated. 398.52 seconds elapsed in epoch.\n",
      "Epoch: 5 \tTraining Loss: 1.4051 \tValidation Loss: 1.4185\n",
      "\t\tTraining Accuracy: 46.29%\t Validation Accuracy: 46.44%\n",
      "Epoch: 6\t105.63% validated. 359.26 seconds elapsed in epoch.\n",
      "Epoch: 6 \tTraining Loss: 1.3908 \tValidation Loss: 1.4050\n",
      "\t\tTraining Accuracy: 46.80%\t Validation Accuracy: 46.94%\n",
      "Epoch: 7\t105.63% validated. 340.72 seconds elapsed in epoch.\n",
      "Epoch: 7 \tTraining Loss: 1.3756 \tValidation Loss: 1.3977\n",
      "\t\tTraining Accuracy: 47.43%\t Validation Accuracy: 47.33%\n",
      "Epoch: 8\t105.63% validated. 350.80 seconds elapsed in epoch.\n",
      "Epoch: 8 \tTraining Loss: 1.3633 \tValidation Loss: 1.3955\n",
      "\t\tTraining Accuracy: 47.87%\t Validation Accuracy: 47.72%\n",
      "Epoch: 9\t105.63% validated. 343.02 seconds elapsed in epoch.\n",
      "Epoch: 9 \tTraining Loss: 1.3534 \tValidation Loss: 1.3961\n",
      "\t\tTraining Accuracy: 48.30%\t Validation Accuracy: 47.77%\n",
      "Epoch: 10\t105.63% validated. 359.80 seconds elapsed in epoch.\n",
      "Epoch: 10 \tTraining Loss: 1.3439 \tValidation Loss: 1.4035\n",
      "\t\tTraining Accuracy: 48.65%\t Validation Accuracy: 47.79%\n",
      "Epoch: 11\t105.63% validated. 398.29 seconds elapsed in epoch.\n",
      "Epoch: 11 \tTraining Loss: 1.3349 \tValidation Loss: 1.3996\n",
      "\t\tTraining Accuracy: 49.03%\t Validation Accuracy: 48.21%\n",
      "\n",
      "Early Stopping! Total epochs: 11. Best epoch: 8 with loss: 1.40 and acc: 48.21%\n",
      "4568.60 total seconds elapsed. 380.72 seconds per epoch.\n"
     ]
    }
   ],
   "source": [
    "# with softmax\n",
    "model, history = train(\n",
    "    model,\n",
    "    criterion,\n",
    "    optimizer,\n",
    "    dataloaders['train'],\n",
    "    dataloaders['val'],\n",
    "    save_file_name=save_file_name,\n",
    "    max_epochs_stop=3,\n",
    "    n_epochs=70,\n",
    "    print_every=1)"
   ]
  },
  {
   "cell_type": "code",
   "execution_count": 15,
   "id": "336ebd6e",
   "metadata": {},
   "outputs": [],
   "source": [
    "model.idx_to_class = ['0.0-1.0',\n",
    " '1.0-1.7',\n",
    " '1.7-3.0',\n",
    " '3.0-5.3',\n",
    " '5.3-9.1',\n",
    " '9.1-15.9',\n",
    " '15.9-27.7',\n",
    " '27.7-48.1',\n",
    " '48.1-83.7',\n",
    " '83.7-145.5',\n",
    " '145.5-253.0',\n",
    " '253.0-440.1',\n",
    " '440.1-765.3',\n",
    " '765.3-1331.0',\n",
    " '1331.0-2314.6',\n",
    " '2314.6-4025.3',\n",
    " '4025.3-7000.4',\n",
    " '7000.4-12174.3',\n",
    " '12174.3-21172.1',\n",
    " '21172.1-36820.0']\n",
    "\n",
    "model.class_to_idx = {'0.0-1.0': 0,\n",
    " '1.0-1.7': 1,\n",
    " '1.7-3.0': 2,\n",
    " '3.0-5.3': 3,\n",
    " '5.3-9.1': 4,\n",
    " '9.1-15.9': 5,\n",
    " '15.9-27.7': 6,\n",
    " '27.7-48.1': 7,\n",
    " '48.1-83.7': 8,\n",
    " '83.7-145.5': 9,\n",
    " '145.5-253.0': 10,\n",
    " '253.0-440.1': 11,\n",
    " '440.1-765.3': 12,\n",
    " '765.3-1331.0': 13,\n",
    " '1331.0-2314.6': 14,\n",
    " '2314.6-4025.3': 15,\n",
    " '4025.3-7000.4': 16,\n",
    " '7000.4-12174.3': 17,\n",
    " '12174.3-21172.1': 18,\n",
    " '21172.1-36820.0': 19}\n",
    "\n",
    "def save_checkpoint(model, path):\n",
    "    \"\"\"Save a PyTorch model checkpoint\n",
    "\n",
    "    Params\n",
    "    --------\n",
    "        model (PyTorch model): model to save\n",
    "        path (str): location to save model. Must start with `model_name-` and end in '.pth'\n",
    "\n",
    "    Returns\n",
    "    --------\n",
    "        None, save the `model` to `path`\n",
    "\n",
    "    \"\"\"\n",
    "\n",
    "    # Basic details\n",
    "    checkpoint = {\n",
    "        'class_to_idx': model.class_to_idx,\n",
    "        'idx_to_class': model.idx_to_class,\n",
    "        'epochs': model.epochs,\n",
    "    }\n",
    "\n",
    "    # Extract the final classifier and the state dictionary\n",
    "    if multi_gpu:\n",
    "        checkpoint['state_dict'] = model.module.state_dict()\n",
    "    else:\n",
    "        checkpoint['state_dict'] = model.state_dict()\n",
    "\n",
    "    # Add the optimizer\n",
    "    checkpoint['optimizer'] = model.optimizer\n",
    "    checkpoint['optimizer_state_dict'] = model.optimizer.state_dict()\n",
    "\n",
    "    # Save the data to the path\n",
    "    torch.save(checkpoint, path)\n"
   ]
  },
  {
   "cell_type": "code",
   "execution_count": 16,
   "id": "1a413500",
   "metadata": {},
   "outputs": [],
   "source": [
    "save_checkpoint(model, path=checkpoint_path)"
   ]
  },
  {
   "cell_type": "code",
   "execution_count": null,
   "id": "57c624d7",
   "metadata": {},
   "outputs": [],
   "source": [
    "def load_checkpoint(model, path):\n",
    "    \"\"\"Load a PyTorch model checkpoint\n",
    "\n",
    "    Params\n",
    "    --------\n",
    "        path (str): saved model checkpoint. Must start with `model_name-` and end in '.pth'\n",
    "\n",
    "    Returns\n",
    "    --------\n",
    "        None, save the `model` to `path`\n",
    "\n",
    "    \"\"\"\n",
    "\n",
    "    # Load in checkpoint\n",
    "    checkpoint = torch.load(path)\n",
    "\n",
    "    # Load in the state dict\n",
    "    model.load_state_dict(checkpoint['state_dict'])\n",
    "\n",
    "    total_params = sum(p.numel() for p in model.parameters())\n",
    "    print(f'{total_params:,} total parameters.')\n",
    "    total_trainable_params = sum(\n",
    "        p.numel() for p in model.parameters() if p.requires_grad)\n",
    "    print(f'{total_trainable_params:,} total gradient parameters.')\n",
    "\n",
    "    # Move to gpu\n",
    "    if multi_gpu:\n",
    "        model = nn.DataParallel(model)\n",
    "    if train_on_gpu:\n",
    "        model = model.to('cuda')\n",
    "\n",
    "    # Model basics\n",
    "    model.class_to_idx = checkpoint['class_to_idx']\n",
    "    model.idx_to_class = checkpoint['idx_to_class']\n",
    "    model.epochs = checkpoint['epochs']\n",
    "\n",
    "    # Optimizer\n",
    "    optimizer = checkpoint['optimizer']\n",
    "    optimizer.load_state_dict(checkpoint['optimizer_state_dict'])\n",
    "\n",
    "    return model, optimizer"
   ]
  },
  {
   "cell_type": "code",
   "execution_count": 18,
   "id": "3cedd4d8",
   "metadata": {},
   "outputs": [],
   "source": [
    "model, optimizer = load_checkpoint(model, checkpoint_path)"
   ]
  },
  {
   "cell_type": "markdown",
   "id": "31545e2a",
   "metadata": {},
   "source": [
    "## Evaluation"
   ]
  },
  {
   "cell_type": "code",
   "execution_count": 21,
   "id": "da9f8e3a",
   "metadata": {},
   "outputs": [
    {
     "name": "stdout",
     "output_type": "stream",
     "text": [
      "Starting Evaluatation.\n",
      "\n",
      "i: 287199 / 287199 evaluated. 399.40 seconds elapsed.\n",
      "0\n"
     ]
    }
   ],
   "source": [
    "def evaluate(model, test_loader, criterion, topk=(1, 3, 5)):\n",
    "    \"\"\"Measure the performance of a trained PyTorch model\n",
    "\n",
    "    Params\n",
    "    --------\n",
    "        model (PyTorch model): trained cnn for inference\n",
    "        test_loader (PyTorch DataLoader): test dataloader\n",
    "        topk (tuple of ints): accuracy to measure\n",
    "\n",
    "    Returns\n",
    "    --------\n",
    "        results (DataFrame): results for each category\n",
    "\n",
    "    \"\"\"\n",
    "    confusion_matrix = torch.zeros(20, 20)\n",
    "    classes = []\n",
    "    losses = []\n",
    "    estimated_len = len(test_loader.dataset)\n",
    "    # Hold accuracy results\n",
    "    acc_results = np.zeros((estimated_len, len(topk)))\n",
    "    i = 0\n",
    "    start = timer()\n",
    "    \n",
    "    print(f'Starting Evaluatation.\\n')\n",
    "\n",
    "    model.eval()\n",
    "    with torch.no_grad():\n",
    "\n",
    "        # Testing loop      \n",
    "        for stack_cat, stack_num, targets in test_loader:\n",
    "\n",
    "            # Tensors to gpu\n",
    "            if train_on_gpu:\n",
    "                stack_cat, stack_num, targets = stack_cat.cuda(), stack_num.cuda(), targets.cuda()\n",
    "        \n",
    "            # Raw model output\n",
    "            out = model(stack_cat, stack_num)\n",
    "            _, predscm = torch.max(out, 1)\n",
    "            for t, p in zip(targets.view(-1), predscm.view(-1)):\n",
    "                confusion_matrix[t.long(), p.long()] += 1\n",
    "            \n",
    "            # Iterate through each example\n",
    "            for pred, true in zip(out, targets):\n",
    "                # Find topk accuracy\n",
    "                acc_results[i, :] = accuracy(\n",
    "                    pred.unsqueeze(0), true.unsqueeze(0), topk)\n",
    "                classes.append(model.idx_to_class[true.item()])\n",
    "                # Calculate the loss\n",
    "                loss = criterion(pred.view(1, 20), true.view(1))\n",
    "                losses.append(loss.item())\n",
    "                i += 1\n",
    "            \n",
    "                # Track progress\n",
    "                print(\n",
    "                    f'i: {i} / {estimated_len} evaluated. {timer() - start:.2f} seconds elapsed.',\n",
    "                    end='\\r')\n",
    "\n",
    "    # Send results to a dataframe and calculate average across classes\n",
    "    diff_len =  estimated_len - i\n",
    "    acc_results = acc_results[:-diff_len]\n",
    "    print(f'\\n{len(acc_results)}')\n",
    "    results = pd.DataFrame(acc_results, columns=[f'top{i}' for i in topk])\n",
    "    results['class'] = classes\n",
    "    results['loss'] = losses\n",
    "    results = results.groupby(classes).mean()\n",
    "\n",
    "    return results.reset_index().rename(columns={'index': 'class'}), confusion_matrix\n",
    "\n",
    "criterion = nn.CrossEntropyLoss()\n",
    "# Evaluate the model on all the training data\n",
    "results,confusion_matrix = evaluate(model, dataloaders['test'], criterion)"
   ]
  },
  {
   "cell_type": "code",
   "execution_count": 19,
   "id": "a9abfe8b",
   "metadata": {},
   "outputs": [],
   "source": [
    "testloader = dataloaders['test']"
   ]
  },
  {
   "cell_type": "code",
   "execution_count": 22,
   "id": "d28bd330",
   "metadata": {},
   "outputs": [
    {
     "name": "stdout",
     "output_type": "stream",
     "text": [
      "[48.04496765136719]\n"
     ]
    }
   ],
   "source": [
    "def accuracy(output, target, topk=(1, )):\n",
    "    \"\"\"Compute the topk accuracy(s)\"\"\"\n",
    "    if train_on_gpu:\n",
    "        output = output.to('cuda')\n",
    "        target = target.to('cuda')\n",
    "\n",
    "    with torch.no_grad():\n",
    "        maxk = max(topk)\n",
    "        batch_size = target.size(0)\n",
    "\n",
    "        # Find the predicted classes and transpose\n",
    "        _, pred = output.topk(k=maxk, dim=1, largest=True, sorted=True)\n",
    "        pred = pred.t()\n",
    "\n",
    "        # Determine predictions equal to the targets\n",
    "        correct = pred.eq(target.view(1, -1).expand_as(pred))\n",
    "\n",
    "        res = []\n",
    "\n",
    "        # For each k, find the percentage of correct\n",
    "        for k in topk:\n",
    "            correct_k = correct[:k].view(-1).float().sum(0, keepdim=True)\n",
    "            res.append(correct_k.mul_(100.0 / batch_size).item())\n",
    "        return res\n",
    "\n",
    "testiter = iter(testloader)\n",
    "# Get a batch of testing images and labels\n",
    "stack_cat, stack_num, target = next(testiter)\n",
    "\n",
    "if train_on_gpu:\n",
    "    res = accuracy(model(stack_cat.cuda(), stack_num.cuda()), target, topk=(1, ))\n",
    "else:\n",
    "    res = accuracy(model(stack_cat.cuda(), stack_num.cuda()), target, topk=(1, 5))\n",
    "print(res)"
   ]
  },
  {
   "cell_type": "code",
   "execution_count": 23,
   "id": "95c6a731",
   "metadata": {},
   "outputs": [
    {
     "name": "stdout",
     "output_type": "stream",
     "text": [
      "Confusion matrix, without normalization\n"
     ]
    },
    {
     "data": {
      "image/png": "[encoded data removed]",
      "text/plain": [
       "<Figure size 1440x1440 with 2 Axes>"
      ]
     },
     "metadata": {
      "needs_background": "light"
     },
     "output_type": "display_data"
    }
   ],
   "source": [
    "import itertools\n",
    "import numpy as np\n",
    "import matplotlib.pyplot as plt\n",
    "\n",
    "def plot_confusion_matrix(cm, classes, normalize=False, title='Confusion matrix', cmap=plt.cm.Blues):\n",
    "    if normalize:\n",
    "        cm = cm.astype('float') / cm.sum(axis=1)[:, np.newaxis]\n",
    "        print(\"Normalized confusion matrix\")\n",
    "    else:\n",
    "        print('Confusion matrix, without normalization')\n",
    "\n",
    "    #print(cm)\n",
    "    plt.imshow(cm, interpolation='nearest', cmap=cmap)\n",
    "    plt.title(title)\n",
    "    plt.colorbar()\n",
    "    tick_marks = np.arange(len(classes))\n",
    "    plt.xticks(tick_marks, classes, rotation=45)\n",
    "    plt.yticks(tick_marks, classes)\n",
    "\n",
    "    fmt = '.2f' if normalize else '.0f'\n",
    "    thresh = cm.max() / 2.\n",
    "    for i, j in itertools.product(range(cm.shape[0]), range(cm.shape[1])):\n",
    "        plt.text(j, i, format(cm[i, j], fmt), horizontalalignment=\"center\", color=\"white\" if cm[i, j] > thresh else \"black\")\n",
    "\n",
    "    plt.tight_layout()\n",
    "    plt.ylabel('True label')\n",
    "    plt.xlabel('Predicted label')\n",
    "    plt.savefig(f'outputs/confusion_matrix.png')\n",
    "    return plt\n",
    "\n",
    "classnames = [model.idx_to_class[i] for i in range(0, 20)]\n",
    "\n",
    "plt.figure(figsize=(20,20))\n",
    "plt = plot_confusion_matrix(confusion_matrix, classnames)"
   ]
  },
  {
   "cell_type": "code",
   "execution_count": 3,
   "id": "b1231473",
   "metadata": {},
   "outputs": [
    {
     "name": "stdout",
     "output_type": "stream",
     "text": [
      "LOADING: D:\\Code\\datascience\\MA_NFT\\data\\pickle\\X_train.pkl\n",
      "LOADING: D:\\Code\\datascience\\MA_NFT\\data\\pickle\\X_valid.pkl\n",
      "LOADING: D:\\Code\\datascience\\MA_NFT\\data\\pickle\\X_test.pkl\n",
      "LOADING: D:\\Code\\datascience\\MA_NFT\\data\\pickle\\y_train.pkl\n",
      "LOADING: D:\\Code\\datascience\\MA_NFT\\data\\pickle\\y_valid.pkl\n",
      "LOADING: D:\\Code\\datascience\\MA_NFT\\data\\pickle\\y_test.pkl\n"
     ]
    }
   ],
   "source": [
    "import pickle\n",
    "\n",
    "pickle_dir = 'D:\\\\Code\\\\datascience\\\\MA_NFT\\\\data\\\\pickle\\\\'\n",
    "\n",
    "def load_pickle(name):\n",
    "    print('LOADING: ' + pickle_dir + name + '.pkl')\n",
    "    with open(pickle_dir + name + '.pkl', 'rb') as f:\n",
    "        return pickle.load(f)\n",
    "    \n",
    "def save_pkl(obj, name):\n",
    "    with open(pickle_dir + name + '.pkl', 'wb') as f:\n",
    "        pickle.dump(obj, f, pickle.HIGHEST_PROTOCOL)\n",
    "\n",
    "x_t = load_pickle('X_train')\n",
    "save_pkl(x_t[0:100], 'X_train.sample')\n",
    "#'y_train'\n",
    "#'X_valid',\n",
    "#'y_valid',\n",
    "#'X_test',\n",
    "#'y_test',\n",
    "x_v = load_pickle('X_valid')\n",
    "save_pkl(x_v[0:100], 'X_valid.sample')\n",
    "\n",
    "x_test = load_pickle('X_test')\n",
    "save_pkl(x_test[0:100], 'X_test.sample')\n",
    "\n",
    "y_t = load_pickle('y_train')\n",
    "save_pkl(y_t[0:100], 'y_train.sample')\n",
    "\n",
    "y_v = load_pickle('y_valid')\n",
    "save_pkl(y_v[0:100], 'y_valid.sample')\n",
    "\n",
    "y_test = load_pickle('y_test')\n",
    "save_pkl(y_test[0:100], 'y_test.sample')"
   ]
  },
  {
   "cell_type": "code",
   "execution_count": 23,
   "id": "25237c94",
   "metadata": {},
   "outputs": [],
   "source": [
    "import os\n",
    "\n",
    "def copy_image(path):\n",
    "    if path.startswith('..\\\\..\\\\opensea_scapper\\\\opensea_nft_scrapper\\\\data\\\\'):\n",
    "        path_part = path[len('..\\\\..\\\\opensea_scapper\\\\opensea_nft_scrapper\\\\data\\\\'):]\n",
    "        path = 'E:\\\\data\\\\opensea\\\\' + path_part\n",
    "    filename = path[path.rindex('\\\\'):]\n",
    "    target = f'C:\\\\nft_data\\\\sample\\\\{filename}'\n",
    "    os.system(f'copy {path} {target}')"
   ]
  },
  {
   "cell_type": "code",
   "execution_count": 24,
   "id": "08165cf4",
   "metadata": {},
   "outputs": [
    {
     "data": {
      "text/plain": [
       "716067    None\n",
       "506943    None\n",
       "643195    None\n",
       "535597    None\n",
       "17777     None\n",
       "          ... \n",
       "260462    None\n",
       "822487    None\n",
       "504982    None\n",
       "628443    None\n",
       "78090     None\n",
       "Name: image_path, Length: 100, dtype: object"
      ]
     },
     "execution_count": 24,
     "metadata": {},
     "output_type": "execute_result"
    }
   ],
   "source": [
    "x_test[0:100]['image_path'].apply(lambda row: copy_image(row))"
   ]
  },
  {
   "cell_type": "code",
   "execution_count": 25,
   "id": "b9187e65",
   "metadata": {},
   "outputs": [
    {
     "data": {
      "text/plain": [
       "913660     None\n",
       "228961     None\n",
       "354204     None\n",
       "866830     None\n",
       "992030     None\n",
       "           ... \n",
       "1045781    None\n",
       "637655     None\n",
       "237783     None\n",
       "921751     None\n",
       "351360     None\n",
       "Name: image_path, Length: 100, dtype: object"
      ]
     },
     "execution_count": 25,
     "metadata": {},
     "output_type": "execute_result"
    }
   ],
   "source": [
    "x_t[0:100]['image_path'].apply(lambda row: copy_image(row))"
   ]
  },
  {
   "cell_type": "code",
   "execution_count": 26,
   "id": "ec540e01",
   "metadata": {},
   "outputs": [
    {
     "data": {
      "text/plain": [
       "453052     None\n",
       "1063738    None\n",
       "1061359    None\n",
       "1074393    None\n",
       "310077     None\n",
       "           ... \n",
       "374537     None\n",
       "1058183    None\n",
       "571652     None\n",
       "56726      None\n",
       "939778     None\n",
       "Name: image_path, Length: 100, dtype: object"
      ]
     },
     "execution_count": 26,
     "metadata": {},
     "output_type": "execute_result"
    }
   ],
   "source": [
    "x_v[0:100]['image_path'].apply(lambda row: copy_image(row))"
   ]
  },
  {
   "cell_type": "code",
   "execution_count": 28,
   "id": "4c88e859",
   "metadata": {},
   "outputs": [
    {
     "name": "stdout",
     "output_type": "stream",
     "text": [
      "LOADING: D:\\Code\\datascience\\MA_NFT\\data\\pickle\\X_train.sample.pkl\n",
      "LOADING: D:\\Code\\datascience\\MA_NFT\\data\\pickle\\X_valid.sample.pkl\n",
      "LOADING: D:\\Code\\datascience\\MA_NFT\\data\\pickle\\X_test.sample.pkl\n",
      "LOADING: D:\\Code\\datascience\\MA_NFT\\data\\pickle\\y_train.sample.pkl\n",
      "LOADING: D:\\Code\\datascience\\MA_NFT\\data\\pickle\\y_valid.sample.pkl\n",
      "LOADING: D:\\Code\\datascience\\MA_NFT\\data\\pickle\\y_test.sample.pkl\n"
     ]
    }
   ],
   "source": [
    "x_t = load_pickle('X_train.sample')\n",
    "x_v = load_pickle('X_valid.sample')\n",
    "x_test = load_pickle('X_test.sample')\n",
    "\n",
    "\n",
    "y_t = load_pickle('y_train.sample')\n",
    "y_v = load_pickle('y_valid.sample')\n",
    "y_test = load_pickle('y_test.sample')\n"
   ]
  },
  {
   "cell_type": "code",
   "execution_count": 29,
   "id": "333d7f49",
   "metadata": {},
   "outputs": [
    {
     "data": {
      "text/plain": [
       "716067    None\n",
       "506943    None\n",
       "643195    None\n",
       "535597    None\n",
       "17777     None\n",
       "          ... \n",
       "260462    None\n",
       "822487    None\n",
       "504982    None\n",
       "628443    None\n",
       "78090     None\n",
       "Name: image_path, Length: 100, dtype: object"
      ]
     },
     "execution_count": 29,
     "metadata": {},
     "output_type": "execute_result"
    }
   ],
   "source": [
    "x_v['image_path'].apply(lambda row: copy_image(row))\n",
    "x_t['image_path'].apply(lambda row: copy_image(row))\n",
    "x_test['image_path'].apply(lambda row: copy_image(row))"
   ]
  },
  {
   "cell_type": "code",
   "execution_count": 31,
   "id": "8b032c02",
   "metadata": {},
   "outputs": [
    {
     "data": {
      "text/plain": [
       "'C:\\\\nft_data\\\\preview\\\\71PbXn4B3CmUIj-JVeIs_noext.png'"
      ]
     },
     "execution_count": 31,
     "metadata": {},
     "output_type": "execute_result"
    }
   ],
   "source": [
    "x_test['image_path'].iloc[0]"
   ]
  },
  {
   "cell_type": "markdown",
   "id": "83c42561",
   "metadata": {},
   "source": [
    "## Captum"
   ]
  },
  {
   "cell_type": "code",
   "execution_count": 28,
   "id": "bdc19e5e",
   "metadata": {},
   "outputs": [],
   "source": [
    "# Initial imports\n",
    "import numpy as np\n",
    "\n",
    "import torch\n",
    "\n",
    "from captum.attr import IntegratedGradients\n",
    "from captum.attr import LayerConductance\n",
    "from captum.attr import NeuronConductance\n",
    "\n",
    "import matplotlib\n",
    "import matplotlib.pyplot as plt\n",
    "#%matplotlib inline\n",
    "\n",
    "from scipy import stats\n",
    "import pandas as pd"
   ]
  },
  {
   "cell_type": "code",
   "execution_count": 29,
   "id": "212bd19f",
   "metadata": {},
   "outputs": [
    {
     "data": {
      "text/plain": [
       "MulticlassClassification(\n",
       "  (all_embeddings): ModuleList(\n",
       "    (0): Embedding(4096, 50)\n",
       "    (1): Embedding(2, 1)\n",
       "    (2): Embedding(4096, 50)\n",
       "    (3): Embedding(4096, 50)\n",
       "    (4): Embedding(3, 2)\n",
       "    (5): Embedding(30, 15)\n",
       "    (6): Embedding(4096, 50)\n",
       "    (7): Embedding(4096, 50)\n",
       "    (8): Embedding(4, 2)\n",
       "    (9): Embedding(2, 1)\n",
       "    (10): Embedding(2, 1)\n",
       "    (11): Embedding(2, 1)\n",
       "  )\n",
       "  (embedding_dropout): Dropout(p=0.2, inplace=False)\n",
       "  (batch_norm_num): BatchNorm1d(4, eps=1e-05, momentum=0.1, affine=True, track_running_stats=True)\n",
       "  (layers): Sequential(\n",
       "    (0): Linear(in_features=277, out_features=512, bias=True)\n",
       "    (1): ReLU(inplace=True)\n",
       "    (2): BatchNorm1d(512, eps=1e-05, momentum=0.1, affine=True, track_running_stats=True)\n",
       "    (3): Dropout(p=0.2, inplace=False)\n",
       "    (4): Linear(in_features=512, out_features=128, bias=True)\n",
       "    (5): ReLU(inplace=True)\n",
       "    (6): BatchNorm1d(128, eps=1e-05, momentum=0.1, affine=True, track_running_stats=True)\n",
       "    (7): Dropout(p=0.2, inplace=False)\n",
       "    (8): Linear(in_features=128, out_features=64, bias=True)\n",
       "    (9): ReLU(inplace=True)\n",
       "    (10): BatchNorm1d(64, eps=1e-05, momentum=0.1, affine=True, track_running_stats=True)\n",
       "    (11): Dropout(p=0.2, inplace=False)\n",
       "    (12): Linear(in_features=64, out_features=20, bias=True)\n",
       "  )\n",
       ")"
      ]
     },
     "execution_count": 29,
     "metadata": {},
     "output_type": "execute_result"
    }
   ],
   "source": [
    "model.eval()"
   ]
  },
  {
   "cell_type": "code",
   "execution_count": null,
   "id": "6bc6399d",
   "metadata": {},
   "outputs": [],
   "source": [
    "testiter = iter(testloader)\n",
    "# Get a batch of testing images and labels\n",
    "stack_cat, stack_num, target = next(testiter)"
   ]
  },
  {
   "cell_type": "code",
   "execution_count": 32,
   "id": "13879356",
   "metadata": {},
   "outputs": [],
   "source": [
    "from captum.attr import configure_interpretable_embedding_layer, remove_interpretable_embedding_layer"
   ]
  },
  {
   "cell_type": "code",
   "execution_count": 33,
   "id": "94a36ba8",
   "metadata": {},
   "outputs": [],
   "source": [
    "embedding_inp = [embedding(stack_cat.cuda()[:,i]) for i, embedding in enumerate(model.all_embeddings)]"
   ]
  },
  {
   "cell_type": "code",
   "execution_count": 34,
   "id": "b2c76022",
   "metadata": {},
   "outputs": [],
   "source": [
    "embeddings_cat = torch.cat(embedding_inp, 1)"
   ]
  },
  {
   "cell_type": "code",
   "execution_count": 35,
   "id": "68c93dec",
   "metadata": {},
   "outputs": [
    {
     "name": "stderr",
     "output_type": "stream",
     "text": [
      "C:\\Users\\bb1\\miniconda3\\envs\\deep\\lib\\site-packages\\captum\\attr\\_models\\base.py:188: UserWarning: In order to make embedding layers more interpretable they will be replaced with an interpretable embedding layer which wraps the original embedding layer and takes word embedding vectors as inputs of the forward function. This allows us to generate baselines for word embeddings and compute attributions for each embedding dimension. The original embedding layer must be set back by calling `remove_interpretable_embedding_layer` function after model interpretation is finished. \n",
      "  warnings.warn(\n"
     ]
    }
   ],
   "source": [
    "interp_embeddings = []\n",
    "for i in range(len(model.all_embeddings)):\n",
    "    interp_embeddings.append(configure_interpretable_embedding_layer(model, 'all_embeddings.' + str(i)))"
   ]
  },
  {
   "cell_type": "code",
   "execution_count": 36,
   "id": "3d81341f",
   "metadata": {},
   "outputs": [
    {
     "ename": "IndexError",
     "evalue": "Dimension out of range (expected to be in range of [-1, 0], but got 1)",
     "output_type": "error",
     "traceback": [
      "\u001b[1;31m---------------------------------------------------------------------------\u001b[0m",
      "\u001b[1;31mIndexError\u001b[0m                                Traceback (most recent call last)",
      "Input \u001b[1;32mIn [36]\u001b[0m, in \u001b[0;36m<cell line: 2>\u001b[1;34m()\u001b[0m\n\u001b[0;32m      1\u001b[0m ig \u001b[38;5;241m=\u001b[39m IntegratedGradients(model)\n\u001b[1;32m----> 2\u001b[0m \u001b[43mig\u001b[49m\u001b[38;5;241;43m.\u001b[39;49m\u001b[43mattribute\u001b[49m\u001b[43m(\u001b[49m\u001b[43minputs\u001b[49m\u001b[38;5;241;43m=\u001b[39;49m\u001b[43m(\u001b[49m\u001b[43membeddings_cat\u001b[49m\u001b[38;5;241;43m.\u001b[39;49m\u001b[43mcuda\u001b[49m\u001b[43m(\u001b[49m\u001b[43m)\u001b[49m\u001b[43m,\u001b[49m\u001b[43m \u001b[49m\u001b[43mstack_num\u001b[49m\u001b[38;5;241;43m.\u001b[39;49m\u001b[43mcuda\u001b[49m\u001b[43m(\u001b[49m\u001b[43m)\u001b[49m\u001b[43m)\u001b[49m\u001b[43m,\u001b[49m\u001b[43m \u001b[49m\u001b[43mtarget\u001b[49m\u001b[38;5;241;43m=\u001b[39;49m\u001b[43mtarget\u001b[49m\u001b[38;5;241;43m.\u001b[39;49m\u001b[43mcuda\u001b[49m\u001b[43m(\u001b[49m\u001b[43m)\u001b[49m\u001b[43m)\u001b[49m\n",
      "File \u001b[1;32m~\\miniconda3\\envs\\deep\\lib\\site-packages\\captum\\log\\__init__.py:35\u001b[0m, in \u001b[0;36mlog_usage.<locals>._log_usage.<locals>.wrapper\u001b[1;34m(*args, **kwargs)\u001b[0m\n\u001b[0;32m     33\u001b[0m \u001b[38;5;129m@wraps\u001b[39m(func)\n\u001b[0;32m     34\u001b[0m \u001b[38;5;28;01mdef\u001b[39;00m \u001b[38;5;21mwrapper\u001b[39m(\u001b[38;5;241m*\u001b[39margs, \u001b[38;5;241m*\u001b[39m\u001b[38;5;241m*\u001b[39mkwargs):\n\u001b[1;32m---> 35\u001b[0m     \u001b[38;5;28;01mreturn\u001b[39;00m \u001b[43mfunc\u001b[49m\u001b[43m(\u001b[49m\u001b[38;5;241;43m*\u001b[39;49m\u001b[43margs\u001b[49m\u001b[43m,\u001b[49m\u001b[43m \u001b[49m\u001b[38;5;241;43m*\u001b[39;49m\u001b[38;5;241;43m*\u001b[39;49m\u001b[43mkwargs\u001b[49m\u001b[43m)\u001b[49m\n",
      "File \u001b[1;32m~\\miniconda3\\envs\\deep\\lib\\site-packages\\captum\\attr\\_core\\integrated_gradients.py:285\u001b[0m, in \u001b[0;36mIntegratedGradients.attribute\u001b[1;34m(self, inputs, baselines, target, additional_forward_args, n_steps, method, internal_batch_size, return_convergence_delta)\u001b[0m\n\u001b[0;32m    273\u001b[0m     attributions \u001b[38;5;241m=\u001b[39m _batch_attribution(\n\u001b[0;32m    274\u001b[0m         \u001b[38;5;28mself\u001b[39m,\n\u001b[0;32m    275\u001b[0m         num_examples,\n\u001b[1;32m   (...)\u001b[0m\n\u001b[0;32m    282\u001b[0m         method\u001b[38;5;241m=\u001b[39mmethod,\n\u001b[0;32m    283\u001b[0m     )\n\u001b[0;32m    284\u001b[0m \u001b[38;5;28;01melse\u001b[39;00m:\n\u001b[1;32m--> 285\u001b[0m     attributions \u001b[38;5;241m=\u001b[39m \u001b[38;5;28;43mself\u001b[39;49m\u001b[38;5;241;43m.\u001b[39;49m\u001b[43m_attribute\u001b[49m\u001b[43m(\u001b[49m\n\u001b[0;32m    286\u001b[0m \u001b[43m        \u001b[49m\u001b[43minputs\u001b[49m\u001b[38;5;241;43m=\u001b[39;49m\u001b[43minputs\u001b[49m\u001b[43m,\u001b[49m\n\u001b[0;32m    287\u001b[0m \u001b[43m        \u001b[49m\u001b[43mbaselines\u001b[49m\u001b[38;5;241;43m=\u001b[39;49m\u001b[43mbaselines\u001b[49m\u001b[43m,\u001b[49m\n\u001b[0;32m    288\u001b[0m \u001b[43m        \u001b[49m\u001b[43mtarget\u001b[49m\u001b[38;5;241;43m=\u001b[39;49m\u001b[43mtarget\u001b[49m\u001b[43m,\u001b[49m\n\u001b[0;32m    289\u001b[0m \u001b[43m        \u001b[49m\u001b[43madditional_forward_args\u001b[49m\u001b[38;5;241;43m=\u001b[39;49m\u001b[43madditional_forward_args\u001b[49m\u001b[43m,\u001b[49m\n\u001b[0;32m    290\u001b[0m \u001b[43m        \u001b[49m\u001b[43mn_steps\u001b[49m\u001b[38;5;241;43m=\u001b[39;49m\u001b[43mn_steps\u001b[49m\u001b[43m,\u001b[49m\n\u001b[0;32m    291\u001b[0m \u001b[43m        \u001b[49m\u001b[43mmethod\u001b[49m\u001b[38;5;241;43m=\u001b[39;49m\u001b[43mmethod\u001b[49m\u001b[43m,\u001b[49m\n\u001b[0;32m    292\u001b[0m \u001b[43m    \u001b[49m\u001b[43m)\u001b[49m\n\u001b[0;32m    294\u001b[0m \u001b[38;5;28;01mif\u001b[39;00m return_convergence_delta:\n\u001b[0;32m    295\u001b[0m     start_point, end_point \u001b[38;5;241m=\u001b[39m baselines, inputs\n",
      "File \u001b[1;32m~\\miniconda3\\envs\\deep\\lib\\site-packages\\captum\\attr\\_core\\integrated_gradients.py:350\u001b[0m, in \u001b[0;36mIntegratedGradients._attribute\u001b[1;34m(self, inputs, baselines, target, additional_forward_args, n_steps, method, step_sizes_and_alphas)\u001b[0m\n\u001b[0;32m    347\u001b[0m expanded_target \u001b[38;5;241m=\u001b[39m _expand_target(target, n_steps)\n\u001b[0;32m    349\u001b[0m \u001b[38;5;66;03m# grads: dim -> (bsz * #steps x inputs[0].shape[1:], ...)\u001b[39;00m\n\u001b[1;32m--> 350\u001b[0m grads \u001b[38;5;241m=\u001b[39m \u001b[38;5;28;43mself\u001b[39;49m\u001b[38;5;241;43m.\u001b[39;49m\u001b[43mgradient_func\u001b[49m\u001b[43m(\u001b[49m\n\u001b[0;32m    351\u001b[0m \u001b[43m    \u001b[49m\u001b[43mforward_fn\u001b[49m\u001b[38;5;241;43m=\u001b[39;49m\u001b[38;5;28;43mself\u001b[39;49m\u001b[38;5;241;43m.\u001b[39;49m\u001b[43mforward_func\u001b[49m\u001b[43m,\u001b[49m\n\u001b[0;32m    352\u001b[0m \u001b[43m    \u001b[49m\u001b[43minputs\u001b[49m\u001b[38;5;241;43m=\u001b[39;49m\u001b[43mscaled_features_tpl\u001b[49m\u001b[43m,\u001b[49m\n\u001b[0;32m    353\u001b[0m \u001b[43m    \u001b[49m\u001b[43mtarget_ind\u001b[49m\u001b[38;5;241;43m=\u001b[39;49m\u001b[43mexpanded_target\u001b[49m\u001b[43m,\u001b[49m\n\u001b[0;32m    354\u001b[0m \u001b[43m    \u001b[49m\u001b[43madditional_forward_args\u001b[49m\u001b[38;5;241;43m=\u001b[39;49m\u001b[43minput_additional_args\u001b[49m\u001b[43m,\u001b[49m\n\u001b[0;32m    355\u001b[0m \u001b[43m\u001b[49m\u001b[43m)\u001b[49m\n\u001b[0;32m    357\u001b[0m \u001b[38;5;66;03m# flattening grads so that we can multilpy it with step-size\u001b[39;00m\n\u001b[0;32m    358\u001b[0m \u001b[38;5;66;03m# calling contiguous to avoid `memory whole` problems\u001b[39;00m\n\u001b[0;32m    359\u001b[0m scaled_grads \u001b[38;5;241m=\u001b[39m [\n\u001b[0;32m    360\u001b[0m     grad\u001b[38;5;241m.\u001b[39mcontiguous()\u001b[38;5;241m.\u001b[39mview(n_steps, \u001b[38;5;241m-\u001b[39m\u001b[38;5;241m1\u001b[39m)\n\u001b[0;32m    361\u001b[0m     \u001b[38;5;241m*\u001b[39m torch\u001b[38;5;241m.\u001b[39mtensor(step_sizes)\u001b[38;5;241m.\u001b[39mview(n_steps, \u001b[38;5;241m1\u001b[39m)\u001b[38;5;241m.\u001b[39mto(grad\u001b[38;5;241m.\u001b[39mdevice)\n\u001b[0;32m    362\u001b[0m     \u001b[38;5;28;01mfor\u001b[39;00m grad \u001b[38;5;129;01min\u001b[39;00m grads\n\u001b[0;32m    363\u001b[0m ]\n",
      "File \u001b[1;32m~\\miniconda3\\envs\\deep\\lib\\site-packages\\captum\\_utils\\gradient.py:112\u001b[0m, in \u001b[0;36mcompute_gradients\u001b[1;34m(forward_fn, inputs, target_ind, additional_forward_args)\u001b[0m\n\u001b[0;32m     94\u001b[0m \u001b[38;5;124mr\u001b[39m\u001b[38;5;124;03m\"\"\"\u001b[39;00m\n\u001b[0;32m     95\u001b[0m \u001b[38;5;124;03mComputes gradients of the output with respect to inputs for an\u001b[39;00m\n\u001b[0;32m     96\u001b[0m \u001b[38;5;124;03marbitrary forward function.\u001b[39;00m\n\u001b[1;32m   (...)\u001b[0m\n\u001b[0;32m    108\u001b[0m \u001b[38;5;124;03m                arguments) if no additional arguments are required\u001b[39;00m\n\u001b[0;32m    109\u001b[0m \u001b[38;5;124;03m\"\"\"\u001b[39;00m\n\u001b[0;32m    110\u001b[0m \u001b[38;5;28;01mwith\u001b[39;00m torch\u001b[38;5;241m.\u001b[39mautograd\u001b[38;5;241m.\u001b[39mset_grad_enabled(\u001b[38;5;28;01mTrue\u001b[39;00m):\n\u001b[0;32m    111\u001b[0m     \u001b[38;5;66;03m# runs forward pass\u001b[39;00m\n\u001b[1;32m--> 112\u001b[0m     outputs \u001b[38;5;241m=\u001b[39m \u001b[43m_run_forward\u001b[49m\u001b[43m(\u001b[49m\u001b[43mforward_fn\u001b[49m\u001b[43m,\u001b[49m\u001b[43m \u001b[49m\u001b[43minputs\u001b[49m\u001b[43m,\u001b[49m\u001b[43m \u001b[49m\u001b[43mtarget_ind\u001b[49m\u001b[43m,\u001b[49m\u001b[43m \u001b[49m\u001b[43madditional_forward_args\u001b[49m\u001b[43m)\u001b[49m\n\u001b[0;32m    113\u001b[0m     \u001b[38;5;28;01massert\u001b[39;00m outputs[\u001b[38;5;241m0\u001b[39m]\u001b[38;5;241m.\u001b[39mnumel() \u001b[38;5;241m==\u001b[39m \u001b[38;5;241m1\u001b[39m, (\n\u001b[0;32m    114\u001b[0m         \u001b[38;5;124m\"\u001b[39m\u001b[38;5;124mTarget not provided when necessary, cannot\u001b[39m\u001b[38;5;124m\"\u001b[39m\n\u001b[0;32m    115\u001b[0m         \u001b[38;5;124m\"\u001b[39m\u001b[38;5;124m take gradient with respect to multiple outputs.\u001b[39m\u001b[38;5;124m\"\u001b[39m\n\u001b[0;32m    116\u001b[0m     )\n\u001b[0;32m    117\u001b[0m     \u001b[38;5;66;03m# torch.unbind(forward_out) is a list of scalar tensor tuples and\u001b[39;00m\n\u001b[0;32m    118\u001b[0m     \u001b[38;5;66;03m# contains batch_size * #steps elements\u001b[39;00m\n",
      "File \u001b[1;32m~\\miniconda3\\envs\\deep\\lib\\site-packages\\captum\\_utils\\common.py:456\u001b[0m, in \u001b[0;36m_run_forward\u001b[1;34m(forward_func, inputs, target, additional_forward_args)\u001b[0m\n\u001b[0;32m    453\u001b[0m inputs \u001b[38;5;241m=\u001b[39m _format_input(inputs)\n\u001b[0;32m    454\u001b[0m additional_forward_args \u001b[38;5;241m=\u001b[39m _format_additional_forward_args(additional_forward_args)\n\u001b[1;32m--> 456\u001b[0m output \u001b[38;5;241m=\u001b[39m \u001b[43mforward_func\u001b[49m\u001b[43m(\u001b[49m\n\u001b[0;32m    457\u001b[0m \u001b[43m    \u001b[49m\u001b[38;5;241;43m*\u001b[39;49m\u001b[43m(\u001b[49m\u001b[38;5;241;43m*\u001b[39;49m\u001b[43minputs\u001b[49m\u001b[43m,\u001b[49m\u001b[43m \u001b[49m\u001b[38;5;241;43m*\u001b[39;49m\u001b[43madditional_forward_args\u001b[49m\u001b[43m)\u001b[49m\n\u001b[0;32m    458\u001b[0m \u001b[43m    \u001b[49m\u001b[38;5;28;43;01mif\u001b[39;49;00m\u001b[43m \u001b[49m\u001b[43madditional_forward_args\u001b[49m\u001b[43m \u001b[49m\u001b[38;5;129;43;01mis\u001b[39;49;00m\u001b[43m \u001b[49m\u001b[38;5;129;43;01mnot\u001b[39;49;00m\u001b[43m \u001b[49m\u001b[38;5;28;43;01mNone\u001b[39;49;00m\n\u001b[0;32m    459\u001b[0m \u001b[43m    \u001b[49m\u001b[38;5;28;43;01melse\u001b[39;49;00m\u001b[43m \u001b[49m\u001b[43minputs\u001b[49m\n\u001b[0;32m    460\u001b[0m \u001b[43m\u001b[49m\u001b[43m)\u001b[49m\n\u001b[0;32m    461\u001b[0m \u001b[38;5;28;01mreturn\u001b[39;00m _select_targets(output, target)\n",
      "File \u001b[1;32m~\\miniconda3\\envs\\deep\\lib\\site-packages\\torch\\nn\\modules\\module.py:889\u001b[0m, in \u001b[0;36mModule._call_impl\u001b[1;34m(self, *input, **kwargs)\u001b[0m\n\u001b[0;32m    887\u001b[0m     result \u001b[38;5;241m=\u001b[39m \u001b[38;5;28mself\u001b[39m\u001b[38;5;241m.\u001b[39m_slow_forward(\u001b[38;5;241m*\u001b[39m\u001b[38;5;28minput\u001b[39m, \u001b[38;5;241m*\u001b[39m\u001b[38;5;241m*\u001b[39mkwargs)\n\u001b[0;32m    888\u001b[0m \u001b[38;5;28;01melse\u001b[39;00m:\n\u001b[1;32m--> 889\u001b[0m     result \u001b[38;5;241m=\u001b[39m \u001b[38;5;28;43mself\u001b[39;49m\u001b[38;5;241;43m.\u001b[39;49m\u001b[43mforward\u001b[49m\u001b[43m(\u001b[49m\u001b[38;5;241;43m*\u001b[39;49m\u001b[38;5;28;43minput\u001b[39;49m\u001b[43m,\u001b[49m\u001b[43m \u001b[49m\u001b[38;5;241;43m*\u001b[39;49m\u001b[38;5;241;43m*\u001b[39;49m\u001b[43mkwargs\u001b[49m\u001b[43m)\u001b[49m\n\u001b[0;32m    890\u001b[0m \u001b[38;5;28;01mfor\u001b[39;00m hook \u001b[38;5;129;01min\u001b[39;00m itertools\u001b[38;5;241m.\u001b[39mchain(\n\u001b[0;32m    891\u001b[0m         _global_forward_hooks\u001b[38;5;241m.\u001b[39mvalues(),\n\u001b[0;32m    892\u001b[0m         \u001b[38;5;28mself\u001b[39m\u001b[38;5;241m.\u001b[39m_forward_hooks\u001b[38;5;241m.\u001b[39mvalues()):\n\u001b[0;32m    893\u001b[0m     hook_result \u001b[38;5;241m=\u001b[39m hook(\u001b[38;5;28mself\u001b[39m, \u001b[38;5;28minput\u001b[39m, result)\n",
      "Input \u001b[1;32mIn [5]\u001b[0m, in \u001b[0;36mMulticlassClassification.forward\u001b[1;34m(self, x_categorical, x_numerical)\u001b[0m\n\u001b[0;32m     30\u001b[0m \u001b[38;5;28;01mfor\u001b[39;00m i, embedding \u001b[38;5;129;01min\u001b[39;00m \u001b[38;5;28menumerate\u001b[39m(\u001b[38;5;28mself\u001b[39m\u001b[38;5;241m.\u001b[39mall_embeddings):\n\u001b[0;32m     31\u001b[0m     embeddings\u001b[38;5;241m.\u001b[39mappend(embedding(x_categorical[:,i]))\n\u001b[1;32m---> 32\u001b[0m x \u001b[38;5;241m=\u001b[39m \u001b[43mtorch\u001b[49m\u001b[38;5;241;43m.\u001b[39;49m\u001b[43mcat\u001b[49m\u001b[43m(\u001b[49m\u001b[43membeddings\u001b[49m\u001b[43m,\u001b[49m\u001b[43m \u001b[49m\u001b[38;5;241;43m1\u001b[39;49m\u001b[43m)\u001b[49m\n\u001b[0;32m     33\u001b[0m x \u001b[38;5;241m=\u001b[39m \u001b[38;5;28mself\u001b[39m\u001b[38;5;241m.\u001b[39membedding_dropout(x)\n\u001b[0;32m     35\u001b[0m x_numerical \u001b[38;5;241m=\u001b[39m \u001b[38;5;28mself\u001b[39m\u001b[38;5;241m.\u001b[39mbatch_norm_num(x_numerical)\n",
      "\u001b[1;31mIndexError\u001b[0m: Dimension out of range (expected to be in range of [-1, 0], but got 1)"
     ]
    }
   ],
   "source": [
    "ig = IntegratedGradients(model)\n",
    "ig.attribute(inputs=(embeddings_cat.cuda(), stack_num.cuda()), target=target.cuda())"
   ]
  }
 ],
 "metadata": {
  "kernelspec": {
   "display_name": "Python 3 (ipykernel)",
   "language": "python",
   "name": "python3"
  },
  "language_info": {
   "codemirror_mode": {
    "name": "ipython",
    "version": 3
   },
   "file_extension": ".py",
   "mimetype": "text/x-python",
   "name": "python",
   "nbconvert_exporter": "python",
   "pygments_lexer": "ipython3",
   "version": "3.8.12"
  }
 },
 "nbformat": 4,
 "nbformat_minor": 5
}
