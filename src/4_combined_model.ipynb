{
 "cells": [
  {
   "cell_type": "code",
   "execution_count": 1,
   "id": "321a320e",
   "metadata": {},
   "outputs": [],
   "source": [
    "import numpy as np\n",
    "import matplotlib.pyplot as plt"
   ]
  },
  {
   "cell_type": "code",
   "execution_count": 2,
   "id": "e5df92f6",
   "metadata": {},
   "outputs": [],
   "source": [
    "import pickle"
   ]
  },
  {
   "cell_type": "code",
   "execution_count": 3,
   "id": "56770ae6",
   "metadata": {},
   "outputs": [],
   "source": [
    "import torch\n",
    "from collections import Counter\n",
    "import pandas as pd\n",
    "import plotly.express as px\n",
    "from sklearn.model_selection import train_test_split\n",
    "import os\n",
    "from glob import glob\n",
    "from torchvision import transforms\n",
    "from torchvision import datasets\n",
    "from torch.utils.data import DataLoader\n",
    "from torchvision import models\n",
    "import torch.nn as nn\n",
    "#from torchsummary import summary\n",
    "from torchvision import transforms, datasets, models\n",
    "import torch\n",
    "from torch import optim, cuda\n",
    "from torch.utils.data import DataLoader, sampler\n",
    "import torch.nn as nn\n",
    "import tqdm\n",
    "from timeit import default_timer as timer\n",
    "from torch import Tensor, nn\n",
    "from torch.nn.functional import interpolate\n"
   ]
  },
  {
   "cell_type": "markdown",
   "id": "8b312107",
   "metadata": {},
   "source": [
    "def load_pickle(name):\n",
    "    with open(pickle_dir + name + '.pkl', 'rb') as f:\n",
    "        return pickle.load(f)\n",
    "\n",
    "x_train = load_pickle('x_train')\n",
    "x_test = load_pickle('x_test')\n",
    "x_valid = load_pickle('x_valid')\n",
    "y_train = load_pickle('y_train')\n",
    "y_test = load_pickle('y_test')\n",
    "y_valid = load_pickle('y_valid')"
   ]
  },
  {
   "cell_type": "code",
   "execution_count": 4,
   "id": "4cd71a2c",
   "metadata": {},
   "outputs": [],
   "source": [
    "import torchvision.transforms as T\n",
    "trf = T.Compose([T.Resize(250),\n",
    "             T.CenterCrop(224),\n",
    "             T.ToTensor(), \n",
    "             T.Normalize(mean = [0.485, 0.456, 0.406], \n",
    "                         std = [0.229, 0.224, 0.225])])\n",
    "#trf_tab = T.ToTensor() # transforms.Compose([transforms.ToTensor()])\n",
    "#trf_tab = T.Compose([transforms.ToTensor()])"
   ]
  },
  {
   "cell_type": "code",
   "execution_count": 5,
   "id": "b0ebf0e3",
   "metadata": {},
   "outputs": [],
   "source": [
    "from ElasticDataset import PickleSeriesDataset"
   ]
  },
  {
   "cell_type": "code",
   "execution_count": 6,
   "id": "7fdceb2d",
   "metadata": {},
   "outputs": [],
   "source": [
    "batch_size = 1024"
   ]
  },
  {
   "cell_type": "code",
   "execution_count": 7,
   "id": "d12aff52",
   "metadata": {},
   "outputs": [
    {
     "name": "stdout",
     "output_type": "stream",
     "text": [
      "Train on gpu: True\n",
      "1 gpus detected.\n",
      "True False\n"
     ]
    }
   ],
   "source": [
    "#batch_size = 1024\n",
    "\n",
    "# Whether to train on a gpu\n",
    "train_on_gpu = cuda.is_available()\n",
    "print(f'Train on gpu: {train_on_gpu}')\n",
    "\n",
    "# Number of gpus\n",
    "if train_on_gpu:\n",
    "    gpu_count = cuda.device_count()\n",
    "    print(f'{gpu_count} gpus detected.')\n",
    "    if gpu_count > 1:\n",
    "        multi_gpu = True\n",
    "    else:\n",
    "        multi_gpu = False\n",
    "print(train_on_gpu,multi_gpu)"
   ]
  },
  {
   "cell_type": "code",
   "execution_count": 8,
   "id": "949d2a6e",
   "metadata": {},
   "outputs": [
    {
     "name": "stdout",
     "output_type": "stream",
     "text": [
      "LOADING: D:\\Code\\datascience\\MA_NFT\\data\\pickle\\X_train.pkl\n",
      "LOADING: D:\\Code\\datascience\\MA_NFT\\data\\pickle\\y_train.pkl\n",
      "LOADING: D:\\Code\\datascience\\MA_NFT\\data\\pickle\\X_valid.pkl\n",
      "LOADING: D:\\Code\\datascience\\MA_NFT\\data\\pickle\\y_valid.pkl\n",
      "LOADING: D:\\Code\\datascience\\MA_NFT\\data\\pickle\\X_test.pkl\n",
      "LOADING: D:\\Code\\datascience\\MA_NFT\\data\\pickle\\y_test.pkl\n"
     ]
    }
   ],
   "source": [
    "# Dataloader iterators\n",
    "dataloaders = {\n",
    "    'train': DataLoader(\n",
    "        PickleSeriesDataset('X_train', 'y_train', trf), \n",
    "        batch_size=batch_size,\n",
    "        shuffle=False,\n",
    "        num_workers=5,\n",
    "    ),\n",
    "    'val': DataLoader(\n",
    "        PickleSeriesDataset('X_valid', 'y_valid', trf),\n",
    "        batch_size=batch_size, \n",
    "        shuffle=False,\n",
    "        num_workers=5,\n",
    "    ),\n",
    "    'test': DataLoader(\n",
    "        PickleSeriesDataset('X_test', 'y_test', trf),\n",
    "        batch_size=batch_size, \n",
    "        shuffle=False,\n",
    "        num_workers=5,\n",
    "    )\n",
    "}"
   ]
  },
  {
   "cell_type": "markdown",
   "id": "55a2111e",
   "metadata": {},
   "source": [
    "### Combined model\n",
    "https://discuss.pytorch.org/t/concatenate-layer-output-with-additional-input-data/20462/2\n",
    "https://discuss.pytorch.org/t/how-to-combine-tabular-and-image-data/79465/2"
   ]
  },
  {
   "cell_type": "code",
   "execution_count": 9,
   "id": "e48b717d",
   "metadata": {},
   "outputs": [],
   "source": [
    "import torch.nn.functional as F"
   ]
  },
  {
   "cell_type": "code",
   "execution_count": 10,
   "id": "2b4634b2",
   "metadata": {},
   "outputs": [],
   "source": [
    "class MulticlassClassification(nn.Module):\n",
    "    def __init__(self, cat_size, num_col, output_size, layers, p=0.4):\n",
    "        super(MulticlassClassification, self).__init__()\n",
    "        \n",
    "        # IMAGE: ResNet\n",
    "        self.cnn = models.resnet50(pretrained = True)\n",
    "        for param in self.cnn.parameters():\n",
    "            param.requires_grad = False\n",
    "        n_inputs = self.cnn.fc.in_features\n",
    "        self.cnn.fc = nn.Sequential(\n",
    "          nn.Linear(n_inputs, 250), \n",
    "          nn.ReLU(), \n",
    "          nn.Dropout(p),\n",
    "          nn.Linear(250, output_size),                   \n",
    "          nn.LogSoftmax(dim=1)\n",
    "        )\n",
    "        \n",
    "        # TABULAR: \n",
    "        self.all_embeddings = nn.ModuleList(\n",
    "            [nn.Embedding(categories, size) for categories, size in cat_size]\n",
    "        )\n",
    "        self.embedding_dropout = nn.Dropout(p)\n",
    "        self.batch_norm_num = nn.BatchNorm1d(num_col)\n",
    "\n",
    "        all_layers = []\n",
    "        num_cat_col = sum(e.embedding_dim for e in self.all_embeddings)\n",
    "        input_size = num_cat_col + num_col\n",
    "\n",
    "        for i in layers:\n",
    "            all_layers.append(nn.Linear(input_size, i))\n",
    "            all_layers.append(nn.ReLU(inplace=True))\n",
    "            all_layers.append(nn.BatchNorm1d(i))\n",
    "            all_layers.append(nn.Dropout(p))\n",
    "            input_size = i\n",
    "\n",
    "        all_layers.append(nn.Linear(layers[-1], output_size))\n",
    "\n",
    "        self.layers = nn.Sequential(*all_layers)\n",
    "        \n",
    "        #combine\n",
    "        self.combine_fc = nn.Linear(output_size * 2, output_size)\n",
    "        #self.logsoftmax = nn.LogSoftmax(dim=1)\n",
    "\n",
    "    def forward(self, image, x_categorical, x_numerical):\n",
    "        embeddings = []\n",
    "        for i, embedding in enumerate(self.all_embeddings):\n",
    "            #print(x_categorical[:,i])\n",
    "            embeddings.append(embedding(x_categorical[:,i]))\n",
    "        x = torch.cat(embeddings, 1)\n",
    "        x = self.embedding_dropout(x)\n",
    "\n",
    "        x_numerical = self.batch_norm_num(x_numerical)\n",
    "        x = torch.cat([x, x_numerical], 1)\n",
    "        x = self.layers(x)\n",
    "        \n",
    "        # img\n",
    "        x2 = self.cnn(image)\n",
    "        \n",
    "        # combine\n",
    "        x3 = torch.cat([x, x2], 1)\n",
    "        x3 = F.relu(self.combine_fc(x3))\n",
    "        #x3 = self.logsoftmax(x3)\n",
    "        \n",
    "        return x3"
   ]
  },
  {
   "cell_type": "code",
   "execution_count": 11,
   "id": "20043789",
   "metadata": {},
   "outputs": [],
   "source": [
    "pickle_dir = 'D:\\\\Code\\\\datascience\\\\MA_NFT\\\\data\\\\pickle\\\\'\n",
    "def load_pickle(name):\n",
    "    with open(pickle_dir + name + '.pkl', 'rb') as f:\n",
    "        return pickle.load(f)\n",
    "categorical_embedding_sizes = load_pickle('categorical_embedding_sizes')"
   ]
  },
  {
   "cell_type": "code",
   "execution_count": 23,
   "id": "59e4826c",
   "metadata": {},
   "outputs": [],
   "source": [
    "model = MulticlassClassification(categorical_embedding_sizes, 4, 20, [1024, 512, 128, 64], p=0.2)"
   ]
  },
  {
   "cell_type": "code",
   "execution_count": 13,
   "id": "47131c5f",
   "metadata": {},
   "outputs": [
    {
     "name": "stdout",
     "output_type": "stream",
     "text": [
      "Train on gpu: True\n",
      "1 gpus detected.\n",
      "True False\n"
     ]
    }
   ],
   "source": [
    "from torch import cuda, optim\n",
    "\n",
    "# Whether to train on a gpu\n",
    "train_on_gpu = cuda.is_available()\n",
    "print(f'Train on gpu: {train_on_gpu}')\n",
    "\n",
    "# Number of gpus\n",
    "if train_on_gpu:\n",
    "    gpu_count = cuda.device_count()\n",
    "    print(f'{gpu_count} gpus detected.')\n",
    "    if gpu_count > 1:\n",
    "        multi_gpu = True\n",
    "    else:\n",
    "        multi_gpu = False\n",
    "print(train_on_gpu,multi_gpu)"
   ]
  },
  {
   "cell_type": "code",
   "execution_count": 14,
   "id": "7c49bbf7",
   "metadata": {},
   "outputs": [],
   "source": [
    "if train_on_gpu:\n",
    "    model = model.to('cuda')\n",
    "\n",
    "if multi_gpu:\n",
    "    model = nn.DataParallel(model)"
   ]
  },
  {
   "cell_type": "code",
   "execution_count": 15,
   "id": "cef66e3f",
   "metadata": {},
   "outputs": [],
   "source": [
    "criterion = nn.CrossEntropyLoss() #nn.NLLLoss()\n",
    "optimizer = optim.Adam(model.parameters())"
   ]
  },
  {
   "cell_type": "code",
   "execution_count": 16,
   "id": "6219d085",
   "metadata": {},
   "outputs": [],
   "source": [
    "trainiter = iter(dataloaders['train'])\n",
    "img, stack_cat, stack_num, target = next(trainiter)\n",
    "\n",
    "input_names = ['Image', 'Categorical', 'Numerical']\n",
    "output_names = ['Price class']\n",
    "torch.onnx.export(model, (img.cuda(), stack_cat.cuda(), stack_num.cuda()), 'combined_model.onnx', input_names=input_names, output_names=output_names)"
   ]
  },
  {
   "cell_type": "markdown",
   "id": "f70cc407",
   "metadata": {},
   "source": [
    "### Training process"
   ]
  },
  {
   "cell_type": "code",
   "execution_count": 15,
   "id": "dc243be0",
   "metadata": {},
   "outputs": [],
   "source": [
    "#import torch\n",
    "#import torchvision # torch package for vision related things\n",
    "#import torch.nn.functional as F  # Parameterless functions, like (some) activation functions\n",
    "#import torchvision.datasets as datasets  # Standard datasets\n",
    "#import torchvision.transforms as transforms  # Transformations we can perform on our dataset for augmentation\n",
    "#from torch import optim  # For optimizers like SGD, Adam, etc.\n",
    "#from torch import nn  # All neural network modules\n",
    "#from torch.utils.data import DataLoader  # Gives easier dataset managment by creating mini batches etc.\n",
    "#from tqdm import tqdm"
   ]
  },
  {
   "cell_type": "code",
   "execution_count": 16,
   "id": "4dc5830c",
   "metadata": {},
   "outputs": [],
   "source": [
    "save_file_name = 'C:\\\\NFT_data\\\\networks\\\\combined_next.pt'"
   ]
  },
  {
   "cell_type": "code",
   "execution_count": 32,
   "id": "fbb95f25",
   "metadata": {},
   "outputs": [],
   "source": [
    "#save_file_name = 'C:\\\\NFT_data\\\\networks\\\\combined_next_4.pt'"
   ]
  },
  {
   "cell_type": "code",
   "execution_count": 17,
   "id": "de4e3273",
   "metadata": {},
   "outputs": [],
   "source": [
    "#save_file_name = 'C:\\\\NFT_data\\\\networks\\\\combined.pt'\n",
    "checkpoint_path = 'C:\\\\NFT_data\\\\networks\\\\combined_next.pth'"
   ]
  },
  {
   "cell_type": "code",
   "execution_count": 33,
   "id": "c2bc0934",
   "metadata": {},
   "outputs": [],
   "source": [
    "#checkpoint_path = 'C:\\\\NFT_data\\\\networks\\\\combined_next_4.pth'"
   ]
  },
  {
   "cell_type": "code",
   "execution_count": 18,
   "id": "a4a3d11c",
   "metadata": {},
   "outputs": [],
   "source": [
    "def train(model,\n",
    "          criterion,\n",
    "          optimizer,\n",
    "          train_loader,\n",
    "          valid_loader,\n",
    "          save_file_name,\n",
    "          max_epochs_stop=3,\n",
    "          n_epochs=20,\n",
    "          print_every=1):\n",
    "    \"\"\"Train a PyTorch Model\n",
    "\n",
    "    Params\n",
    "    --------\n",
    "        model (PyTorch model): cnn to train\n",
    "        criterion (PyTorch loss): objective to minimize\n",
    "        optimizer (PyTorch optimizier): optimizer to compute gradients of model parameters\n",
    "        train_loader (PyTorch dataloader): training dataloader to iterate through\n",
    "        valid_loader (PyTorch dataloader): validation dataloader used for early stopping\n",
    "        save_file_name (str ending in '.pt'): file path to save the model state dict\n",
    "        max_epochs_stop (int): maximum number of epochs with no improvement in validation loss for early stopping\n",
    "        n_epochs (int): maximum number of training epochs\n",
    "        print_every (int): frequency of epochs to print training stats\n",
    "\n",
    "    Returns\n",
    "    --------\n",
    "        model (PyTorch model): trained cnn with best weights\n",
    "        history (DataFrame): history of train and validation loss and accuracy\n",
    "    \"\"\"\n",
    "\n",
    "    # Early stopping intialization\n",
    "    epochs_no_improve = 0\n",
    "    valid_loss_min = np.Inf\n",
    "\n",
    "    valid_max_acc = 0\n",
    "    history = []\n",
    "\n",
    "    # Number of epochs already trained (if using loaded in model weights)\n",
    "    try:\n",
    "        print(f'Model has been trained for: {model.epochs} epochs.\\n')\n",
    "    except:\n",
    "        model.epochs = 0\n",
    "        print(f'Starting Training from Scratch.\\n')\n",
    "\n",
    "    overall_start = timer()\n",
    "\n",
    "    # Main loop\n",
    "    for epoch in range(n_epochs):\n",
    "\n",
    "        # keep track of training and validation loss each epoch\n",
    "        train_loss = 0.0\n",
    "        valid_loss = 0.0\n",
    "\n",
    "        train_acc = 0\n",
    "        valid_acc = 0\n",
    "\n",
    "        # Set to training\n",
    "        model.train()\n",
    "        start = timer()\n",
    "\n",
    "        # Training loop\n",
    "        for ii, (img, stack_cat, stack_num, target) in enumerate(train_loader):\n",
    "            #print(data)\n",
    "            #print(img)\n",
    "\n",
    "            # Tensors to gpu\n",
    "            if train_on_gpu:\n",
    "                img, stack_cat, stack_num, target = img.cuda(), stack_cat.cuda(), stack_num.cuda(), target.cuda()\n",
    "\n",
    "            # Clear gradients\n",
    "            optimizer.zero_grad()\n",
    "            # Predicted outputs are log probabilities\n",
    "            output = model(img, stack_cat, stack_num)\n",
    "            \n",
    "            #output = torch.cat((output_img, output_tab), dim=1)\n",
    "            #output = self.relu(output)\n",
    "            #m = nn.Softmax(dim=1)\n",
    "\n",
    "            # Loss and backpropagation of gradients\n",
    "            loss = criterion(output, target)\n",
    "            loss.backward()\n",
    "\n",
    "            # Update the parameters\n",
    "            optimizer.step()\n",
    "\n",
    "            # Track train loss by multiplying average loss by number of examples in batch\n",
    "            train_loss += loss.item() * img.size(0)\n",
    "\n",
    "            # Calculate accuracy by finding max log probability\n",
    "            _, pred = torch.max(output, dim=1)\n",
    "            correct_tensor = pred.eq(target.data.view_as(pred))\n",
    "            # Need to convert correct tensor from int to float to average\n",
    "            accuracy = torch.mean(correct_tensor.type(torch.FloatTensor))\n",
    "            # Multiply average accuracy times the number of examples in batch\n",
    "            train_acc += accuracy.item() * stack_cat.size(0)\n",
    "\n",
    "            # Track training progress\n",
    "            print(\n",
    "                f'Epoch: {epoch}\\t{100 * (ii + 1) / len(train_loader):.2f}% complete. {timer() - start:.2f} seconds elapsed in epoch.',\n",
    "                end='\\r')\n",
    "\n",
    "        # After training loops ends, start validation\n",
    "        else:\n",
    "            model.epochs += 1\n",
    "\n",
    "            # Don't need to keep track of gradients\n",
    "            with torch.no_grad():\n",
    "                # Set to evaluation mode\n",
    "                model.eval()\n",
    "\n",
    "                # Validation loop\n",
    "                for ii, (img, stack_cat, stack_num, target) in enumerate(valid_loader):\n",
    "                    # Tensors to gpu\n",
    "                    if train_on_gpu:\n",
    "                        img, stack_cat, stack_num, target = img.cuda(), stack_cat.cuda(), stack_num.cuda(), target.cuda()\n",
    "\n",
    "                    # Forward pass\n",
    "                    output = model(img, stack_cat, stack_num)\n",
    "\n",
    "                    # Validation loss\n",
    "                    loss = criterion(output, target)\n",
    "                    # Multiply average loss times the number of examples in batch\n",
    "                    valid_loss += loss.item() * img.size(0)\n",
    "\n",
    "                    # Calculate validation accuracy\n",
    "                    _, pred = torch.max(output, dim=1)\n",
    "                    correct_tensor = pred.eq(target.data.view_as(pred))\n",
    "                    accuracy = torch.mean(\n",
    "                        correct_tensor.type(torch.FloatTensor))\n",
    "                    # Multiply average accuracy times the number of examples\n",
    "                    valid_acc += accuracy.item() * img.size(0)\n",
    "                    \n",
    "                    # Track validation progress\n",
    "                    print(\n",
    "                        f'Epoch: {epoch}\\t{100 * (ii + 1) / len(valid_loader):.2f}% validated. {timer() - start:.2f} seconds elapsed in epoch.',\n",
    "                        end='\\r')\n",
    "\n",
    "                # Calculate average losses\n",
    "                train_loss = train_loss / len(train_loader.dataset)\n",
    "                valid_loss = valid_loss / len(valid_loader.dataset)\n",
    "\n",
    "                # Calculate average accuracy\n",
    "                train_acc = train_acc / len(train_loader.dataset)\n",
    "                valid_acc = valid_acc / len(valid_loader.dataset)\n",
    "\n",
    "                history.append([train_loss, valid_loss, train_acc, valid_acc])\n",
    "\n",
    "                # Print training and validation results\n",
    "                if (epoch + 1) % print_every == 0:\n",
    "                    print(\n",
    "                        f'\\nEpoch: {epoch} \\tTraining Loss: {train_loss:.4f} \\tValidation Loss: {valid_loss:.4f}'\n",
    "                    )\n",
    "                    print(\n",
    "                        f'\\t\\tTraining Accuracy: {100 * train_acc:.2f}%\\t Validation Accuracy: {100 * valid_acc:.2f}%'\n",
    "                    )\n",
    "\n",
    "                # Save the model if validation loss decreases\n",
    "                if valid_loss < valid_loss_min:\n",
    "                    # Save model\n",
    "                    torch.save(model.state_dict(), save_file_name)\n",
    "                    # Track improvement\n",
    "                    epochs_no_improve = 0\n",
    "                    valid_loss_min = valid_loss\n",
    "                    valid_best_acc = valid_acc\n",
    "                    best_epoch = epoch\n",
    "\n",
    "                # Otherwise increment count of epochs with no improvement\n",
    "                else:\n",
    "                    epochs_no_improve += 1\n",
    "                    # Trigger early stopping\n",
    "                    if epochs_no_improve >= max_epochs_stop:\n",
    "                        print(\n",
    "                            f'\\nEarly Stopping! Total epochs: {epoch}. Best epoch: {best_epoch} with loss: {valid_loss_min:.2f} and acc: {100 * valid_acc:.2f}%'\n",
    "                        )\n",
    "                        total_time = timer() - overall_start\n",
    "                        print(\n",
    "                            f'{total_time:.2f} total seconds elapsed. {total_time / (epoch+1):.2f} seconds per epoch.'\n",
    "                        )\n",
    "\n",
    "                        # Load the best state dict\n",
    "                        model.load_state_dict(torch.load(save_file_name))\n",
    "                        # Attach the optimizer\n",
    "                        model.optimizer = optimizer\n",
    "\n",
    "                        # Format history\n",
    "                        history = pd.DataFrame(\n",
    "                            history,\n",
    "                            columns=[\n",
    "                                'train_loss', 'valid_loss', 'train_acc',\n",
    "                                'valid_acc'\n",
    "                            ])\n",
    "                        return model, history\n",
    "\n",
    "    # Attach the optimizer\n",
    "    model.optimizer = optimizer\n",
    "    # Record overall time and print out stats\n",
    "    total_time = timer() - overall_start\n",
    "    valid_acc = history[best_epoch][3]\n",
    "    print(\n",
    "        f'\\nBest epoch: {best_epoch} with loss: {valid_loss_min:.2f} and acc: {100 * valid_acc:.2f}%'\n",
    "    )\n",
    "    print(\n",
    "        f'{total_time:.2f} total seconds elapsed. {total_time / (epoch):.2f} seconds per epoch.'\n",
    "    )\n",
    "    # Format history\n",
    "    history = pd.DataFrame(\n",
    "        history,\n",
    "        columns=['train_loss', 'valid_loss', 'train_acc', 'valid_acc'])\n",
    "    return model, history"
   ]
  },
  {
   "cell_type": "code",
   "execution_count": null,
   "id": "8a15e3fb",
   "metadata": {},
   "outputs": [],
   "source": [
    "criterion = nn.CrossEntropyLoss() #nn.NLLLoss()\n",
    "optimizer = optim.Adam(model.parameters())"
   ]
  },
  {
   "cell_type": "code",
   "execution_count": 12,
   "id": "738fe8f3",
   "metadata": {},
   "outputs": [],
   "source": [
    "model = MulticlassClassification(categorical_embedding_sizes, 4, 20, [1024, 512, 256, 128, 64], p=0.2)"
   ]
  },
  {
   "cell_type": "code",
   "execution_count": null,
   "id": "6c93c401",
   "metadata": {},
   "outputs": [],
   "source": [
    "# model = MulticlassClassification(categorical_embedding_sizes, 4, 20, [1024, 512, 64], p=0.2)\n",
    "model, history = train(\n",
    "    model,\n",
    "    criterion,\n",
    "    optimizer,\n",
    "    dataloaders['train'],\n",
    "    dataloaders['val'],\n",
    "    save_file_name=save_file_name,\n",
    "    max_epochs_stop=3,\n",
    "    n_epochs=50,\n",
    "    print_every=1)"
   ]
  },
  {
   "cell_type": "code",
   "execution_count": 34,
   "id": "865e3b42",
   "metadata": {},
   "outputs": [
    {
     "name": "stdout",
     "output_type": "stream",
     "text": [
      "Starting Training from Scratch.\n",
      "\n",
      "Epoch: 0\t101.42% validated. 1813.33 seconds elapsed in epoch.\n",
      "Epoch: 0 \tTraining Loss: 1.9998 \tValidation Loss: 1.8411\n",
      "\t\tTraining Accuracy: 33.76%\t Validation Accuracy: 38.78%\n",
      "Epoch: 1\t101.42% validated. 1723.04 seconds elapsed in epoch.\n",
      "Epoch: 1 \tTraining Loss: 1.8595 \tValidation Loss: 1.7987\n",
      "\t\tTraining Accuracy: 38.12%\t Validation Accuracy: 40.24%\n",
      "Epoch: 2\t101.42% validated. 1746.67 seconds elapsed in epoch.\n",
      "Epoch: 2 \tTraining Loss: 1.8211 \tValidation Loss: 1.7732\n",
      "\t\tTraining Accuracy: 39.57%\t Validation Accuracy: 41.37%\n",
      "Epoch: 3\t101.42% validated. 1795.40 seconds elapsed in epoch.\n",
      "Epoch: 3 \tTraining Loss: 1.7955 \tValidation Loss: 1.7564\n",
      "\t\tTraining Accuracy: 40.53%\t Validation Accuracy: 42.03%\n",
      "Epoch: 4\t101.42% validated. 1777.86 seconds elapsed in epoch.\n",
      "Epoch: 4 \tTraining Loss: 1.7770 \tValidation Loss: 1.7472\n",
      "\t\tTraining Accuracy: 41.21%\t Validation Accuracy: 42.36%\n",
      "Epoch: 5\t101.42% validated. 2098.88 seconds elapsed in epoch.\n",
      "Epoch: 5 \tTraining Loss: 1.7611 \tValidation Loss: 1.7347\n",
      "\t\tTraining Accuracy: 41.83%\t Validation Accuracy: 43.00%\n",
      "Epoch: 6\t101.42% validated. 1886.71 seconds elapsed in epoch.\n",
      "Epoch: 6 \tTraining Loss: 1.7483 \tValidation Loss: 1.7307\n",
      "\t\tTraining Accuracy: 42.32%\t Validation Accuracy: 43.22%\n",
      "Epoch: 7\t101.42% validated. 1732.76 seconds elapsed in epoch.\n",
      "Epoch: 7 \tTraining Loss: 1.7366 \tValidation Loss: 1.7188\n",
      "\t\tTraining Accuracy: 42.75%\t Validation Accuracy: 43.68%\n",
      "Epoch: 8\t101.42% validated. 1709.31 seconds elapsed in epoch.\n",
      "Epoch: 8 \tTraining Loss: 1.7274 \tValidation Loss: 1.7145\n",
      "\t\tTraining Accuracy: 43.17%\t Validation Accuracy: 43.99%\n",
      "Epoch: 9\t101.42% validated. 1721.07 seconds elapsed in epoch.\n",
      "Epoch: 9 \tTraining Loss: 1.7189 \tValidation Loss: 1.7100\n",
      "\t\tTraining Accuracy: 43.53%\t Validation Accuracy: 44.34%\n",
      "Epoch: 10\t101.42% validated. 1726.18 seconds elapsed in epoch.\n",
      "Epoch: 10 \tTraining Loss: 1.7111 \tValidation Loss: 1.7096\n",
      "\t\tTraining Accuracy: 43.85%\t Validation Accuracy: 44.39%\n",
      "Epoch: 11\t101.42% validated. 1702.03 seconds elapsed in epoch.\n",
      "Epoch: 11 \tTraining Loss: 1.7037 \tValidation Loss: 1.7052\n",
      "\t\tTraining Accuracy: 44.14%\t Validation Accuracy: 44.41%\n",
      "Epoch: 12\t101.42% validated. 1706.22 seconds elapsed in epoch.\n",
      "Epoch: 12 \tTraining Loss: 1.6966 \tValidation Loss: 1.7068\n",
      "\t\tTraining Accuracy: 44.35%\t Validation Accuracy: 44.62%\n",
      "Epoch: 13\t101.42% validated. 1726.95 seconds elapsed in epoch.\n",
      "Epoch: 13 \tTraining Loss: 1.6904 \tValidation Loss: 1.6979\n",
      "\t\tTraining Accuracy: 44.62%\t Validation Accuracy: 45.04%\n",
      "Epoch: 14\t101.42% validated. 1722.10 seconds elapsed in epoch.\n",
      "Epoch: 14 \tTraining Loss: 1.6838 \tValidation Loss: 1.6999\n",
      "\t\tTraining Accuracy: 44.97%\t Validation Accuracy: 44.89%\n",
      "Epoch: 15\t101.42% validated. 1714.24 seconds elapsed in epoch.\n",
      "Epoch: 15 \tTraining Loss: 1.6792 \tValidation Loss: 1.6951\n",
      "\t\tTraining Accuracy: 45.10%\t Validation Accuracy: 45.18%\n",
      "Epoch: 16\t101.42% validated. 1724.36 seconds elapsed in epoch.\n",
      "Epoch: 16 \tTraining Loss: 1.6731 \tValidation Loss: 1.6884\n",
      "\t\tTraining Accuracy: 45.37%\t Validation Accuracy: 45.37%\n",
      "Epoch: 17\t101.42% validated. 1696.78 seconds elapsed in epoch.\n",
      "Epoch: 17 \tTraining Loss: 1.6679 \tValidation Loss: 1.6979\n",
      "\t\tTraining Accuracy: 45.53%\t Validation Accuracy: 45.32%\n",
      "Epoch: 18\t101.42% validated. 1724.74 seconds elapsed in epoch.\n",
      "Epoch: 18 \tTraining Loss: 1.6631 \tValidation Loss: 1.6858\n",
      "\t\tTraining Accuracy: 45.74%\t Validation Accuracy: 45.68%\n",
      "Epoch: 19\t101.42% validated. 1734.45 seconds elapsed in epoch.\n",
      "Epoch: 19 \tTraining Loss: 1.6587 \tValidation Loss: 1.6888\n",
      "\t\tTraining Accuracy: 45.95%\t Validation Accuracy: 45.71%\n",
      "Epoch: 20\t101.42% validated. 1718.38 seconds elapsed in epoch.\n",
      "Epoch: 20 \tTraining Loss: 1.6540 \tValidation Loss: 1.6870\n",
      "\t\tTraining Accuracy: 46.06%\t Validation Accuracy: 45.69%\n",
      "Epoch: 21\t101.42% validated. 1716.80 seconds elapsed in epoch.\n",
      "Epoch: 21 \tTraining Loss: 1.6504 \tValidation Loss: 1.6922\n",
      "\t\tTraining Accuracy: 46.20%\t Validation Accuracy: 45.74%\n",
      "\n",
      "Early Stopping! Total epochs: 21. Best epoch: 18 with loss: 1.69 and acc: 45.74%\n",
      "38651.06 total seconds elapsed. 1756.87 seconds per epoch.\n"
     ]
    }
   ],
   "source": [
    "# combined_next_vier model = MulticlassClassification(categorical_embedding_sizes, 4, 20, [1024, 512, 128, 64], p=0.2)\n",
    "model, history = train(\n",
    "    model,\n",
    "    criterion,\n",
    "    optimizer,\n",
    "    dataloaders['train'],\n",
    "    dataloaders['val'],\n",
    "    save_file_name=save_file_name,\n",
    "    max_epochs_stop=3,\n",
    "    n_epochs=50,\n",
    "    print_every=1)"
   ]
  },
  {
   "cell_type": "code",
   "execution_count": 20,
   "id": "5b0c7311",
   "metadata": {},
   "outputs": [
    {
     "name": "stdout",
     "output_type": "stream",
     "text": [
      "Starting Training from Scratch.\n",
      "\n",
      "Epoch: 0\t101.42% validated. 1781.36 seconds elapsed in epoch.\n",
      "Epoch: 0 \tTraining Loss: 2.4503 \tValidation Loss: 2.0891\n",
      "\t\tTraining Accuracy: 30.84%\t Validation Accuracy: 36.63%\n",
      "Epoch: 1\t101.42% validated. 1809.96 seconds elapsed in epoch.\n",
      "Epoch: 1 \tTraining Loss: 2.0836 \tValidation Loss: 2.0032\n",
      "\t\tTraining Accuracy: 36.75%\t Validation Accuracy: 39.23%\n",
      "Epoch: 2\t101.42% validated. 1751.65 seconds elapsed in epoch.\n",
      "Epoch: 2 \tTraining Loss: 2.0310 \tValidation Loss: 1.9737\n",
      "\t\tTraining Accuracy: 38.51%\t Validation Accuracy: 40.32%\n",
      "Epoch: 3\t101.42% validated. 1745.43 seconds elapsed in epoch.\n",
      "Epoch: 3 \tTraining Loss: 2.0042 \tValidation Loss: 1.9521\n",
      "\t\tTraining Accuracy: 39.33%\t Validation Accuracy: 41.05%\n",
      "Epoch: 4\t101.42% validated. 1786.78 seconds elapsed in epoch.\n",
      "Epoch: 4 \tTraining Loss: 1.9840 \tValidation Loss: 1.9384\n",
      "\t\tTraining Accuracy: 40.02%\t Validation Accuracy: 41.40%\n",
      "Epoch: 5\t101.42% validated. 1760.00 seconds elapsed in epoch.\n",
      "Epoch: 5 \tTraining Loss: 1.9696 \tValidation Loss: 1.9275\n",
      "\t\tTraining Accuracy: 40.54%\t Validation Accuracy: 41.95%\n",
      "Epoch: 6\t101.42% validated. 1726.37 seconds elapsed in epoch.\n",
      "Epoch: 6 \tTraining Loss: 1.9566 \tValidation Loss: 1.9205\n",
      "\t\tTraining Accuracy: 40.95%\t Validation Accuracy: 42.10%\n",
      "Epoch: 7\t101.42% validated. 1705.43 seconds elapsed in epoch.\n",
      "Epoch: 7 \tTraining Loss: 1.9463 \tValidation Loss: 1.9114\n",
      "\t\tTraining Accuracy: 41.35%\t Validation Accuracy: 42.41%\n",
      "Epoch: 8\t101.42% validated. 1705.72 seconds elapsed in epoch.\n",
      "Epoch: 8 \tTraining Loss: 1.9358 \tValidation Loss: 1.9047\n",
      "\t\tTraining Accuracy: 41.66%\t Validation Accuracy: 42.65%\n",
      "Epoch: 9\t101.42% validated. 1723.59 seconds elapsed in epoch.\n",
      "Epoch: 9 \tTraining Loss: 1.9268 \tValidation Loss: 1.9014\n",
      "\t\tTraining Accuracy: 41.94%\t Validation Accuracy: 42.81%\n",
      "Epoch: 10\t101.42% validated. 1692.95 seconds elapsed in epoch.\n",
      "Epoch: 10 \tTraining Loss: 1.9200 \tValidation Loss: 1.8961\n",
      "\t\tTraining Accuracy: 42.22%\t Validation Accuracy: 43.00%\n",
      "Epoch: 11\t101.42% validated. 1689.64 seconds elapsed in epoch.\n",
      "Epoch: 11 \tTraining Loss: 1.9128 \tValidation Loss: 1.8914\n",
      "\t\tTraining Accuracy: 42.50%\t Validation Accuracy: 43.15%\n",
      "Epoch: 12\t101.42% validated. 1714.27 seconds elapsed in epoch.\n",
      "Epoch: 12 \tTraining Loss: 1.9067 \tValidation Loss: 1.8906\n",
      "\t\tTraining Accuracy: 42.66%\t Validation Accuracy: 43.25%\n",
      "Epoch: 13\t101.42% validated. 1693.50 seconds elapsed in epoch.\n",
      "Epoch: 13 \tTraining Loss: 1.8995 \tValidation Loss: 1.8882\n",
      "\t\tTraining Accuracy: 42.91%\t Validation Accuracy: 43.38%\n",
      "Epoch: 14\t101.42% validated. 1696.25 seconds elapsed in epoch.\n",
      "Epoch: 14 \tTraining Loss: 1.8948 \tValidation Loss: 1.8831\n",
      "\t\tTraining Accuracy: 43.08%\t Validation Accuracy: 43.57%\n",
      "Epoch: 15\t101.42% validated. 1718.22 seconds elapsed in epoch.\n",
      "Epoch: 15 \tTraining Loss: 1.8900 \tValidation Loss: 1.8790\n",
      "\t\tTraining Accuracy: 43.22%\t Validation Accuracy: 43.76%\n",
      "Epoch: 16\t101.42% validated. 1700.69 seconds elapsed in epoch.\n",
      "Epoch: 16 \tTraining Loss: 1.8841 \tValidation Loss: 1.8768\n",
      "\t\tTraining Accuracy: 43.44%\t Validation Accuracy: 43.86%\n",
      "Epoch: 17\t101.42% validated. 1697.75 seconds elapsed in epoch.\n",
      "Epoch: 17 \tTraining Loss: 1.8804 \tValidation Loss: 1.8767\n",
      "\t\tTraining Accuracy: 43.59%\t Validation Accuracy: 43.82%\n",
      "Epoch: 18\t101.42% validated. 1729.00 seconds elapsed in epoch.\n",
      "Epoch: 18 \tTraining Loss: 1.8761 \tValidation Loss: 1.8777\n",
      "\t\tTraining Accuracy: 43.68%\t Validation Accuracy: 43.83%\n",
      "Epoch: 19\t101.42% validated. 1698.39 seconds elapsed in epoch.\n",
      "Epoch: 19 \tTraining Loss: 1.8712 \tValidation Loss: 1.8712\n",
      "\t\tTraining Accuracy: 43.93%\t Validation Accuracy: 44.14%\n",
      "Epoch: 20\t101.42% validated. 1701.62 seconds elapsed in epoch.\n",
      "Epoch: 20 \tTraining Loss: 1.8671 \tValidation Loss: 1.8715\n",
      "\t\tTraining Accuracy: 44.11%\t Validation Accuracy: 44.09%\n",
      "Epoch: 21\t101.42% validated. 1728.09 seconds elapsed in epoch.\n",
      "Epoch: 21 \tTraining Loss: 1.8632 \tValidation Loss: 1.8728\n",
      "\t\tTraining Accuracy: 44.21%\t Validation Accuracy: 44.05%\n",
      "Epoch: 22\t101.42% validated. 1703.15 seconds elapsed in epoch.\n",
      "Epoch: 22 \tTraining Loss: 1.8603 \tValidation Loss: 1.8681\n",
      "\t\tTraining Accuracy: 44.27%\t Validation Accuracy: 44.22%\n",
      "Epoch: 23\t101.42% validated. 1738.00 seconds elapsed in epoch.\n",
      "Epoch: 23 \tTraining Loss: 1.8561 \tValidation Loss: 1.8702\n",
      "\t\tTraining Accuracy: 44.42%\t Validation Accuracy: 44.08%\n",
      "Epoch: 24\t101.42% validated. 1975.60 seconds elapsed in epoch.\n",
      "Epoch: 24 \tTraining Loss: 1.8519 \tValidation Loss: 1.8682\n",
      "\t\tTraining Accuracy: 44.56%\t Validation Accuracy: 44.28%\n",
      "Epoch: 25\t101.42% validated. 1700.52 seconds elapsed in epoch.\n",
      "Epoch: 25 \tTraining Loss: 1.8498 \tValidation Loss: 1.8669\n",
      "\t\tTraining Accuracy: 44.66%\t Validation Accuracy: 44.31%\n",
      "Epoch: 26\t101.42% validated. 1703.11 seconds elapsed in epoch.\n",
      "Epoch: 26 \tTraining Loss: 1.8458 \tValidation Loss: 1.8668\n",
      "\t\tTraining Accuracy: 44.74%\t Validation Accuracy: 44.30%\n",
      "Epoch: 27\t101.42% validated. 1714.37 seconds elapsed in epoch.\n",
      "Epoch: 27 \tTraining Loss: 1.8424 \tValidation Loss: 1.8641\n",
      "\t\tTraining Accuracy: 44.83%\t Validation Accuracy: 44.41%\n",
      "Epoch: 28\t101.42% validated. 1702.96 seconds elapsed in epoch.\n",
      "Epoch: 28 \tTraining Loss: 1.8396 \tValidation Loss: 1.8718\n",
      "\t\tTraining Accuracy: 44.97%\t Validation Accuracy: 44.22%\n",
      "Epoch: 29\t101.42% validated. 1702.11 seconds elapsed in epoch.\n",
      "Epoch: 29 \tTraining Loss: 1.8367 \tValidation Loss: 1.8682\n",
      "\t\tTraining Accuracy: 45.01%\t Validation Accuracy: 44.35%\n",
      "Epoch: 30\t101.42% validated. 1709.65 seconds elapsed in epoch.\n",
      "Epoch: 30 \tTraining Loss: 1.8344 \tValidation Loss: 1.8701\n",
      "\t\tTraining Accuracy: 45.16%\t Validation Accuracy: 44.33%\n",
      "\n",
      "Early Stopping! Total epochs: 30. Best epoch: 27 with loss: 1.86 and acc: 44.33%\n",
      "53652.40 total seconds elapsed. 1730.72 seconds per epoch.\n"
     ]
    }
   ],
   "source": [
    "# combined_next model = MulticlassClassification(categorical_embedding_sizes, 4, 20, [512, 128, 64], p=0.2)\n",
    "model, history = train(\n",
    "    model,\n",
    "    criterion,\n",
    "    optimizer,\n",
    "    dataloaders['train'],\n",
    "    dataloaders['val'],\n",
    "    save_file_name=save_file_name,\n",
    "    max_epochs_stop=3,\n",
    "    n_epochs=50,\n",
    "    print_every=1)"
   ]
  },
  {
   "cell_type": "markdown",
   "id": "63dea0ad",
   "metadata": {},
   "source": [
    "Moved the data to my SSD from the HDD to increase performance"
   ]
  },
  {
   "cell_type": "code",
   "execution_count": 19,
   "id": "043c616f",
   "metadata": {},
   "outputs": [
    {
     "name": "stdout",
     "output_type": "stream",
     "text": [
      "Starting Training from Scratch.\n",
      "\n",
      "Epoch: 0\t101.42% validated. 1658.43 seconds elapsed in epoch.\n",
      "Epoch: 0 \tTraining Loss: 1.8122 \tValidation Loss: 1.5363\n",
      "\t\tTraining Accuracy: 35.51%\t Validation Accuracy: 41.53%\n",
      "Epoch: 1\t101.42% validated. 1589.91 seconds elapsed in epoch.\n",
      "Epoch: 1 \tTraining Loss: 1.5787 \tValidation Loss: 1.4785\n",
      "\t\tTraining Accuracy: 40.25%\t Validation Accuracy: 43.54%\n",
      "Epoch: 2\t101.42% validated. 1606.87 seconds elapsed in epoch.\n",
      "Epoch: 2 \tTraining Loss: 1.5279 \tValidation Loss: 1.4487\n",
      "\t\tTraining Accuracy: 41.83%\t Validation Accuracy: 44.46%\n",
      "Epoch: 3\t101.42% validated. 1642.08 seconds elapsed in epoch.\n",
      "Epoch: 3 \tTraining Loss: 1.4992 \tValidation Loss: 1.4288\n",
      "\t\tTraining Accuracy: 42.75%\t Validation Accuracy: 45.26%\n",
      "Epoch: 4\t101.42% validated. 1593.90 seconds elapsed in epoch.\n",
      "Epoch: 4 \tTraining Loss: 1.4764 \tValidation Loss: 1.4144\n",
      "\t\tTraining Accuracy: 43.53%\t Validation Accuracy: 45.83%\n",
      "Epoch: 5\t101.42% validated. 1571.44 seconds elapsed in epoch.\n",
      "Epoch: 5 \tTraining Loss: 1.4594 \tValidation Loss: 1.4026\n",
      "\t\tTraining Accuracy: 44.16%\t Validation Accuracy: 46.27%\n",
      "Epoch: 6\t101.42% validated. 1645.76 seconds elapsed in epoch.\n",
      "Epoch: 6 \tTraining Loss: 1.4441 \tValidation Loss: 1.3914\n",
      "\t\tTraining Accuracy: 44.71%\t Validation Accuracy: 46.84%\n",
      "Epoch: 7\t101.42% validated. 1587.14 seconds elapsed in epoch.\n",
      "Epoch: 7 \tTraining Loss: 1.4321 \tValidation Loss: 1.3846\n",
      "\t\tTraining Accuracy: 45.19%\t Validation Accuracy: 47.05%\n",
      "Epoch: 8\t101.42% validated. 1548.92 seconds elapsed in epoch.\n",
      "Epoch: 8 \tTraining Loss: 1.4205 \tValidation Loss: 1.3744\n",
      "\t\tTraining Accuracy: 45.63%\t Validation Accuracy: 47.52%\n",
      "Epoch: 9\t101.42% validated. 1598.25 seconds elapsed in epoch.\n",
      "Epoch: 9 \tTraining Loss: 1.4102 \tValidation Loss: 1.3681\n",
      "\t\tTraining Accuracy: 46.00%\t Validation Accuracy: 47.57%\n",
      "Epoch: 10\t101.42% validated. 1607.17 seconds elapsed in epoch.\n",
      "Epoch: 10 \tTraining Loss: 1.4010 \tValidation Loss: 1.3638\n",
      "\t\tTraining Accuracy: 46.28%\t Validation Accuracy: 47.81%\n",
      "Epoch: 11\t101.42% validated. 1680.70 seconds elapsed in epoch.\n",
      "Epoch: 11 \tTraining Loss: 1.3934 \tValidation Loss: 1.3581\n",
      "\t\tTraining Accuracy: 46.62%\t Validation Accuracy: 47.97%\n",
      "Epoch: 12\t101.42% validated. 1700.08 seconds elapsed in epoch.\n",
      "Epoch: 12 \tTraining Loss: 1.3866 \tValidation Loss: 1.3543\n",
      "\t\tTraining Accuracy: 46.83%\t Validation Accuracy: 48.12%\n",
      "Epoch: 13\t101.42% validated. 1869.38 seconds elapsed in epoch.\n",
      "Epoch: 13 \tTraining Loss: 1.3791 \tValidation Loss: 1.3492\n",
      "\t\tTraining Accuracy: 47.15%\t Validation Accuracy: 48.44%\n",
      "Epoch: 14\t101.42% validated. 1716.61 seconds elapsed in epoch.\n",
      "Epoch: 14 \tTraining Loss: 1.3733 \tValidation Loss: 1.3466\n",
      "\t\tTraining Accuracy: 47.33%\t Validation Accuracy: 48.76%\n",
      "Epoch: 15\t101.42% validated. 1667.35 seconds elapsed in epoch.\n",
      "Epoch: 15 \tTraining Loss: 1.3668 \tValidation Loss: 1.3424\n",
      "\t\tTraining Accuracy: 47.63%\t Validation Accuracy: 48.89%\n",
      "Epoch: 16\t101.42% validated. 1676.26 seconds elapsed in epoch.\n",
      "Epoch: 16 \tTraining Loss: 1.3609 \tValidation Loss: 1.3403\n",
      "\t\tTraining Accuracy: 47.80%\t Validation Accuracy: 48.96%\n",
      "Epoch: 17\t101.42% validated. 1614.70 seconds elapsed in epoch.\n",
      "Epoch: 17 \tTraining Loss: 1.3562 \tValidation Loss: 1.3381\n",
      "\t\tTraining Accuracy: 47.90%\t Validation Accuracy: 49.07%\n",
      "Epoch: 18\t101.42% validated. 1536.47 seconds elapsed in epoch.\n",
      "Epoch: 18 \tTraining Loss: 1.3516 \tValidation Loss: 1.3358\n",
      "\t\tTraining Accuracy: 48.11%\t Validation Accuracy: 49.10%\n",
      "Epoch: 19\t101.42% validated. 1526.53 seconds elapsed in epoch.\n",
      "Epoch: 19 \tTraining Loss: 1.3472 \tValidation Loss: 1.3343\n",
      "\t\tTraining Accuracy: 48.33%\t Validation Accuracy: 49.20%\n",
      "Epoch: 20\t101.42% validated. 1550.38 seconds elapsed in epoch.\n",
      "Epoch: 20 \tTraining Loss: 1.3420 \tValidation Loss: 1.3325\n",
      "\t\tTraining Accuracy: 48.47%\t Validation Accuracy: 49.38%\n",
      "Epoch: 21\t101.42% validated. 1551.80 seconds elapsed in epoch.\n",
      "Epoch: 21 \tTraining Loss: 1.3375 \tValidation Loss: 1.3319\n",
      "\t\tTraining Accuracy: 48.75%\t Validation Accuracy: 49.51%\n",
      "Epoch: 22\t101.42% validated. 1520.59 seconds elapsed in epoch.\n",
      "Epoch: 22 \tTraining Loss: 1.3333 \tValidation Loss: 1.3305\n",
      "\t\tTraining Accuracy: 48.81%\t Validation Accuracy: 49.64%\n",
      "Epoch: 23\t101.42% validated. 1549.70 seconds elapsed in epoch.\n",
      "Epoch: 23 \tTraining Loss: 1.3294 \tValidation Loss: 1.3270\n",
      "\t\tTraining Accuracy: 48.98%\t Validation Accuracy: 49.87%\n",
      "Epoch: 24\t101.42% validated. 1529.55 seconds elapsed in epoch.\n",
      "Epoch: 24 \tTraining Loss: 1.3253 \tValidation Loss: 1.3252\n",
      "\t\tTraining Accuracy: 49.23%\t Validation Accuracy: 49.93%\n",
      "Epoch: 25\t101.42% validated. 1522.65 seconds elapsed in epoch.\n",
      "Epoch: 25 \tTraining Loss: 1.3217 \tValidation Loss: 1.3249\n",
      "\t\tTraining Accuracy: 49.28%\t Validation Accuracy: 49.83%\n",
      "Epoch: 26\t101.42% validated. 1571.45 seconds elapsed in epoch.\n",
      "Epoch: 26 \tTraining Loss: 1.3186 \tValidation Loss: 1.3246\n",
      "\t\tTraining Accuracy: 49.39%\t Validation Accuracy: 49.87%\n",
      "Epoch: 27\t101.42% validated. 1535.16 seconds elapsed in epoch.\n",
      "Epoch: 27 \tTraining Loss: 1.3143 \tValidation Loss: 1.3223\n",
      "\t\tTraining Accuracy: 49.54%\t Validation Accuracy: 49.96%\n",
      "Epoch: 28\t101.42% validated. 1524.14 seconds elapsed in epoch.\n",
      "Epoch: 28 \tTraining Loss: 1.3127 \tValidation Loss: 1.3230\n",
      "\t\tTraining Accuracy: 49.62%\t Validation Accuracy: 49.88%\n",
      "Epoch: 29\t101.42% validated. 1551.42 seconds elapsed in epoch.\n",
      "Epoch: 29 \tTraining Loss: 1.3086 \tValidation Loss: 1.3202\n",
      "\t\tTraining Accuracy: 49.83%\t Validation Accuracy: 50.30%\n",
      "Epoch: 30\t101.42% validated. 1529.51 seconds elapsed in epoch.\n",
      "Epoch: 30 \tTraining Loss: 1.3058 \tValidation Loss: 1.3220\n",
      "\t\tTraining Accuracy: 49.92%\t Validation Accuracy: 50.12%\n",
      "Epoch: 31\t101.42% validated. 1524.43 seconds elapsed in epoch.\n",
      "Epoch: 31 \tTraining Loss: 1.3023 \tValidation Loss: 1.3199\n",
      "\t\tTraining Accuracy: 50.04%\t Validation Accuracy: 50.20%\n",
      "Epoch: 32\t101.42% validated. 1549.80 seconds elapsed in epoch.\n",
      "Epoch: 32 \tTraining Loss: 1.2999 \tValidation Loss: 1.3198\n",
      "\t\tTraining Accuracy: 50.12%\t Validation Accuracy: 50.23%\n",
      "Epoch: 33\t101.42% validated. 1528.45 seconds elapsed in epoch.\n",
      "Epoch: 33 \tTraining Loss: 1.2971 \tValidation Loss: 1.3191\n",
      "\t\tTraining Accuracy: 50.17%\t Validation Accuracy: 50.33%\n",
      "Epoch: 34\t101.42% validated. 1525.99 seconds elapsed in epoch.\n",
      "Epoch: 34 \tTraining Loss: 1.2938 \tValidation Loss: 1.3209\n",
      "\t\tTraining Accuracy: 50.33%\t Validation Accuracy: 50.31%\n",
      "Epoch: 35\t101.42% validated. 1548.09 seconds elapsed in epoch.\n",
      "Epoch: 35 \tTraining Loss: 1.2909 \tValidation Loss: 1.3185\n",
      "\t\tTraining Accuracy: 50.43%\t Validation Accuracy: 50.48%\n",
      "Epoch: 36\t101.42% validated. 1527.10 seconds elapsed in epoch.\n",
      "Epoch: 36 \tTraining Loss: 1.2891 \tValidation Loss: 1.3201\n",
      "\t\tTraining Accuracy: 50.46%\t Validation Accuracy: 50.18%\n",
      "Epoch: 37\t101.42% validated. 1523.10 seconds elapsed in epoch.\n",
      "Epoch: 37 \tTraining Loss: 1.2872 \tValidation Loss: 1.3190\n",
      "\t\tTraining Accuracy: 50.55%\t Validation Accuracy: 50.30%\n",
      "Epoch: 38\t101.42% validated. 1572.11 seconds elapsed in epoch.\n",
      "Epoch: 38 \tTraining Loss: 1.2844 \tValidation Loss: 1.3195\n",
      "\t\tTraining Accuracy: 50.67%\t Validation Accuracy: 50.34%\n",
      "\n",
      "Early Stopping! Total epochs: 38. Best epoch: 35 with loss: 1.32 and acc: 50.34%\n",
      "61936.56 total seconds elapsed. 1588.12 seconds per epoch.\n"
     ]
    }
   ],
   "source": [
    "#CrossEntropyLoss\n",
    "model, history = train(\n",
    "    model,\n",
    "    criterion,\n",
    "    optimizer,\n",
    "    dataloaders['train'],\n",
    "    dataloaders['val'],\n",
    "    save_file_name=save_file_name,\n",
    "    max_epochs_stop=3,\n",
    "    n_epochs=50,\n",
    "    print_every=1)"
   ]
  },
  {
   "cell_type": "code",
   "execution_count": 35,
   "id": "f91ffbbe",
   "metadata": {},
   "outputs": [
    {
     "data": {
      "text/plain": [
       "Text(0.5, 1.0, 'Training and Validation Losses')"
      ]
     },
     "execution_count": 35,
     "metadata": {},
     "output_type": "execute_result"
    },
    {
     "data": {
      "image/png": "[encoded data removed]",
      "text/plain": [
       "<Figure size 576x432 with 1 Axes>"
      ]
     },
     "metadata": {
      "needs_background": "light"
     },
     "output_type": "display_data"
    }
   ],
   "source": [
    "plt.figure(figsize=(8, 6))\n",
    "for c in ['train_loss', 'valid_loss']:\n",
    "    plt.plot(\n",
    "        history[c], label=c)\n",
    "plt.legend()\n",
    "plt.xlabel('Epoch')\n",
    "plt.ylabel('Average Negative Log Likelihood')\n",
    "plt.title('Training and Validation Losses')"
   ]
  },
  {
   "cell_type": "code",
   "execution_count": 36,
   "id": "0b46143e",
   "metadata": {},
   "outputs": [
    {
     "data": {
      "text/plain": [
       "Text(0.5, 1.0, 'Training and Validation Accuracy')"
      ]
     },
     "execution_count": 36,
     "metadata": {},
     "output_type": "execute_result"
    },
    {
     "data": {
      "image/png": "[encoded data removed]",
      "text/plain": [
       "<Figure size 576x432 with 1 Axes>"
      ]
     },
     "metadata": {
      "needs_background": "light"
     },
     "output_type": "display_data"
    }
   ],
   "source": [
    "plt.figure(figsize=(8, 6))\n",
    "for c in ['train_acc', 'valid_acc']:\n",
    "    plt.plot(\n",
    "        100 * history[c], label=c)\n",
    "plt.legend()\n",
    "plt.xlabel('Epoch')\n",
    "plt.ylabel('Average Accuracy')\n",
    "plt.title('Training and Validation Accuracy')"
   ]
  },
  {
   "cell_type": "code",
   "execution_count": 38,
   "id": "d4f2b7d5",
   "metadata": {},
   "outputs": [],
   "source": [
    "model.idx_to_class = ['0.0-1.0',\n",
    " '1.0-1.7',\n",
    " '1.7-3.0',\n",
    " '3.0-5.3',\n",
    " '5.3-9.1',\n",
    " '9.1-15.9',\n",
    " '15.9-27.7',\n",
    " '27.7-48.1',\n",
    " '48.1-83.7',\n",
    " '83.7-145.5',\n",
    " '145.5-253.0',\n",
    " '253.0-440.1',\n",
    " '440.1-765.3',\n",
    " '765.3-1331.0',\n",
    " '1331.0-2314.6',\n",
    " '2314.6-4025.3',\n",
    " '4025.3-7000.4',\n",
    " '7000.4-12174.3',\n",
    " '12174.3-21172.1',\n",
    " '21172.1-36820.0']"
   ]
  },
  {
   "cell_type": "code",
   "execution_count": 39,
   "id": "a8c023b1",
   "metadata": {},
   "outputs": [],
   "source": [
    "model.class_to_idx = {'0.0-1.0': 0,\n",
    " '1.0-1.7': 1,\n",
    " '1.7-3.0': 2,\n",
    " '3.0-5.3': 3,\n",
    " '5.3-9.1': 4,\n",
    " '9.1-15.9': 5,\n",
    " '15.9-27.7': 6,\n",
    " '27.7-48.1': 7,\n",
    " '48.1-83.7': 8,\n",
    " '83.7-145.5': 9,\n",
    " '145.5-253.0': 10,\n",
    " '253.0-440.1': 11,\n",
    " '440.1-765.3': 12,\n",
    " '765.3-1331.0': 13,\n",
    " '1331.0-2314.6': 14,\n",
    " '2314.6-4025.3': 15,\n",
    " '4025.3-7000.4': 16,\n",
    " '7000.4-12174.3': 17,\n",
    " '12174.3-21172.1': 18,\n",
    " '21172.1-36820.0': 19}"
   ]
  },
  {
   "cell_type": "code",
   "execution_count": 40,
   "id": "fe7bcf3a",
   "metadata": {},
   "outputs": [],
   "source": [
    "def save_checkpoint(model, path):\n",
    "    \"\"\"Save a PyTorch model checkpoint\n",
    "\n",
    "    Params\n",
    "    --------\n",
    "        model (PyTorch model): model to save\n",
    "        path (str): location to save model. Must start with `model_name-` and end in '.pth'\n",
    "\n",
    "    Returns\n",
    "    --------\n",
    "        None, save the `model` to `path`\n",
    "\n",
    "    \"\"\"\n",
    "\n",
    "    # Basic details\n",
    "    checkpoint = {\n",
    "        'class_to_idx': model.class_to_idx,\n",
    "        'idx_to_class': model.idx_to_class,\n",
    "        'epochs': model.epochs,\n",
    "    }\n",
    "\n",
    "    # Extract the final classifier and the state dictionary\n",
    "    if multi_gpu:\n",
    "        checkpoint['state_dict'] = model.module.state_dict()\n",
    "    else:\n",
    "        checkpoint['state_dict'] = model.state_dict()\n",
    "\n",
    "    # Add the optimizer\n",
    "    checkpoint['optimizer'] = model.optimizer\n",
    "    checkpoint['optimizer_state_dict'] = model.optimizer.state_dict()\n",
    "\n",
    "    # Save the data to the path\n",
    "    torch.save(checkpoint, path)"
   ]
  },
  {
   "cell_type": "code",
   "execution_count": 41,
   "id": "62db1559",
   "metadata": {},
   "outputs": [],
   "source": [
    "save_checkpoint(model, path=checkpoint_path)"
   ]
  },
  {
   "cell_type": "code",
   "execution_count": 17,
   "id": "982d83d7",
   "metadata": {},
   "outputs": [],
   "source": [
    "def load_checkpoint(model, path):\n",
    "    \"\"\"Load a PyTorch model checkpoint\n",
    "\n",
    "    Params\n",
    "    --------\n",
    "        path (str): saved model checkpoint. Must start with `model_name-` and end in '.pth'\n",
    "\n",
    "    Returns\n",
    "    --------\n",
    "        None, save the `model` to `path`\n",
    "\n",
    "    \"\"\"\n",
    "\n",
    "    # Load in checkpoint\n",
    "    checkpoint = torch.load(path)\n",
    "\n",
    "    # Load in the state dict\n",
    "    model.load_state_dict(checkpoint['state_dict'])\n",
    "\n",
    "    total_params = sum(p.numel() for p in model.parameters())\n",
    "    print(f'{total_params:,} total parameters.')\n",
    "    total_trainable_params = sum(\n",
    "        p.numel() for p in model.parameters() if p.requires_grad)\n",
    "    print(f'{total_trainable_params:,} total gradient parameters.')\n",
    "\n",
    "    # Move to gpu\n",
    "    if multi_gpu:\n",
    "        model = nn.DataParallel(model)\n",
    "    if train_on_gpu:\n",
    "        model = model.to('cuda')\n",
    "\n",
    "    # Model basics\n",
    "    model.class_to_idx = checkpoint['class_to_idx']\n",
    "    model.idx_to_class = checkpoint['idx_to_class']\n",
    "    model.epochs = checkpoint['epochs']\n",
    "\n",
    "    # Optimizer\n",
    "    optimizer = checkpoint['optimizer']\n",
    "    optimizer.load_state_dict(checkpoint['optimizer_state_dict'])\n",
    "\n",
    "    return model, optimizer"
   ]
  },
  {
   "cell_type": "code",
   "execution_count": 18,
   "id": "1e93f6cc",
   "metadata": {},
   "outputs": [
    {
     "name": "stdout",
     "output_type": "stream",
     "text": [
      "25,269,566 total parameters.\n",
      "1,761,534 total gradient parameters.\n"
     ]
    }
   ],
   "source": [
    "model, optimizer = load_checkpoint(model, checkpoint_path)"
   ]
  },
  {
   "cell_type": "code",
   "execution_count": 42,
   "id": "278a35f0",
   "metadata": {},
   "outputs": [],
   "source": [
    "testloader = dataloaders['test']"
   ]
  },
  {
   "cell_type": "code",
   "execution_count": 43,
   "id": "415844fe",
   "metadata": {},
   "outputs": [],
   "source": [
    "def accuracy(output, target, topk=(1, )):\n",
    "    \"\"\"Compute the topk accuracy(s)\"\"\"\n",
    "    if train_on_gpu:\n",
    "        output = output.to('cuda')\n",
    "        target = target.to('cuda')\n",
    "\n",
    "    with torch.no_grad():\n",
    "        maxk = max(topk)\n",
    "        batch_size = target.size(0)\n",
    "\n",
    "        # Find the predicted classes and transpose\n",
    "        _, pred = output.topk(k=maxk, dim=1, largest=True, sorted=True)\n",
    "        pred = pred.t()\n",
    "\n",
    "        # Determine predictions equal to the targets\n",
    "        correct = pred.eq(target.view(1, -1).expand_as(pred))\n",
    "\n",
    "        res = []\n",
    "\n",
    "        # For each k, find the percentage of correct\n",
    "        for k in topk:\n",
    "            correct_k = correct[:k].view(-1).float().sum(0, keepdim=True)\n",
    "            res.append(correct_k.mul_(100.0 / batch_size).item())\n",
    "        return res"
   ]
  },
  {
   "cell_type": "code",
   "execution_count": 44,
   "id": "98e976e3",
   "metadata": {},
   "outputs": [
    {
     "name": "stdout",
     "output_type": "stream",
     "text": [
      "[44.43359375]\n"
     ]
    }
   ],
   "source": [
    "#TEST\n",
    "\n",
    "testiter = iter(testloader)\n",
    "# Get a batch of testing images and labels\n",
    "img, stack_cat, stack_num, target = next(testiter)\n",
    "\n",
    "if train_on_gpu:\n",
    "    res = accuracy(model(img.cuda(), stack_cat.cuda(), stack_num.cuda()), target, topk=(1, ))\n",
    "else:\n",
    "    res = accuracy(model(img, stack_cat, stack_num), target, topk=(1, 5))\n",
    "print(res)"
   ]
  },
  {
   "cell_type": "code",
   "execution_count": 20,
   "id": "4f2288c1",
   "metadata": {},
   "outputs": [
    {
     "name": "stdout",
     "output_type": "stream",
     "text": [
      "[51.171875]\n"
     ]
    }
   ],
   "source": [
    "testiter = iter(testloader)\n",
    "# Get a batch of testing images and labels\n",
    "img, stack_cat, stack_num, target = next(testiter)\n",
    "\n",
    "if train_on_gpu:\n",
    "    res = accuracy(model(img.cuda(), stack_cat.cuda(), stack_num.cuda()), target, topk=(1, ))\n",
    "else:\n",
    "    res = accuracy(model(img, stack_cat, stack_num), target, topk=(1, 5))\n",
    "print(res)"
   ]
  },
  {
   "cell_type": "code",
   "execution_count": 45,
   "id": "8f1f691f",
   "metadata": {},
   "outputs": [
    {
     "name": "stdout",
     "output_type": "stream",
     "text": [
      "Starting Evaluatation.\n",
      "\n",
      "i: 287088 / 287199 evaluated. 654.29 seconds elapsed.\n",
      "287088\n"
     ]
    }
   ],
   "source": [
    "def evaluate(model, test_loader, criterion, topk=(1, 3, 5)):\n",
    "    \"\"\"Measure the performance of a trained PyTorch model\n",
    "\n",
    "    Params\n",
    "    --------\n",
    "        model (PyTorch model): trained cnn for inference\n",
    "        test_loader (PyTorch DataLoader): test dataloader\n",
    "        topk (tuple of ints): accuracy to measure\n",
    "\n",
    "    Returns\n",
    "    --------\n",
    "        results (DataFrame): results for each category\n",
    "\n",
    "    \"\"\"\n",
    "    confusion_matrix = torch.zeros(20, 20)\n",
    "    classes = []\n",
    "    losses = []\n",
    "    estimated_len = len(test_loader.dataset)\n",
    "    # Hold accuracy results\n",
    "    acc_results = np.zeros((estimated_len, len(topk)))\n",
    "    i = 0\n",
    "    start = timer()\n",
    "    \n",
    "    print(f'Starting Evaluatation.\\n')\n",
    "\n",
    "    model.eval()\n",
    "    with torch.no_grad():\n",
    "\n",
    "        # Testing loop      \n",
    "        for img, stack_cat, stack_num, targets in test_loader:\n",
    "\n",
    "            # Tensors to gpu\n",
    "            if train_on_gpu:\n",
    "                img, stack_cat, stack_num, targets = img.cuda(), stack_cat.cuda(), stack_num.cuda(), targets.cuda()\n",
    "        \n",
    "            # Raw model output\n",
    "            out = model(img, stack_cat, stack_num)\n",
    "            _, predscm = torch.max(out, 1)\n",
    "            for t, p in zip(targets.view(-1), predscm.view(-1)):\n",
    "                confusion_matrix[t.long(), p.long()] += 1\n",
    "            \n",
    "            # Iterate through each example\n",
    "            for pred, true in zip(out, targets):\n",
    "                # Find topk accuracy\n",
    "                acc_results[i, :] = accuracy(\n",
    "                    pred.unsqueeze(0), true.unsqueeze(0), topk)\n",
    "                classes.append(model.idx_to_class[true.item()])\n",
    "                # Calculate the loss\n",
    "                loss = criterion(pred.view(1, 20), true.view(1))\n",
    "                losses.append(loss.item())\n",
    "                i += 1\n",
    "            \n",
    "                # Track progress\n",
    "                print(\n",
    "                    f'i: {i} / {estimated_len} evaluated. {timer() - start:.2f} seconds elapsed.',\n",
    "                    end='\\r')\n",
    "\n",
    "    # Send results to a dataframe and calculate average across classes\n",
    "    diff_len =  estimated_len - i\n",
    "    acc_results = acc_results[:-diff_len]\n",
    "    print(f'\\n{len(acc_results)}')\n",
    "    results = pd.DataFrame(acc_results, columns=[f'top{i}' for i in topk])\n",
    "    results['class'] = classes\n",
    "    results['loss'] = losses\n",
    "    results = results.groupby(classes).mean()\n",
    "\n",
    "    return results.reset_index().rename(columns={'index': 'class'}), confusion_matrix\n",
    "\n",
    "criterion = nn.CrossEntropyLoss()\n",
    "# Evaluate the model on all the training data\n",
    "results,confusion_matrix = evaluate(model, testloader, criterion) #dataloaders['test']"
   ]
  },
  {
   "cell_type": "code",
   "execution_count": 46,
   "id": "010e6354",
   "metadata": {},
   "outputs": [
    {
     "data": {
      "text/html": [
       "<div>\n",
       "<style scoped>\n",
       "    .dataframe tbody tr th:only-of-type {\n",
       "        vertical-align: middle;\n",
       "    }\n",
       "\n",
       "    .dataframe tbody tr th {\n",
       "        vertical-align: top;\n",
       "    }\n",
       "\n",
       "    .dataframe thead th {\n",
       "        text-align: right;\n",
       "    }\n",
       "</style>\n",
       "<table border=\"1\" class=\"dataframe\">\n",
       "  <thead>\n",
       "    <tr style=\"text-align: right;\">\n",
       "      <th></th>\n",
       "      <th>class</th>\n",
       "      <th>top1</th>\n",
       "      <th>top3</th>\n",
       "      <th>top5</th>\n",
       "      <th>loss</th>\n",
       "    </tr>\n",
       "  </thead>\n",
       "  <tbody>\n",
       "    <tr>\n",
       "      <th>0</th>\n",
       "      <td>0.0-1.0</td>\n",
       "      <td>0.000000</td>\n",
       "      <td>44.076274</td>\n",
       "      <td>74.335730</td>\n",
       "      <td>3.542493</td>\n",
       "    </tr>\n",
       "    <tr>\n",
       "      <th>1</th>\n",
       "      <td>1.0-1.7</td>\n",
       "      <td>17.241379</td>\n",
       "      <td>17.241379</td>\n",
       "      <td>51.724138</td>\n",
       "      <td>3.620730</td>\n",
       "    </tr>\n",
       "    <tr>\n",
       "      <th>2</th>\n",
       "      <td>1.7-3.0</td>\n",
       "      <td>0.000000</td>\n",
       "      <td>50.413223</td>\n",
       "      <td>50.413223</td>\n",
       "      <td>3.533669</td>\n",
       "    </tr>\n",
       "    <tr>\n",
       "      <th>3</th>\n",
       "      <td>12174.3-21172.1</td>\n",
       "      <td>0.000000</td>\n",
       "      <td>0.000000</td>\n",
       "      <td>0.000000</td>\n",
       "      <td>3.668578</td>\n",
       "    </tr>\n",
       "    <tr>\n",
       "      <th>4</th>\n",
       "      <td>1331.0-2314.6</td>\n",
       "      <td>45.274129</td>\n",
       "      <td>81.948410</td>\n",
       "      <td>93.903484</td>\n",
       "      <td>1.625715</td>\n",
       "    </tr>\n",
       "    <tr>\n",
       "      <th>5</th>\n",
       "      <td>145.5-253.0</td>\n",
       "      <td>53.599158</td>\n",
       "      <td>94.464760</td>\n",
       "      <td>98.241747</td>\n",
       "      <td>1.166386</td>\n",
       "    </tr>\n",
       "    <tr>\n",
       "      <th>6</th>\n",
       "      <td>15.9-27.7</td>\n",
       "      <td>0.000000</td>\n",
       "      <td>0.000000</td>\n",
       "      <td>0.000000</td>\n",
       "      <td>3.577391</td>\n",
       "    </tr>\n",
       "    <tr>\n",
       "      <th>7</th>\n",
       "      <td>21172.1-36820.0</td>\n",
       "      <td>0.000000</td>\n",
       "      <td>0.000000</td>\n",
       "      <td>0.000000</td>\n",
       "      <td>3.282335</td>\n",
       "    </tr>\n",
       "    <tr>\n",
       "      <th>8</th>\n",
       "      <td>2314.6-4025.3</td>\n",
       "      <td>0.000000</td>\n",
       "      <td>0.000000</td>\n",
       "      <td>0.000000</td>\n",
       "      <td>4.124196</td>\n",
       "    </tr>\n",
       "    <tr>\n",
       "      <th>9</th>\n",
       "      <td>253.0-440.1</td>\n",
       "      <td>59.362912</td>\n",
       "      <td>95.770506</td>\n",
       "      <td>98.614510</td>\n",
       "      <td>1.012523</td>\n",
       "    </tr>\n",
       "    <tr>\n",
       "      <th>10</th>\n",
       "      <td>27.7-48.1</td>\n",
       "      <td>55.175022</td>\n",
       "      <td>78.176318</td>\n",
       "      <td>90.795160</td>\n",
       "      <td>1.865543</td>\n",
       "    </tr>\n",
       "    <tr>\n",
       "      <th>11</th>\n",
       "      <td>3.0-5.3</td>\n",
       "      <td>0.000000</td>\n",
       "      <td>0.000000</td>\n",
       "      <td>26.504630</td>\n",
       "      <td>3.752447</td>\n",
       "    </tr>\n",
       "    <tr>\n",
       "      <th>12</th>\n",
       "      <td>4025.3-7000.4</td>\n",
       "      <td>72.865923</td>\n",
       "      <td>88.880036</td>\n",
       "      <td>93.557933</td>\n",
       "      <td>1.358897</td>\n",
       "    </tr>\n",
       "    <tr>\n",
       "      <th>13</th>\n",
       "      <td>440.1-765.3</td>\n",
       "      <td>57.163920</td>\n",
       "      <td>93.627181</td>\n",
       "      <td>98.651057</td>\n",
       "      <td>1.082554</td>\n",
       "    </tr>\n",
       "    <tr>\n",
       "      <th>14</th>\n",
       "      <td>48.1-83.7</td>\n",
       "      <td>0.000000</td>\n",
       "      <td>0.000000</td>\n",
       "      <td>0.000000</td>\n",
       "      <td>3.999799</td>\n",
       "    </tr>\n",
       "    <tr>\n",
       "      <th>15</th>\n",
       "      <td>5.3-9.1</td>\n",
       "      <td>0.000000</td>\n",
       "      <td>0.000000</td>\n",
       "      <td>9.541284</td>\n",
       "      <td>3.519617</td>\n",
       "    </tr>\n",
       "    <tr>\n",
       "      <th>16</th>\n",
       "      <td>7000.4-12174.3</td>\n",
       "      <td>48.562647</td>\n",
       "      <td>85.120231</td>\n",
       "      <td>86.765504</td>\n",
       "      <td>1.532909</td>\n",
       "    </tr>\n",
       "    <tr>\n",
       "      <th>17</th>\n",
       "      <td>765.3-1331.0</td>\n",
       "      <td>48.642377</td>\n",
       "      <td>87.960703</td>\n",
       "      <td>97.794051</td>\n",
       "      <td>1.305838</td>\n",
       "    </tr>\n",
       "    <tr>\n",
       "      <th>18</th>\n",
       "      <td>83.7-145.5</td>\n",
       "      <td>50.786591</td>\n",
       "      <td>87.871674</td>\n",
       "      <td>96.544766</td>\n",
       "      <td>1.367878</td>\n",
       "    </tr>\n",
       "    <tr>\n",
       "      <th>19</th>\n",
       "      <td>9.1-15.9</td>\n",
       "      <td>36.352729</td>\n",
       "      <td>55.908818</td>\n",
       "      <td>59.328134</td>\n",
       "      <td>2.568321</td>\n",
       "    </tr>\n",
       "  </tbody>\n",
       "</table>\n",
       "</div>"
      ],
      "text/plain": [
       "              class       top1       top3       top5      loss\n",
       "0           0.0-1.0   0.000000  44.076274  74.335730  3.542493\n",
       "1           1.0-1.7  17.241379  17.241379  51.724138  3.620730\n",
       "2           1.7-3.0   0.000000  50.413223  50.413223  3.533669\n",
       "3   12174.3-21172.1   0.000000   0.000000   0.000000  3.668578\n",
       "4     1331.0-2314.6  45.274129  81.948410  93.903484  1.625715\n",
       "5       145.5-253.0  53.599158  94.464760  98.241747  1.166386\n",
       "6         15.9-27.7   0.000000   0.000000   0.000000  3.577391\n",
       "7   21172.1-36820.0   0.000000   0.000000   0.000000  3.282335\n",
       "8     2314.6-4025.3   0.000000   0.000000   0.000000  4.124196\n",
       "9       253.0-440.1  59.362912  95.770506  98.614510  1.012523\n",
       "10        27.7-48.1  55.175022  78.176318  90.795160  1.865543\n",
       "11          3.0-5.3   0.000000   0.000000  26.504630  3.752447\n",
       "12    4025.3-7000.4  72.865923  88.880036  93.557933  1.358897\n",
       "13      440.1-765.3  57.163920  93.627181  98.651057  1.082554\n",
       "14        48.1-83.7   0.000000   0.000000   0.000000  3.999799\n",
       "15          5.3-9.1   0.000000   0.000000   9.541284  3.519617\n",
       "16   7000.4-12174.3  48.562647  85.120231  86.765504  1.532909\n",
       "17     765.3-1331.0  48.642377  87.960703  97.794051  1.305838\n",
       "18       83.7-145.5  50.786591  87.871674  96.544766  1.367878\n",
       "19         9.1-15.9  36.352729  55.908818  59.328134  2.568321"
      ]
     },
     "execution_count": 46,
     "metadata": {},
     "output_type": "execute_result"
    }
   ],
   "source": [
    "results"
   ]
  },
  {
   "cell_type": "code",
   "execution_count": 47,
   "id": "0de29eca",
   "metadata": {},
   "outputs": [],
   "source": [
    "import itertools\n",
    "import numpy as np\n",
    "import matplotlib.pyplot as plt\n",
    "\n",
    "def plot_confusion_matrix(cm, classes, normalize=False, title='Confusion matrix', cmap=plt.cm.Blues):\n",
    "    if normalize:\n",
    "        cm = cm.astype('float') / cm.sum(axis=1)[:, np.newaxis]\n",
    "        print(\"Normalized confusion matrix\")\n",
    "    else:\n",
    "        print('Confusion matrix, without normalization')\n",
    "\n",
    "    #print(cm)\n",
    "    plt.imshow(cm, interpolation='nearest', cmap=cmap)\n",
    "    plt.title(title)\n",
    "    plt.colorbar()\n",
    "    tick_marks = np.arange(len(classes))\n",
    "    plt.xticks(tick_marks, classes, rotation=45)\n",
    "    plt.yticks(tick_marks, classes)\n",
    "\n",
    "    fmt = '.2f' if normalize else '.0f'\n",
    "    thresh = cm.max() / 2.\n",
    "    for i, j in itertools.product(range(cm.shape[0]), range(cm.shape[1])):\n",
    "        plt.text(j, i, format(cm[i, j], fmt), horizontalalignment=\"center\", color=\"white\" if cm[i, j] > thresh else \"black\")\n",
    "\n",
    "    plt.tight_layout()\n",
    "    plt.ylabel('True label')\n",
    "    plt.xlabel('Predicted label')\n",
    "    plt.savefig(f'outputs/confusion_matrix.png')\n",
    "    return plt"
   ]
  },
  {
   "cell_type": "code",
   "execution_count": 48,
   "id": "8cf95b4a",
   "metadata": {},
   "outputs": [],
   "source": [
    "classnames = [model.idx_to_class[i] for i in range(0, 20)]"
   ]
  },
  {
   "cell_type": "code",
   "execution_count": 49,
   "id": "b0b5156f",
   "metadata": {},
   "outputs": [
    {
     "name": "stdout",
     "output_type": "stream",
     "text": [
      "Confusion matrix, without normalization\n"
     ]
    },
    {
     "data": {
      "image/png": "[encoded data removed]",
      "text/plain": [
       "<Figure size 1440x1440 with 2 Axes>"
      ]
     },
     "metadata": {
      "needs_background": "light"
     },
     "output_type": "display_data"
    }
   ],
   "source": [
    "plt.figure(figsize=(20,20))\n",
    "plt = plot_confusion_matrix(confusion_matrix, classnames)"
   ]
  },
  {
   "cell_type": "code",
   "execution_count": 36,
   "id": "718262d2",
   "metadata": {},
   "outputs": [],
   "source": [
    "def cm_as_dataframe(cm):\n",
    "    cm = pd.DataFrame(cm)\n",
    "    cm.columns = classnames\n",
    "    cm.index = classnames\n",
    "    cm = cm.reset_index()\n",
    "    return cm\n",
    "\n",
    "cm_as_dataframe(confusion_matrix.cpu().numpy()).to_csv(f'outputs/confmat.csv',index=None)"
   ]
  },
  {
   "cell_type": "code",
   "execution_count": 37,
   "id": "a8dda627",
   "metadata": {},
   "outputs": [
    {
     "name": "stdout",
     "output_type": "stream",
     "text": [
      "Overall Accuracy:0.4448775351047516\n"
     ]
    }
   ],
   "source": [
    "print(f\"Overall Accuracy:{confusion_matrix.diag().sum()/confusion_matrix.sum()}\")"
   ]
  },
  {
   "cell_type": "markdown",
   "id": "54577d31",
   "metadata": {},
   "source": [
    "## Feature Importance"
   ]
  },
  {
   "cell_type": "code",
   "execution_count": 26,
   "id": "ea9b4ead",
   "metadata": {},
   "outputs": [
    {
     "data": {
      "text/plain": [
       "MulticlassClassification(\n",
       "  (cnn): ResNet(\n",
       "    (conv1): Conv2d(3, 64, kernel_size=(7, 7), stride=(2, 2), padding=(3, 3), bias=False)\n",
       "    (bn1): BatchNorm2d(64, eps=1e-05, momentum=0.1, affine=True, track_running_stats=True)\n",
       "    (relu): ReLU(inplace=True)\n",
       "    (maxpool): MaxPool2d(kernel_size=3, stride=2, padding=1, dilation=1, ceil_mode=False)\n",
       "    (layer1): Sequential(\n",
       "      (0): Bottleneck(\n",
       "        (conv1): Conv2d(64, 64, kernel_size=(1, 1), stride=(1, 1), bias=False)\n",
       "        (bn1): BatchNorm2d(64, eps=1e-05, momentum=0.1, affine=True, track_running_stats=True)\n",
       "        (conv2): Conv2d(64, 64, kernel_size=(3, 3), stride=(1, 1), padding=(1, 1), bias=False)\n",
       "        (bn2): BatchNorm2d(64, eps=1e-05, momentum=0.1, affine=True, track_running_stats=True)\n",
       "        (conv3): Conv2d(64, 256, kernel_size=(1, 1), stride=(1, 1), bias=False)\n",
       "        (bn3): BatchNorm2d(256, eps=1e-05, momentum=0.1, affine=True, track_running_stats=True)\n",
       "        (relu): ReLU(inplace=True)\n",
       "        (downsample): Sequential(\n",
       "          (0): Conv2d(64, 256, kernel_size=(1, 1), stride=(1, 1), bias=False)\n",
       "          (1): BatchNorm2d(256, eps=1e-05, momentum=0.1, affine=True, track_running_stats=True)\n",
       "        )\n",
       "      )\n",
       "      (1): Bottleneck(\n",
       "        (conv1): Conv2d(256, 64, kernel_size=(1, 1), stride=(1, 1), bias=False)\n",
       "        (bn1): BatchNorm2d(64, eps=1e-05, momentum=0.1, affine=True, track_running_stats=True)\n",
       "        (conv2): Conv2d(64, 64, kernel_size=(3, 3), stride=(1, 1), padding=(1, 1), bias=False)\n",
       "        (bn2): BatchNorm2d(64, eps=1e-05, momentum=0.1, affine=True, track_running_stats=True)\n",
       "        (conv3): Conv2d(64, 256, kernel_size=(1, 1), stride=(1, 1), bias=False)\n",
       "        (bn3): BatchNorm2d(256, eps=1e-05, momentum=0.1, affine=True, track_running_stats=True)\n",
       "        (relu): ReLU(inplace=True)\n",
       "      )\n",
       "      (2): Bottleneck(\n",
       "        (conv1): Conv2d(256, 64, kernel_size=(1, 1), stride=(1, 1), bias=False)\n",
       "        (bn1): BatchNorm2d(64, eps=1e-05, momentum=0.1, affine=True, track_running_stats=True)\n",
       "        (conv2): Conv2d(64, 64, kernel_size=(3, 3), stride=(1, 1), padding=(1, 1), bias=False)\n",
       "        (bn2): BatchNorm2d(64, eps=1e-05, momentum=0.1, affine=True, track_running_stats=True)\n",
       "        (conv3): Conv2d(64, 256, kernel_size=(1, 1), stride=(1, 1), bias=False)\n",
       "        (bn3): BatchNorm2d(256, eps=1e-05, momentum=0.1, affine=True, track_running_stats=True)\n",
       "        (relu): ReLU(inplace=True)\n",
       "      )\n",
       "    )\n",
       "    (layer2): Sequential(\n",
       "      (0): Bottleneck(\n",
       "        (conv1): Conv2d(256, 128, kernel_size=(1, 1), stride=(1, 1), bias=False)\n",
       "        (bn1): BatchNorm2d(128, eps=1e-05, momentum=0.1, affine=True, track_running_stats=True)\n",
       "        (conv2): Conv2d(128, 128, kernel_size=(3, 3), stride=(2, 2), padding=(1, 1), bias=False)\n",
       "        (bn2): BatchNorm2d(128, eps=1e-05, momentum=0.1, affine=True, track_running_stats=True)\n",
       "        (conv3): Conv2d(128, 512, kernel_size=(1, 1), stride=(1, 1), bias=False)\n",
       "        (bn3): BatchNorm2d(512, eps=1e-05, momentum=0.1, affine=True, track_running_stats=True)\n",
       "        (relu): ReLU(inplace=True)\n",
       "        (downsample): Sequential(\n",
       "          (0): Conv2d(256, 512, kernel_size=(1, 1), stride=(2, 2), bias=False)\n",
       "          (1): BatchNorm2d(512, eps=1e-05, momentum=0.1, affine=True, track_running_stats=True)\n",
       "        )\n",
       "      )\n",
       "      (1): Bottleneck(\n",
       "        (conv1): Conv2d(512, 128, kernel_size=(1, 1), stride=(1, 1), bias=False)\n",
       "        (bn1): BatchNorm2d(128, eps=1e-05, momentum=0.1, affine=True, track_running_stats=True)\n",
       "        (conv2): Conv2d(128, 128, kernel_size=(3, 3), stride=(1, 1), padding=(1, 1), bias=False)\n",
       "        (bn2): BatchNorm2d(128, eps=1e-05, momentum=0.1, affine=True, track_running_stats=True)\n",
       "        (conv3): Conv2d(128, 512, kernel_size=(1, 1), stride=(1, 1), bias=False)\n",
       "        (bn3): BatchNorm2d(512, eps=1e-05, momentum=0.1, affine=True, track_running_stats=True)\n",
       "        (relu): ReLU(inplace=True)\n",
       "      )\n",
       "      (2): Bottleneck(\n",
       "        (conv1): Conv2d(512, 128, kernel_size=(1, 1), stride=(1, 1), bias=False)\n",
       "        (bn1): BatchNorm2d(128, eps=1e-05, momentum=0.1, affine=True, track_running_stats=True)\n",
       "        (conv2): Conv2d(128, 128, kernel_size=(3, 3), stride=(1, 1), padding=(1, 1), bias=False)\n",
       "        (bn2): BatchNorm2d(128, eps=1e-05, momentum=0.1, affine=True, track_running_stats=True)\n",
       "        (conv3): Conv2d(128, 512, kernel_size=(1, 1), stride=(1, 1), bias=False)\n",
       "        (bn3): BatchNorm2d(512, eps=1e-05, momentum=0.1, affine=True, track_running_stats=True)\n",
       "        (relu): ReLU(inplace=True)\n",
       "      )\n",
       "      (3): Bottleneck(\n",
       "        (conv1): Conv2d(512, 128, kernel_size=(1, 1), stride=(1, 1), bias=False)\n",
       "        (bn1): BatchNorm2d(128, eps=1e-05, momentum=0.1, affine=True, track_running_stats=True)\n",
       "        (conv2): Conv2d(128, 128, kernel_size=(3, 3), stride=(1, 1), padding=(1, 1), bias=False)\n",
       "        (bn2): BatchNorm2d(128, eps=1e-05, momentum=0.1, affine=True, track_running_stats=True)\n",
       "        (conv3): Conv2d(128, 512, kernel_size=(1, 1), stride=(1, 1), bias=False)\n",
       "        (bn3): BatchNorm2d(512, eps=1e-05, momentum=0.1, affine=True, track_running_stats=True)\n",
       "        (relu): ReLU(inplace=True)\n",
       "      )\n",
       "    )\n",
       "    (layer3): Sequential(\n",
       "      (0): Bottleneck(\n",
       "        (conv1): Conv2d(512, 256, kernel_size=(1, 1), stride=(1, 1), bias=False)\n",
       "        (bn1): BatchNorm2d(256, eps=1e-05, momentum=0.1, affine=True, track_running_stats=True)\n",
       "        (conv2): Conv2d(256, 256, kernel_size=(3, 3), stride=(2, 2), padding=(1, 1), bias=False)\n",
       "        (bn2): BatchNorm2d(256, eps=1e-05, momentum=0.1, affine=True, track_running_stats=True)\n",
       "        (conv3): Conv2d(256, 1024, kernel_size=(1, 1), stride=(1, 1), bias=False)\n",
       "        (bn3): BatchNorm2d(1024, eps=1e-05, momentum=0.1, affine=True, track_running_stats=True)\n",
       "        (relu): ReLU(inplace=True)\n",
       "        (downsample): Sequential(\n",
       "          (0): Conv2d(512, 1024, kernel_size=(1, 1), stride=(2, 2), bias=False)\n",
       "          (1): BatchNorm2d(1024, eps=1e-05, momentum=0.1, affine=True, track_running_stats=True)\n",
       "        )\n",
       "      )\n",
       "      (1): Bottleneck(\n",
       "        (conv1): Conv2d(1024, 256, kernel_size=(1, 1), stride=(1, 1), bias=False)\n",
       "        (bn1): BatchNorm2d(256, eps=1e-05, momentum=0.1, affine=True, track_running_stats=True)\n",
       "        (conv2): Conv2d(256, 256, kernel_size=(3, 3), stride=(1, 1), padding=(1, 1), bias=False)\n",
       "        (bn2): BatchNorm2d(256, eps=1e-05, momentum=0.1, affine=True, track_running_stats=True)\n",
       "        (conv3): Conv2d(256, 1024, kernel_size=(1, 1), stride=(1, 1), bias=False)\n",
       "        (bn3): BatchNorm2d(1024, eps=1e-05, momentum=0.1, affine=True, track_running_stats=True)\n",
       "        (relu): ReLU(inplace=True)\n",
       "      )\n",
       "      (2): Bottleneck(\n",
       "        (conv1): Conv2d(1024, 256, kernel_size=(1, 1), stride=(1, 1), bias=False)\n",
       "        (bn1): BatchNorm2d(256, eps=1e-05, momentum=0.1, affine=True, track_running_stats=True)\n",
       "        (conv2): Conv2d(256, 256, kernel_size=(3, 3), stride=(1, 1), padding=(1, 1), bias=False)\n",
       "        (bn2): BatchNorm2d(256, eps=1e-05, momentum=0.1, affine=True, track_running_stats=True)\n",
       "        (conv3): Conv2d(256, 1024, kernel_size=(1, 1), stride=(1, 1), bias=False)\n",
       "        (bn3): BatchNorm2d(1024, eps=1e-05, momentum=0.1, affine=True, track_running_stats=True)\n",
       "        (relu): ReLU(inplace=True)\n",
       "      )\n",
       "      (3): Bottleneck(\n",
       "        (conv1): Conv2d(1024, 256, kernel_size=(1, 1), stride=(1, 1), bias=False)\n",
       "        (bn1): BatchNorm2d(256, eps=1e-05, momentum=0.1, affine=True, track_running_stats=True)\n",
       "        (conv2): Conv2d(256, 256, kernel_size=(3, 3), stride=(1, 1), padding=(1, 1), bias=False)\n",
       "        (bn2): BatchNorm2d(256, eps=1e-05, momentum=0.1, affine=True, track_running_stats=True)\n",
       "        (conv3): Conv2d(256, 1024, kernel_size=(1, 1), stride=(1, 1), bias=False)\n",
       "        (bn3): BatchNorm2d(1024, eps=1e-05, momentum=0.1, affine=True, track_running_stats=True)\n",
       "        (relu): ReLU(inplace=True)\n",
       "      )\n",
       "      (4): Bottleneck(\n",
       "        (conv1): Conv2d(1024, 256, kernel_size=(1, 1), stride=(1, 1), bias=False)\n",
       "        (bn1): BatchNorm2d(256, eps=1e-05, momentum=0.1, affine=True, track_running_stats=True)\n",
       "        (conv2): Conv2d(256, 256, kernel_size=(3, 3), stride=(1, 1), padding=(1, 1), bias=False)\n",
       "        (bn2): BatchNorm2d(256, eps=1e-05, momentum=0.1, affine=True, track_running_stats=True)\n",
       "        (conv3): Conv2d(256, 1024, kernel_size=(1, 1), stride=(1, 1), bias=False)\n",
       "        (bn3): BatchNorm2d(1024, eps=1e-05, momentum=0.1, affine=True, track_running_stats=True)\n",
       "        (relu): ReLU(inplace=True)\n",
       "      )\n",
       "      (5): Bottleneck(\n",
       "        (conv1): Conv2d(1024, 256, kernel_size=(1, 1), stride=(1, 1), bias=False)\n",
       "        (bn1): BatchNorm2d(256, eps=1e-05, momentum=0.1, affine=True, track_running_stats=True)\n",
       "        (conv2): Conv2d(256, 256, kernel_size=(3, 3), stride=(1, 1), padding=(1, 1), bias=False)\n",
       "        (bn2): BatchNorm2d(256, eps=1e-05, momentum=0.1, affine=True, track_running_stats=True)\n",
       "        (conv3): Conv2d(256, 1024, kernel_size=(1, 1), stride=(1, 1), bias=False)\n",
       "        (bn3): BatchNorm2d(1024, eps=1e-05, momentum=0.1, affine=True, track_running_stats=True)\n",
       "        (relu): ReLU(inplace=True)\n",
       "      )\n",
       "    )\n",
       "    (layer4): Sequential(\n",
       "      (0): Bottleneck(\n",
       "        (conv1): Conv2d(1024, 512, kernel_size=(1, 1), stride=(1, 1), bias=False)\n",
       "        (bn1): BatchNorm2d(512, eps=1e-05, momentum=0.1, affine=True, track_running_stats=True)\n",
       "        (conv2): Conv2d(512, 512, kernel_size=(3, 3), stride=(2, 2), padding=(1, 1), bias=False)\n",
       "        (bn2): BatchNorm2d(512, eps=1e-05, momentum=0.1, affine=True, track_running_stats=True)\n",
       "        (conv3): Conv2d(512, 2048, kernel_size=(1, 1), stride=(1, 1), bias=False)\n",
       "        (bn3): BatchNorm2d(2048, eps=1e-05, momentum=0.1, affine=True, track_running_stats=True)\n",
       "        (relu): ReLU(inplace=True)\n",
       "        (downsample): Sequential(\n",
       "          (0): Conv2d(1024, 2048, kernel_size=(1, 1), stride=(2, 2), bias=False)\n",
       "          (1): BatchNorm2d(2048, eps=1e-05, momentum=0.1, affine=True, track_running_stats=True)\n",
       "        )\n",
       "      )\n",
       "      (1): Bottleneck(\n",
       "        (conv1): Conv2d(2048, 512, kernel_size=(1, 1), stride=(1, 1), bias=False)\n",
       "        (bn1): BatchNorm2d(512, eps=1e-05, momentum=0.1, affine=True, track_running_stats=True)\n",
       "        (conv2): Conv2d(512, 512, kernel_size=(3, 3), stride=(1, 1), padding=(1, 1), bias=False)\n",
       "        (bn2): BatchNorm2d(512, eps=1e-05, momentum=0.1, affine=True, track_running_stats=True)\n",
       "        (conv3): Conv2d(512, 2048, kernel_size=(1, 1), stride=(1, 1), bias=False)\n",
       "        (bn3): BatchNorm2d(2048, eps=1e-05, momentum=0.1, affine=True, track_running_stats=True)\n",
       "        (relu): ReLU(inplace=True)\n",
       "      )\n",
       "      (2): Bottleneck(\n",
       "        (conv1): Conv2d(2048, 512, kernel_size=(1, 1), stride=(1, 1), bias=False)\n",
       "        (bn1): BatchNorm2d(512, eps=1e-05, momentum=0.1, affine=True, track_running_stats=True)\n",
       "        (conv2): Conv2d(512, 512, kernel_size=(3, 3), stride=(1, 1), padding=(1, 1), bias=False)\n",
       "        (bn2): BatchNorm2d(512, eps=1e-05, momentum=0.1, affine=True, track_running_stats=True)\n",
       "        (conv3): Conv2d(512, 2048, kernel_size=(1, 1), stride=(1, 1), bias=False)\n",
       "        (bn3): BatchNorm2d(2048, eps=1e-05, momentum=0.1, affine=True, track_running_stats=True)\n",
       "        (relu): ReLU(inplace=True)\n",
       "      )\n",
       "    )\n",
       "    (avgpool): AdaptiveAvgPool2d(output_size=(1, 1))\n",
       "    (fc): Sequential(\n",
       "      (0): Linear(in_features=2048, out_features=250, bias=True)\n",
       "      (1): ReLU()\n",
       "      (2): Dropout(p=0.2, inplace=False)\n",
       "      (3): Linear(in_features=250, out_features=20, bias=True)\n",
       "      (4): LogSoftmax(dim=1)\n",
       "    )\n",
       "  )\n",
       "  (all_embeddings): ModuleList(\n",
       "    (0): Embedding(4096, 50)\n",
       "    (1): Embedding(2, 1)\n",
       "    (2): Embedding(4096, 50)\n",
       "    (3): Embedding(4096, 50)\n",
       "    (4): Embedding(3, 2)\n",
       "    (5): Embedding(30, 15)\n",
       "    (6): Embedding(4096, 50)\n",
       "    (7): Embedding(4096, 50)\n",
       "    (8): Embedding(4, 2)\n",
       "    (9): Embedding(2, 1)\n",
       "    (10): Embedding(2, 1)\n",
       "    (11): Embedding(2, 1)\n",
       "  )\n",
       "  (embedding_dropout): Dropout(p=0.2, inplace=False)\n",
       "  (batch_norm_num): BatchNorm1d(4, eps=1e-05, momentum=0.1, affine=True, track_running_stats=True)\n",
       "  (layers): Sequential(\n",
       "    (0): Linear(in_features=277, out_features=512, bias=True)\n",
       "    (1): ReLU(inplace=True)\n",
       "    (2): BatchNorm1d(512, eps=1e-05, momentum=0.1, affine=True, track_running_stats=True)\n",
       "    (3): Dropout(p=0.2, inplace=False)\n",
       "    (4): Linear(in_features=512, out_features=128, bias=True)\n",
       "    (5): ReLU(inplace=True)\n",
       "    (6): BatchNorm1d(128, eps=1e-05, momentum=0.1, affine=True, track_running_stats=True)\n",
       "    (7): Dropout(p=0.2, inplace=False)\n",
       "    (8): Linear(in_features=128, out_features=64, bias=True)\n",
       "    (9): ReLU(inplace=True)\n",
       "    (10): BatchNorm1d(64, eps=1e-05, momentum=0.1, affine=True, track_running_stats=True)\n",
       "    (11): Dropout(p=0.2, inplace=False)\n",
       "    (12): Linear(in_features=64, out_features=20, bias=True)\n",
       "  )\n",
       "  (combine_fc): Linear(in_features=40, out_features=20, bias=True)\n",
       ")"
      ]
     },
     "execution_count": 26,
     "metadata": {},
     "output_type": "execute_result"
    }
   ],
   "source": [
    "model.eval()"
   ]
  },
  {
   "cell_type": "code",
   "execution_count": 25,
   "id": "aa65b76a",
   "metadata": {},
   "outputs": [
    {
     "name": "stdout",
     "output_type": "stream",
     "text": [
      "LOADING: D:\\Code\\datascience\\MA_NFT\\data\\pickle\\X_test.pkl\n",
      "LOADING: D:\\Code\\datascience\\MA_NFT\\data\\pickle\\y_test.pkl\n"
     ]
    }
   ],
   "source": [
    "testloader = DataLoader(\n",
    "        PickleSeriesDataset('X_test', 'y_test', trf),\n",
    "        batch_size=1024, \n",
    "        shuffle=False,\n",
    "        num_workers=5,\n",
    "    )"
   ]
  },
  {
   "cell_type": "code",
   "execution_count": 95,
   "id": "e3c9f9d8",
   "metadata": {},
   "outputs": [],
   "source": [
    "testiter = iter(testloader)\n",
    "img, stack_cat, stack_num, target = next(testiter)"
   ]
  },
  {
   "cell_type": "code",
   "execution_count": 28,
   "id": "a1f135ea",
   "metadata": {},
   "outputs": [
    {
     "name": "stdout",
     "output_type": "stream",
     "text": [
      "img:  torch.Size([1024, 3, 224, 224])\n"
     ]
    }
   ],
   "source": [
    "print('img: ', img.shape) #batch_size, collor, height, width"
   ]
  },
  {
   "cell_type": "code",
   "execution_count": 45,
   "id": "a4657a0e",
   "metadata": {},
   "outputs": [
    {
     "name": "stdout",
     "output_type": "stream",
     "text": [
      "stack_cat:  torch.Size([1024, 12])\n"
     ]
    }
   ],
   "source": [
    "print('stack_cat: ', stack_cat.shape) "
   ]
  },
  {
   "cell_type": "code",
   "execution_count": 32,
   "id": "4f4a1032",
   "metadata": {},
   "outputs": [
    {
     "name": "stdout",
     "output_type": "stream",
     "text": [
      "stack_num:  torch.Size([1024, 4])\n"
     ]
    }
   ],
   "source": [
    "print('stack_num: ', stack_num.shape) "
   ]
  },
  {
   "cell_type": "code",
   "execution_count": 38,
   "id": "4f0d73f3",
   "metadata": {},
   "outputs": [
    {
     "data": {
      "text/plain": [
       "224"
      ]
     },
     "execution_count": 38,
     "metadata": {},
     "output_type": "execute_result"
    }
   ],
   "source": [
    "len(img[0][0])"
   ]
  },
  {
   "cell_type": "code",
   "execution_count": 39,
   "id": "be6a4ab8",
   "metadata": {},
   "outputs": [
    {
     "data": {
      "text/plain": [
       "0.008858039043843746"
      ]
     },
     "execution_count": 39,
     "metadata": {},
     "output_type": "execute_result"
    }
   ],
   "source": [
    "stack_num[0][0].item()"
   ]
  },
  {
   "cell_type": "code",
   "execution_count": 47,
   "id": "7d878d48",
   "metadata": {},
   "outputs": [
    {
     "data": {
      "text/plain": [
       "int"
      ]
     },
     "execution_count": 47,
     "metadata": {},
     "output_type": "execute_result"
    }
   ],
   "source": [
    "type(stack_cat[0][0].item())"
   ]
  },
  {
   "cell_type": "code",
   "execution_count": 37,
   "id": "5a6d1cd6",
   "metadata": {},
   "outputs": [],
   "source": [
    "img_zero = Tensor(np.zeros([1024, 3, 224, 224], dtype=np.uint8))"
   ]
  },
  {
   "cell_type": "code",
   "execution_count": 38,
   "id": "418a2eb5",
   "metadata": {},
   "outputs": [],
   "source": [
    "num_zero = Tensor(np.zeros([1024, 4], dtype=np.float64))"
   ]
  },
  {
   "cell_type": "code",
   "execution_count": 39,
   "id": "cb166d9f",
   "metadata": {},
   "outputs": [],
   "source": [
    "cat_zero = Tensor(np.zeros([1024, 12], dtype=np.int64)).int()"
   ]
  },
  {
   "cell_type": "code",
   "execution_count": 41,
   "id": "3801122c",
   "metadata": {},
   "outputs": [
    {
     "name": "stdout",
     "output_type": "stream",
     "text": [
      "[42.08984375]\n"
     ]
    }
   ],
   "source": [
    "testiter = iter(testloader)\n",
    "# Get a batch of testing images and labels\n",
    "img, stack_cat, stack_num, target = next(testiter)\n",
    "\n",
    "if train_on_gpu:\n",
    "    res = accuracy(model(img_zero.cuda(), stack_cat.cuda(), stack_num.cuda()), target, topk=(1, ))\n",
    "else:\n",
    "    res = accuracy(model(img_zero, stack_cat, stack_num), target, topk=(1, 5))\n",
    "print(res)"
   ]
  },
  {
   "cell_type": "code",
   "execution_count": 100,
   "id": "825326f0",
   "metadata": {},
   "outputs": [
    {
     "data": {
      "text/plain": [
       "[44.921875]"
      ]
     },
     "execution_count": 100,
     "metadata": {},
     "output_type": "execute_result"
    }
   ],
   "source": [
    "#with img, cat, num \n",
    "# above img = 0\n",
    "acc_overall = accuracy(model(img.cuda(), stack_cat.cuda(), stack_num.cuda()), target, topk=(1, ))\n",
    "acc_overall"
   ]
  },
  {
   "cell_type": "code",
   "execution_count": 43,
   "id": "90f03352",
   "metadata": {},
   "outputs": [
    {
     "data": {
      "text/plain": [
       "[33.7890625]"
      ]
     },
     "execution_count": 43,
     "metadata": {},
     "output_type": "execute_result"
    }
   ],
   "source": [
    "#num = 0\n",
    "accuracy(model(img.cuda(), stack_cat.cuda(), num_zero.cuda()), target, topk=(1, ))"
   ]
  },
  {
   "cell_type": "code",
   "execution_count": 44,
   "id": "495296bf",
   "metadata": {},
   "outputs": [
    {
     "data": {
      "text/plain": [
       "[18.5546875]"
      ]
     },
     "execution_count": 44,
     "metadata": {},
     "output_type": "execute_result"
    }
   ],
   "source": [
    "#ct = 0\n",
    "accuracy(model(img.cuda(), cat_zero.cuda(), stack_num.cuda()), target, topk=(1, ))"
   ]
  },
  {
   "cell_type": "code",
   "execution_count": 45,
   "id": "e82c978f",
   "metadata": {},
   "outputs": [
    {
     "data": {
      "text/plain": [
       "[16.9921875]"
      ]
     },
     "execution_count": 45,
     "metadata": {},
     "output_type": "execute_result"
    }
   ],
   "source": [
    "# cat = 0; num = 0\n",
    "accuracy(model(img.cuda(), cat_zero.cuda(), num_zero.cuda()), target, topk=(1, ))"
   ]
  },
  {
   "cell_type": "code",
   "execution_count": 46,
   "id": "d4490b01",
   "metadata": {},
   "outputs": [
    {
     "data": {
      "text/plain": [
       "[31.54296875]"
      ]
     },
     "execution_count": 46,
     "metadata": {},
     "output_type": "execute_result"
    }
   ],
   "source": [
    "#img=0; num=0\n",
    "accuracy(model(img_zero.cuda(), stack_cat.cuda(), num_zero.cuda()), target, topk=(1, ))"
   ]
  },
  {
   "cell_type": "code",
   "execution_count": 47,
   "id": "8e4d65b0",
   "metadata": {},
   "outputs": [
    {
     "data": {
      "text/plain": [
       "[17.67578125]"
      ]
     },
     "execution_count": 47,
     "metadata": {},
     "output_type": "execute_result"
    }
   ],
   "source": [
    "#img=0; cat=0\n",
    "accuracy(model(img_zero.cuda(), cat_zero.cuda(), stack_num.cuda()), target, topk=(1, ))"
   ]
  },
  {
   "cell_type": "markdown",
   "id": "4e630b7f",
   "metadata": {},
   "source": [
    "### Feature Importance for stack_num\n",
    "Learning process how to deal correct with real data. "
   ]
  },
  {
   "cell_type": "code",
   "execution_count": 73,
   "id": "5935108e",
   "metadata": {},
   "outputs": [],
   "source": [
    "dict = {'name': [36,    0, 4095,   36,    2,],\n",
    "        'department': [ 14,   12,   10,    2,    0,],\n",
    "        'CGPA': [1, 2, 0, 1, 1]}"
   ]
  },
  {
   "cell_type": "code",
   "execution_count": 74,
   "id": "dcdd7019",
   "metadata": {},
   "outputs": [
    {
     "data": {
      "text/html": [
       "<div>\n",
       "<style scoped>\n",
       "    .dataframe tbody tr th:only-of-type {\n",
       "        vertical-align: middle;\n",
       "    }\n",
       "\n",
       "    .dataframe tbody tr th {\n",
       "        vertical-align: top;\n",
       "    }\n",
       "\n",
       "    .dataframe thead th {\n",
       "        text-align: right;\n",
       "    }\n",
       "</style>\n",
       "<table border=\"1\" class=\"dataframe\">\n",
       "  <thead>\n",
       "    <tr style=\"text-align: right;\">\n",
       "      <th></th>\n",
       "      <th>name</th>\n",
       "      <th>department</th>\n",
       "      <th>CGPA</th>\n",
       "    </tr>\n",
       "  </thead>\n",
       "  <tbody>\n",
       "    <tr>\n",
       "      <th>0</th>\n",
       "      <td>36</td>\n",
       "      <td>14</td>\n",
       "      <td>1</td>\n",
       "    </tr>\n",
       "    <tr>\n",
       "      <th>1</th>\n",
       "      <td>0</td>\n",
       "      <td>12</td>\n",
       "      <td>2</td>\n",
       "    </tr>\n",
       "    <tr>\n",
       "      <th>2</th>\n",
       "      <td>4095</td>\n",
       "      <td>10</td>\n",
       "      <td>0</td>\n",
       "    </tr>\n",
       "    <tr>\n",
       "      <th>3</th>\n",
       "      <td>36</td>\n",
       "      <td>2</td>\n",
       "      <td>1</td>\n",
       "    </tr>\n",
       "    <tr>\n",
       "      <th>4</th>\n",
       "      <td>2</td>\n",
       "      <td>0</td>\n",
       "      <td>1</td>\n",
       "    </tr>\n",
       "  </tbody>\n",
       "</table>\n",
       "</div>"
      ],
      "text/plain": [
       "   name  department  CGPA\n",
       "0    36          14     1\n",
       "1     0          12     2\n",
       "2  4095          10     0\n",
       "3    36           2     1\n",
       "4     2           0     1"
      ]
     },
     "execution_count": 74,
     "metadata": {},
     "output_type": "execute_result"
    }
   ],
   "source": [
    "df = pd.DataFrame(dict)\n",
    "df"
   ]
  },
  {
   "cell_type": "code",
   "execution_count": 78,
   "id": "d30931c0",
   "metadata": {},
   "outputs": [
    {
     "data": {
      "text/plain": [
       "pandas.core.frame.DataFrame"
      ]
     },
     "execution_count": 78,
     "metadata": {},
     "output_type": "execute_result"
    }
   ],
   "source": [
    "type(df)"
   ]
  },
  {
   "cell_type": "code",
   "execution_count": 82,
   "id": "d7614d5c",
   "metadata": {},
   "outputs": [],
   "source": [
    "df['name'] = df['name'].astype('category')\n",
    "df['dep']= df['department'].astype('category')\n",
    "df['CGPA'] = df['CGPA'].astype('category')"
   ]
  },
  {
   "cell_type": "code",
   "execution_count": 123,
   "id": "55fbd9c6",
   "metadata": {},
   "outputs": [
    {
     "data": {
      "text/plain": [
       "tensor([14, 12, 10,  2,  0])"
      ]
     },
     "execution_count": 123,
     "metadata": {},
     "output_type": "execute_result"
    }
   ],
   "source": [
    "#dep_tensor = torch.tensor(df['dep'].values, dtype=torch.int64)\n",
    "#dep_tensor"
   ]
  },
  {
   "cell_type": "code",
   "execution_count": 99,
   "id": "b4f76f1b",
   "metadata": {},
   "outputs": [
    {
     "data": {
      "text/plain": [
       "torch.Tensor"
      ]
     },
     "execution_count": 99,
     "metadata": {},
     "output_type": "execute_result"
    }
   ],
   "source": [
    "type(dep_tensor)"
   ]
  },
  {
   "cell_type": "code",
   "execution_count": 83,
   "id": "a0477945",
   "metadata": {},
   "outputs": [
    {
     "data": {
      "text/plain": [
       "tensor([[  36,   14,    1,   14],\n",
       "        [   0,   12,    2,   12],\n",
       "        [4095,   10,    0,   10],\n",
       "        [  36,    2,    1,    2],\n",
       "        [   2,    0,    1,    0]])"
      ]
     },
     "execution_count": 83,
     "metadata": {},
     "output_type": "execute_result"
    }
   ],
   "source": [
    "df_tensor = torch.tensor(df.values, dtype=torch.int64)\n",
    "df_tensor"
   ]
  },
  {
   "cell_type": "code",
   "execution_count": 52,
   "id": "20ac7535",
   "metadata": {},
   "outputs": [],
   "source": [
    "name_zero_df = torch.t(df_tensor)"
   ]
  },
  {
   "cell_type": "code",
   "execution_count": 53,
   "id": "a4e3c844",
   "metadata": {},
   "outputs": [
    {
     "data": {
      "text/plain": [
       "tensor([[  36,    0, 4095,   36,    2],\n",
       "        [  14,   12,   10,    2,    0],\n",
       "        [   1,    2,    0,    1,    1],\n",
       "        [  14,   12,   10,    2,    0]])"
      ]
     },
     "execution_count": 53,
     "metadata": {},
     "output_type": "execute_result"
    }
   ],
   "source": [
    "name_zero_df"
   ]
  },
  {
   "cell_type": "code",
   "execution_count": 54,
   "id": "6be4819d",
   "metadata": {},
   "outputs": [
    {
     "data": {
      "text/plain": [
       "tensor([0, 0, 0, 0, 0])"
      ]
     },
     "execution_count": 54,
     "metadata": {},
     "output_type": "execute_result"
    }
   ],
   "source": [
    "name_zero_df[0].zero_()"
   ]
  },
  {
   "cell_type": "code",
   "execution_count": 55,
   "id": "a82b7411",
   "metadata": {},
   "outputs": [],
   "source": [
    "name_zero_df = torch.t(name_zero_df)"
   ]
  },
  {
   "cell_type": "code",
   "execution_count": 84,
   "id": "1925b3b6",
   "metadata": {},
   "outputs": [],
   "source": [
    "def null_features (matrix, i):\n",
    "    copy = matrix.clone().detach()\n",
    "    copy = torch.t(copy)\n",
    "    copy[i].zero_()\n",
    "    copy = torch.t(copy)\n",
    "    return copy"
   ]
  },
  {
   "cell_type": "code",
   "execution_count": null,
   "id": "8ed7a323",
   "metadata": {},
   "outputs": [],
   "source": []
  },
  {
   "cell_type": "code",
   "execution_count": 93,
   "id": "bca6b310",
   "metadata": {},
   "outputs": [
    {
     "data": {
      "text/plain": [
       "[tensor([[ 0, 14,  1, 14],\n",
       "         [ 0, 12,  2, 12],\n",
       "         [ 0, 10,  0, 10],\n",
       "         [ 0,  2,  1,  2],\n",
       "         [ 0,  0,  1,  0]]),\n",
       " tensor([[  36,    0,    1,   14],\n",
       "         [   0,    0,    2,   12],\n",
       "         [4095,    0,    0,   10],\n",
       "         [  36,    0,    1,    2],\n",
       "         [   2,    0,    1,    0]]),\n",
       " tensor([[  36,   14,    0,   14],\n",
       "         [   0,   12,    0,   12],\n",
       "         [4095,   10,    0,   10],\n",
       "         [  36,    2,    0,    2],\n",
       "         [   2,    0,    0,    0]])]"
      ]
     },
     "execution_count": 93,
     "metadata": {},
     "output_type": "execute_result"
    }
   ],
   "source": [
    "cols = ['name', 'dep', 'CGPA']\n",
    "[null_features(df_tensor, i) for i in range(len(cols))]"
   ]
  },
  {
   "cell_type": "code",
   "execution_count": 87,
   "id": "9545d4fb",
   "metadata": {},
   "outputs": [
    {
     "data": {
      "text/plain": [
       "tensor([[  36,   14,    0,   14],\n",
       "        [   0,   12,    0,   12],\n",
       "        [4095,   10,    0,   10],\n",
       "        [  36,    2,    0,    2],\n",
       "        [   2,    0,    0,    0]])"
      ]
     },
     "execution_count": 87,
     "metadata": {},
     "output_type": "execute_result"
    }
   ],
   "source": [
    "null_features(df_tensor, 2)"
   ]
  },
  {
   "cell_type": "code",
   "execution_count": 88,
   "id": "68aeacee",
   "metadata": {},
   "outputs": [
    {
     "data": {
      "text/plain": [
       "tensor([[  36,   14,    1,   14],\n",
       "        [   0,   12,    2,   12],\n",
       "        [4095,   10,    0,   10],\n",
       "        [  36,    2,    1,    2],\n",
       "        [   2,    0,    1,    0]])"
      ]
     },
     "execution_count": 88,
     "metadata": {},
     "output_type": "execute_result"
    }
   ],
   "source": [
    "df_tensor"
   ]
  },
  {
   "cell_type": "markdown",
   "id": "d646cb62",
   "metadata": {},
   "source": [
    "### stack_cat"
   ]
  },
  {
   "cell_type": "code",
   "execution_count": 96,
   "id": "27cbbb08",
   "metadata": {},
   "outputs": [
    {
     "data": {
      "text/plain": [
       "torch.Size([1024, 12])"
      ]
     },
     "execution_count": 96,
     "metadata": {},
     "output_type": "execute_result"
    }
   ],
   "source": [
    "stack_cat.shape"
   ]
  },
  {
   "cell_type": "code",
   "execution_count": 97,
   "id": "e9618525",
   "metadata": {},
   "outputs": [],
   "source": [
    "cols = ['creator',\n",
    "        'is_animation',\n",
    "        'name',\n",
    "        'collection_name',\n",
    "        'contract_scheme',\n",
    "        'sale_token',\n",
    "        'instagram',\n",
    "        'twitter',\n",
    "        'collection_created_year',\n",
    "        'unique_asset',\n",
    "        'instagram_account',\n",
    "        'twitter_account']"
   ]
  },
  {
   "cell_type": "code",
   "execution_count": 98,
   "id": "11af79dc",
   "metadata": {},
   "outputs": [],
   "source": [
    "def null_features (matrix, i):\n",
    "    copy = matrix.clone().detach()\n",
    "    copy = torch.t(copy)\n",
    "    copy[i].zero_()\n",
    "    copy = torch.t(copy)\n",
    "    return copy"
   ]
  },
  {
   "cell_type": "code",
   "execution_count": 104,
   "id": "4c58fdd7",
   "metadata": {},
   "outputs": [],
   "source": [
    "def calc_accu_diff(matrix, i):\n",
    "    stack_zero = null_features(matrix, i)\n",
    "    acc = accuracy(model(img.cuda(), stack_zero.cuda(), stack_num.cuda()), target, topk=(1, ))\n",
    "    return [cols[i], acc[0] - acc_overall[0]]"
   ]
  },
  {
   "cell_type": "code",
   "execution_count": 105,
   "id": "2aef8da4",
   "metadata": {},
   "outputs": [
    {
     "data": {
      "text/plain": [
       "[['creator', -3.61328125],\n",
       " ['is_animation', 0.09765625],\n",
       " ['name', -0.48828125],\n",
       " ['collection_name', -8.203125],\n",
       " ['contract_scheme', -0.68359375],\n",
       " ['sale_token', -1.26953125],\n",
       " ['instagram', -2.05078125],\n",
       " ['twitter', -4.1015625],\n",
       " ['collection_created_year', -0.5859375],\n",
       " ['unique_asset', 0.0],\n",
       " ['instagram_account', 0.29296875],\n",
       " ['twitter_account', -0.390625]]"
      ]
     },
     "execution_count": 105,
     "metadata": {},
     "output_type": "execute_result"
    }
   ],
   "source": [
    "[calc_accu_diff(stack_cat, i) for i in range(len(cols))]"
   ]
  },
  {
   "cell_type": "code",
   "execution_count": 106,
   "id": "9df0c6db",
   "metadata": {},
   "outputs": [
    {
     "data": {
      "text/plain": [
       "tensor([  36,    0, 4095,   36,    2,   14,   12,   10,    2,    0,    1,    1])"
      ]
     },
     "execution_count": 106,
     "metadata": {},
     "output_type": "execute_result"
    }
   ],
   "source": [
    "stack_cat[0]"
   ]
  },
  {
   "cell_type": "markdown",
   "id": "c42b0a30",
   "metadata": {},
   "source": [
    "### stack_num"
   ]
  },
  {
   "cell_type": "code",
   "execution_count": 107,
   "id": "a63c7bc1",
   "metadata": {},
   "outputs": [
    {
     "data": {
      "text/plain": [
       "tensor([0.0089, 0.7391, 0.0769, 0.0089])"
      ]
     },
     "execution_count": 107,
     "metadata": {},
     "output_type": "execute_result"
    }
   ],
   "source": [
    "stack_num[0]"
   ]
  },
  {
   "cell_type": "code",
   "execution_count": 108,
   "id": "90202f52",
   "metadata": {},
   "outputs": [],
   "source": [
    "col_num = ['twitter_follower',\n",
    "            'sale_time',\n",
    "            'word_count_coll_desc',\n",
    "            'z_twitter_follower']"
   ]
  },
  {
   "cell_type": "code",
   "execution_count": 111,
   "id": "cc3e5bcb",
   "metadata": {},
   "outputs": [],
   "source": [
    "def calc_accu_diff_num(matrix, i):\n",
    "    num_stack_zero = null_features(matrix, i)\n",
    "    acc = accuracy(model(img.cuda(), stack_cat.cuda(), num_stack_zero.cuda()), target, topk=(1, ))\n",
    "    return [col_num[i], acc[0] - acc_overall[0]]"
   ]
  },
  {
   "cell_type": "code",
   "execution_count": 112,
   "id": "623526da",
   "metadata": {},
   "outputs": [
    {
     "data": {
      "text/plain": [
       "[['twitter_follower', -0.68359375],\n",
       " ['sale_time', -4.1015625],\n",
       " ['word_count_coll_desc', -4.39453125],\n",
       " ['z_twitter_follower', -0.78125]]"
      ]
     },
     "execution_count": 112,
     "metadata": {},
     "output_type": "execute_result"
    }
   ],
   "source": [
    "[calc_accu_diff_num(stack_num, i) for i in range(len(col_num))]"
   ]
  }
 ],
 "metadata": {
  "kernelspec": {
   "display_name": "Python 3 (ipykernel)",
   "language": "python",
   "name": "python3"
  },
  "language_info": {
   "codemirror_mode": {
    "name": "ipython",
    "version": 3
   },
   "file_extension": ".py",
   "mimetype": "text/x-python",
   "name": "python",
   "nbconvert_exporter": "python",
   "pygments_lexer": "ipython3",
   "version": "3.8.12"
  }
 },
 "nbformat": 4,
 "nbformat_minor": 5
}
